{
  "cells": [
    {
      "cell_type": "markdown",
      "id": "2b755fd4",
      "metadata": {},
      "source": [
        "# Creating a Blank Jupyter Notebook"
      ]
    },
    {
      "cell_type": "code",
      "execution_count": null,
      "id": "9c2df27f",
      "metadata": {},
      "outputs": [],
      "source": [
        "# ---------- Simple Sample Image Generation ----------\n",
        "prompt = \"An older female librarian\"\n",
        "num_steps = 4  # Turbo supports 1-4 steps\n",
        "seed = 42\n",
        "\n",
        "# Generate with turbo\n",
        "generator = torch.Generator(device=device).manual_seed(seed)\n",
        "sample_image = pipe_std_turbo(\n",
        "    prompt,\n",
        "    guidance_scale=0.0,  # ADD-style for Turbo\n",
        "    num_inference_steps=num_steps,\n",
        "    generator=generator,\n",
        "    width=512, height=512,\n",
        ").images[0]\n",
        "\n",
        "print(f\"Generated image: {sample_image.size}\")\n",
        "sample_image"
      ]
    },
    {
      "cell_type": "code",
      "execution_count": null,
      "id": "af27e80b",
      "metadata": {},
      "outputs": [],
      "source": [
        "import json\n",
        "import os\n",
        "from pathlib import Path\n",
        "from tqdm import tqdm\n",
        "\n",
        "# ---------- Load prompts from JSON file ----------\n",
        "prompts_file = \"/home/azureuser/cloudfiles/code/Users/Andrew.Revell/nag-schedule/data/prompts_noun_negative.json\"\n",
        "output_dir = \"/home/azureuser/cloudfiles/code/Users/Andrew.Revell/nag-schedule/results\"\n",
        "\n",
        "# Create output directory if it doesn't exist\n",
        "os.makedirs(output_dir, exist_ok=True)\n",
        "\n",
        "# Load prompts\n",
        "with open(prompts_file, 'r') as f:\n",
        "    prompts_data = json.load(f)\n",
        "\n",
        "print(f\"Loaded {len(prompts_data)} prompts from {prompts_file}\")\n",
        "print(f\"Output directory: {output_dir}\")\n",
        "\n",
        "# ---------- Generate and save images ----------\n",
        "num_steps = 4  # Turbo uses 4 steps\n",
        "generated_count = 0\n",
        "\n",
        "for idx, item in enumerate(tqdm(prompts_data)):\n",
        "    prompt = item[\"prompt\"]\n",
        "    negative_prompt = item[\"negative_prompt\"]\n",
        "    seeds = item.get(\"seeds\", [42])\n",
        "    \n",
        "    # Use first seed for quick generation\n",
        "    seed = seeds[0]\n",
        "    \n",
        "    try:\n",
        "        # Generate image\n",
        "        generator = torch.Generator(device=device).manual_seed(seed)\n",
        "        image = pipe_std_turbo(\n",
        "            prompt,\n",
        "            guidance_scale=0.0,\n",
        "            num_inference_steps=num_steps,\n",
        "            generator=generator,\n",
        "            width=512, height=512,\n",
        "        ).images[0]\n",
        "        \n",
        "        # Create output filename\n",
        "        group = item.get(\"group\", \"unknown\")\n",
        "        filename = f\"{idx:04d}_{group}_{seed}.png\"\n",
        "        filepath = os.path.join(output_dir, filename)\n",
        "        \n",
        "        # Save image\n",
        "        image.save(filepath)\n",
        "        generated_count += 1\n",
        "        \n",
        "    except Exception as e:\n",
        "        print(f\"Error generating image for prompt {idx}: {e}\")\n",
        "        continue\n",
        "\n",
        "print(f\"\\n✓ Generated and saved {generated_count} images to {output_dir}\")"
      ]
    }
  ],
  "metadata": {
    "kernel_info": {
      "name": "nag-venv"
    },
    "kernelspec": {
      "display_name": "Python (nag-schedule)",
      "language": "python",
      "name": "nag-schedule"
    },
    "language_info": {
      "codemirror_mode": {
        "name": "ipython",
        "version": 3
      },
      "file_extension": ".py",
      "mimetype": "text/x-python",
      "name": "python",
      "nbconvert_exporter": "python",
      "pygments_lexer": "ipython3",
      "version": "3.10.11"
    },
    "microsoft": {
      "ms_spell_check": {
        "ms_spell_check_language": "en"
      }
    },
    "nteract": {
      "version": "nteract-front-end@1.0.0"
    }
  },
  "nbformat": 4,
  "nbformat_minor": 5
}
