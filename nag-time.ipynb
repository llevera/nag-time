{
  "cells": [
    {
      "cell_type": "markdown",
      "id": "4ef94728",
      "metadata": {},
      "source": [
        "# SDXL Model Pipeline Setup - Lightning Fix Applied\n",
        "Supports 9 distillation models with proper scheduler configuration"
      ]
    },
    {
      "cell_type": "code",
      "execution_count": 2,
      "id": "02129d5a",
      "metadata": {
        "gather": {
          "logged": 1761414008640
        }
      },
      "outputs": [
        {
          "name": "stdout",
          "output_type": "stream",
          "text": [
            "The autoreload extension is already loaded. To reload it, use:\n",
            "  %reload_ext autoreload\n",
            "✓ Imports completed\n",
            "✓ Configuration set - Device: cuda, Dtype: torch.bfloat16\n"
          ]
        }
      ],
      "source": [
        "# Imports and Configuration\n",
        "import sys\n",
        "import torch\n",
        "from typing import Union, List, Optional, Dict, Any, Tuple, Callable, Type\n",
        "from PIL import Image\n",
        "from diffusers import (\n",
        "    UNet2DConditionModel,\n",
        "    StableDiffusionXLPipeline,\n",
        "    EulerAncestralDiscreteScheduler,\n",
        "    EulerDiscreteScheduler,\n",
        "    DDIMScheduler,\n",
        "    LCMScheduler,\n",
        "    TCDScheduler,\n",
        "    DiffusionPipeline,\n",
        ")\n",
        "from huggingface_hub import hf_hub_download\n",
        "from safetensors.torch import load_file\n",
        "\n",
        "torch.backends.cuda.matmul.allow_tf32 = True\n",
        "torch.backends.cudnn.allow_tf32 = True\n",
        "\n",
        "%load_ext autoreload\n",
        "%autoreload 2\n",
        "\n",
        "print(\"✓ Imports completed\")\n",
        "\n",
        "# ---------- Configuration ----------\n",
        "device = \"cuda\"\n",
        "weights_dtype = torch.bfloat16\n",
        "basemodel_id = \"stabilityai/stable-diffusion-xl-base-1.0\"\n",
        "\n",
        "\n",
        "\n",
        "print(f\"✓ Configuration set - Device: {device}, Dtype: {weights_dtype}\")\n",
        "#print(f\"✓ Available models: {list(model_configs.keys())}\")\n",
        "\n",
        "\n",
        "def load_model(pipeline_cls: Type[DiffusionPipeline], distillation_type=None, weights_dtype=torch.float16, device='cuda'):\n",
        "    \"\"\"\n",
        "    Load SDXL models with specified distillation type.\n",
        "    \n",
        "    Returns:\n",
        "      'base'/'None': (pipe, base_unet, base_scheduler)\n",
        "      others:       (pipe, base_unet, base_scheduler, distilled_unet, distilled_scheduler)\n",
        "    \"\"\"\n",
        "    kind = ('base' if distillation_type in (None, 'base') else distillation_type).lower()\n",
        "    print(f\"Loading {kind.upper()} model...\")\n",
        "\n",
        "    # ---- base (always build this once for config/safety) ----\n",
        "    base_unet = UNet2DConditionModel.from_pretrained(\n",
        "        basemodel_id, subfolder=\"unet\", torch_dtype=weights_dtype\n",
        "    ).to(device)\n",
        "\n",
        "    pipe = pipeline_cls.from_pretrained(\n",
        "        basemodel_id,\n",
        "        unet=base_unet,\n",
        "        torch_dtype=weights_dtype,\n",
        "        use_safetensors=True,\n",
        "    )\n",
        "    base_scheduler = DDIMScheduler.from_config(pipe.scheduler.config)\n",
        "    pipe.scheduler = base_scheduler\n",
        "    pipe.to(device=device, dtype=weights_dtype)\n",
        "\n",
        "    if kind == 'base':\n",
        "        return pipe, base_unet, base_scheduler\n",
        "\n",
        "    # fresh UNet matching base config (required for state_dict load)\n",
        "    distilled_unet = UNet2DConditionModel.from_config(pipe.unet.config).to(device, dtype=weights_dtype)\n",
        "\n",
        "    if kind == 'dmd':\n",
        "        repo_name, ckpt_name = \"tianweiy/DMD2\", \"dmd2_sdxl_4step_unet_fp16.bin\"\n",
        "        state = torch.load(hf_hub_download(repo_name, ckpt_name), map_location='cpu')\n",
        "        distilled_unet.load_state_dict(state if isinstance(state, dict) else state['state_dict'])\n",
        "        distilled_scheduler = LCMScheduler.from_config(pipe.scheduler.config)\n",
        "\n",
        "    elif kind == 'lightning':\n",
        "        repo, ckpt = \"ByteDance/SDXL-Lightning\", \"sdxl_lightning_4step_unet.safetensors\"\n",
        "        state = load_file(hf_hub_download(repo, ckpt))\n",
        "        distilled_unet.load_state_dict(state, strict=True)\n",
        "        # FIX: Use EulerDiscreteScheduler with trailing timesteps for both schedulers\n",
        "        distilled_scheduler = EulerDiscreteScheduler.from_config(pipe.scheduler.config, timestep_spacing=\"trailing\")\n",
        "        base_scheduler = EulerDiscreteScheduler.from_config(pipe.scheduler.config, timestep_spacing=\"trailing\")\n",
        "\n",
        "    elif kind == 'turbo':\n",
        "        # turbo ships a full UNet; pull that directly\n",
        "        distilled_unet = UNet2DConditionModel.from_pretrained(\n",
        "            \"stabilityai/sdxl-turbo\", subfolder=\"unet\", torch_dtype=weights_dtype, variant=\"fp16\"\n",
        "        ).to(device)\n",
        "        distilled_scheduler = EulerAncestralDiscreteScheduler.from_config(pipe.scheduler.config, timestep_spacing=\"trailing\")\n",
        "\n",
        "    elif kind == 'lcm':\n",
        "        distilled_unet = UNet2DConditionModel.from_pretrained(\n",
        "            \"latent-consistency/lcm-sdxl\", torch_dtype=weights_dtype\n",
        "        ).to(device)\n",
        "        distilled_scheduler = LCMScheduler.from_config(pipe.scheduler.config)\n",
        "\n",
        "    elif kind == 'hyper':\n",
        "        pipe = DiffusionPipeline.from_pretrained(basemodel_id, torch_dtype=weights_dtype)\n",
        "        pipe.load_lora_weights(\"ByteDance/Hyper-SD\",\n",
        "                               weight_name=\"Hyper-SDXL-8steps-CFG-lora.safetensors\",\n",
        "                               adapter_name=\"hyper-sdxl-8step\")\n",
        "        pipe.set_adapters([\"hyper-sdxl-8step\"], adapter_weights=[1.0])\n",
        "        distilled_unet = pipe.unet\n",
        "        distilled_scheduler = DDIMScheduler.from_config(pipe.scheduler.config)\n",
        "\n",
        "    elif kind == 'pcm':\n",
        "        pipe = DiffusionPipeline.from_pretrained(basemodel_id, torch_dtype=weights_dtype)\n",
        "        pipe.load_lora_weights(\"wangfuyun/PCM_Weights\",\n",
        "                               weight_name=\"pcm_sdxl_smallcfg_4step_converted.safetensors\",\n",
        "                               subfolder=\"sdxl\",\n",
        "                               adapter_name=\"pcm-lora\")\n",
        "        pipe.set_adapters([\"pcm-lora\"], adapter_weights=[1.0])\n",
        "        distilled_unet = pipe.unet\n",
        "        distilled_scheduler = DDIMScheduler.from_config(pipe.scheduler.config, timestep_spacing=\"trailing\")\n",
        "\n",
        "    elif kind == 'tcd':\n",
        "        pipe = DiffusionPipeline.from_pretrained(basemodel_id, torch_dtype=weights_dtype)\n",
        "        pipe.load_lora_weights(\"h1t/TCD-SDXL-LoRA\", adapter_name=\"tcd-lora\")\n",
        "        pipe.set_adapters([\"tcd-lora\"], adapter_weights=[1.0])\n",
        "        distilled_unet = pipe.unet\n",
        "        distilled_scheduler = TCDScheduler.from_config(pipe.scheduler.config)\n",
        "\n",
        "    elif kind == 'flash':\n",
        "        pipe = DiffusionPipeline.from_pretrained(basemodel_id, torch_dtype=weights_dtype)\n",
        "        pipe.load_lora_weights(\"jasperai/flash-sdxl\",\n",
        "                               weight_name=\"pytorch_lora_weights.safetensors\",\n",
        "                               adapter_name=\"flash-sdxl\")\n",
        "        pipe.set_adapters([\"flash-sdxl\"], adapter_weights=[1.0])\n",
        "        pipe.fuse_lora()\n",
        "        distilled_unet = pipe.unet\n",
        "        distilled_scheduler = LCMScheduler.from_config(pipe.scheduler.config, timestep_spacing=\"trailing\")\n",
        "\n",
        "    else:\n",
        "        raise ValueError(f\"Unknown distillation type: '{distillation_type}'. \"\n",
        "                         f\"Available: {', '.join(sorted(model_configs.keys()))}\")\n",
        "\n",
        "    # IMPORTANT: actually use the distilled UNet\n",
        "    if hasattr(pipe, \"unet\") and distilled_unet is not pipe.unet:\n",
        "        pipe.unet = distilled_unet\n",
        "    pipe.scheduler = distilled_scheduler\n",
        "    pipe.to(device=device, dtype=weights_dtype)\n",
        "    return pipe, base_unet, base_scheduler, distilled_unet, distilled_scheduler\n",
        "\n",
        "\n",
        "def load_pipe(pipeline_cls: Type[DiffusionPipeline], distillation_type='base'):\n",
        "    \"\"\"\n",
        "    Returns a ready-to-sample pipeline with the correct UNet and scheduler.\n",
        "    \"\"\"\n",
        "    pipe_result = load_model(pipeline_cls, distillation_type, weights_dtype, device)\n",
        "    # result already sets the right scheduler/UNet when not 'base'\n",
        "    pipe = pipe_result[0]\n",
        "    print(f\"✓ {('base' if distillation_type in (None, 'base') else distillation_type).upper()} pipeline ready\")\n",
        "    return pipe"
      ]
    },
    {
      "cell_type": "code",
      "execution_count": 3,
      "id": "b3c58c56",
      "metadata": {},
      "outputs": [
        {
          "name": "stdout",
          "output_type": "stream",
          "text": [
            "✓ NAGAttnProcessor2_0 loaded\n"
          ]
        }
      ],
      "source": [
        "# NAG Attention Processor - from attention_nag.py\n",
        "from typing import Optional\n",
        "\n",
        "import torch\n",
        "import torch.nn.functional as F\n",
        "\n",
        "from diffusers.utils import deprecate\n",
        "from diffusers.models.attention_processor import Attention\n",
        "\n",
        "class NAGAttnProcessor2_0:\n",
        "    \"\"\"\n",
        "    Normalized Attention Guidance (NAG) attention processor using PyTorch 2.0's\n",
        "    scaled_dot_product_attention for efficient computation.\n",
        "    \"\"\"\n",
        "    def __init__(self, nag_scale: float = 1.0, nag_tau: float = 2.5, nag_alpha: float = 0.5):\n",
        "        if not hasattr(F, \"scaled_dot_product_attention\"):\n",
        "            raise ImportError(\"AttnProcessor2_0 requires PyTorch 2.0, to use it, please upgrade PyTorch to 2.0.\")\n",
        "        self.nag_scale = nag_scale\n",
        "        self.nag_tau = nag_tau\n",
        "        self.nag_alpha = nag_alpha\n",
        "\n",
        "    def __call__(\n",
        "        self,\n",
        "        attn,\n",
        "        hidden_states: torch.Tensor,\n",
        "        encoder_hidden_states: Optional[torch.Tensor] = None,\n",
        "        attention_mask: Optional[torch.Tensor] = None,\n",
        "        temb: Optional[torch.Tensor] = None,\n",
        "        *args,\n",
        "        **kwargs,\n",
        "    ) -> torch.Tensor:\n",
        "        if len(args) > 0 or kwargs.get(\"scale\", None) is not None:\n",
        "            deprecation_message = \"The `scale` argument is deprecated and will be ignored. Please remove it, as passing it will raise an error in the future. `scale` should directly be passed while calling the underlying pipeline component i.e., via `cross_attention_kwargs`.\"\n",
        "            deprecate(\"scale\", \"1.0.0\", deprecation_message)\n",
        "\n",
        "        residual = hidden_states\n",
        "        if attn.spatial_norm is not None:\n",
        "            hidden_states = attn.spatial_norm(hidden_states, temb)\n",
        "\n",
        "        input_ndim = hidden_states.ndim\n",
        "\n",
        "        if input_ndim == 4:\n",
        "            batch_size, channel, height, width = hidden_states.shape\n",
        "            hidden_states = hidden_states.view(batch_size, channel, height * width).transpose(1, 2)\n",
        "\n",
        "        batch_size, sequence_length, _ = (\n",
        "            hidden_states.shape if encoder_hidden_states is None else encoder_hidden_states.shape\n",
        "        )\n",
        "\n",
        "        apply_guidance = self.nag_scale > 1 and encoder_hidden_states is not None\n",
        "        if apply_guidance:\n",
        "            origin_batch_size = batch_size - len(hidden_states)\n",
        "            assert batch_size / origin_batch_size in [2, 3, 4]\n",
        "\n",
        "        if attention_mask is not None:\n",
        "            attention_mask = attn.prepare_attention_mask(attention_mask, sequence_length, batch_size)\n",
        "            attention_mask = attention_mask.view(batch_size, attn.heads, -1, attention_mask.shape[-1])\n",
        "\n",
        "        if attn.group_norm is not None:\n",
        "            hidden_states = attn.group_norm(hidden_states.transpose(1, 2)).transpose(1, 2)\n",
        "\n",
        "        query = attn.to_q(hidden_states)\n",
        "\n",
        "        if encoder_hidden_states is None:\n",
        "            encoder_hidden_states = hidden_states\n",
        "        elif attn.norm_cross:\n",
        "            encoder_hidden_states = attn.norm_encoder_hidden_states(encoder_hidden_states)\n",
        "\n",
        "        key = attn.to_k(encoder_hidden_states)\n",
        "        value = attn.to_v(encoder_hidden_states)\n",
        "\n",
        "        inner_dim = key.shape[-1]\n",
        "        head_dim = inner_dim // attn.heads\n",
        "\n",
        "        if apply_guidance:\n",
        "            if batch_size == 2 * origin_batch_size:\n",
        "                query = query.tile(2, 1, 1)\n",
        "            else:\n",
        "                query = torch.cat((query, query[origin_batch_size:2 * origin_batch_size]), dim=0)\n",
        "        query = query.view(batch_size, -1, attn.heads, head_dim).transpose(1, 2)\n",
        "\n",
        "        key = key.view(batch_size, -1, attn.heads, head_dim).transpose(1, 2)\n",
        "        value = value.view(batch_size, -1, attn.heads, head_dim).transpose(1, 2)\n",
        "\n",
        "        if attn.norm_q is not None:\n",
        "            query = attn.norm_q(query)\n",
        "        if attn.norm_k is not None:\n",
        "            key = attn.norm_k(key)\n",
        "\n",
        "        hidden_states = F.scaled_dot_product_attention(\n",
        "            query, key, value, attn_mask=attention_mask, dropout_p=0.0, is_causal=False\n",
        "        )\n",
        "\n",
        "        hidden_states = hidden_states.transpose(1, 2).reshape(batch_size, -1, attn.heads * head_dim)\n",
        "        hidden_states = hidden_states.to(query.dtype)\n",
        "\n",
        "        if apply_guidance:\n",
        "            hidden_states_negative = hidden_states[-origin_batch_size:]\n",
        "            if batch_size == 2 * origin_batch_size:\n",
        "                hidden_states_positive = hidden_states[:origin_batch_size]\n",
        "            else:\n",
        "                hidden_states_positive = hidden_states[origin_batch_size:2 * origin_batch_size]\n",
        "            hidden_states_guidance = hidden_states_positive * self.nag_scale - hidden_states_negative * (self.nag_scale - 1)\n",
        "            norm_positive = torch.norm(hidden_states_positive, p=1, dim=-1, keepdim=True).expand(*hidden_states_positive.shape)\n",
        "            norm_guidance = torch.norm(hidden_states_guidance, p=1, dim=-1, keepdim=True).expand(*hidden_states_guidance.shape)\n",
        "\n",
        "            scale = norm_guidance / norm_positive\n",
        "            hidden_states_guidance = hidden_states_guidance * torch.minimum(scale, scale.new_ones(1) * self.nag_tau) / scale\n",
        "\n",
        "            hidden_states_guidance = hidden_states_guidance * self.nag_alpha + hidden_states_positive * (1 - self.nag_alpha)\n",
        "\n",
        "            if batch_size == 2 * origin_batch_size:\n",
        "                hidden_states = hidden_states_guidance\n",
        "            elif batch_size == 3 * origin_batch_size:\n",
        "                hidden_states = torch.cat((hidden_states[:origin_batch_size], hidden_states_guidance), dim=0)\n",
        "            elif batch_size == 4 * origin_batch_size:\n",
        "                hidden_states = torch.cat((hidden_states[:origin_batch_size], hidden_states_guidance, hidden_states[2 * origin_batch_size:3 * origin_batch_size]), dim=0)\n",
        "\n",
        "        hidden_states = attn.to_out[0](hidden_states)\n",
        "        hidden_states = attn.to_out[1](hidden_states)\n",
        "\n",
        "        if input_ndim == 4:\n",
        "            hidden_states = hidden_states.transpose(-1, -2).reshape(batch_size, channel, height, width)\n",
        "\n",
        "        if attn.residual_connection:\n",
        "            hidden_states = hidden_states + residual\n",
        "\n",
        "        hidden_states = hidden_states / attn.rescale_output_factor\n",
        "\n",
        "        return hidden_states\n",
        "\n",
        "print(\"✓ NAGAttnProcessor2_0 loaded\")"
      ]
    },
    {
      "cell_type": "code",
      "execution_count": 4,
      "id": "0c35480c",
      "metadata": {},
      "outputs": [
        {
          "name": "stdout",
          "output_type": "stream",
          "text": [
            "✓ NAGTimeStableDiffusionXLPipeline loaded\n"
          ]
        }
      ],
      "source": [
        "# NAG Pipeline with Timing - from pipeline_sdxl_impactful_nag.py\n",
        "import math\n",
        "from diffusers.callbacks import MultiPipelineCallbacks, PipelineCallback\n",
        "from diffusers.image_processor import PipelineImageInput\n",
        "from diffusers.utils import deprecate, is_torch_xla_available\n",
        "from diffusers.pipelines.stable_diffusion_xl.pipeline_output import StableDiffusionXLPipelineOutput\n",
        "from diffusers.pipelines.stable_diffusion_xl.pipeline_stable_diffusion_xl import (\n",
        "    retrieve_timesteps,\n",
        "    rescale_noise_cfg,\n",
        ")\n",
        "from typing import Union, List, Optional, Dict, Any, Tuple, Callable\n",
        "\n",
        "if is_torch_xla_available():\n",
        "    import torch_xla.core.xla_model as xm\n",
        "    XLA_AVAILABLE = True\n",
        "else:\n",
        "    XLA_AVAILABLE = False\n",
        "\n",
        "# Now the timing-aware variant\n",
        "class NAGTimeStableDiffusionXLPipeline(StableDiffusionXLPipeline):\n",
        "\n",
        "    \"\"\"Base NAG pipeline that extends StableDiffusionXLPipeline\"\"\"\n",
        "    \n",
        "    @property\n",
        "    def do_normalized_attention_guidance(self):\n",
        "        return self._nag_scale > 1\n",
        "\n",
        "    def _set_nag_attn_processor(self, nag_scale, nag_tau=2.5, nag_alpha=0.5):\n",
        "        if self.do_normalized_attention_guidance:\n",
        "            attn_procs = {}\n",
        "            for name, origin_attn_processor in self.unet.attn_processors.items():\n",
        "                if \"attn2\" in name:\n",
        "                    attn_procs[name] = NAGAttnProcessor2_0(nag_scale=nag_scale, nag_tau=nag_tau, nag_alpha=nag_alpha)\n",
        "                else:\n",
        "                    attn_procs[name] = origin_attn_processor\n",
        "            self.unet.set_attn_processor(attn_procs)\n",
        "\n",
        "    \"\"\"\n",
        "    NAG with timing from 'Impact of Negative Prompts':\n",
        "    - Delay enabling NAG until nag_start fraction of the trajectory\n",
        "    - Optional linear ramp of nag_scale for nag_ramp_steps after start\n",
        "    - Keep existing nag_end behaviour\n",
        "\n",
        "    Backwards-compatible cool-down (time-based):\n",
        "    - Optional post-NAG cool-down that temporarily reduces CFG by a fraction.\n",
        "    - Disabled by default (nag_cooldown=0.0) to preserve existing behaviour.\n",
        "    \"\"\"\n",
        "\n",
        "    @torch.no_grad()\n",
        "    def __call__(\n",
        "        self,\n",
        "        prompt: Union[str, List[str]] = None,\n",
        "        prompt_2: Optional[Union[str, List[str]]] = None,\n",
        "        height: Optional[int] = None,\n",
        "        width: Optional[int] = None,\n",
        "        num_inference_steps: int = 50,\n",
        "        timesteps: List[int] = None,\n",
        "        sigmas: List[float] = None,\n",
        "        denoising_end: Optional[float] = None,\n",
        "        guidance_scale: float = 5.0,\n",
        "        negative_prompt: Optional[Union[str, List[str]]] = None,\n",
        "        negative_prompt_2: Optional[Union[str, List[str]]] = None,\n",
        "        num_images_per_prompt: Optional[int] = 1,\n",
        "        eta: float = 0.0,\n",
        "        generator: Optional[Union[torch.Generator, List[torch.Generator]]] = None,\n",
        "        latents: Optional[torch.Tensor] = None,\n",
        "        prompt_embeds: Optional[torch.Tensor] = None,\n",
        "        negative_prompt_embeds: Optional[torch.Tensor] = None,\n",
        "        pooled_prompt_embeds: Optional[torch.Tensor] = None,\n",
        "        negative_pooled_prompt_embeds: Optional[torch.Tensor] = None,\n",
        "        ip_adapter_image: Optional[PipelineImageInput] = None,\n",
        "        ip_adapter_image_embeds: Optional[List[torch.Tensor]] = None,\n",
        "        output_type: Optional[str] = \"pil\",\n",
        "        return_dict: bool = True,\n",
        "        cross_attention_kwargs: Optional[Dict[str, Any]] = None,\n",
        "        guidance_rescale: float = 0.0,\n",
        "        original_size: Optional[Tuple[int, int]] = None,\n",
        "        crops_coords_top_left: Tuple[int, int] = (0, 0),\n",
        "        target_size: Optional[Tuple[int, int]] = None,\n",
        "        negative_original_size: Optional[Tuple[int, int]] = None,\n",
        "        negative_crops_coords_top_left: Tuple[int, int] = (0, 0),\n",
        "        negative_target_size: Optional[Tuple[int, int]] = None,\n",
        "        clip_skip: Optional[int] = None,\n",
        "        callback_on_step_end: Optional[\n",
        "            Union[Callable[[int, int, Dict], None], PipelineCallback, MultiPipelineCallbacks]\n",
        "        ] = None,\n",
        "        callback_on_step_end_tensor_inputs: List[str] = [\"latents\"],\n",
        "\n",
        "        # NAG controls\n",
        "        nag_scale: float = 2.0,\n",
        "        nag_tau: float = 2.5,\n",
        "        nag_alpha: float = 0.5,\n",
        "        nag_negative_prompt: str = None,\n",
        "        nag_negative_prompt_embeds: Optional[torch.Tensor] = None,\n",
        "        nag_end: float = 1.0,\n",
        "\n",
        "        # Timing knobs from Impact of Negative Prompts\n",
        "        nag_start: float = 0.2,          # start NAG after 20% of the trajectory\n",
        "        nag_ramp_steps: int = 0,         # optional soft-start; 0 disables ramp\n",
        "\n",
        "        # NEW: time-based cool-down (fully backward compatible when 0.0)\n",
        "        nag_cooldown: float = 0.0,          # fraction after nag_end to apply cool-down (0.0 = disabled)\n",
        "        nag_cooldown_cfg_drop: float = 0.2, # relative CFG reduction during cool-down (e.g., 0.2 = -20%)\n",
        "\n",
        "        **kwargs,\n",
        "    ):\n",
        "        callback = kwargs.pop(\"callback\", None)\n",
        "        callback_steps = kwargs.pop(\"callback_steps\", None)\n",
        "\n",
        "        if callback is not None:\n",
        "            deprecate(\n",
        "                \"callback\",\n",
        "                \"1.0.0\",\n",
        "                \"Passing `callback` as an input argument to `__call__` is deprecated, consider use `callback_on_step_end`\",\n",
        "            )\n",
        "        if callback_steps is not None:\n",
        "            deprecate(\n",
        "                \"callback_steps\",\n",
        "                \"1.0.0\",\n",
        "                \"Passing `callback_steps` as an input argument to `__call__` is deprecated, consider use `callback_on_step_end`\",\n",
        "            )\n",
        "\n",
        "        if isinstance(callback_on_step_end, (PipelineCallback, MultiPipelineCallbacks)):\n",
        "            callback_on_step_end_tensor_inputs = callback_on_step_end.tensor_inputs\n",
        "\n",
        "        # 0. Defaults\n",
        "        height = height or self.default_sample_size * self.vae_scale_factor\n",
        "        width = width or self.default_sample_size * self.vae_scale_factor\n",
        "        original_size = original_size or (height, width)\n",
        "        target_size = target_size or (height, width)\n",
        "\n",
        "        # 1. Check inputs\n",
        "        self.check_inputs(\n",
        "            prompt,\n",
        "            prompt_2,\n",
        "            height,\n",
        "            width,\n",
        "            callback_steps,\n",
        "            negative_prompt,\n",
        "            negative_prompt_2,\n",
        "            prompt_embeds,\n",
        "            negative_prompt_embeds,\n",
        "            pooled_prompt_embeds,\n",
        "            negative_pooled_prompt_embeds,\n",
        "            ip_adapter_image,\n",
        "            ip_adapter_image_embeds,\n",
        "            callback_on_step_end_tensor_inputs,\n",
        "        )\n",
        "\n",
        "        self._guidance_scale = guidance_scale\n",
        "        self._guidance_rescale = guidance_rescale\n",
        "        self._clip_skip = clip_skip\n",
        "        self._cross_attention_kwargs = cross_attention_kwargs\n",
        "        self._denoising_end = denoising_end\n",
        "        self._interrupt = False\n",
        "        self._nag_scale = nag_scale\n",
        "\n",
        "        # 2. Batch size\n",
        "        if prompt is not None and isinstance(prompt, str):\n",
        "            batch_size = 1\n",
        "        elif prompt is not None and isinstance(prompt, list):\n",
        "            batch_size = len(prompt)\n",
        "        else:\n",
        "            batch_size = prompt_embeds.shape[0]\n",
        "\n",
        "        device = self._execution_device\n",
        "\n",
        "        # 3. Encode prompts\n",
        "        lora_scale = self.cross_attention_kwargs.get(\"scale\", None) if self.cross_attention_kwargs is not None else None\n",
        "\n",
        "        (\n",
        "            prompt_embeds,\n",
        "            negative_prompt_embeds,\n",
        "            pooled_prompt_embeds,\n",
        "            negative_pooled_prompt_embeds,\n",
        "        ) = self.encode_prompt(\n",
        "            prompt=prompt,\n",
        "            prompt_2=prompt_2,\n",
        "            device=device,\n",
        "            num_images_per_prompt=num_images_per_prompt,\n",
        "            do_classifier_free_guidance=self.do_classifier_free_guidance or self.do_normalized_attention_guidance,\n",
        "            negative_prompt=negative_prompt,\n",
        "            negative_prompt_2=negative_prompt_2,\n",
        "            prompt_embeds=prompt_embeds,\n",
        "            negative_prompt_embeds=negative_prompt_embeds,\n",
        "            pooled_prompt_embeds=pooled_prompt_embeds,\n",
        "            negative_pooled_prompt_embeds=negative_pooled_prompt_embeds,\n",
        "            lora_scale=lora_scale,\n",
        "            clip_skip=self.clip_skip,\n",
        "        )\n",
        "\n",
        "        # Prepare NAG negative embeddings (but DO NOT append yet; we enable later)\n",
        "        if self.do_normalized_attention_guidance:\n",
        "            if nag_negative_prompt_embeds is None:\n",
        "                if nag_negative_prompt is None:\n",
        "                    if negative_prompt is not None:\n",
        "                        if self.do_classifier_free_guidance:\n",
        "                            nag_negative_prompt_embeds = negative_prompt_embeds\n",
        "                        else:\n",
        "                            nag_negative_prompt = negative_prompt\n",
        "                    else:\n",
        "                        nag_negative_prompt = \"\"\n",
        "                if nag_negative_prompt is not None and nag_negative_prompt_embeds is None:\n",
        "                    nag_negative_prompt_embeds = self.encode_prompt(\n",
        "                        prompt=nag_negative_prompt,\n",
        "                        device=device,\n",
        "                        num_images_per_prompt=num_images_per_prompt,\n",
        "                        do_classifier_free_guidance=False,\n",
        "                        lora_scale=lora_scale,\n",
        "                        clip_skip=self.clip_skip,\n",
        "                    )[0]\n",
        "\n",
        "        # 4. Timesteps\n",
        "        timesteps, num_inference_steps = retrieve_timesteps(\n",
        "            self.scheduler, num_inference_steps, device, timesteps, sigmas\n",
        "        )\n",
        "\n",
        "        # 5. Latents\n",
        "        num_channels_latents = self.unet.config.in_channels\n",
        "        latents = self.prepare_latents(\n",
        "            batch_size * num_images_per_prompt,\n",
        "            num_channels_latents,\n",
        "            height,\n",
        "            width,\n",
        "            prompt_embeds.dtype,\n",
        "            device,\n",
        "            generator,\n",
        "            latents,\n",
        "        )\n",
        "\n",
        "        # 6. Extra step kwargs\n",
        "        extra_step_kwargs = self.prepare_extra_step_kwargs(generator, eta)\n",
        "\n",
        "        # 7. Added time ids & embeddings\n",
        "        add_text_embeds = pooled_prompt_embeds\n",
        "        if self.text_encoder_2 is None:\n",
        "            text_encoder_projection_dim = int(pooled_prompt_embeds.shape[-1])\n",
        "        else:\n",
        "            text_encoder_projection_dim = self.text_encoder_2.config.projection_dim\n",
        "\n",
        "        add_time_ids = self._get_add_time_ids(\n",
        "            original_size,\n",
        "            crops_coords_top_left,\n",
        "            target_size,\n",
        "            dtype=prompt_embeds.dtype,\n",
        "            text_encoder_projection_dim=text_encoder_projection_dim,\n",
        "        )\n",
        "        if negative_original_size is not None and negative_target_size is not None:\n",
        "            negative_add_time_ids = self._get_add_time_ids(\n",
        "                negative_original_size,\n",
        "                negative_crops_coords_top_left,\n",
        "                negative_target_size,\n",
        "                dtype=prompt_embeds.dtype,\n",
        "                text_encoder_projection_dim=text_encoder_projection_dim,\n",
        "            )\n",
        "        else:\n",
        "            negative_add_time_ids = add_time_ids\n",
        "\n",
        "        if self.do_classifier_free_guidance:\n",
        "            prompt_embeds = torch.cat([negative_prompt_embeds, prompt_embeds], dim=0)\n",
        "            add_text_embeds = torch.cat([negative_pooled_prompt_embeds, add_text_embeds], dim=0)\n",
        "            add_time_ids = torch.cat([negative_add_time_ids, add_time_ids], dim=0)\n",
        "\n",
        "        # NOTE: Delayed NAG — do NOT append nag_negative_prompt_embeds yet.\n",
        "\n",
        "        prompt_embeds = prompt_embeds.to(device)\n",
        "        add_text_embeds = add_text_embeds.to(device)\n",
        "        add_time_ids = add_time_ids.to(device).repeat(batch_size * num_images_per_prompt, 1)\n",
        "\n",
        "        if ip_adapter_image is not None or ip_adapter_image_embeds is not None:\n",
        "            image_embeds = self.prepare_ip_adapter_image_embeds(\n",
        "                ip_adapter_image,\n",
        "                ip_adapter_image_embeds,\n",
        "                device,\n",
        "                batch_size * num_images_per_prompt,\n",
        "                self.do_classifier_free_guidance,\n",
        "            )\n",
        "\n",
        "        # 8. Denoising setup\n",
        "        num_warmup_steps = max(len(timesteps) - num_inference_steps * self.scheduler.order, 0)\n",
        "\n",
        "        # 8.1 denoising_end\n",
        "        if (\n",
        "            self.denoising_end is not None\n",
        "            and isinstance(self.denoising_end, float)\n",
        "            and 0 < self.denoising_end < 1\n",
        "        ):\n",
        "            discrete_timestep_cutoff = int(\n",
        "                round(\n",
        "                    self.scheduler.config.num_train_timesteps\n",
        "                    - (self.denoising_end * self.scheduler.config.num_train_timesteps)\n",
        "                )\n",
        "            )\n",
        "            num_inference_steps = len([ts for ts in timesteps if ts >= discrete_timestep_cutoff])\n",
        "            timesteps = timesteps[:num_inference_steps]\n",
        "\n",
        "        # 9. Guidance scale embedding (base / default)\n",
        "        # For full backward-compatibility, we precompute the \"base\" embedding as before.\n",
        "        base_timestep_cond = None\n",
        "        if self.unet.config.time_cond_proj_dim is not None:\n",
        "            base_gs_tensor = torch.tensor(self.guidance_scale - 1).repeat(batch_size * num_images_per_prompt)\n",
        "            base_timestep_cond = self.get_guidance_scale_embedding(\n",
        "                base_gs_tensor, embedding_dim=self.unet.config.time_cond_proj_dim\n",
        "            ).to(device=device, dtype=latents.dtype)\n",
        "\n",
        "        # ---- NEW: timing state for NAG & cool-down ----\n",
        "        def _to_ddpm(frac: float) -> int:\n",
        "            # clamp to [0,1], map to DDPM 0..999, note timesteps are descending\n",
        "            frac = max(0.0, min(1.0, float(frac)))\n",
        "            return math.floor((1 - frac) * 999)\n",
        "\n",
        "        nag_start_t = _to_ddpm(nag_start)\n",
        "        nag_end_t = _to_ddpm(nag_end)\n",
        "\n",
        "        # Cool-down window [nag_end, nag_end + nag_cooldown] in fractional time, then map to DDPM t.\n",
        "        cooldown_active = float(nag_cooldown) > 0.0\n",
        "        if cooldown_active:\n",
        "            cooldown_end_frac = min(1.0, float(nag_end) + float(nag_cooldown))\n",
        "            cooldown_end_t = _to_ddpm(cooldown_end_frac)\n",
        "        else:\n",
        "            cooldown_end_t = None  # unused\n",
        "\n",
        "        origin_attn_procs = self.unet.attn_processors\n",
        "        attn_procs_applied = False\n",
        "        attn_procs_recovered = False\n",
        "        i_start = None  # loop index when NAG is enabled\n",
        "\n",
        "        self._num_timesteps = len(timesteps)\n",
        "        with self.progress_bar(total=num_inference_steps) as progress_bar:\n",
        "            for i, t in enumerate(timesteps):\n",
        "                if self.interrupt:\n",
        "                    continue\n",
        "\n",
        "                # Build latent input\n",
        "                latent_model_input = torch.cat([latents] * 2) if self.do_classifier_free_guidance else latents\n",
        "                latent_model_input = self.scheduler.scale_model_input(latent_model_input, t)\n",
        "\n",
        "                # ---- Enable NAG once we reach nag_start ----\n",
        "                if (\n",
        "                    self.do_normalized_attention_guidance\n",
        "                    and not attn_procs_applied\n",
        "                    and t <= nag_start_t\n",
        "                ):\n",
        "                    # initial scale for ramp\n",
        "                    current_scale = 1.0 if nag_ramp_steps > 0 else nag_scale\n",
        "                    self._set_nag_attn_processor(current_scale, nag_tau, nag_alpha)\n",
        "\n",
        "                    # append the NAG negative branch now\n",
        "                    if nag_negative_prompt_embeds is not None:\n",
        "                        prompt_embeds = torch.cat([prompt_embeds, nag_negative_prompt_embeds], dim=0)\n",
        "\n",
        "                    attn_procs_applied = True\n",
        "                    i_start = i  # remember start index\n",
        "\n",
        "                # ---- Optionally ramp the nag_scale for a few steps after start ----\n",
        "                if (\n",
        "                    self.do_normalized_attention_guidance\n",
        "                    and attn_procs_applied\n",
        "                    and not attn_procs_recovered\n",
        "                    and nag_ramp_steps > 0\n",
        "                    and i_start is not None\n",
        "                ):\n",
        "                    steps_since_on = max(0, i - i_start)\n",
        "                    if steps_since_on <= nag_ramp_steps:\n",
        "                        ramped = 1.0 + (nag_scale - 1.0) * (steps_since_on / max(1, nag_ramp_steps))\n",
        "                        self._set_nag_attn_processor(ramped, nag_tau, nag_alpha)\n",
        "                    else:\n",
        "                        # ensure final scale is set once ramp completes\n",
        "                        if abs(self._nag_scale - nag_scale) > 1e-6:\n",
        "                            self._set_nag_attn_processor(nag_scale, nag_tau, nag_alpha)\n",
        "\n",
        "                # ---- Disable NAG when we pass nag_end ----\n",
        "                if (\n",
        "                    self.do_normalized_attention_guidance\n",
        "                    and attn_procs_applied\n",
        "                    and not attn_procs_recovered\n",
        "                    and t < nag_end_t\n",
        "                ):\n",
        "                    self.unet.set_attn_processor(origin_attn_procs)\n",
        "                    # drop the appended branch so shapes match again\n",
        "                    prompt_embeds = prompt_embeds[: len(latent_model_input)]\n",
        "                    attn_procs_recovered = True\n",
        "\n",
        "                # ---- Cool-down (time-based) effective CFG ----\n",
        "                if cooldown_active:\n",
        "                    # In DDPM indexing, smaller t means later in the trajectory.\n",
        "                    # We are \"in cool-down\" if we've gone *past* nag_end (t <= nag_end_t)\n",
        "                    # but not yet beyond the cool-down window end (t >= cooldown_end_t).\n",
        "                    in_cooldown = (t <= nag_end_t) and (t >= cooldown_end_t)\n",
        "                else:\n",
        "                    in_cooldown = False\n",
        "\n",
        "                if in_cooldown:\n",
        "                    current_guidance_scale = max(1.0, self.guidance_scale * (1.0 - float(nag_cooldown_cfg_drop)))\n",
        "                else:\n",
        "                    current_guidance_scale = self.guidance_scale\n",
        "\n",
        "                # Build timestep_cond:\n",
        "                # - If no cool-down (default), reuse base embedding (backwards-compatible).\n",
        "                # - If cool-down is active, rebuild embedding with the step's effective CFG.\n",
        "                if self.unet.config.time_cond_proj_dim is not None:\n",
        "                    if cooldown_active:\n",
        "                        gs_tensor = torch.tensor(current_guidance_scale - 1).repeat(batch_size * num_images_per_prompt)\n",
        "                        timestep_cond = self.get_guidance_scale_embedding(\n",
        "                            gs_tensor, embedding_dim=self.unet.config.time_cond_proj_dim\n",
        "                        ).to(device=device, dtype=latents.dtype)\n",
        "                    else:\n",
        "                        timestep_cond = base_timestep_cond\n",
        "                else:\n",
        "                    timestep_cond = None\n",
        "\n",
        "                # predict noise\n",
        "                added_cond_kwargs = {\"text_embeds\": add_text_embeds, \"time_ids\": add_time_ids}\n",
        "                if ip_adapter_image is not None or ip_adapter_image_embeds is not None:\n",
        "                    added_cond_kwargs[\"image_embeds\"] = image_embeds\n",
        "\n",
        "                noise_pred = self.unet(\n",
        "                    latent_model_input,\n",
        "                    t,\n",
        "                    encoder_hidden_states=prompt_embeds,\n",
        "                    timestep_cond=timestep_cond,\n",
        "                    cross_attention_kwargs=self.cross_attention_kwargs,\n",
        "                    added_cond_kwargs=added_cond_kwargs,\n",
        "                    return_dict=False,\n",
        "                )[0]\n",
        "\n",
        "                # CFG (use effective guidance for this step; identical to old behaviour when cool-down is off)\n",
        "                if self.do_classifier_free_guidance:\n",
        "                    noise_pred_uncond, noise_pred_text = noise_pred.chunk(2)\n",
        "                    noise_pred = noise_pred_uncond + current_guidance_scale * (noise_pred_text - noise_pred_uncond)\n",
        "\n",
        "                if self.do_classifier_free_guidance and self.guidance_rescale > 0.0:\n",
        "                    noise_pred = rescale_noise_cfg(noise_pred, noise_pred_text, guidance_rescale=self.guidance_rescale)\n",
        "\n",
        "                # step scheduler\n",
        "                latents_dtype = latents.dtype\n",
        "                latents = self.scheduler.step(noise_pred, t, latents, **extra_step_kwargs, return_dict=False)[0]\n",
        "                if latents.dtype != latents_dtype and torch.backends.mps.is_available():\n",
        "                    latents = latents.to(latents_dtype)\n",
        "\n",
        "                # callbacks\n",
        "                if callback_on_step_end is not None:\n",
        "                    callback_kwargs = {}\n",
        "                    for k in callback_on_step_end_tensor_inputs:\n",
        "                        callback_kwargs[k] = locals()[k]\n",
        "                    callback_outputs = callback_on_step_end(self, i, t, callback_kwargs)\n",
        "\n",
        "                    latents = callback_outputs.pop(\"latents\", latents)\n",
        "                    prompt_embeds = callback_outputs.pop(\"prompt_embeds\", prompt_embeds)\n",
        "                    negative_prompt_embeds = callback_outputs.pop(\"negative_prompt_embeds\", negative_prompt_embeds)\n",
        "                    add_text_embeds = callback_outputs.pop(\"add_text_embeds\", add_text_embeds)\n",
        "                    negative_pooled_prompt_embeds = callback_outputs.pop(\n",
        "                        \"negative_pooled_prompt_embeds\", negative_pooled_prompt_embeds\n",
        "                    )\n",
        "                    add_time_ids = callback_outputs.pop(\"add_time_ids\", add_time_ids)\n",
        "\n",
        "                if i == len(timesteps) - 1 or ((i + 1) > num_warmup_steps and (i + 1) % self.scheduler.order == 0):\n",
        "                    progress_bar.update()\n",
        "                    if callback is not None and i % callback_steps == 0:\n",
        "                        step_idx = i // getattr(self.scheduler, \"order\", 1)\n",
        "                        callback(step_idx, t, latents)\n",
        "\n",
        "                if XLA_AVAILABLE:\n",
        "                    xm.mark_step()\n",
        "\n",
        "        # decode\n",
        "        if output_type != \"latent\":\n",
        "            needs_upcasting = self.vae.dtype == torch.float16 and self.vae.config.force_upcast\n",
        "            if needs_upcasting:\n",
        "                self.upcast_vae()\n",
        "                latents = latents.to(next(iter(self.vae.post_quant_conv.parameters())).dtype)\n",
        "            elif latents.dtype != self.vae.dtype and torch.backends.mps.is_available():\n",
        "                self.vae = self.vae.to(latents.dtype)\n",
        "\n",
        "            has_latents_mean = hasattr(self.vae.config, \"latents_mean\") and self.vae.config.latents_mean is not None\n",
        "            has_latents_std = hasattr(self.vae.config, \"latents_std\") and self.vae.config.latents_std is not None\n",
        "            if has_latents_mean and has_latents_std:\n",
        "                latents_mean = torch.tensor(self.vae.config.latents_mean).view(1, 4, 1, 1).to(latents.device, latents.dtype)\n",
        "                latents_std = torch.tensor(self.vae.config.latents_std).view(1, 4, 1, 1).to(latents.device, latents.dtype)\n",
        "                latents = latents * latents_std / self.vae.config.scaling_factor + latents_mean\n",
        "            else:\n",
        "                latents = latents / self.vae.config.scaling_factor\n",
        "\n",
        "            image = self.vae.decode(latents, return_dict=False)[0]\n",
        "\n",
        "            if needs_upcasting:\n",
        "                self.vae.to(dtype=torch.float16)\n",
        "        else:\n",
        "            image = latents\n",
        "\n",
        "        if output_type != \"latent\":\n",
        "            if self.watermark is not None:\n",
        "                image = self.watermark.apply_watermark(image)\n",
        "            image = self.image_processor.postprocess(image, output_type=output_type)\n",
        "\n",
        "        # ensure processors are restored\n",
        "        if self.do_normalized_attention_guidance and not attn_procs_recovered:\n",
        "            self.unet.set_attn_processor(origin_attn_procs)\n",
        "\n",
        "        self.maybe_free_model_hooks()\n",
        "\n",
        "        if not return_dict:\n",
        "            return (image,)\n",
        "        return StableDiffusionXLPipelineOutput(images=image)\n",
        "\n",
        "print(\"✓ NAGTimeStableDiffusionXLPipeline loaded\")"
      ]
    },
    {
      "cell_type": "markdown",
      "id": "00b0adb1",
      "metadata": {},
      "source": [
        "## Test Across Select Models\n",
        "Run tests on multiple models with first 10 prompts and first seed, organized by model folder"
      ]
    },
    {
      "cell_type": "code",
      "execution_count": null,
      "id": "1774ad30",
      "metadata": {
        "gather": {
          "logged": 1761418568009
        }
      },
      "outputs": [
        {
          "name": "stdout",
          "output_type": "stream",
          "text": [
            "Loaded 16 prompt(s) from /home/azureuser/cloudfiles/code/Users/Normalized-Attention-Guidance/data/prompts_general.json\n",
            "[CONFIG] use_nag=True | models=['turbo', 'lightning', 'lcm', 'hyper', 'pcm'] | dry_run=False | seeds=[2025, 42, 1337]\n",
            "\n",
            "[MODEL] turbo -> steps=4, cfg=0.0\n",
            "[PIPELINE] NAGTimeStableDiffusionXLPipeline\n",
            "Loading TURBO model...\n"
          ]
        },
        {
          "data": {
            "application/vnd.jupyter.widget-view+json": {
              "model_id": "a04352fc59b0403792cb52978ac84e3a",
              "version_major": 2,
              "version_minor": 0
            },
            "text/plain": [
              "Loading pipeline components...:   0%|          | 0/7 [00:00<?, ?it/s]"
            ]
          },
          "metadata": {},
          "output_type": "display_data"
        },
        {
          "name": "stdout",
          "output_type": "stream",
          "text": [
            "✓ TURBO pipeline ready\n",
            "\n",
            "[DIRS]\n",
            "  base_output: /home/azureuser/cloudfiles/code/Users/Normalized-Attention-Guidance/results-prompts2-nag-base\n",
            "  model_root : /home/azureuser/cloudfiles/code/Users/Normalized-Attention-Guidance/results-prompts2-nag-base/turbo\n",
            "  baseline   : /home/azureuser/cloudfiles/code/Users/Normalized-Attention-Guidance/results-prompts2-nag-base/turbo/baseline\n",
            "  neg@0.0    : /home/azureuser/cloudfiles/code/Users/Normalized-Attention-Guidance/results-prompts2-nag-base/turbo/with_negative_start0\n",
            "  neg@0.2    : /home/azureuser/cloudfiles/code/Users/Normalized-Attention-Guidance/results-prompts2-nag-base/turbo/with_negative_start0p2\n",
            "\n",
            "============================================================\n",
            "Testing model: turbo\n",
            "Writing under: /home/azureuser/cloudfiles/code/Users/Normalized-Attention-Guidance/results-prompts2-nag-base/turbo\n",
            "\n",
            "============================================================\n"
          ]
        },
        {
          "name": "stderr",
          "output_type": "stream",
          "text": [
            "turbo progress:   0%|          | 0/16 [00:00<?, ?it/s]"
          ]
        },
        {
          "name": "stdout",
          "output_type": "stream",
          "text": [
            "{'prompt': 'A photo of a person', 'guidance_scale': 0.0, 'nag_scale': 2.0, 'nag_end': 0.5, 'nag_tau': 2.5, 'nag_alpha': 0.5, 'num_inference_steps': 4, 'generator': <torch._C.Generator object at 0x7b5cc4344c30>, 'nag_negative_prompt': None}\n"
          ]
        },
        {
          "data": {
            "application/vnd.jupyter.widget-view+json": {
              "model_id": "8a02facd14b5498db975e04021838208",
              "version_major": 2,
              "version_minor": 0
            },
            "text/plain": [
              "  0%|          | 0/4 [00:00<?, ?it/s]"
            ]
          },
          "metadata": {},
          "output_type": "display_data"
        },
        {
          "name": "stdout",
          "output_type": "stream",
          "text": [
            "[WRITE] turbo -> /home/azureuser/cloudfiles/code/Users/Normalized-Attention-Guidance/results-prompts2-nag-base/turbo/baseline/0000_2025_noneg.png\n",
            "{'prompt': 'A photo of a person', 'guidance_scale': 0.0, 'nag_scale': 2.0, 'nag_end': 0.5, 'nag_tau': 2.5, 'nag_alpha': 0.5, 'num_inference_steps': 4, 'generator': <torch._C.Generator object at 0x7b5cf0b52d70>, 'nag_negative_prompt': None}\n"
          ]
        },
        {
          "data": {
            "application/vnd.jupyter.widget-view+json": {
              "model_id": "558526cb8e3346589c32c08faba26949",
              "version_major": 2,
              "version_minor": 0
            },
            "text/plain": [
              "  0%|          | 0/4 [00:00<?, ?it/s]"
            ]
          },
          "metadata": {},
          "output_type": "display_data"
        },
        {
          "name": "stdout",
          "output_type": "stream",
          "text": [
            "[WRITE] turbo -> /home/azureuser/cloudfiles/code/Users/Normalized-Attention-Guidance/results-prompts2-nag-base/turbo/baseline/0000_42_noneg.png\n",
            "{'prompt': 'A photo of a person', 'guidance_scale': 0.0, 'nag_scale': 2.0, 'nag_end': 0.5, 'nag_tau': 2.5, 'nag_alpha': 0.5, 'num_inference_steps': 4, 'generator': <torch._C.Generator object at 0x7b5ce05123d0>, 'nag_negative_prompt': None}\n"
          ]
        },
        {
          "data": {
            "application/vnd.jupyter.widget-view+json": {
              "model_id": "f2f59c384f134d0b8e71e32776613122",
              "version_major": 2,
              "version_minor": 0
            },
            "text/plain": [
              "  0%|          | 0/4 [00:00<?, ?it/s]"
            ]
          },
          "metadata": {},
          "output_type": "display_data"
        },
        {
          "name": "stdout",
          "output_type": "stream",
          "text": [
            "[WRITE] turbo -> /home/azureuser/cloudfiles/code/Users/Normalized-Attention-Guidance/results-prompts2-nag-base/turbo/baseline/0000_1337_noneg.png\n",
            "{'prompt': 'A photo of a person', 'guidance_scale': 0.0, 'nag_scale': 2.0, 'nag_end': 0.5, 'nag_tau': 2.5, 'nag_alpha': 0.5, 'num_inference_steps': 4, 'generator': <torch._C.Generator object at 0x7b5ce9f50ab0>, 'nag_negative_prompt': 'male', 'nag_start': 0.0}\n"
          ]
        },
        {
          "data": {
            "application/vnd.jupyter.widget-view+json": {
              "model_id": "ce15847d267b41f087d1697d22dae883",
              "version_major": 2,
              "version_minor": 0
            },
            "text/plain": [
              "  0%|          | 0/4 [00:00<?, ?it/s]"
            ]
          },
          "metadata": {},
          "output_type": "display_data"
        },
        {
          "name": "stdout",
          "output_type": "stream",
          "text": [
            "[WRITE] turbo -> /home/azureuser/cloudfiles/code/Users/Normalized-Attention-Guidance/results-prompts2-nag-base/turbo/with_negative_start0/0000_2025_neg_s0.png\n",
            "{'prompt': 'A photo of a person', 'guidance_scale': 0.0, 'nag_scale': 2.0, 'nag_end': 0.5, 'nag_tau': 2.5, 'nag_alpha': 0.5, 'num_inference_steps': 4, 'generator': <torch._C.Generator object at 0x7b5cf0a25290>, 'nag_negative_prompt': 'male', 'nag_start': 0.0}\n"
          ]
        },
        {
          "data": {
            "application/vnd.jupyter.widget-view+json": {
              "model_id": "77c46340e188481b85aa387cf60647ec",
              "version_major": 2,
              "version_minor": 0
            },
            "text/plain": [
              "  0%|          | 0/4 [00:00<?, ?it/s]"
            ]
          },
          "metadata": {},
          "output_type": "display_data"
        },
        {
          "name": "stdout",
          "output_type": "stream",
          "text": [
            "[WRITE] turbo -> /home/azureuser/cloudfiles/code/Users/Normalized-Attention-Guidance/results-prompts2-nag-base/turbo/with_negative_start0/0000_42_neg_s0.png\n",
            "{'prompt': 'A photo of a person', 'guidance_scale': 0.0, 'nag_scale': 2.0, 'nag_end': 0.5, 'nag_tau': 2.5, 'nag_alpha': 0.5, 'num_inference_steps': 4, 'generator': <torch._C.Generator object at 0x7b5ce9f513f0>, 'nag_negative_prompt': 'male', 'nag_start': 0.0}\n"
          ]
        },
        {
          "data": {
            "application/vnd.jupyter.widget-view+json": {
              "model_id": "e008f040e4804386986f658071b05c9d",
              "version_major": 2,
              "version_minor": 0
            },
            "text/plain": [
              "  0%|          | 0/4 [00:00<?, ?it/s]"
            ]
          },
          "metadata": {},
          "output_type": "display_data"
        },
        {
          "name": "stdout",
          "output_type": "stream",
          "text": [
            "[WRITE] turbo -> /home/azureuser/cloudfiles/code/Users/Normalized-Attention-Guidance/results-prompts2-nag-base/turbo/with_negative_start0/0000_1337_neg_s0.png\n",
            "{'prompt': 'A photo of a person', 'guidance_scale': 0.0, 'nag_scale': 2.0, 'nag_end': 0.5, 'nag_tau': 2.5, 'nag_alpha': 0.5, 'num_inference_steps': 4, 'generator': <torch._C.Generator object at 0x7b5cc70a1e90>, 'nag_negative_prompt': 'male', 'nag_start': 0.2}\n"
          ]
        },
        {
          "data": {
            "application/vnd.jupyter.widget-view+json": {
              "model_id": "fe0c64a28ca74c79a4a30f36a7e57b11",
              "version_major": 2,
              "version_minor": 0
            },
            "text/plain": [
              "  0%|          | 0/4 [00:00<?, ?it/s]"
            ]
          },
          "metadata": {},
          "output_type": "display_data"
        },
        {
          "name": "stdout",
          "output_type": "stream",
          "text": [
            "[WRITE] turbo -> /home/azureuser/cloudfiles/code/Users/Normalized-Attention-Guidance/results-prompts2-nag-base/turbo/with_negative_start0p2/0000_2025_neg_s0p2.png\n",
            "{'prompt': 'A photo of a person', 'guidance_scale': 0.0, 'nag_scale': 2.0, 'nag_end': 0.5, 'nag_tau': 2.5, 'nag_alpha': 0.5, 'num_inference_steps': 4, 'generator': <torch._C.Generator object at 0x7b5cc42aff90>, 'nag_negative_prompt': 'male', 'nag_start': 0.2}\n"
          ]
        },
        {
          "data": {
            "application/vnd.jupyter.widget-view+json": {
              "model_id": "609866f362834fd382e76eaf075001f8",
              "version_major": 2,
              "version_minor": 0
            },
            "text/plain": [
              "  0%|          | 0/4 [00:00<?, ?it/s]"
            ]
          },
          "metadata": {},
          "output_type": "display_data"
        },
        {
          "name": "stdout",
          "output_type": "stream",
          "text": [
            "[WRITE] turbo -> /home/azureuser/cloudfiles/code/Users/Normalized-Attention-Guidance/results-prompts2-nag-base/turbo/with_negative_start0p2/0000_42_neg_s0p2.png\n",
            "{'prompt': 'A photo of a person', 'guidance_scale': 0.0, 'nag_scale': 2.0, 'nag_end': 0.5, 'nag_tau': 2.5, 'nag_alpha': 0.5, 'num_inference_steps': 4, 'generator': <torch._C.Generator object at 0x7b5cc411a8b0>, 'nag_negative_prompt': 'male', 'nag_start': 0.2}\n"
          ]
        },
        {
          "data": {
            "application/vnd.jupyter.widget-view+json": {
              "model_id": "c5eb110cc4b14d45a157a992b4853b7b",
              "version_major": 2,
              "version_minor": 0
            },
            "text/plain": [
              "  0%|          | 0/4 [00:00<?, ?it/s]"
            ]
          },
          "metadata": {},
          "output_type": "display_data"
        },
        {
          "name": "stdout",
          "output_type": "stream",
          "text": [
            "[WRITE] turbo -> /home/azureuser/cloudfiles/code/Users/Normalized-Attention-Guidance/results-prompts2-nag-base/turbo/with_negative_start0p2/0000_1337_neg_s0p2.png\n"
          ]
        },
        {
          "name": "stderr",
          "output_type": "stream",
          "text": [
            "turbo progress:   6%|▋         | 1/16 [00:10<02:37, 10.52s/it]"
          ]
        },
        {
          "name": "stdout",
          "output_type": "stream",
          "text": [
            "{'prompt': 'A photo of a person', 'guidance_scale': 0.0, 'nag_scale': 2.0, 'nag_end': 0.5, 'nag_tau': 2.5, 'nag_alpha': 0.5, 'num_inference_steps': 4, 'generator': <torch._C.Generator object at 0x7b5cf0a26390>, 'nag_negative_prompt': None}\n"
          ]
        },
        {
          "data": {
            "application/vnd.jupyter.widget-view+json": {
              "model_id": "f7edfcde207d48c8b34b5ba1ce7df7be",
              "version_major": 2,
              "version_minor": 0
            },
            "text/plain": [
              "  0%|          | 0/4 [00:00<?, ?it/s]"
            ]
          },
          "metadata": {},
          "output_type": "display_data"
        },
        {
          "name": "stdout",
          "output_type": "stream",
          "text": [
            "[WRITE] turbo -> /home/azureuser/cloudfiles/code/Users/Normalized-Attention-Guidance/results-prompts2-nag-base/turbo/baseline/0001_2025_noneg.png\n",
            "{'prompt': 'A photo of a person', 'guidance_scale': 0.0, 'nag_scale': 2.0, 'nag_end': 0.5, 'nag_tau': 2.5, 'nag_alpha': 0.5, 'num_inference_steps': 4, 'generator': <torch._C.Generator object at 0x7b5e65008770>, 'nag_negative_prompt': None}\n"
          ]
        },
        {
          "data": {
            "application/vnd.jupyter.widget-view+json": {
              "model_id": "a9259b3291fa461c9d36decef64f2935",
              "version_major": 2,
              "version_minor": 0
            },
            "text/plain": [
              "  0%|          | 0/4 [00:00<?, ?it/s]"
            ]
          },
          "metadata": {},
          "output_type": "display_data"
        },
        {
          "name": "stdout",
          "output_type": "stream",
          "text": [
            "[WRITE] turbo -> /home/azureuser/cloudfiles/code/Users/Normalized-Attention-Guidance/results-prompts2-nag-base/turbo/baseline/0001_42_noneg.png\n",
            "{'prompt': 'A photo of a person', 'guidance_scale': 0.0, 'nag_scale': 2.0, 'nag_end': 0.5, 'nag_tau': 2.5, 'nag_alpha': 0.5, 'num_inference_steps': 4, 'generator': <torch._C.Generator object at 0x7b5ce8abbcd0>, 'nag_negative_prompt': None}\n"
          ]
        },
        {
          "data": {
            "application/vnd.jupyter.widget-view+json": {
              "model_id": "63007e43d98f4efe983816dcf786f398",
              "version_major": 2,
              "version_minor": 0
            },
            "text/plain": [
              "  0%|          | 0/4 [00:00<?, ?it/s]"
            ]
          },
          "metadata": {},
          "output_type": "display_data"
        },
        {
          "name": "stdout",
          "output_type": "stream",
          "text": [
            "[WRITE] turbo -> /home/azureuser/cloudfiles/code/Users/Normalized-Attention-Guidance/results-prompts2-nag-base/turbo/baseline/0001_1337_noneg.png\n",
            "{'prompt': 'A photo of a person', 'guidance_scale': 0.0, 'nag_scale': 2.0, 'nag_end': 0.5, 'nag_tau': 2.5, 'nag_alpha': 0.5, 'num_inference_steps': 4, 'generator': <torch._C.Generator object at 0x7b5e65008770>, 'nag_negative_prompt': 'female', 'nag_start': 0.0}\n"
          ]
        },
        {
          "data": {
            "application/vnd.jupyter.widget-view+json": {
              "model_id": "40fbd70e27ce4ce9b8508b15c17f068c",
              "version_major": 2,
              "version_minor": 0
            },
            "text/plain": [
              "  0%|          | 0/4 [00:00<?, ?it/s]"
            ]
          },
          "metadata": {},
          "output_type": "display_data"
        },
        {
          "name": "stdout",
          "output_type": "stream",
          "text": [
            "[WRITE] turbo -> /home/azureuser/cloudfiles/code/Users/Normalized-Attention-Guidance/results-prompts2-nag-base/turbo/with_negative_start0/0001_2025_neg_s0.png\n",
            "{'prompt': 'A photo of a person', 'guidance_scale': 0.0, 'nag_scale': 2.0, 'nag_end': 0.5, 'nag_tau': 2.5, 'nag_alpha': 0.5, 'num_inference_steps': 4, 'generator': <torch._C.Generator object at 0x7b5cc411a8b0>, 'nag_negative_prompt': 'female', 'nag_start': 0.0}\n"
          ]
        },
        {
          "data": {
            "application/vnd.jupyter.widget-view+json": {
              "model_id": "2d85239ffaa54c20a94c3e0aea8f9fc3",
              "version_major": 2,
              "version_minor": 0
            },
            "text/plain": [
              "  0%|          | 0/4 [00:00<?, ?it/s]"
            ]
          },
          "metadata": {},
          "output_type": "display_data"
        },
        {
          "name": "stdout",
          "output_type": "stream",
          "text": [
            "[WRITE] turbo -> /home/azureuser/cloudfiles/code/Users/Normalized-Attention-Guidance/results-prompts2-nag-base/turbo/with_negative_start0/0001_42_neg_s0.png\n",
            "{'prompt': 'A photo of a person', 'guidance_scale': 0.0, 'nag_scale': 2.0, 'nag_end': 0.5, 'nag_tau': 2.5, 'nag_alpha': 0.5, 'num_inference_steps': 4, 'generator': <torch._C.Generator object at 0x7b5ce8ab8130>, 'nag_negative_prompt': 'female', 'nag_start': 0.0}\n"
          ]
        },
        {
          "data": {
            "application/vnd.jupyter.widget-view+json": {
              "model_id": "61d3631ab27f4af7adcfca57ec52f262",
              "version_major": 2,
              "version_minor": 0
            },
            "text/plain": [
              "  0%|          | 0/4 [00:00<?, ?it/s]"
            ]
          },
          "metadata": {},
          "output_type": "display_data"
        },
        {
          "name": "stdout",
          "output_type": "stream",
          "text": [
            "[WRITE] turbo -> /home/azureuser/cloudfiles/code/Users/Normalized-Attention-Guidance/results-prompts2-nag-base/turbo/with_negative_start0/0001_1337_neg_s0.png\n",
            "{'prompt': 'A photo of a person', 'guidance_scale': 0.0, 'nag_scale': 2.0, 'nag_end': 0.5, 'nag_tau': 2.5, 'nag_alpha': 0.5, 'num_inference_steps': 4, 'generator': <torch._C.Generator object at 0x7b5cc42aff90>, 'nag_negative_prompt': 'female', 'nag_start': 0.2}\n"
          ]
        },
        {
          "data": {
            "application/vnd.jupyter.widget-view+json": {
              "model_id": "3d8de85f295142e9962683a1e59b70b3",
              "version_major": 2,
              "version_minor": 0
            },
            "text/plain": [
              "  0%|          | 0/4 [00:00<?, ?it/s]"
            ]
          },
          "metadata": {},
          "output_type": "display_data"
        },
        {
          "name": "stdout",
          "output_type": "stream",
          "text": [
            "[WRITE] turbo -> /home/azureuser/cloudfiles/code/Users/Normalized-Attention-Guidance/results-prompts2-nag-base/turbo/with_negative_start0p2/0001_2025_neg_s0p2.png\n",
            "{'prompt': 'A photo of a person', 'guidance_scale': 0.0, 'nag_scale': 2.0, 'nag_end': 0.5, 'nag_tau': 2.5, 'nag_alpha': 0.5, 'num_inference_steps': 4, 'generator': <torch._C.Generator object at 0x7b5e65008770>, 'nag_negative_prompt': 'female', 'nag_start': 0.2}\n"
          ]
        },
        {
          "data": {
            "application/vnd.jupyter.widget-view+json": {
              "model_id": "09414473b73e478d979db3a42126aff7",
              "version_major": 2,
              "version_minor": 0
            },
            "text/plain": [
              "  0%|          | 0/4 [00:00<?, ?it/s]"
            ]
          },
          "metadata": {},
          "output_type": "display_data"
        },
        {
          "name": "stdout",
          "output_type": "stream",
          "text": [
            "[WRITE] turbo -> /home/azureuser/cloudfiles/code/Users/Normalized-Attention-Guidance/results-prompts2-nag-base/turbo/with_negative_start0p2/0001_42_neg_s0p2.png\n",
            "{'prompt': 'A photo of a person', 'guidance_scale': 0.0, 'nag_scale': 2.0, 'nag_end': 0.5, 'nag_tau': 2.5, 'nag_alpha': 0.5, 'num_inference_steps': 4, 'generator': <torch._C.Generator object at 0x7b5cc6fccab0>, 'nag_negative_prompt': 'female', 'nag_start': 0.2}\n"
          ]
        },
        {
          "data": {
            "application/vnd.jupyter.widget-view+json": {
              "model_id": "87cf10b09cd3423a9444613a66d68eaa",
              "version_major": 2,
              "version_minor": 0
            },
            "text/plain": [
              "  0%|          | 0/4 [00:00<?, ?it/s]"
            ]
          },
          "metadata": {},
          "output_type": "display_data"
        },
        {
          "name": "stdout",
          "output_type": "stream",
          "text": [
            "[WRITE] turbo -> /home/azureuser/cloudfiles/code/Users/Normalized-Attention-Guidance/results-prompts2-nag-base/turbo/with_negative_start0p2/0001_1337_neg_s0p2.png\n"
          ]
        },
        {
          "name": "stderr",
          "output_type": "stream",
          "text": [
            "turbo progress:  12%|█▎        | 2/16 [00:20<02:24, 10.30s/it]"
          ]
        },
        {
          "name": "stdout",
          "output_type": "stream",
          "text": [
            "{'prompt': 'A photo of a person', 'guidance_scale': 0.0, 'nag_scale': 2.0, 'nag_end': 0.5, 'nag_tau': 2.5, 'nag_alpha': 0.5, 'num_inference_steps': 4, 'generator': <torch._C.Generator object at 0x7b5cf0a25290>, 'nag_negative_prompt': None}\n"
          ]
        },
        {
          "data": {
            "application/vnd.jupyter.widget-view+json": {
              "model_id": "48003245fa344128899516de799fb3a4",
              "version_major": 2,
              "version_minor": 0
            },
            "text/plain": [
              "  0%|          | 0/4 [00:00<?, ?it/s]"
            ]
          },
          "metadata": {},
          "output_type": "display_data"
        },
        {
          "name": "stdout",
          "output_type": "stream",
          "text": [
            "[WRITE] turbo -> /home/azureuser/cloudfiles/code/Users/Normalized-Attention-Guidance/results-prompts2-nag-base/turbo/baseline/0002_2025_noneg.png\n",
            "{'prompt': 'A photo of a person', 'guidance_scale': 0.0, 'nag_scale': 2.0, 'nag_end': 0.5, 'nag_tau': 2.5, 'nag_alpha': 0.5, 'num_inference_steps': 4, 'generator': <torch._C.Generator object at 0x7b5cc6fcca70>, 'nag_negative_prompt': None}\n"
          ]
        },
        {
          "data": {
            "application/vnd.jupyter.widget-view+json": {
              "model_id": "2a5a8dad4d3a45d5974a1a2f312fc839",
              "version_major": 2,
              "version_minor": 0
            },
            "text/plain": [
              "  0%|          | 0/4 [00:00<?, ?it/s]"
            ]
          },
          "metadata": {},
          "output_type": "display_data"
        },
        {
          "name": "stdout",
          "output_type": "stream",
          "text": [
            "[WRITE] turbo -> /home/azureuser/cloudfiles/code/Users/Normalized-Attention-Guidance/results-prompts2-nag-base/turbo/baseline/0002_42_noneg.png\n",
            "{'prompt': 'A photo of a person', 'guidance_scale': 0.0, 'nag_scale': 2.0, 'nag_end': 0.5, 'nag_tau': 2.5, 'nag_alpha': 0.5, 'num_inference_steps': 4, 'generator': <torch._C.Generator object at 0x7b5cc71551b0>, 'nag_negative_prompt': None}\n"
          ]
        },
        {
          "data": {
            "application/vnd.jupyter.widget-view+json": {
              "model_id": "16517cab3f1141cfa9b50867ba465c15",
              "version_major": 2,
              "version_minor": 0
            },
            "text/plain": [
              "  0%|          | 0/4 [00:00<?, ?it/s]"
            ]
          },
          "metadata": {},
          "output_type": "display_data"
        },
        {
          "name": "stdout",
          "output_type": "stream",
          "text": [
            "[WRITE] turbo -> /home/azureuser/cloudfiles/code/Users/Normalized-Attention-Guidance/results-prompts2-nag-base/turbo/baseline/0002_1337_noneg.png\n",
            "{'prompt': 'A photo of a person', 'guidance_scale': 0.0, 'nag_scale': 2.0, 'nag_end': 0.5, 'nag_tau': 2.5, 'nag_alpha': 0.5, 'num_inference_steps': 4, 'generator': <torch._C.Generator object at 0x7b5cc71553f0>, 'nag_negative_prompt': 'old', 'nag_start': 0.0}\n"
          ]
        },
        {
          "data": {
            "application/vnd.jupyter.widget-view+json": {
              "model_id": "42e70d6b93bb4ac2af7e79da47233ff6",
              "version_major": 2,
              "version_minor": 0
            },
            "text/plain": [
              "  0%|          | 0/4 [00:00<?, ?it/s]"
            ]
          },
          "metadata": {},
          "output_type": "display_data"
        },
        {
          "name": "stdout",
          "output_type": "stream",
          "text": [
            "[WRITE] turbo -> /home/azureuser/cloudfiles/code/Users/Normalized-Attention-Guidance/results-prompts2-nag-base/turbo/with_negative_start0/0002_2025_neg_s0.png\n",
            "{'prompt': 'A photo of a person', 'guidance_scale': 0.0, 'nag_scale': 2.0, 'nag_end': 0.5, 'nag_tau': 2.5, 'nag_alpha': 0.5, 'num_inference_steps': 4, 'generator': <torch._C.Generator object at 0x7b5cc6fccc10>, 'nag_negative_prompt': 'old', 'nag_start': 0.0}\n"
          ]
        },
        {
          "data": {
            "application/vnd.jupyter.widget-view+json": {
              "model_id": "bbf529d071304989b77b78c70f60251b",
              "version_major": 2,
              "version_minor": 0
            },
            "text/plain": [
              "  0%|          | 0/4 [00:00<?, ?it/s]"
            ]
          },
          "metadata": {},
          "output_type": "display_data"
        },
        {
          "name": "stdout",
          "output_type": "stream",
          "text": [
            "[WRITE] turbo -> /home/azureuser/cloudfiles/code/Users/Normalized-Attention-Guidance/results-prompts2-nag-base/turbo/with_negative_start0/0002_42_neg_s0.png\n",
            "{'prompt': 'A photo of a person', 'guidance_scale': 0.0, 'nag_scale': 2.0, 'nag_end': 0.5, 'nag_tau': 2.5, 'nag_alpha': 0.5, 'num_inference_steps': 4, 'generator': <torch._C.Generator object at 0x7b5cc71551b0>, 'nag_negative_prompt': 'old', 'nag_start': 0.0}\n"
          ]
        },
        {
          "data": {
            "application/vnd.jupyter.widget-view+json": {
              "model_id": "64e91157a3b2439b91616fa0b0feae34",
              "version_major": 2,
              "version_minor": 0
            },
            "text/plain": [
              "  0%|          | 0/4 [00:00<?, ?it/s]"
            ]
          },
          "metadata": {},
          "output_type": "display_data"
        },
        {
          "name": "stdout",
          "output_type": "stream",
          "text": [
            "[WRITE] turbo -> /home/azureuser/cloudfiles/code/Users/Normalized-Attention-Guidance/results-prompts2-nag-base/turbo/with_negative_start0/0002_1337_neg_s0.png\n",
            "{'prompt': 'A photo of a person', 'guidance_scale': 0.0, 'nag_scale': 2.0, 'nag_end': 0.5, 'nag_tau': 2.5, 'nag_alpha': 0.5, 'num_inference_steps': 4, 'generator': <torch._C.Generator object at 0x7b5cc6fccab0>, 'nag_negative_prompt': 'old', 'nag_start': 0.2}\n"
          ]
        },
        {
          "data": {
            "application/vnd.jupyter.widget-view+json": {
              "model_id": "2d62ac7f4be54a2495e222135bb25616",
              "version_major": 2,
              "version_minor": 0
            },
            "text/plain": [
              "  0%|          | 0/4 [00:00<?, ?it/s]"
            ]
          },
          "metadata": {},
          "output_type": "display_data"
        },
        {
          "name": "stdout",
          "output_type": "stream",
          "text": [
            "[WRITE] turbo -> /home/azureuser/cloudfiles/code/Users/Normalized-Attention-Guidance/results-prompts2-nag-base/turbo/with_negative_start0p2/0002_2025_neg_s0p2.png\n",
            "{'prompt': 'A photo of a person', 'guidance_scale': 0.0, 'nag_scale': 2.0, 'nag_end': 0.5, 'nag_tau': 2.5, 'nag_alpha': 0.5, 'num_inference_steps': 4, 'generator': <torch._C.Generator object at 0x7b5cc74babb0>, 'nag_negative_prompt': 'old', 'nag_start': 0.2}\n"
          ]
        },
        {
          "data": {
            "application/vnd.jupyter.widget-view+json": {
              "model_id": "1a2f0878c5264ad9904fca2b4393025a",
              "version_major": 2,
              "version_minor": 0
            },
            "text/plain": [
              "  0%|          | 0/4 [00:00<?, ?it/s]"
            ]
          },
          "metadata": {},
          "output_type": "display_data"
        },
        {
          "name": "stdout",
          "output_type": "stream",
          "text": [
            "[WRITE] turbo -> /home/azureuser/cloudfiles/code/Users/Normalized-Attention-Guidance/results-prompts2-nag-base/turbo/with_negative_start0p2/0002_42_neg_s0p2.png\n",
            "{'prompt': 'A photo of a person', 'guidance_scale': 0.0, 'nag_scale': 2.0, 'nag_end': 0.5, 'nag_tau': 2.5, 'nag_alpha': 0.5, 'num_inference_steps': 4, 'generator': <torch._C.Generator object at 0x7b5cc74b81d0>, 'nag_negative_prompt': 'old', 'nag_start': 0.2}\n"
          ]
        },
        {
          "data": {
            "application/vnd.jupyter.widget-view+json": {
              "model_id": "fcea6a6d78444f76a86e34ec4d138b34",
              "version_major": 2,
              "version_minor": 0
            },
            "text/plain": [
              "  0%|          | 0/4 [00:00<?, ?it/s]"
            ]
          },
          "metadata": {},
          "output_type": "display_data"
        },
        {
          "name": "stdout",
          "output_type": "stream",
          "text": [
            "[WRITE] turbo -> /home/azureuser/cloudfiles/code/Users/Normalized-Attention-Guidance/results-prompts2-nag-base/turbo/with_negative_start0p2/0002_1337_neg_s0p2.png\n"
          ]
        },
        {
          "name": "stderr",
          "output_type": "stream",
          "text": [
            "turbo progress:  19%|█▉        | 3/16 [00:30<02:10, 10.02s/it]"
          ]
        },
        {
          "name": "stdout",
          "output_type": "stream",
          "text": [
            "{'prompt': 'A photo of a person', 'guidance_scale': 0.0, 'nag_scale': 2.0, 'nag_end': 0.5, 'nag_tau': 2.5, 'nag_alpha': 0.5, 'num_inference_steps': 4, 'generator': <torch._C.Generator object at 0x7b5cc6fcc5f0>, 'nag_negative_prompt': None}\n"
          ]
        },
        {
          "data": {
            "application/vnd.jupyter.widget-view+json": {
              "model_id": "b9b78cba64b145b79e1b3d0e190d0955",
              "version_major": 2,
              "version_minor": 0
            },
            "text/plain": [
              "  0%|          | 0/4 [00:00<?, ?it/s]"
            ]
          },
          "metadata": {},
          "output_type": "display_data"
        },
        {
          "name": "stdout",
          "output_type": "stream",
          "text": [
            "[WRITE] turbo -> /home/azureuser/cloudfiles/code/Users/Normalized-Attention-Guidance/results-prompts2-nag-base/turbo/baseline/0003_2025_noneg.png\n",
            "{'prompt': 'A photo of a person', 'guidance_scale': 0.0, 'nag_scale': 2.0, 'nag_end': 0.5, 'nag_tau': 2.5, 'nag_alpha': 0.5, 'num_inference_steps': 4, 'generator': <torch._C.Generator object at 0x7b5cc74baeb0>, 'nag_negative_prompt': None}\n"
          ]
        },
        {
          "data": {
            "application/vnd.jupyter.widget-view+json": {
              "model_id": "5b9c9472b72640968921d66fcb2780d0",
              "version_major": 2,
              "version_minor": 0
            },
            "text/plain": [
              "  0%|          | 0/4 [00:00<?, ?it/s]"
            ]
          },
          "metadata": {},
          "output_type": "display_data"
        },
        {
          "name": "stdout",
          "output_type": "stream",
          "text": [
            "[WRITE] turbo -> /home/azureuser/cloudfiles/code/Users/Normalized-Attention-Guidance/results-prompts2-nag-base/turbo/baseline/0003_42_noneg.png\n",
            "{'prompt': 'A photo of a person', 'guidance_scale': 0.0, 'nag_scale': 2.0, 'nag_end': 0.5, 'nag_tau': 2.5, 'nag_alpha': 0.5, 'num_inference_steps': 4, 'generator': <torch._C.Generator object at 0x7b5cc74bac30>, 'nag_negative_prompt': None}\n"
          ]
        },
        {
          "data": {
            "application/vnd.jupyter.widget-view+json": {
              "model_id": "7181e2d7dde442fc80e2b768e153145f",
              "version_major": 2,
              "version_minor": 0
            },
            "text/plain": [
              "  0%|          | 0/4 [00:00<?, ?it/s]"
            ]
          },
          "metadata": {},
          "output_type": "display_data"
        },
        {
          "name": "stdout",
          "output_type": "stream",
          "text": [
            "[WRITE] turbo -> /home/azureuser/cloudfiles/code/Users/Normalized-Attention-Guidance/results-prompts2-nag-base/turbo/baseline/0003_1337_noneg.png\n",
            "{'prompt': 'A photo of a person', 'guidance_scale': 0.0, 'nag_scale': 2.0, 'nag_end': 0.5, 'nag_tau': 2.5, 'nag_alpha': 0.5, 'num_inference_steps': 4, 'generator': <torch._C.Generator object at 0x7b5cc6fcc5f0>, 'nag_negative_prompt': 'young', 'nag_start': 0.0}\n"
          ]
        },
        {
          "data": {
            "application/vnd.jupyter.widget-view+json": {
              "model_id": "d361659cfa78424c9c3a70fc5ecbeefb",
              "version_major": 2,
              "version_minor": 0
            },
            "text/plain": [
              "  0%|          | 0/4 [00:00<?, ?it/s]"
            ]
          },
          "metadata": {},
          "output_type": "display_data"
        },
        {
          "name": "stdout",
          "output_type": "stream",
          "text": [
            "[WRITE] turbo -> /home/azureuser/cloudfiles/code/Users/Normalized-Attention-Guidance/results-prompts2-nag-base/turbo/with_negative_start0/0003_2025_neg_s0.png\n",
            "{'prompt': 'A photo of a person', 'guidance_scale': 0.0, 'nag_scale': 2.0, 'nag_end': 0.5, 'nag_tau': 2.5, 'nag_alpha': 0.5, 'num_inference_steps': 4, 'generator': <torch._C.Generator object at 0x7b5cc74b8c70>, 'nag_negative_prompt': 'young', 'nag_start': 0.0}\n"
          ]
        },
        {
          "data": {
            "application/vnd.jupyter.widget-view+json": {
              "model_id": "f91d542ea56141e1913e630ae8b55157",
              "version_major": 2,
              "version_minor": 0
            },
            "text/plain": [
              "  0%|          | 0/4 [00:00<?, ?it/s]"
            ]
          },
          "metadata": {},
          "output_type": "display_data"
        },
        {
          "name": "stdout",
          "output_type": "stream",
          "text": [
            "[WRITE] turbo -> /home/azureuser/cloudfiles/code/Users/Normalized-Attention-Guidance/results-prompts2-nag-base/turbo/with_negative_start0/0003_42_neg_s0.png\n",
            "{'prompt': 'A photo of a person', 'guidance_scale': 0.0, 'nag_scale': 2.0, 'nag_end': 0.5, 'nag_tau': 2.5, 'nag_alpha': 0.5, 'num_inference_steps': 4, 'generator': <torch._C.Generator object at 0x7b5cc74b8af0>, 'nag_negative_prompt': 'young', 'nag_start': 0.0}\n"
          ]
        },
        {
          "data": {
            "application/vnd.jupyter.widget-view+json": {
              "model_id": "a77e54d8aef34b83a84a4c1a6ccc2003",
              "version_major": 2,
              "version_minor": 0
            },
            "text/plain": [
              "  0%|          | 0/4 [00:00<?, ?it/s]"
            ]
          },
          "metadata": {},
          "output_type": "display_data"
        },
        {
          "name": "stdout",
          "output_type": "stream",
          "text": [
            "[WRITE] turbo -> /home/azureuser/cloudfiles/code/Users/Normalized-Attention-Guidance/results-prompts2-nag-base/turbo/with_negative_start0/0003_1337_neg_s0.png\n",
            "{'prompt': 'A photo of a person', 'guidance_scale': 0.0, 'nag_scale': 2.0, 'nag_end': 0.5, 'nag_tau': 2.5, 'nag_alpha': 0.5, 'num_inference_steps': 4, 'generator': <torch._C.Generator object at 0x7b5cc6fcc5f0>, 'nag_negative_prompt': 'young', 'nag_start': 0.2}\n"
          ]
        },
        {
          "data": {
            "application/vnd.jupyter.widget-view+json": {
              "model_id": "1da31567a59a43458a322cfb6e7328de",
              "version_major": 2,
              "version_minor": 0
            },
            "text/plain": [
              "  0%|          | 0/4 [00:00<?, ?it/s]"
            ]
          },
          "metadata": {},
          "output_type": "display_data"
        },
        {
          "name": "stdout",
          "output_type": "stream",
          "text": [
            "[WRITE] turbo -> /home/azureuser/cloudfiles/code/Users/Normalized-Attention-Guidance/results-prompts2-nag-base/turbo/with_negative_start0p2/0003_2025_neg_s0p2.png\n",
            "{'prompt': 'A photo of a person', 'guidance_scale': 0.0, 'nag_scale': 2.0, 'nag_end': 0.5, 'nag_tau': 2.5, 'nag_alpha': 0.5, 'num_inference_steps': 4, 'generator': <torch._C.Generator object at 0x7b5cc74b9030>, 'nag_negative_prompt': 'young', 'nag_start': 0.2}\n"
          ]
        },
        {
          "data": {
            "application/vnd.jupyter.widget-view+json": {
              "model_id": "dbc6d21f1de84628bef1f28ffe049f48",
              "version_major": 2,
              "version_minor": 0
            },
            "text/plain": [
              "  0%|          | 0/4 [00:00<?, ?it/s]"
            ]
          },
          "metadata": {},
          "output_type": "display_data"
        },
        {
          "name": "stdout",
          "output_type": "stream",
          "text": [
            "[WRITE] turbo -> /home/azureuser/cloudfiles/code/Users/Normalized-Attention-Guidance/results-prompts2-nag-base/turbo/with_negative_start0p2/0003_42_neg_s0p2.png\n",
            "{'prompt': 'A photo of a person', 'guidance_scale': 0.0, 'nag_scale': 2.0, 'nag_end': 0.5, 'nag_tau': 2.5, 'nag_alpha': 0.5, 'num_inference_steps': 4, 'generator': <torch._C.Generator object at 0x7b5cc74b8f10>, 'nag_negative_prompt': 'young', 'nag_start': 0.2}\n"
          ]
        },
        {
          "data": {
            "application/vnd.jupyter.widget-view+json": {
              "model_id": "c6de206b3b09454bbaaee915d5f81022",
              "version_major": 2,
              "version_minor": 0
            },
            "text/plain": [
              "  0%|          | 0/4 [00:00<?, ?it/s]"
            ]
          },
          "metadata": {},
          "output_type": "display_data"
        },
        {
          "name": "stdout",
          "output_type": "stream",
          "text": [
            "[WRITE] turbo -> /home/azureuser/cloudfiles/code/Users/Normalized-Attention-Guidance/results-prompts2-nag-base/turbo/with_negative_start0p2/0003_1337_neg_s0p2.png\n"
          ]
        },
        {
          "name": "stderr",
          "output_type": "stream",
          "text": [
            "turbo progress:  25%|██▌       | 4/16 [00:40<02:00, 10.05s/it]"
          ]
        },
        {
          "name": "stdout",
          "output_type": "stream",
          "text": [
            "{'prompt': 'A photo of a person', 'guidance_scale': 0.0, 'nag_scale': 2.0, 'nag_end': 0.5, 'nag_tau': 2.5, 'nag_alpha': 0.5, 'num_inference_steps': 4, 'generator': <torch._C.Generator object at 0x7b5cc74ba7b0>, 'nag_negative_prompt': None}\n"
          ]
        },
        {
          "data": {
            "application/vnd.jupyter.widget-view+json": {
              "model_id": "a211a54c2f9b4571aaa10a3f72b8870f",
              "version_major": 2,
              "version_minor": 0
            },
            "text/plain": [
              "  0%|          | 0/4 [00:00<?, ?it/s]"
            ]
          },
          "metadata": {},
          "output_type": "display_data"
        },
        {
          "name": "stdout",
          "output_type": "stream",
          "text": [
            "[WRITE] turbo -> /home/azureuser/cloudfiles/code/Users/Normalized-Attention-Guidance/results-prompts2-nag-base/turbo/baseline/0004_2025_noneg.png\n",
            "{'prompt': 'A photo of a person', 'guidance_scale': 0.0, 'nag_scale': 2.0, 'nag_end': 0.5, 'nag_tau': 2.5, 'nag_alpha': 0.5, 'num_inference_steps': 4, 'generator': <torch._C.Generator object at 0x7b5cc74b8d50>, 'nag_negative_prompt': None}\n"
          ]
        },
        {
          "data": {
            "application/vnd.jupyter.widget-view+json": {
              "model_id": "14708d44c2644db7b30f2035fe62da33",
              "version_major": 2,
              "version_minor": 0
            },
            "text/plain": [
              "  0%|          | 0/4 [00:00<?, ?it/s]"
            ]
          },
          "metadata": {},
          "output_type": "display_data"
        },
        {
          "name": "stdout",
          "output_type": "stream",
          "text": [
            "[WRITE] turbo -> /home/azureuser/cloudfiles/code/Users/Normalized-Attention-Guidance/results-prompts2-nag-base/turbo/baseline/0004_42_noneg.png\n",
            "{'prompt': 'A photo of a person', 'guidance_scale': 0.0, 'nag_scale': 2.0, 'nag_end': 0.5, 'nag_tau': 2.5, 'nag_alpha': 0.5, 'num_inference_steps': 4, 'generator': <torch._C.Generator object at 0x7b5cc74b8b90>, 'nag_negative_prompt': None}\n"
          ]
        },
        {
          "data": {
            "application/vnd.jupyter.widget-view+json": {
              "model_id": "4f122cee57be46a59a2f7d31cd196062",
              "version_major": 2,
              "version_minor": 0
            },
            "text/plain": [
              "  0%|          | 0/4 [00:00<?, ?it/s]"
            ]
          },
          "metadata": {},
          "output_type": "display_data"
        },
        {
          "name": "stdout",
          "output_type": "stream",
          "text": [
            "[WRITE] turbo -> /home/azureuser/cloudfiles/code/Users/Normalized-Attention-Guidance/results-prompts2-nag-base/turbo/baseline/0004_1337_noneg.png\n",
            "{'prompt': 'A photo of a person', 'guidance_scale': 0.0, 'nag_scale': 2.0, 'nag_end': 0.5, 'nag_tau': 2.5, 'nag_alpha': 0.5, 'num_inference_steps': 4, 'generator': <torch._C.Generator object at 0x7b5cc74b9910>, 'nag_negative_prompt': 'bright lighting', 'nag_start': 0.0}\n"
          ]
        },
        {
          "data": {
            "application/vnd.jupyter.widget-view+json": {
              "model_id": "26c6c210c80c4631a59e1d934999528d",
              "version_major": 2,
              "version_minor": 0
            },
            "text/plain": [
              "  0%|          | 0/4 [00:00<?, ?it/s]"
            ]
          },
          "metadata": {},
          "output_type": "display_data"
        },
        {
          "name": "stdout",
          "output_type": "stream",
          "text": [
            "[WRITE] turbo -> /home/azureuser/cloudfiles/code/Users/Normalized-Attention-Guidance/results-prompts2-nag-base/turbo/with_negative_start0/0004_2025_neg_s0.png\n",
            "{'prompt': 'A photo of a person', 'guidance_scale': 0.0, 'nag_scale': 2.0, 'nag_end': 0.5, 'nag_tau': 2.5, 'nag_alpha': 0.5, 'num_inference_steps': 4, 'generator': <torch._C.Generator object at 0x7b5cc74b9cb0>, 'nag_negative_prompt': 'bright lighting', 'nag_start': 0.0}\n"
          ]
        },
        {
          "data": {
            "application/vnd.jupyter.widget-view+json": {
              "model_id": "e3ddaf9b1dcf4b88a4db3952c1b5f2dc",
              "version_major": 2,
              "version_minor": 0
            },
            "text/plain": [
              "  0%|          | 0/4 [00:00<?, ?it/s]"
            ]
          },
          "metadata": {},
          "output_type": "display_data"
        },
        {
          "name": "stdout",
          "output_type": "stream",
          "text": [
            "[WRITE] turbo -> /home/azureuser/cloudfiles/code/Users/Normalized-Attention-Guidance/results-prompts2-nag-base/turbo/with_negative_start0/0004_42_neg_s0.png\n",
            "{'prompt': 'A photo of a person', 'guidance_scale': 0.0, 'nag_scale': 2.0, 'nag_end': 0.5, 'nag_tau': 2.5, 'nag_alpha': 0.5, 'num_inference_steps': 4, 'generator': <torch._C.Generator object at 0x7b5cc74b9d90>, 'nag_negative_prompt': 'bright lighting', 'nag_start': 0.0}\n"
          ]
        },
        {
          "data": {
            "application/vnd.jupyter.widget-view+json": {
              "model_id": "871c7fef6e9c4078aee914c4486cd9dc",
              "version_major": 2,
              "version_minor": 0
            },
            "text/plain": [
              "  0%|          | 0/4 [00:00<?, ?it/s]"
            ]
          },
          "metadata": {},
          "output_type": "display_data"
        },
        {
          "name": "stdout",
          "output_type": "stream",
          "text": [
            "[WRITE] turbo -> /home/azureuser/cloudfiles/code/Users/Normalized-Attention-Guidance/results-prompts2-nag-base/turbo/with_negative_start0/0004_1337_neg_s0.png\n",
            "{'prompt': 'A photo of a person', 'guidance_scale': 0.0, 'nag_scale': 2.0, 'nag_end': 0.5, 'nag_tau': 2.5, 'nag_alpha': 0.5, 'num_inference_steps': 4, 'generator': <torch._C.Generator object at 0x7b5cc74b9af0>, 'nag_negative_prompt': 'bright lighting', 'nag_start': 0.2}\n"
          ]
        },
        {
          "data": {
            "application/vnd.jupyter.widget-view+json": {
              "model_id": "ee670dfbefce499794df2613d6b55174",
              "version_major": 2,
              "version_minor": 0
            },
            "text/plain": [
              "  0%|          | 0/4 [00:00<?, ?it/s]"
            ]
          },
          "metadata": {},
          "output_type": "display_data"
        },
        {
          "name": "stdout",
          "output_type": "stream",
          "text": [
            "[WRITE] turbo -> /home/azureuser/cloudfiles/code/Users/Normalized-Attention-Guidance/results-prompts2-nag-base/turbo/with_negative_start0p2/0004_2025_neg_s0p2.png\n",
            "{'prompt': 'A photo of a person', 'guidance_scale': 0.0, 'nag_scale': 2.0, 'nag_end': 0.5, 'nag_tau': 2.5, 'nag_alpha': 0.5, 'num_inference_steps': 4, 'generator': <torch._C.Generator object at 0x7b5cc74b96d0>, 'nag_negative_prompt': 'bright lighting', 'nag_start': 0.2}\n"
          ]
        },
        {
          "data": {
            "application/vnd.jupyter.widget-view+json": {
              "model_id": "aaaa25d26ae1479c840933a124a03f85",
              "version_major": 2,
              "version_minor": 0
            },
            "text/plain": [
              "  0%|          | 0/4 [00:00<?, ?it/s]"
            ]
          },
          "metadata": {},
          "output_type": "display_data"
        },
        {
          "name": "stdout",
          "output_type": "stream",
          "text": [
            "[WRITE] turbo -> /home/azureuser/cloudfiles/code/Users/Normalized-Attention-Guidance/results-prompts2-nag-base/turbo/with_negative_start0p2/0004_42_neg_s0p2.png\n",
            "{'prompt': 'A photo of a person', 'guidance_scale': 0.0, 'nag_scale': 2.0, 'nag_end': 0.5, 'nag_tau': 2.5, 'nag_alpha': 0.5, 'num_inference_steps': 4, 'generator': <torch._C.Generator object at 0x7b5cc74ba1d0>, 'nag_negative_prompt': 'bright lighting', 'nag_start': 0.2}\n"
          ]
        },
        {
          "data": {
            "application/vnd.jupyter.widget-view+json": {
              "model_id": "5eb53594ce5b4a4faf0ac6712f8c9966",
              "version_major": 2,
              "version_minor": 0
            },
            "text/plain": [
              "  0%|          | 0/4 [00:00<?, ?it/s]"
            ]
          },
          "metadata": {},
          "output_type": "display_data"
        },
        {
          "name": "stdout",
          "output_type": "stream",
          "text": [
            "[WRITE] turbo -> /home/azureuser/cloudfiles/code/Users/Normalized-Attention-Guidance/results-prompts2-nag-base/turbo/with_negative_start0p2/0004_1337_neg_s0p2.png\n"
          ]
        },
        {
          "name": "stderr",
          "output_type": "stream",
          "text": [
            "turbo progress:  31%|███▏      | 5/16 [00:50<01:51, 10.09s/it]"
          ]
        },
        {
          "name": "stdout",
          "output_type": "stream",
          "text": [
            "{'prompt': 'A photo of a person', 'guidance_scale': 0.0, 'nag_scale': 2.0, 'nag_end': 0.5, 'nag_tau': 2.5, 'nag_alpha': 0.5, 'num_inference_steps': 4, 'generator': <torch._C.Generator object at 0x7b5cc74b91d0>, 'nag_negative_prompt': None}\n"
          ]
        },
        {
          "data": {
            "application/vnd.jupyter.widget-view+json": {
              "model_id": "9b758b177f034c4481d33fde9f0a7047",
              "version_major": 2,
              "version_minor": 0
            },
            "text/plain": [
              "  0%|          | 0/4 [00:00<?, ?it/s]"
            ]
          },
          "metadata": {},
          "output_type": "display_data"
        },
        {
          "name": "stdout",
          "output_type": "stream",
          "text": [
            "[WRITE] turbo -> /home/azureuser/cloudfiles/code/Users/Normalized-Attention-Guidance/results-prompts2-nag-base/turbo/baseline/0005_2025_noneg.png\n",
            "{'prompt': 'A photo of a person', 'guidance_scale': 0.0, 'nag_scale': 2.0, 'nag_end': 0.5, 'nag_tau': 2.5, 'nag_alpha': 0.5, 'num_inference_steps': 4, 'generator': <torch._C.Generator object at 0x7b5cc74b9b30>, 'nag_negative_prompt': None}\n"
          ]
        },
        {
          "data": {
            "application/vnd.jupyter.widget-view+json": {
              "model_id": "cf70989578404638932d59754eb18f36",
              "version_major": 2,
              "version_minor": 0
            },
            "text/plain": [
              "  0%|          | 0/4 [00:00<?, ?it/s]"
            ]
          },
          "metadata": {},
          "output_type": "display_data"
        },
        {
          "name": "stdout",
          "output_type": "stream",
          "text": [
            "[WRITE] turbo -> /home/azureuser/cloudfiles/code/Users/Normalized-Attention-Guidance/results-prompts2-nag-base/turbo/baseline/0005_42_noneg.png\n",
            "{'prompt': 'A photo of a person', 'guidance_scale': 0.0, 'nag_scale': 2.0, 'nag_end': 0.5, 'nag_tau': 2.5, 'nag_alpha': 0.5, 'num_inference_steps': 4, 'generator': <torch._C.Generator object at 0x7b5cc74bb0f0>, 'nag_negative_prompt': None}\n"
          ]
        },
        {
          "data": {
            "application/vnd.jupyter.widget-view+json": {
              "model_id": "04597bc5fe7b4827b36c6e91d49b813f",
              "version_major": 2,
              "version_minor": 0
            },
            "text/plain": [
              "  0%|          | 0/4 [00:00<?, ?it/s]"
            ]
          },
          "metadata": {},
          "output_type": "display_data"
        },
        {
          "name": "stdout",
          "output_type": "stream",
          "text": [
            "[WRITE] turbo -> /home/azureuser/cloudfiles/code/Users/Normalized-Attention-Guidance/results-prompts2-nag-base/turbo/baseline/0005_1337_noneg.png\n",
            "{'prompt': 'A photo of a person', 'guidance_scale': 0.0, 'nag_scale': 2.0, 'nag_end': 0.5, 'nag_tau': 2.5, 'nag_alpha': 0.5, 'num_inference_steps': 4, 'generator': <torch._C.Generator object at 0x7b5cc74bb310>, 'nag_negative_prompt': 'dark lighting', 'nag_start': 0.0}\n"
          ]
        },
        {
          "data": {
            "application/vnd.jupyter.widget-view+json": {
              "model_id": "4c1c73e0393a4eeeb6daad75c75bbd62",
              "version_major": 2,
              "version_minor": 0
            },
            "text/plain": [
              "  0%|          | 0/4 [00:00<?, ?it/s]"
            ]
          },
          "metadata": {},
          "output_type": "display_data"
        },
        {
          "name": "stdout",
          "output_type": "stream",
          "text": [
            "[WRITE] turbo -> /home/azureuser/cloudfiles/code/Users/Normalized-Attention-Guidance/results-prompts2-nag-base/turbo/with_negative_start0/0005_2025_neg_s0.png\n",
            "{'prompt': 'A photo of a person', 'guidance_scale': 0.0, 'nag_scale': 2.0, 'nag_end': 0.5, 'nag_tau': 2.5, 'nag_alpha': 0.5, 'num_inference_steps': 4, 'generator': <torch._C.Generator object at 0x7b5cc74bbc50>, 'nag_negative_prompt': 'dark lighting', 'nag_start': 0.0}\n"
          ]
        },
        {
          "data": {
            "application/vnd.jupyter.widget-view+json": {
              "model_id": "a4830a946d9d4313aa11fb928a03763d",
              "version_major": 2,
              "version_minor": 0
            },
            "text/plain": [
              "  0%|          | 0/4 [00:00<?, ?it/s]"
            ]
          },
          "metadata": {},
          "output_type": "display_data"
        },
        {
          "name": "stdout",
          "output_type": "stream",
          "text": [
            "[WRITE] turbo -> /home/azureuser/cloudfiles/code/Users/Normalized-Attention-Guidance/results-prompts2-nag-base/turbo/with_negative_start0/0005_42_neg_s0.png\n",
            "{'prompt': 'A photo of a person', 'guidance_scale': 0.0, 'nag_scale': 2.0, 'nag_end': 0.5, 'nag_tau': 2.5, 'nag_alpha': 0.5, 'num_inference_steps': 4, 'generator': <torch._C.Generator object at 0x7b5cc74bbcb0>, 'nag_negative_prompt': 'dark lighting', 'nag_start': 0.0}\n"
          ]
        },
        {
          "data": {
            "application/vnd.jupyter.widget-view+json": {
              "model_id": "977bad23bc1941a1a2f7de5922bd0315",
              "version_major": 2,
              "version_minor": 0
            },
            "text/plain": [
              "  0%|          | 0/4 [00:00<?, ?it/s]"
            ]
          },
          "metadata": {},
          "output_type": "display_data"
        },
        {
          "name": "stdout",
          "output_type": "stream",
          "text": [
            "[WRITE] turbo -> /home/azureuser/cloudfiles/code/Users/Normalized-Attention-Guidance/results-prompts2-nag-base/turbo/with_negative_start0/0005_1337_neg_s0.png\n",
            "{'prompt': 'A photo of a person', 'guidance_scale': 0.0, 'nag_scale': 2.0, 'nag_end': 0.5, 'nag_tau': 2.5, 'nag_alpha': 0.5, 'num_inference_steps': 4, 'generator': <torch._C.Generator object at 0x7b5cc74bbe10>, 'nag_negative_prompt': 'dark lighting', 'nag_start': 0.2}\n"
          ]
        },
        {
          "data": {
            "application/vnd.jupyter.widget-view+json": {
              "model_id": "b1e92f2b15aa4e9ca8e469f62b496cad",
              "version_major": 2,
              "version_minor": 0
            },
            "text/plain": [
              "  0%|          | 0/4 [00:00<?, ?it/s]"
            ]
          },
          "metadata": {},
          "output_type": "display_data"
        },
        {
          "name": "stdout",
          "output_type": "stream",
          "text": [
            "[WRITE] turbo -> /home/azureuser/cloudfiles/code/Users/Normalized-Attention-Guidance/results-prompts2-nag-base/turbo/with_negative_start0p2/0005_2025_neg_s0p2.png\n",
            "{'prompt': 'A photo of a person', 'guidance_scale': 0.0, 'nag_scale': 2.0, 'nag_end': 0.5, 'nag_tau': 2.5, 'nag_alpha': 0.5, 'num_inference_steps': 4, 'generator': <torch._C.Generator object at 0x7b5cc74bbab0>, 'nag_negative_prompt': 'dark lighting', 'nag_start': 0.2}\n"
          ]
        },
        {
          "data": {
            "application/vnd.jupyter.widget-view+json": {
              "model_id": "2dcb9f07f81842379e72cfd900a34560",
              "version_major": 2,
              "version_minor": 0
            },
            "text/plain": [
              "  0%|          | 0/4 [00:00<?, ?it/s]"
            ]
          },
          "metadata": {},
          "output_type": "display_data"
        },
        {
          "name": "stdout",
          "output_type": "stream",
          "text": [
            "[WRITE] turbo -> /home/azureuser/cloudfiles/code/Users/Normalized-Attention-Guidance/results-prompts2-nag-base/turbo/with_negative_start0p2/0005_42_neg_s0p2.png\n",
            "{'prompt': 'A photo of a person', 'guidance_scale': 0.0, 'nag_scale': 2.0, 'nag_end': 0.5, 'nag_tau': 2.5, 'nag_alpha': 0.5, 'num_inference_steps': 4, 'generator': <torch._C.Generator object at 0x7b5cc74bbc90>, 'nag_negative_prompt': 'dark lighting', 'nag_start': 0.2}\n"
          ]
        },
        {
          "data": {
            "application/vnd.jupyter.widget-view+json": {
              "model_id": "5a8e3882ab8d4db6bc968a914dd4f262",
              "version_major": 2,
              "version_minor": 0
            },
            "text/plain": [
              "  0%|          | 0/4 [00:00<?, ?it/s]"
            ]
          },
          "metadata": {},
          "output_type": "display_data"
        },
        {
          "name": "stdout",
          "output_type": "stream",
          "text": [
            "[WRITE] turbo -> /home/azureuser/cloudfiles/code/Users/Normalized-Attention-Guidance/results-prompts2-nag-base/turbo/with_negative_start0p2/0005_1337_neg_s0p2.png\n"
          ]
        },
        {
          "name": "stderr",
          "output_type": "stream",
          "text": [
            "turbo progress:  38%|███▊      | 6/16 [01:00<01:40, 10.09s/it]"
          ]
        },
        {
          "name": "stdout",
          "output_type": "stream",
          "text": [
            "{'prompt': 'A photo of a pet', 'guidance_scale': 0.0, 'nag_scale': 2.0, 'nag_end': 0.5, 'nag_tau': 2.5, 'nag_alpha': 0.5, 'num_inference_steps': 4, 'generator': <torch._C.Generator object at 0x7b5cc74b9e10>, 'nag_negative_prompt': None}\n"
          ]
        },
        {
          "data": {
            "application/vnd.jupyter.widget-view+json": {
              "model_id": "926a3f6212d24fe594cb258796da2593",
              "version_major": 2,
              "version_minor": 0
            },
            "text/plain": [
              "  0%|          | 0/4 [00:00<?, ?it/s]"
            ]
          },
          "metadata": {},
          "output_type": "display_data"
        },
        {
          "name": "stdout",
          "output_type": "stream",
          "text": [
            "[WRITE] turbo -> /home/azureuser/cloudfiles/code/Users/Normalized-Attention-Guidance/results-prompts2-nag-base/turbo/baseline/0006_2025_noneg.png\n",
            "{'prompt': 'A photo of a pet', 'guidance_scale': 0.0, 'nag_scale': 2.0, 'nag_end': 0.5, 'nag_tau': 2.5, 'nag_alpha': 0.5, 'num_inference_steps': 4, 'generator': <torch._C.Generator object at 0x7b5cc74bbdb0>, 'nag_negative_prompt': None}\n"
          ]
        },
        {
          "data": {
            "application/vnd.jupyter.widget-view+json": {
              "model_id": "04ad7584b823468697bc69edc6e5707e",
              "version_major": 2,
              "version_minor": 0
            },
            "text/plain": [
              "  0%|          | 0/4 [00:00<?, ?it/s]"
            ]
          },
          "metadata": {},
          "output_type": "display_data"
        },
        {
          "name": "stdout",
          "output_type": "stream",
          "text": [
            "[WRITE] turbo -> /home/azureuser/cloudfiles/code/Users/Normalized-Attention-Guidance/results-prompts2-nag-base/turbo/baseline/0006_42_noneg.png\n",
            "{'prompt': 'A photo of a pet', 'guidance_scale': 0.0, 'nag_scale': 2.0, 'nag_end': 0.5, 'nag_tau': 2.5, 'nag_alpha': 0.5, 'num_inference_steps': 4, 'generator': <torch._C.Generator object at 0x7b5cc74b9e10>, 'nag_negative_prompt': None}\n"
          ]
        },
        {
          "data": {
            "application/vnd.jupyter.widget-view+json": {
              "model_id": "6a3376489292400aa4798170a05b80dc",
              "version_major": 2,
              "version_minor": 0
            },
            "text/plain": [
              "  0%|          | 0/4 [00:00<?, ?it/s]"
            ]
          },
          "metadata": {},
          "output_type": "display_data"
        },
        {
          "name": "stdout",
          "output_type": "stream",
          "text": [
            "[WRITE] turbo -> /home/azureuser/cloudfiles/code/Users/Normalized-Attention-Guidance/results-prompts2-nag-base/turbo/baseline/0006_1337_noneg.png\n",
            "{'prompt': 'A photo of a pet', 'guidance_scale': 0.0, 'nag_scale': 2.0, 'nag_end': 0.5, 'nag_tau': 2.5, 'nag_alpha': 0.5, 'num_inference_steps': 4, 'generator': <torch._C.Generator object at 0x7b5cc6c7fc30>, 'nag_negative_prompt': 'dog', 'nag_start': 0.0}\n"
          ]
        },
        {
          "data": {
            "application/vnd.jupyter.widget-view+json": {
              "model_id": "6fa1de2a20f44e07a5995808a51e206c",
              "version_major": 2,
              "version_minor": 0
            },
            "text/plain": [
              "  0%|          | 0/4 [00:00<?, ?it/s]"
            ]
          },
          "metadata": {},
          "output_type": "display_data"
        },
        {
          "name": "stdout",
          "output_type": "stream",
          "text": [
            "[WRITE] turbo -> /home/azureuser/cloudfiles/code/Users/Normalized-Attention-Guidance/results-prompts2-nag-base/turbo/with_negative_start0/0006_2025_neg_s0.png\n",
            "{'prompt': 'A photo of a pet', 'guidance_scale': 0.0, 'nag_scale': 2.0, 'nag_end': 0.5, 'nag_tau': 2.5, 'nag_alpha': 0.5, 'num_inference_steps': 4, 'generator': <torch._C.Generator object at 0x7b5cc6c7f9b0>, 'nag_negative_prompt': 'dog', 'nag_start': 0.0}\n"
          ]
        },
        {
          "data": {
            "application/vnd.jupyter.widget-view+json": {
              "model_id": "e8ce7bf26ca745788113deb45e54ee6e",
              "version_major": 2,
              "version_minor": 0
            },
            "text/plain": [
              "  0%|          | 0/4 [00:00<?, ?it/s]"
            ]
          },
          "metadata": {},
          "output_type": "display_data"
        },
        {
          "name": "stdout",
          "output_type": "stream",
          "text": [
            "[WRITE] turbo -> /home/azureuser/cloudfiles/code/Users/Normalized-Attention-Guidance/results-prompts2-nag-base/turbo/with_negative_start0/0006_42_neg_s0.png\n",
            "{'prompt': 'A photo of a pet', 'guidance_scale': 0.0, 'nag_scale': 2.0, 'nag_end': 0.5, 'nag_tau': 2.5, 'nag_alpha': 0.5, 'num_inference_steps': 4, 'generator': <torch._C.Generator object at 0x7b5cc74baef0>, 'nag_negative_prompt': 'dog', 'nag_start': 0.0}\n"
          ]
        },
        {
          "data": {
            "application/vnd.jupyter.widget-view+json": {
              "model_id": "bd69a85b93834ebcaa42806253a23fac",
              "version_major": 2,
              "version_minor": 0
            },
            "text/plain": [
              "  0%|          | 0/4 [00:00<?, ?it/s]"
            ]
          },
          "metadata": {},
          "output_type": "display_data"
        },
        {
          "name": "stdout",
          "output_type": "stream",
          "text": [
            "[WRITE] turbo -> /home/azureuser/cloudfiles/code/Users/Normalized-Attention-Guidance/results-prompts2-nag-base/turbo/with_negative_start0/0006_1337_neg_s0.png\n",
            "{'prompt': 'A photo of a pet', 'guidance_scale': 0.0, 'nag_scale': 2.0, 'nag_end': 0.5, 'nag_tau': 2.5, 'nag_alpha': 0.5, 'num_inference_steps': 4, 'generator': <torch._C.Generator object at 0x7b5cc6c7f3d0>, 'nag_negative_prompt': 'dog', 'nag_start': 0.2}\n"
          ]
        },
        {
          "data": {
            "application/vnd.jupyter.widget-view+json": {
              "model_id": "9d1298f4b686418990fbb116fef78d45",
              "version_major": 2,
              "version_minor": 0
            },
            "text/plain": [
              "  0%|          | 0/4 [00:00<?, ?it/s]"
            ]
          },
          "metadata": {},
          "output_type": "display_data"
        },
        {
          "name": "stdout",
          "output_type": "stream",
          "text": [
            "[WRITE] turbo -> /home/azureuser/cloudfiles/code/Users/Normalized-Attention-Guidance/results-prompts2-nag-base/turbo/with_negative_start0p2/0006_2025_neg_s0p2.png\n",
            "{'prompt': 'A photo of a pet', 'guidance_scale': 0.0, 'nag_scale': 2.0, 'nag_end': 0.5, 'nag_tau': 2.5, 'nag_alpha': 0.5, 'num_inference_steps': 4, 'generator': <torch._C.Generator object at 0x7b5cc6c7f530>, 'nag_negative_prompt': 'dog', 'nag_start': 0.2}\n"
          ]
        },
        {
          "data": {
            "application/vnd.jupyter.widget-view+json": {
              "model_id": "5b4fae7d52544b149f662ae73df2be0f",
              "version_major": 2,
              "version_minor": 0
            },
            "text/plain": [
              "  0%|          | 0/4 [00:00<?, ?it/s]"
            ]
          },
          "metadata": {},
          "output_type": "display_data"
        },
        {
          "name": "stdout",
          "output_type": "stream",
          "text": [
            "[WRITE] turbo -> /home/azureuser/cloudfiles/code/Users/Normalized-Attention-Guidance/results-prompts2-nag-base/turbo/with_negative_start0p2/0006_42_neg_s0p2.png\n",
            "{'prompt': 'A photo of a pet', 'guidance_scale': 0.0, 'nag_scale': 2.0, 'nag_end': 0.5, 'nag_tau': 2.5, 'nag_alpha': 0.5, 'num_inference_steps': 4, 'generator': <torch._C.Generator object at 0x7b5cc74baef0>, 'nag_negative_prompt': 'dog', 'nag_start': 0.2}\n"
          ]
        },
        {
          "data": {
            "application/vnd.jupyter.widget-view+json": {
              "model_id": "069fd062dcc94d80b0d1e7f111424386",
              "version_major": 2,
              "version_minor": 0
            },
            "text/plain": [
              "  0%|          | 0/4 [00:00<?, ?it/s]"
            ]
          },
          "metadata": {},
          "output_type": "display_data"
        },
        {
          "name": "stdout",
          "output_type": "stream",
          "text": [
            "[WRITE] turbo -> /home/azureuser/cloudfiles/code/Users/Normalized-Attention-Guidance/results-prompts2-nag-base/turbo/with_negative_start0p2/0006_1337_neg_s0p2.png\n"
          ]
        },
        {
          "name": "stderr",
          "output_type": "stream",
          "text": [
            "turbo progress:  44%|████▍     | 7/16 [01:10<01:28,  9.87s/it]"
          ]
        },
        {
          "name": "stdout",
          "output_type": "stream",
          "text": [
            "{'prompt': 'A photo of a pet', 'guidance_scale': 0.0, 'nag_scale': 2.0, 'nag_end': 0.5, 'nag_tau': 2.5, 'nag_alpha': 0.5, 'num_inference_steps': 4, 'generator': <torch._C.Generator object at 0x7b5cc74bbc10>, 'nag_negative_prompt': None}\n"
          ]
        },
        {
          "data": {
            "application/vnd.jupyter.widget-view+json": {
              "model_id": "d63f19ef1a3746acba666400a9ff4d87",
              "version_major": 2,
              "version_minor": 0
            },
            "text/plain": [
              "  0%|          | 0/4 [00:00<?, ?it/s]"
            ]
          },
          "metadata": {},
          "output_type": "display_data"
        },
        {
          "name": "stdout",
          "output_type": "stream",
          "text": [
            "[WRITE] turbo -> /home/azureuser/cloudfiles/code/Users/Normalized-Attention-Guidance/results-prompts2-nag-base/turbo/baseline/0007_2025_noneg.png\n",
            "{'prompt': 'A photo of a pet', 'guidance_scale': 0.0, 'nag_scale': 2.0, 'nag_end': 0.5, 'nag_tau': 2.5, 'nag_alpha': 0.5, 'num_inference_steps': 4, 'generator': <torch._C.Generator object at 0x7b5cc6c7ef50>, 'nag_negative_prompt': None}\n"
          ]
        },
        {
          "data": {
            "application/vnd.jupyter.widget-view+json": {
              "model_id": "81c2e11f52be4cf5adf2b47edc671194",
              "version_major": 2,
              "version_minor": 0
            },
            "text/plain": [
              "  0%|          | 0/4 [00:00<?, ?it/s]"
            ]
          },
          "metadata": {},
          "output_type": "display_data"
        },
        {
          "name": "stdout",
          "output_type": "stream",
          "text": [
            "[WRITE] turbo -> /home/azureuser/cloudfiles/code/Users/Normalized-Attention-Guidance/results-prompts2-nag-base/turbo/baseline/0007_42_noneg.png\n",
            "{'prompt': 'A photo of a pet', 'guidance_scale': 0.0, 'nag_scale': 2.0, 'nag_end': 0.5, 'nag_tau': 2.5, 'nag_alpha': 0.5, 'num_inference_steps': 4, 'generator': <torch._C.Generator object at 0x7b5cc6c7f550>, 'nag_negative_prompt': None}\n"
          ]
        },
        {
          "data": {
            "application/vnd.jupyter.widget-view+json": {
              "model_id": "1388eae20b454317921d7fb94474adee",
              "version_major": 2,
              "version_minor": 0
            },
            "text/plain": [
              "  0%|          | 0/4 [00:00<?, ?it/s]"
            ]
          },
          "metadata": {},
          "output_type": "display_data"
        },
        {
          "name": "stdout",
          "output_type": "stream",
          "text": [
            "[WRITE] turbo -> /home/azureuser/cloudfiles/code/Users/Normalized-Attention-Guidance/results-prompts2-nag-base/turbo/baseline/0007_1337_noneg.png\n",
            "{'prompt': 'A photo of a pet', 'guidance_scale': 0.0, 'nag_scale': 2.0, 'nag_end': 0.5, 'nag_tau': 2.5, 'nag_alpha': 0.5, 'num_inference_steps': 4, 'generator': <torch._C.Generator object at 0x7b5cc6c7ef30>, 'nag_negative_prompt': 'cat', 'nag_start': 0.0}\n"
          ]
        },
        {
          "data": {
            "application/vnd.jupyter.widget-view+json": {
              "model_id": "811f891c08e44b91831adcca2becfe55",
              "version_major": 2,
              "version_minor": 0
            },
            "text/plain": [
              "  0%|          | 0/4 [00:00<?, ?it/s]"
            ]
          },
          "metadata": {},
          "output_type": "display_data"
        },
        {
          "name": "stdout",
          "output_type": "stream",
          "text": [
            "[WRITE] turbo -> /home/azureuser/cloudfiles/code/Users/Normalized-Attention-Guidance/results-prompts2-nag-base/turbo/with_negative_start0/0007_2025_neg_s0.png\n",
            "{'prompt': 'A photo of a pet', 'guidance_scale': 0.0, 'nag_scale': 2.0, 'nag_end': 0.5, 'nag_tau': 2.5, 'nag_alpha': 0.5, 'num_inference_steps': 4, 'generator': <torch._C.Generator object at 0x7b5cc6c7e910>, 'nag_negative_prompt': 'cat', 'nag_start': 0.0}\n"
          ]
        },
        {
          "data": {
            "application/vnd.jupyter.widget-view+json": {
              "model_id": "8ce5672c97de443ab579160aed3382a9",
              "version_major": 2,
              "version_minor": 0
            },
            "text/plain": [
              "  0%|          | 0/4 [00:00<?, ?it/s]"
            ]
          },
          "metadata": {},
          "output_type": "display_data"
        },
        {
          "name": "stdout",
          "output_type": "stream",
          "text": [
            "[WRITE] turbo -> /home/azureuser/cloudfiles/code/Users/Normalized-Attention-Guidance/results-prompts2-nag-base/turbo/with_negative_start0/0007_42_neg_s0.png\n",
            "{'prompt': 'A photo of a pet', 'guidance_scale': 0.0, 'nag_scale': 2.0, 'nag_end': 0.5, 'nag_tau': 2.5, 'nag_alpha': 0.5, 'num_inference_steps': 4, 'generator': <torch._C.Generator object at 0x7b5cc6c7e530>, 'nag_negative_prompt': 'cat', 'nag_start': 0.0}\n"
          ]
        },
        {
          "data": {
            "application/vnd.jupyter.widget-view+json": {
              "model_id": "042aee1c6b6f47eda59783fc38a5f929",
              "version_major": 2,
              "version_minor": 0
            },
            "text/plain": [
              "  0%|          | 0/4 [00:00<?, ?it/s]"
            ]
          },
          "metadata": {},
          "output_type": "display_data"
        },
        {
          "name": "stdout",
          "output_type": "stream",
          "text": [
            "[WRITE] turbo -> /home/azureuser/cloudfiles/code/Users/Normalized-Attention-Guidance/results-prompts2-nag-base/turbo/with_negative_start0/0007_1337_neg_s0.png\n",
            "{'prompt': 'A photo of a pet', 'guidance_scale': 0.0, 'nag_scale': 2.0, 'nag_end': 0.5, 'nag_tau': 2.5, 'nag_alpha': 0.5, 'num_inference_steps': 4, 'generator': <torch._C.Generator object at 0x7b5cc6c7e2b0>, 'nag_negative_prompt': 'cat', 'nag_start': 0.2}\n"
          ]
        },
        {
          "data": {
            "application/vnd.jupyter.widget-view+json": {
              "model_id": "f600b3be83b74590a1e7db086b21e157",
              "version_major": 2,
              "version_minor": 0
            },
            "text/plain": [
              "  0%|          | 0/4 [00:00<?, ?it/s]"
            ]
          },
          "metadata": {},
          "output_type": "display_data"
        },
        {
          "name": "stdout",
          "output_type": "stream",
          "text": [
            "[WRITE] turbo -> /home/azureuser/cloudfiles/code/Users/Normalized-Attention-Guidance/results-prompts2-nag-base/turbo/with_negative_start0p2/0007_2025_neg_s0p2.png\n",
            "{'prompt': 'A photo of a pet', 'guidance_scale': 0.0, 'nag_scale': 2.0, 'nag_end': 0.5, 'nag_tau': 2.5, 'nag_alpha': 0.5, 'num_inference_steps': 4, 'generator': <torch._C.Generator object at 0x7b5cc6c7e730>, 'nag_negative_prompt': 'cat', 'nag_start': 0.2}\n"
          ]
        },
        {
          "data": {
            "application/vnd.jupyter.widget-view+json": {
              "model_id": "835cdb126a2b43ceadd007030e6e84f2",
              "version_major": 2,
              "version_minor": 0
            },
            "text/plain": [
              "  0%|          | 0/4 [00:00<?, ?it/s]"
            ]
          },
          "metadata": {},
          "output_type": "display_data"
        },
        {
          "name": "stdout",
          "output_type": "stream",
          "text": [
            "[WRITE] turbo -> /home/azureuser/cloudfiles/code/Users/Normalized-Attention-Guidance/results-prompts2-nag-base/turbo/with_negative_start0p2/0007_42_neg_s0p2.png\n",
            "{'prompt': 'A photo of a pet', 'guidance_scale': 0.0, 'nag_scale': 2.0, 'nag_end': 0.5, 'nag_tau': 2.5, 'nag_alpha': 0.5, 'num_inference_steps': 4, 'generator': <torch._C.Generator object at 0x7b5cc6c7deb0>, 'nag_negative_prompt': 'cat', 'nag_start': 0.2}\n"
          ]
        },
        {
          "data": {
            "application/vnd.jupyter.widget-view+json": {
              "model_id": "96b0dd45fe034bf6b1c68e18dcce2893",
              "version_major": 2,
              "version_minor": 0
            },
            "text/plain": [
              "  0%|          | 0/4 [00:00<?, ?it/s]"
            ]
          },
          "metadata": {},
          "output_type": "display_data"
        },
        {
          "name": "stdout",
          "output_type": "stream",
          "text": [
            "[WRITE] turbo -> /home/azureuser/cloudfiles/code/Users/Normalized-Attention-Guidance/results-prompts2-nag-base/turbo/with_negative_start0p2/0007_1337_neg_s0p2.png\n"
          ]
        },
        {
          "name": "stderr",
          "output_type": "stream",
          "text": [
            "turbo progress:  50%|█████     | 8/16 [01:19<01:17,  9.66s/it]"
          ]
        },
        {
          "name": "stdout",
          "output_type": "stream",
          "text": [
            "{'prompt': 'A photo from the 1960s', 'guidance_scale': 0.0, 'nag_scale': 2.0, 'nag_end': 0.5, 'nag_tau': 2.5, 'nag_alpha': 0.5, 'num_inference_steps': 4, 'generator': <torch._C.Generator object at 0x7b5cc6c7f210>, 'nag_negative_prompt': None}\n"
          ]
        },
        {
          "data": {
            "application/vnd.jupyter.widget-view+json": {
              "model_id": "d43f97d5a68343a98713432d3fb7f081",
              "version_major": 2,
              "version_minor": 0
            },
            "text/plain": [
              "  0%|          | 0/4 [00:00<?, ?it/s]"
            ]
          },
          "metadata": {},
          "output_type": "display_data"
        },
        {
          "name": "stdout",
          "output_type": "stream",
          "text": [
            "[WRITE] turbo -> /home/azureuser/cloudfiles/code/Users/Normalized-Attention-Guidance/results-prompts2-nag-base/turbo/baseline/0008_2025_noneg.png\n",
            "{'prompt': 'A photo from the 1960s', 'guidance_scale': 0.0, 'nag_scale': 2.0, 'nag_end': 0.5, 'nag_tau': 2.5, 'nag_alpha': 0.5, 'num_inference_steps': 4, 'generator': <torch._C.Generator object at 0x7b5cc6c7da90>, 'nag_negative_prompt': None}\n"
          ]
        },
        {
          "data": {
            "application/vnd.jupyter.widget-view+json": {
              "model_id": "ed25455c36bb4ce3bbce2e9e7aba6afb",
              "version_major": 2,
              "version_minor": 0
            },
            "text/plain": [
              "  0%|          | 0/4 [00:00<?, ?it/s]"
            ]
          },
          "metadata": {},
          "output_type": "display_data"
        },
        {
          "name": "stdout",
          "output_type": "stream",
          "text": [
            "[WRITE] turbo -> /home/azureuser/cloudfiles/code/Users/Normalized-Attention-Guidance/results-prompts2-nag-base/turbo/baseline/0008_42_noneg.png\n",
            "{'prompt': 'A photo from the 1960s', 'guidance_scale': 0.0, 'nag_scale': 2.0, 'nag_end': 0.5, 'nag_tau': 2.5, 'nag_alpha': 0.5, 'num_inference_steps': 4, 'generator': <torch._C.Generator object at 0x7b5cc6c7d9b0>, 'nag_negative_prompt': None}\n"
          ]
        },
        {
          "data": {
            "application/vnd.jupyter.widget-view+json": {
              "model_id": "4f29aae1ded642058d3ec392da85ea70",
              "version_major": 2,
              "version_minor": 0
            },
            "text/plain": [
              "  0%|          | 0/4 [00:00<?, ?it/s]"
            ]
          },
          "metadata": {},
          "output_type": "display_data"
        },
        {
          "name": "stdout",
          "output_type": "stream",
          "text": [
            "[WRITE] turbo -> /home/azureuser/cloudfiles/code/Users/Normalized-Attention-Guidance/results-prompts2-nag-base/turbo/baseline/0008_1337_noneg.png\n",
            "{'prompt': 'A photo from the 1960s', 'guidance_scale': 0.0, 'nag_scale': 2.0, 'nag_end': 0.5, 'nag_tau': 2.5, 'nag_alpha': 0.5, 'num_inference_steps': 4, 'generator': <torch._C.Generator object at 0x7b5cc6c7df10>, 'nag_negative_prompt': 'colour', 'nag_start': 0.0}\n"
          ]
        },
        {
          "data": {
            "application/vnd.jupyter.widget-view+json": {
              "model_id": "f599a08bb08c449eab6782061d46c7b5",
              "version_major": 2,
              "version_minor": 0
            },
            "text/plain": [
              "  0%|          | 0/4 [00:00<?, ?it/s]"
            ]
          },
          "metadata": {},
          "output_type": "display_data"
        },
        {
          "name": "stdout",
          "output_type": "stream",
          "text": [
            "[WRITE] turbo -> /home/azureuser/cloudfiles/code/Users/Normalized-Attention-Guidance/results-prompts2-nag-base/turbo/with_negative_start0/0008_2025_neg_s0.png\n",
            "{'prompt': 'A photo from the 1960s', 'guidance_scale': 0.0, 'nag_scale': 2.0, 'nag_end': 0.5, 'nag_tau': 2.5, 'nag_alpha': 0.5, 'num_inference_steps': 4, 'generator': <torch._C.Generator object at 0x7b5cc6c7d750>, 'nag_negative_prompt': 'colour', 'nag_start': 0.0}\n"
          ]
        },
        {
          "data": {
            "application/vnd.jupyter.widget-view+json": {
              "model_id": "b12d54b0115d4ca89a3de32a524bd8c3",
              "version_major": 2,
              "version_minor": 0
            },
            "text/plain": [
              "  0%|          | 0/4 [00:00<?, ?it/s]"
            ]
          },
          "metadata": {},
          "output_type": "display_data"
        },
        {
          "name": "stdout",
          "output_type": "stream",
          "text": [
            "[WRITE] turbo -> /home/azureuser/cloudfiles/code/Users/Normalized-Attention-Guidance/results-prompts2-nag-base/turbo/with_negative_start0/0008_42_neg_s0.png\n",
            "{'prompt': 'A photo from the 1960s', 'guidance_scale': 0.0, 'nag_scale': 2.0, 'nag_end': 0.5, 'nag_tau': 2.5, 'nag_alpha': 0.5, 'num_inference_steps': 4, 'generator': <torch._C.Generator object at 0x7b5cc6c7dcf0>, 'nag_negative_prompt': 'colour', 'nag_start': 0.0}\n"
          ]
        },
        {
          "data": {
            "application/vnd.jupyter.widget-view+json": {
              "model_id": "2dcff982674f45f8a68c329fc47d70b4",
              "version_major": 2,
              "version_minor": 0
            },
            "text/plain": [
              "  0%|          | 0/4 [00:00<?, ?it/s]"
            ]
          },
          "metadata": {},
          "output_type": "display_data"
        },
        {
          "name": "stdout",
          "output_type": "stream",
          "text": [
            "[WRITE] turbo -> /home/azureuser/cloudfiles/code/Users/Normalized-Attention-Guidance/results-prompts2-nag-base/turbo/with_negative_start0/0008_1337_neg_s0.png\n",
            "{'prompt': 'A photo from the 1960s', 'guidance_scale': 0.0, 'nag_scale': 2.0, 'nag_end': 0.5, 'nag_tau': 2.5, 'nag_alpha': 0.5, 'num_inference_steps': 4, 'generator': <torch._C.Generator object at 0x7b5cc6c7d810>, 'nag_negative_prompt': 'colour', 'nag_start': 0.2}\n"
          ]
        },
        {
          "data": {
            "application/vnd.jupyter.widget-view+json": {
              "model_id": "7be062317db740b6ab793847b5d5c106",
              "version_major": 2,
              "version_minor": 0
            },
            "text/plain": [
              "  0%|          | 0/4 [00:00<?, ?it/s]"
            ]
          },
          "metadata": {},
          "output_type": "display_data"
        },
        {
          "name": "stdout",
          "output_type": "stream",
          "text": [
            "[WRITE] turbo -> /home/azureuser/cloudfiles/code/Users/Normalized-Attention-Guidance/results-prompts2-nag-base/turbo/with_negative_start0p2/0008_2025_neg_s0p2.png\n",
            "{'prompt': 'A photo from the 1960s', 'guidance_scale': 0.0, 'nag_scale': 2.0, 'nag_end': 0.5, 'nag_tau': 2.5, 'nag_alpha': 0.5, 'num_inference_steps': 4, 'generator': <torch._C.Generator object at 0x7b5cc6c7cd90>, 'nag_negative_prompt': 'colour', 'nag_start': 0.2}\n"
          ]
        },
        {
          "data": {
            "application/vnd.jupyter.widget-view+json": {
              "model_id": "3dcb4636028d4d028ac6a015b09e65ca",
              "version_major": 2,
              "version_minor": 0
            },
            "text/plain": [
              "  0%|          | 0/4 [00:00<?, ?it/s]"
            ]
          },
          "metadata": {},
          "output_type": "display_data"
        },
        {
          "name": "stdout",
          "output_type": "stream",
          "text": [
            "[WRITE] turbo -> /home/azureuser/cloudfiles/code/Users/Normalized-Attention-Guidance/results-prompts2-nag-base/turbo/with_negative_start0p2/0008_42_neg_s0p2.png\n",
            "{'prompt': 'A photo from the 1960s', 'guidance_scale': 0.0, 'nag_scale': 2.0, 'nag_end': 0.5, 'nag_tau': 2.5, 'nag_alpha': 0.5, 'num_inference_steps': 4, 'generator': <torch._C.Generator object at 0x7b5cc6c7ce30>, 'nag_negative_prompt': 'colour', 'nag_start': 0.2}\n"
          ]
        },
        {
          "data": {
            "application/vnd.jupyter.widget-view+json": {
              "model_id": "5dbbfe3587e64e0caab2a362020f0e9f",
              "version_major": 2,
              "version_minor": 0
            },
            "text/plain": [
              "  0%|          | 0/4 [00:00<?, ?it/s]"
            ]
          },
          "metadata": {},
          "output_type": "display_data"
        },
        {
          "name": "stdout",
          "output_type": "stream",
          "text": [
            "[WRITE] turbo -> /home/azureuser/cloudfiles/code/Users/Normalized-Attention-Guidance/results-prompts2-nag-base/turbo/with_negative_start0p2/0008_1337_neg_s0p2.png\n"
          ]
        },
        {
          "name": "stderr",
          "output_type": "stream",
          "text": [
            "turbo progress:  56%|█████▋    | 9/16 [01:28<01:06,  9.54s/it]"
          ]
        },
        {
          "name": "stdout",
          "output_type": "stream",
          "text": [
            "{'prompt': 'A photo from the 1960s', 'guidance_scale': 0.0, 'nag_scale': 2.0, 'nag_end': 0.5, 'nag_tau': 2.5, 'nag_alpha': 0.5, 'num_inference_steps': 4, 'generator': <torch._C.Generator object at 0x7b5cc6c7e990>, 'nag_negative_prompt': None}\n"
          ]
        },
        {
          "data": {
            "application/vnd.jupyter.widget-view+json": {
              "model_id": "dfb8ba7a06d642a8abd01461fbd72a86",
              "version_major": 2,
              "version_minor": 0
            },
            "text/plain": [
              "  0%|          | 0/4 [00:00<?, ?it/s]"
            ]
          },
          "metadata": {},
          "output_type": "display_data"
        },
        {
          "name": "stdout",
          "output_type": "stream",
          "text": [
            "[WRITE] turbo -> /home/azureuser/cloudfiles/code/Users/Normalized-Attention-Guidance/results-prompts2-nag-base/turbo/baseline/0009_2025_noneg.png\n",
            "{'prompt': 'A photo from the 1960s', 'guidance_scale': 0.0, 'nag_scale': 2.0, 'nag_end': 0.5, 'nag_tau': 2.5, 'nag_alpha': 0.5, 'num_inference_steps': 4, 'generator': <torch._C.Generator object at 0x7b5cc6c7dcf0>, 'nag_negative_prompt': None}\n"
          ]
        },
        {
          "data": {
            "application/vnd.jupyter.widget-view+json": {
              "model_id": "e7a2a6fedb674acdb49b6336da02aeef",
              "version_major": 2,
              "version_minor": 0
            },
            "text/plain": [
              "  0%|          | 0/4 [00:00<?, ?it/s]"
            ]
          },
          "metadata": {},
          "output_type": "display_data"
        },
        {
          "name": "stdout",
          "output_type": "stream",
          "text": [
            "[WRITE] turbo -> /home/azureuser/cloudfiles/code/Users/Normalized-Attention-Guidance/results-prompts2-nag-base/turbo/baseline/0009_42_noneg.png\n",
            "{'prompt': 'A photo from the 1960s', 'guidance_scale': 0.0, 'nag_scale': 2.0, 'nag_end': 0.5, 'nag_tau': 2.5, 'nag_alpha': 0.5, 'num_inference_steps': 4, 'generator': <torch._C.Generator object at 0x7b5cc6c7cd90>, 'nag_negative_prompt': None}\n"
          ]
        },
        {
          "data": {
            "application/vnd.jupyter.widget-view+json": {
              "model_id": "3256e41483da4f25a262f97351e7b3ed",
              "version_major": 2,
              "version_minor": 0
            },
            "text/plain": [
              "  0%|          | 0/4 [00:00<?, ?it/s]"
            ]
          },
          "metadata": {},
          "output_type": "display_data"
        },
        {
          "name": "stdout",
          "output_type": "stream",
          "text": [
            "[WRITE] turbo -> /home/azureuser/cloudfiles/code/Users/Normalized-Attention-Guidance/results-prompts2-nag-base/turbo/baseline/0009_1337_noneg.png\n",
            "{'prompt': 'A photo from the 1960s', 'guidance_scale': 0.0, 'nag_scale': 2.0, 'nag_end': 0.5, 'nag_tau': 2.5, 'nag_alpha': 0.5, 'num_inference_steps': 4, 'generator': <torch._C.Generator object at 0x7b5cc6c7d170>, 'nag_negative_prompt': 'black and white', 'nag_start': 0.0}\n"
          ]
        },
        {
          "data": {
            "application/vnd.jupyter.widget-view+json": {
              "model_id": "39e034b5ff33442996ebcf5eff2ddc6f",
              "version_major": 2,
              "version_minor": 0
            },
            "text/plain": [
              "  0%|          | 0/4 [00:00<?, ?it/s]"
            ]
          },
          "metadata": {},
          "output_type": "display_data"
        },
        {
          "name": "stdout",
          "output_type": "stream",
          "text": [
            "[WRITE] turbo -> /home/azureuser/cloudfiles/code/Users/Normalized-Attention-Guidance/results-prompts2-nag-base/turbo/with_negative_start0/0009_2025_neg_s0.png\n",
            "{'prompt': 'A photo from the 1960s', 'guidance_scale': 0.0, 'nag_scale': 2.0, 'nag_end': 0.5, 'nag_tau': 2.5, 'nag_alpha': 0.5, 'num_inference_steps': 4, 'generator': <torch._C.Generator object at 0x7b5cc6c7e990>, 'nag_negative_prompt': 'black and white', 'nag_start': 0.0}\n"
          ]
        },
        {
          "data": {
            "application/vnd.jupyter.widget-view+json": {
              "model_id": "a106aa22810a407e9776d128099ba3bc",
              "version_major": 2,
              "version_minor": 0
            },
            "text/plain": [
              "  0%|          | 0/4 [00:00<?, ?it/s]"
            ]
          },
          "metadata": {},
          "output_type": "display_data"
        },
        {
          "name": "stdout",
          "output_type": "stream",
          "text": [
            "[WRITE] turbo -> /home/azureuser/cloudfiles/code/Users/Normalized-Attention-Guidance/results-prompts2-nag-base/turbo/with_negative_start0/0009_42_neg_s0.png\n",
            "{'prompt': 'A photo from the 1960s', 'guidance_scale': 0.0, 'nag_scale': 2.0, 'nag_end': 0.5, 'nag_tau': 2.5, 'nag_alpha': 0.5, 'num_inference_steps': 4, 'generator': <torch._C.Generator object at 0x7b5cc7007cb0>, 'nag_negative_prompt': 'black and white', 'nag_start': 0.0}\n"
          ]
        },
        {
          "data": {
            "application/vnd.jupyter.widget-view+json": {
              "model_id": "a3b14c4118b34c0d8d2685898f33909b",
              "version_major": 2,
              "version_minor": 0
            },
            "text/plain": [
              "  0%|          | 0/4 [00:00<?, ?it/s]"
            ]
          },
          "metadata": {},
          "output_type": "display_data"
        },
        {
          "name": "stdout",
          "output_type": "stream",
          "text": [
            "[WRITE] turbo -> /home/azureuser/cloudfiles/code/Users/Normalized-Attention-Guidance/results-prompts2-nag-base/turbo/with_negative_start0/0009_1337_neg_s0.png\n",
            "{'prompt': 'A photo from the 1960s', 'guidance_scale': 0.0, 'nag_scale': 2.0, 'nag_end': 0.5, 'nag_tau': 2.5, 'nag_alpha': 0.5, 'num_inference_steps': 4, 'generator': <torch._C.Generator object at 0x7b5cc7006e50>, 'nag_negative_prompt': 'black and white', 'nag_start': 0.2}\n"
          ]
        },
        {
          "data": {
            "application/vnd.jupyter.widget-view+json": {
              "model_id": "ecaf8b1e1abd477ebdde283ab179fd6e",
              "version_major": 2,
              "version_minor": 0
            },
            "text/plain": [
              "  0%|          | 0/4 [00:00<?, ?it/s]"
            ]
          },
          "metadata": {},
          "output_type": "display_data"
        },
        {
          "name": "stdout",
          "output_type": "stream",
          "text": [
            "[WRITE] turbo -> /home/azureuser/cloudfiles/code/Users/Normalized-Attention-Guidance/results-prompts2-nag-base/turbo/with_negative_start0p2/0009_2025_neg_s0p2.png\n",
            "{'prompt': 'A photo from the 1960s', 'guidance_scale': 0.0, 'nag_scale': 2.0, 'nag_end': 0.5, 'nag_tau': 2.5, 'nag_alpha': 0.5, 'num_inference_steps': 4, 'generator': <torch._C.Generator object at 0x7b5cc7007e70>, 'nag_negative_prompt': 'black and white', 'nag_start': 0.2}\n"
          ]
        },
        {
          "data": {
            "application/vnd.jupyter.widget-view+json": {
              "model_id": "2f66c52a86974d74b38747432d46483d",
              "version_major": 2,
              "version_minor": 0
            },
            "text/plain": [
              "  0%|          | 0/4 [00:00<?, ?it/s]"
            ]
          },
          "metadata": {},
          "output_type": "display_data"
        },
        {
          "name": "stdout",
          "output_type": "stream",
          "text": [
            "[WRITE] turbo -> /home/azureuser/cloudfiles/code/Users/Normalized-Attention-Guidance/results-prompts2-nag-base/turbo/with_negative_start0p2/0009_42_neg_s0p2.png\n",
            "{'prompt': 'A photo from the 1960s', 'guidance_scale': 0.0, 'nag_scale': 2.0, 'nag_end': 0.5, 'nag_tau': 2.5, 'nag_alpha': 0.5, 'num_inference_steps': 4, 'generator': <torch._C.Generator object at 0x7b5ce0743c10>, 'nag_negative_prompt': 'black and white', 'nag_start': 0.2}\n"
          ]
        },
        {
          "data": {
            "application/vnd.jupyter.widget-view+json": {
              "model_id": "aef43388662b42c399e306bd2a9250c8",
              "version_major": 2,
              "version_minor": 0
            },
            "text/plain": [
              "  0%|          | 0/4 [00:00<?, ?it/s]"
            ]
          },
          "metadata": {},
          "output_type": "display_data"
        },
        {
          "name": "stdout",
          "output_type": "stream",
          "text": [
            "[WRITE] turbo -> /home/azureuser/cloudfiles/code/Users/Normalized-Attention-Guidance/results-prompts2-nag-base/turbo/with_negative_start0p2/0009_1337_neg_s0p2.png\n"
          ]
        },
        {
          "name": "stderr",
          "output_type": "stream",
          "text": [
            "turbo progress:  62%|██████▎   | 10/16 [01:37<00:56,  9.50s/it]"
          ]
        },
        {
          "name": "stdout",
          "output_type": "stream",
          "text": [
            "{'prompt': 'A still painting of fruits', 'guidance_scale': 0.0, 'nag_scale': 2.0, 'nag_end': 0.5, 'nag_tau': 2.5, 'nag_alpha': 0.5, 'num_inference_steps': 4, 'generator': <torch._C.Generator object at 0x7b5cc6c7cd10>, 'nag_negative_prompt': None}\n"
          ]
        },
        {
          "data": {
            "application/vnd.jupyter.widget-view+json": {
              "model_id": "7ac7e1df261f4277929c4f1a60d7afb1",
              "version_major": 2,
              "version_minor": 0
            },
            "text/plain": [
              "  0%|          | 0/4 [00:00<?, ?it/s]"
            ]
          },
          "metadata": {},
          "output_type": "display_data"
        },
        {
          "name": "stdout",
          "output_type": "stream",
          "text": [
            "[WRITE] turbo -> /home/azureuser/cloudfiles/code/Users/Normalized-Attention-Guidance/results-prompts2-nag-base/turbo/baseline/0010_2025_noneg.png\n",
            "{'prompt': 'A still painting of fruits', 'guidance_scale': 0.0, 'nag_scale': 2.0, 'nag_end': 0.5, 'nag_tau': 2.5, 'nag_alpha': 0.5, 'num_inference_steps': 4, 'generator': <torch._C.Generator object at 0x7b5ce0743970>, 'nag_negative_prompt': None}\n"
          ]
        },
        {
          "data": {
            "application/vnd.jupyter.widget-view+json": {
              "model_id": "27f64b60edbe412ab7708eb2fa3363cf",
              "version_major": 2,
              "version_minor": 0
            },
            "text/plain": [
              "  0%|          | 0/4 [00:00<?, ?it/s]"
            ]
          },
          "metadata": {},
          "output_type": "display_data"
        },
        {
          "name": "stdout",
          "output_type": "stream",
          "text": [
            "[WRITE] turbo -> /home/azureuser/cloudfiles/code/Users/Normalized-Attention-Guidance/results-prompts2-nag-base/turbo/baseline/0010_42_noneg.png\n",
            "{'prompt': 'A still painting of fruits', 'guidance_scale': 0.0, 'nag_scale': 2.0, 'nag_end': 0.5, 'nag_tau': 2.5, 'nag_alpha': 0.5, 'num_inference_steps': 4, 'generator': <torch._C.Generator object at 0x7b5ce0743290>, 'nag_negative_prompt': None}\n"
          ]
        },
        {
          "data": {
            "application/vnd.jupyter.widget-view+json": {
              "model_id": "fbecf5bbc0514f5992b557bb6990c0c1",
              "version_major": 2,
              "version_minor": 0
            },
            "text/plain": [
              "  0%|          | 0/4 [00:00<?, ?it/s]"
            ]
          },
          "metadata": {},
          "output_type": "display_data"
        },
        {
          "name": "stdout",
          "output_type": "stream",
          "text": [
            "[WRITE] turbo -> /home/azureuser/cloudfiles/code/Users/Normalized-Attention-Guidance/results-prompts2-nag-base/turbo/baseline/0010_1337_noneg.png\n",
            "{'prompt': 'A still painting of fruits', 'guidance_scale': 0.0, 'nag_scale': 2.0, 'nag_end': 0.5, 'nag_tau': 2.5, 'nag_alpha': 0.5, 'num_inference_steps': 4, 'generator': <torch._C.Generator object at 0x7b5ce07424f0>, 'nag_negative_prompt': 'grapes', 'nag_start': 0.0}\n"
          ]
        },
        {
          "data": {
            "application/vnd.jupyter.widget-view+json": {
              "model_id": "35075be030104ba1acdb6ef5dd312d17",
              "version_major": 2,
              "version_minor": 0
            },
            "text/plain": [
              "  0%|          | 0/4 [00:00<?, ?it/s]"
            ]
          },
          "metadata": {},
          "output_type": "display_data"
        },
        {
          "name": "stdout",
          "output_type": "stream",
          "text": [
            "[WRITE] turbo -> /home/azureuser/cloudfiles/code/Users/Normalized-Attention-Guidance/results-prompts2-nag-base/turbo/with_negative_start0/0010_2025_neg_s0.png\n",
            "{'prompt': 'A still painting of fruits', 'guidance_scale': 0.0, 'nag_scale': 2.0, 'nag_end': 0.5, 'nag_tau': 2.5, 'nag_alpha': 0.5, 'num_inference_steps': 4, 'generator': <torch._C.Generator object at 0x7b5cc6c7cd10>, 'nag_negative_prompt': 'grapes', 'nag_start': 0.0}\n"
          ]
        },
        {
          "data": {
            "application/vnd.jupyter.widget-view+json": {
              "model_id": "396f582562d043a3aa48c3867148f542",
              "version_major": 2,
              "version_minor": 0
            },
            "text/plain": [
              "  0%|          | 0/4 [00:00<?, ?it/s]"
            ]
          },
          "metadata": {},
          "output_type": "display_data"
        },
        {
          "name": "stdout",
          "output_type": "stream",
          "text": [
            "[WRITE] turbo -> /home/azureuser/cloudfiles/code/Users/Normalized-Attention-Guidance/results-prompts2-nag-base/turbo/with_negative_start0/0010_42_neg_s0.png\n",
            "{'prompt': 'A still painting of fruits', 'guidance_scale': 0.0, 'nag_scale': 2.0, 'nag_end': 0.5, 'nag_tau': 2.5, 'nag_alpha': 0.5, 'num_inference_steps': 4, 'generator': <torch._C.Generator object at 0x7b5ce0742c70>, 'nag_negative_prompt': 'grapes', 'nag_start': 0.0}\n"
          ]
        },
        {
          "data": {
            "application/vnd.jupyter.widget-view+json": {
              "model_id": "26231b76c88c4f4889710d4bb688afcc",
              "version_major": 2,
              "version_minor": 0
            },
            "text/plain": [
              "  0%|          | 0/4 [00:00<?, ?it/s]"
            ]
          },
          "metadata": {},
          "output_type": "display_data"
        },
        {
          "name": "stdout",
          "output_type": "stream",
          "text": [
            "[WRITE] turbo -> /home/azureuser/cloudfiles/code/Users/Normalized-Attention-Guidance/results-prompts2-nag-base/turbo/with_negative_start0/0010_1337_neg_s0.png\n",
            "{'prompt': 'A still painting of fruits', 'guidance_scale': 0.0, 'nag_scale': 2.0, 'nag_end': 0.5, 'nag_tau': 2.5, 'nag_alpha': 0.5, 'num_inference_steps': 4, 'generator': <torch._C.Generator object at 0x7b5ce07429f0>, 'nag_negative_prompt': 'grapes', 'nag_start': 0.2}\n"
          ]
        },
        {
          "data": {
            "application/vnd.jupyter.widget-view+json": {
              "model_id": "9ab4cc60c3db41088435ad13c5ec8426",
              "version_major": 2,
              "version_minor": 0
            },
            "text/plain": [
              "  0%|          | 0/4 [00:00<?, ?it/s]"
            ]
          },
          "metadata": {},
          "output_type": "display_data"
        },
        {
          "name": "stdout",
          "output_type": "stream",
          "text": [
            "[WRITE] turbo -> /home/azureuser/cloudfiles/code/Users/Normalized-Attention-Guidance/results-prompts2-nag-base/turbo/with_negative_start0p2/0010_2025_neg_s0p2.png\n",
            "{'prompt': 'A still painting of fruits', 'guidance_scale': 0.0, 'nag_scale': 2.0, 'nag_end': 0.5, 'nag_tau': 2.5, 'nag_alpha': 0.5, 'num_inference_steps': 4, 'generator': <torch._C.Generator object at 0x7b5cc6c7cd10>, 'nag_negative_prompt': 'grapes', 'nag_start': 0.2}\n"
          ]
        },
        {
          "data": {
            "application/vnd.jupyter.widget-view+json": {
              "model_id": "fa3c180b78764f37aaf83fdad6d1ba45",
              "version_major": 2,
              "version_minor": 0
            },
            "text/plain": [
              "  0%|          | 0/4 [00:00<?, ?it/s]"
            ]
          },
          "metadata": {},
          "output_type": "display_data"
        },
        {
          "name": "stdout",
          "output_type": "stream",
          "text": [
            "[WRITE] turbo -> /home/azureuser/cloudfiles/code/Users/Normalized-Attention-Guidance/results-prompts2-nag-base/turbo/with_negative_start0p2/0010_42_neg_s0p2.png\n",
            "{'prompt': 'A still painting of fruits', 'guidance_scale': 0.0, 'nag_scale': 2.0, 'nag_end': 0.5, 'nag_tau': 2.5, 'nag_alpha': 0.5, 'num_inference_steps': 4, 'generator': <torch._C.Generator object at 0x7b5ce07427f0>, 'nag_negative_prompt': 'grapes', 'nag_start': 0.2}\n"
          ]
        },
        {
          "data": {
            "application/vnd.jupyter.widget-view+json": {
              "model_id": "1a69d4f914fa4c80817fb654d8493c23",
              "version_major": 2,
              "version_minor": 0
            },
            "text/plain": [
              "  0%|          | 0/4 [00:00<?, ?it/s]"
            ]
          },
          "metadata": {},
          "output_type": "display_data"
        },
        {
          "name": "stdout",
          "output_type": "stream",
          "text": [
            "[WRITE] turbo -> /home/azureuser/cloudfiles/code/Users/Normalized-Attention-Guidance/results-prompts2-nag-base/turbo/with_negative_start0p2/0010_1337_neg_s0p2.png\n"
          ]
        },
        {
          "name": "stderr",
          "output_type": "stream",
          "text": [
            "turbo progress:  69%|██████▉   | 11/16 [01:47<00:47,  9.42s/it]"
          ]
        },
        {
          "name": "stdout",
          "output_type": "stream",
          "text": [
            "{'prompt': 'A still painting of fruits', 'guidance_scale': 0.0, 'nag_scale': 2.0, 'nag_end': 0.5, 'nag_tau': 2.5, 'nag_alpha': 0.5, 'num_inference_steps': 4, 'generator': <torch._C.Generator object at 0x7b5ce0743330>, 'nag_negative_prompt': None}\n"
          ]
        },
        {
          "data": {
            "application/vnd.jupyter.widget-view+json": {
              "model_id": "20de1512b3ac4f43a6c388cdec3c507f",
              "version_major": 2,
              "version_minor": 0
            },
            "text/plain": [
              "  0%|          | 0/4 [00:00<?, ?it/s]"
            ]
          },
          "metadata": {},
          "output_type": "display_data"
        },
        {
          "name": "stdout",
          "output_type": "stream",
          "text": [
            "[WRITE] turbo -> /home/azureuser/cloudfiles/code/Users/Normalized-Attention-Guidance/results-prompts2-nag-base/turbo/baseline/0011_2025_noneg.png\n",
            "{'prompt': 'A still painting of fruits', 'guidance_scale': 0.0, 'nag_scale': 2.0, 'nag_end': 0.5, 'nag_tau': 2.5, 'nag_alpha': 0.5, 'num_inference_steps': 4, 'generator': <torch._C.Generator object at 0x7b5ce0742230>, 'nag_negative_prompt': None}\n"
          ]
        },
        {
          "data": {
            "application/vnd.jupyter.widget-view+json": {
              "model_id": "81a0eb2e675145c6bf438d862d7985d8",
              "version_major": 2,
              "version_minor": 0
            },
            "text/plain": [
              "  0%|          | 0/4 [00:00<?, ?it/s]"
            ]
          },
          "metadata": {},
          "output_type": "display_data"
        },
        {
          "name": "stdout",
          "output_type": "stream",
          "text": [
            "[WRITE] turbo -> /home/azureuser/cloudfiles/code/Users/Normalized-Attention-Guidance/results-prompts2-nag-base/turbo/baseline/0011_42_noneg.png\n",
            "{'prompt': 'A still painting of fruits', 'guidance_scale': 0.0, 'nag_scale': 2.0, 'nag_end': 0.5, 'nag_tau': 2.5, 'nag_alpha': 0.5, 'num_inference_steps': 4, 'generator': <torch._C.Generator object at 0x7b5ce0742210>, 'nag_negative_prompt': None}\n"
          ]
        },
        {
          "data": {
            "application/vnd.jupyter.widget-view+json": {
              "model_id": "d28f40eab61a49afbe1d367befa94594",
              "version_major": 2,
              "version_minor": 0
            },
            "text/plain": [
              "  0%|          | 0/4 [00:00<?, ?it/s]"
            ]
          },
          "metadata": {},
          "output_type": "display_data"
        },
        {
          "name": "stdout",
          "output_type": "stream",
          "text": [
            "[WRITE] turbo -> /home/azureuser/cloudfiles/code/Users/Normalized-Attention-Guidance/results-prompts2-nag-base/turbo/baseline/0011_1337_noneg.png\n",
            "{'prompt': 'A still painting of fruits', 'guidance_scale': 0.0, 'nag_scale': 2.0, 'nag_end': 0.5, 'nag_tau': 2.5, 'nag_alpha': 0.5, 'num_inference_steps': 4, 'generator': <torch._C.Generator object at 0x7b5cc74b91f0>, 'nag_negative_prompt': 'apples', 'nag_start': 0.0}\n"
          ]
        },
        {
          "data": {
            "application/vnd.jupyter.widget-view+json": {
              "model_id": "68d2f94e86df4afeb05914f049f76240",
              "version_major": 2,
              "version_minor": 0
            },
            "text/plain": [
              "  0%|          | 0/4 [00:00<?, ?it/s]"
            ]
          },
          "metadata": {},
          "output_type": "display_data"
        },
        {
          "name": "stdout",
          "output_type": "stream",
          "text": [
            "[WRITE] turbo -> /home/azureuser/cloudfiles/code/Users/Normalized-Attention-Guidance/results-prompts2-nag-base/turbo/with_negative_start0/0011_2025_neg_s0.png\n",
            "{'prompt': 'A still painting of fruits', 'guidance_scale': 0.0, 'nag_scale': 2.0, 'nag_end': 0.5, 'nag_tau': 2.5, 'nag_alpha': 0.5, 'num_inference_steps': 4, 'generator': <torch._C.Generator object at 0x7b5cc6c7d8d0>, 'nag_negative_prompt': 'apples', 'nag_start': 0.0}\n"
          ]
        },
        {
          "data": {
            "application/vnd.jupyter.widget-view+json": {
              "model_id": "9819448f90724ba7b5b84119c98d9faa",
              "version_major": 2,
              "version_minor": 0
            },
            "text/plain": [
              "  0%|          | 0/4 [00:00<?, ?it/s]"
            ]
          },
          "metadata": {},
          "output_type": "display_data"
        },
        {
          "name": "stdout",
          "output_type": "stream",
          "text": [
            "[WRITE] turbo -> /home/azureuser/cloudfiles/code/Users/Normalized-Attention-Guidance/results-prompts2-nag-base/turbo/with_negative_start0/0011_42_neg_s0.png\n",
            "{'prompt': 'A still painting of fruits', 'guidance_scale': 0.0, 'nag_scale': 2.0, 'nag_end': 0.5, 'nag_tau': 2.5, 'nag_alpha': 0.5, 'num_inference_steps': 4, 'generator': <torch._C.Generator object at 0x7b5cc6c7e330>, 'nag_negative_prompt': 'apples', 'nag_start': 0.0}\n"
          ]
        },
        {
          "data": {
            "application/vnd.jupyter.widget-view+json": {
              "model_id": "9f4277e3a9404a2791121deacd9a1c69",
              "version_major": 2,
              "version_minor": 0
            },
            "text/plain": [
              "  0%|          | 0/4 [00:00<?, ?it/s]"
            ]
          },
          "metadata": {},
          "output_type": "display_data"
        },
        {
          "name": "stdout",
          "output_type": "stream",
          "text": [
            "[WRITE] turbo -> /home/azureuser/cloudfiles/code/Users/Normalized-Attention-Guidance/results-prompts2-nag-base/turbo/with_negative_start0/0011_1337_neg_s0.png\n",
            "{'prompt': 'A still painting of fruits', 'guidance_scale': 0.0, 'nag_scale': 2.0, 'nag_end': 0.5, 'nag_tau': 2.5, 'nag_alpha': 0.5, 'num_inference_steps': 4, 'generator': <torch._C.Generator object at 0x7b5ce0741d30>, 'nag_negative_prompt': 'apples', 'nag_start': 0.2}\n"
          ]
        },
        {
          "data": {
            "application/vnd.jupyter.widget-view+json": {
              "model_id": "790053c839ab4962bbe13800b9c7621f",
              "version_major": 2,
              "version_minor": 0
            },
            "text/plain": [
              "  0%|          | 0/4 [00:00<?, ?it/s]"
            ]
          },
          "metadata": {},
          "output_type": "display_data"
        },
        {
          "name": "stdout",
          "output_type": "stream",
          "text": [
            "[WRITE] turbo -> /home/azureuser/cloudfiles/code/Users/Normalized-Attention-Guidance/results-prompts2-nag-base/turbo/with_negative_start0p2/0011_2025_neg_s0p2.png\n",
            "{'prompt': 'A still painting of fruits', 'guidance_scale': 0.0, 'nag_scale': 2.0, 'nag_end': 0.5, 'nag_tau': 2.5, 'nag_alpha': 0.5, 'num_inference_steps': 4, 'generator': <torch._C.Generator object at 0x7b5cc74b91f0>, 'nag_negative_prompt': 'apples', 'nag_start': 0.2}\n"
          ]
        },
        {
          "data": {
            "application/vnd.jupyter.widget-view+json": {
              "model_id": "752181bfae3441e39f538fd5daad1126",
              "version_major": 2,
              "version_minor": 0
            },
            "text/plain": [
              "  0%|          | 0/4 [00:00<?, ?it/s]"
            ]
          },
          "metadata": {},
          "output_type": "display_data"
        },
        {
          "name": "stdout",
          "output_type": "stream",
          "text": [
            "[WRITE] turbo -> /home/azureuser/cloudfiles/code/Users/Normalized-Attention-Guidance/results-prompts2-nag-base/turbo/with_negative_start0p2/0011_42_neg_s0p2.png\n",
            "{'prompt': 'A still painting of fruits', 'guidance_scale': 0.0, 'nag_scale': 2.0, 'nag_end': 0.5, 'nag_tau': 2.5, 'nag_alpha': 0.5, 'num_inference_steps': 4, 'generator': <torch._C.Generator object at 0x7b5cc6c7d8d0>, 'nag_negative_prompt': 'apples', 'nag_start': 0.2}\n"
          ]
        },
        {
          "data": {
            "application/vnd.jupyter.widget-view+json": {
              "model_id": "4e7411f6b15b46b09adbc443a41a3de1",
              "version_major": 2,
              "version_minor": 0
            },
            "text/plain": [
              "  0%|          | 0/4 [00:00<?, ?it/s]"
            ]
          },
          "metadata": {},
          "output_type": "display_data"
        },
        {
          "name": "stdout",
          "output_type": "stream",
          "text": [
            "[WRITE] turbo -> /home/azureuser/cloudfiles/code/Users/Normalized-Attention-Guidance/results-prompts2-nag-base/turbo/with_negative_start0p2/0011_1337_neg_s0p2.png\n"
          ]
        },
        {
          "name": "stderr",
          "output_type": "stream",
          "text": [
            "turbo progress:  75%|███████▌  | 12/16 [01:56<00:37,  9.34s/it]"
          ]
        },
        {
          "name": "stdout",
          "output_type": "stream",
          "text": [
            "{'prompt': 'A landscape', 'guidance_scale': 0.0, 'nag_scale': 2.0, 'nag_end': 0.5, 'nag_tau': 2.5, 'nag_alpha': 0.5, 'num_inference_steps': 4, 'generator': <torch._C.Generator object at 0x7b5ce07421d0>, 'nag_negative_prompt': None}\n"
          ]
        },
        {
          "data": {
            "application/vnd.jupyter.widget-view+json": {
              "model_id": "d152ae2dce6743f58db0567a83501d69",
              "version_major": 2,
              "version_minor": 0
            },
            "text/plain": [
              "  0%|          | 0/4 [00:00<?, ?it/s]"
            ]
          },
          "metadata": {},
          "output_type": "display_data"
        },
        {
          "name": "stdout",
          "output_type": "stream",
          "text": [
            "[WRITE] turbo -> /home/azureuser/cloudfiles/code/Users/Normalized-Attention-Guidance/results-prompts2-nag-base/turbo/baseline/0012_2025_noneg.png\n",
            "{'prompt': 'A landscape', 'guidance_scale': 0.0, 'nag_scale': 2.0, 'nag_end': 0.5, 'nag_tau': 2.5, 'nag_alpha': 0.5, 'num_inference_steps': 4, 'generator': <torch._C.Generator object at 0x7b5ce0741e10>, 'nag_negative_prompt': None}\n"
          ]
        },
        {
          "data": {
            "application/vnd.jupyter.widget-view+json": {
              "model_id": "8df9524fad2544dd98112261da4a1ac2",
              "version_major": 2,
              "version_minor": 0
            },
            "text/plain": [
              "  0%|          | 0/4 [00:00<?, ?it/s]"
            ]
          },
          "metadata": {},
          "output_type": "display_data"
        },
        {
          "name": "stdout",
          "output_type": "stream",
          "text": [
            "[WRITE] turbo -> /home/azureuser/cloudfiles/code/Users/Normalized-Attention-Guidance/results-prompts2-nag-base/turbo/baseline/0012_42_noneg.png\n",
            "{'prompt': 'A landscape', 'guidance_scale': 0.0, 'nag_scale': 2.0, 'nag_end': 0.5, 'nag_tau': 2.5, 'nag_alpha': 0.5, 'num_inference_steps': 4, 'generator': <torch._C.Generator object at 0x7b5ce0741ab0>, 'nag_negative_prompt': None}\n"
          ]
        },
        {
          "data": {
            "application/vnd.jupyter.widget-view+json": {
              "model_id": "c19fca68f2bb4d5fb50c27fb9bf74840",
              "version_major": 2,
              "version_minor": 0
            },
            "text/plain": [
              "  0%|          | 0/4 [00:00<?, ?it/s]"
            ]
          },
          "metadata": {},
          "output_type": "display_data"
        },
        {
          "name": "stdout",
          "output_type": "stream",
          "text": [
            "[WRITE] turbo -> /home/azureuser/cloudfiles/code/Users/Normalized-Attention-Guidance/results-prompts2-nag-base/turbo/baseline/0012_1337_noneg.png\n",
            "{'prompt': 'A landscape', 'guidance_scale': 0.0, 'nag_scale': 2.0, 'nag_end': 0.5, 'nag_tau': 2.5, 'nag_alpha': 0.5, 'num_inference_steps': 4, 'generator': <torch._C.Generator object at 0x7b5ce0741910>, 'nag_negative_prompt': 'mountains', 'nag_start': 0.0}\n"
          ]
        },
        {
          "data": {
            "application/vnd.jupyter.widget-view+json": {
              "model_id": "b3741ea241344c45a29bb3300fa76c4b",
              "version_major": 2,
              "version_minor": 0
            },
            "text/plain": [
              "  0%|          | 0/4 [00:00<?, ?it/s]"
            ]
          },
          "metadata": {},
          "output_type": "display_data"
        },
        {
          "name": "stdout",
          "output_type": "stream",
          "text": [
            "[WRITE] turbo -> /home/azureuser/cloudfiles/code/Users/Normalized-Attention-Guidance/results-prompts2-nag-base/turbo/with_negative_start0/0012_2025_neg_s0.png\n",
            "{'prompt': 'A landscape', 'guidance_scale': 0.0, 'nag_scale': 2.0, 'nag_end': 0.5, 'nag_tau': 2.5, 'nag_alpha': 0.5, 'num_inference_steps': 4, 'generator': <torch._C.Generator object at 0x7b5cc6c7d8d0>, 'nag_negative_prompt': 'mountains', 'nag_start': 0.0}\n"
          ]
        },
        {
          "data": {
            "application/vnd.jupyter.widget-view+json": {
              "model_id": "db7d090d140b4317a88add483e1bf33f",
              "version_major": 2,
              "version_minor": 0
            },
            "text/plain": [
              "  0%|          | 0/4 [00:00<?, ?it/s]"
            ]
          },
          "metadata": {},
          "output_type": "display_data"
        },
        {
          "name": "stdout",
          "output_type": "stream",
          "text": [
            "[WRITE] turbo -> /home/azureuser/cloudfiles/code/Users/Normalized-Attention-Guidance/results-prompts2-nag-base/turbo/with_negative_start0/0012_42_neg_s0.png\n",
            "{'prompt': 'A landscape', 'guidance_scale': 0.0, 'nag_scale': 2.0, 'nag_end': 0.5, 'nag_tau': 2.5, 'nag_alpha': 0.5, 'num_inference_steps': 4, 'generator': <torch._C.Generator object at 0x7b5cc6c7ec50>, 'nag_negative_prompt': 'mountains', 'nag_start': 0.0}\n"
          ]
        },
        {
          "data": {
            "application/vnd.jupyter.widget-view+json": {
              "model_id": "f3631413e09c451bbcdb4cda3c53e684",
              "version_major": 2,
              "version_minor": 0
            },
            "text/plain": [
              "  0%|          | 0/4 [00:00<?, ?it/s]"
            ]
          },
          "metadata": {},
          "output_type": "display_data"
        },
        {
          "name": "stdout",
          "output_type": "stream",
          "text": [
            "[WRITE] turbo -> /home/azureuser/cloudfiles/code/Users/Normalized-Attention-Guidance/results-prompts2-nag-base/turbo/with_negative_start0/0012_1337_neg_s0.png\n",
            "{'prompt': 'A landscape', 'guidance_scale': 0.0, 'nag_scale': 2.0, 'nag_end': 0.5, 'nag_tau': 2.5, 'nag_alpha': 0.5, 'num_inference_steps': 4, 'generator': <torch._C.Generator object at 0x7b5cc6c7e3b0>, 'nag_negative_prompt': 'mountains', 'nag_start': 0.2}\n"
          ]
        },
        {
          "data": {
            "application/vnd.jupyter.widget-view+json": {
              "model_id": "c9cd69039de94b46a1ab0a72c2b0435a",
              "version_major": 2,
              "version_minor": 0
            },
            "text/plain": [
              "  0%|          | 0/4 [00:00<?, ?it/s]"
            ]
          },
          "metadata": {},
          "output_type": "display_data"
        },
        {
          "name": "stdout",
          "output_type": "stream",
          "text": [
            "[WRITE] turbo -> /home/azureuser/cloudfiles/code/Users/Normalized-Attention-Guidance/results-prompts2-nag-base/turbo/with_negative_start0p2/0012_2025_neg_s0p2.png\n",
            "{'prompt': 'A landscape', 'guidance_scale': 0.0, 'nag_scale': 2.0, 'nag_end': 0.5, 'nag_tau': 2.5, 'nag_alpha': 0.5, 'num_inference_steps': 4, 'generator': <torch._C.Generator object at 0x7b5cc71555d0>, 'nag_negative_prompt': 'mountains', 'nag_start': 0.2}\n"
          ]
        },
        {
          "data": {
            "application/vnd.jupyter.widget-view+json": {
              "model_id": "38c94c89908f401582c9de2220aa8911",
              "version_major": 2,
              "version_minor": 0
            },
            "text/plain": [
              "  0%|          | 0/4 [00:00<?, ?it/s]"
            ]
          },
          "metadata": {},
          "output_type": "display_data"
        },
        {
          "name": "stdout",
          "output_type": "stream",
          "text": [
            "[WRITE] turbo -> /home/azureuser/cloudfiles/code/Users/Normalized-Attention-Guidance/results-prompts2-nag-base/turbo/with_negative_start0p2/0012_42_neg_s0p2.png\n",
            "{'prompt': 'A landscape', 'guidance_scale': 0.0, 'nag_scale': 2.0, 'nag_end': 0.5, 'nag_tau': 2.5, 'nag_alpha': 0.5, 'num_inference_steps': 4, 'generator': <torch._C.Generator object at 0x7b5ce0741910>, 'nag_negative_prompt': 'mountains', 'nag_start': 0.2}\n"
          ]
        },
        {
          "data": {
            "application/vnd.jupyter.widget-view+json": {
              "model_id": "a7dcbe9a92484dc186c45654aec31000",
              "version_major": 2,
              "version_minor": 0
            },
            "text/plain": [
              "  0%|          | 0/4 [00:00<?, ?it/s]"
            ]
          },
          "metadata": {},
          "output_type": "display_data"
        },
        {
          "name": "stdout",
          "output_type": "stream",
          "text": [
            "[WRITE] turbo -> /home/azureuser/cloudfiles/code/Users/Normalized-Attention-Guidance/results-prompts2-nag-base/turbo/with_negative_start0p2/0012_1337_neg_s0p2.png\n"
          ]
        },
        {
          "name": "stderr",
          "output_type": "stream",
          "text": [
            "turbo progress:  81%|████████▏ | 13/16 [02:05<00:27,  9.27s/it]"
          ]
        },
        {
          "name": "stdout",
          "output_type": "stream",
          "text": [
            "{'prompt': 'A landscape', 'guidance_scale': 0.0, 'nag_scale': 2.0, 'nag_end': 0.5, 'nag_tau': 2.5, 'nag_alpha': 0.5, 'num_inference_steps': 4, 'generator': <torch._C.Generator object at 0x7b5ce0741bf0>, 'nag_negative_prompt': None}\n"
          ]
        },
        {
          "data": {
            "application/vnd.jupyter.widget-view+json": {
              "model_id": "bfee4c4882484142aac792cc5c61be1e",
              "version_major": 2,
              "version_minor": 0
            },
            "text/plain": [
              "  0%|          | 0/4 [00:00<?, ?it/s]"
            ]
          },
          "metadata": {},
          "output_type": "display_data"
        },
        {
          "name": "stdout",
          "output_type": "stream",
          "text": [
            "[WRITE] turbo -> /home/azureuser/cloudfiles/code/Users/Normalized-Attention-Guidance/results-prompts2-nag-base/turbo/baseline/0013_2025_noneg.png\n",
            "{'prompt': 'A landscape', 'guidance_scale': 0.0, 'nag_scale': 2.0, 'nag_end': 0.5, 'nag_tau': 2.5, 'nag_alpha': 0.5, 'num_inference_steps': 4, 'generator': <torch._C.Generator object at 0x7b5cc6c7c050>, 'nag_negative_prompt': None}\n"
          ]
        },
        {
          "data": {
            "application/vnd.jupyter.widget-view+json": {
              "model_id": "fc138972d9f3444fa7f42612aa7cfd03",
              "version_major": 2,
              "version_minor": 0
            },
            "text/plain": [
              "  0%|          | 0/4 [00:00<?, ?it/s]"
            ]
          },
          "metadata": {},
          "output_type": "display_data"
        },
        {
          "name": "stdout",
          "output_type": "stream",
          "text": [
            "[WRITE] turbo -> /home/azureuser/cloudfiles/code/Users/Normalized-Attention-Guidance/results-prompts2-nag-base/turbo/baseline/0013_42_noneg.png\n",
            "{'prompt': 'A landscape', 'guidance_scale': 0.0, 'nag_scale': 2.0, 'nag_end': 0.5, 'nag_tau': 2.5, 'nag_alpha': 0.5, 'num_inference_steps': 4, 'generator': <torch._C.Generator object at 0x7b5cb7af8a50>, 'nag_negative_prompt': None}\n"
          ]
        },
        {
          "data": {
            "application/vnd.jupyter.widget-view+json": {
              "model_id": "eb67f6d02a724afc8595356acb4f3118",
              "version_major": 2,
              "version_minor": 0
            },
            "text/plain": [
              "  0%|          | 0/4 [00:00<?, ?it/s]"
            ]
          },
          "metadata": {},
          "output_type": "display_data"
        },
        {
          "name": "stdout",
          "output_type": "stream",
          "text": [
            "[WRITE] turbo -> /home/azureuser/cloudfiles/code/Users/Normalized-Attention-Guidance/results-prompts2-nag-base/turbo/baseline/0013_1337_noneg.png\n",
            "{'prompt': 'A landscape', 'guidance_scale': 0.0, 'nag_scale': 2.0, 'nag_end': 0.5, 'nag_tau': 2.5, 'nag_alpha': 0.5, 'num_inference_steps': 4, 'generator': <torch._C.Generator object at 0x7b5cb7af8d10>, 'nag_negative_prompt': 'trees', 'nag_start': 0.0}\n"
          ]
        },
        {
          "data": {
            "application/vnd.jupyter.widget-view+json": {
              "model_id": "bfac85ea81ad435caf156db2c5217d2e",
              "version_major": 2,
              "version_minor": 0
            },
            "text/plain": [
              "  0%|          | 0/4 [00:00<?, ?it/s]"
            ]
          },
          "metadata": {},
          "output_type": "display_data"
        },
        {
          "name": "stdout",
          "output_type": "stream",
          "text": [
            "[WRITE] turbo -> /home/azureuser/cloudfiles/code/Users/Normalized-Attention-Guidance/results-prompts2-nag-base/turbo/with_negative_start0/0013_2025_neg_s0.png\n",
            "{'prompt': 'A landscape', 'guidance_scale': 0.0, 'nag_scale': 2.0, 'nag_end': 0.5, 'nag_tau': 2.5, 'nag_alpha': 0.5, 'num_inference_steps': 4, 'generator': <torch._C.Generator object at 0x7b5cb7af8ff0>, 'nag_negative_prompt': 'trees', 'nag_start': 0.0}\n"
          ]
        },
        {
          "data": {
            "application/vnd.jupyter.widget-view+json": {
              "model_id": "dda2333780994a29aad9a765445ea7b8",
              "version_major": 2,
              "version_minor": 0
            },
            "text/plain": [
              "  0%|          | 0/4 [00:00<?, ?it/s]"
            ]
          },
          "metadata": {},
          "output_type": "display_data"
        },
        {
          "name": "stdout",
          "output_type": "stream",
          "text": [
            "[WRITE] turbo -> /home/azureuser/cloudfiles/code/Users/Normalized-Attention-Guidance/results-prompts2-nag-base/turbo/with_negative_start0/0013_42_neg_s0.png\n",
            "{'prompt': 'A landscape', 'guidance_scale': 0.0, 'nag_scale': 2.0, 'nag_end': 0.5, 'nag_tau': 2.5, 'nag_alpha': 0.5, 'num_inference_steps': 4, 'generator': <torch._C.Generator object at 0x7b5cb7af9430>, 'nag_negative_prompt': 'trees', 'nag_start': 0.0}\n"
          ]
        },
        {
          "data": {
            "application/vnd.jupyter.widget-view+json": {
              "model_id": "49afdbf89100472c8c8c3e881d41827e",
              "version_major": 2,
              "version_minor": 0
            },
            "text/plain": [
              "  0%|          | 0/4 [00:00<?, ?it/s]"
            ]
          },
          "metadata": {},
          "output_type": "display_data"
        },
        {
          "name": "stdout",
          "output_type": "stream",
          "text": [
            "[WRITE] turbo -> /home/azureuser/cloudfiles/code/Users/Normalized-Attention-Guidance/results-prompts2-nag-base/turbo/with_negative_start0/0013_1337_neg_s0.png\n",
            "{'prompt': 'A landscape', 'guidance_scale': 0.0, 'nag_scale': 2.0, 'nag_end': 0.5, 'nag_tau': 2.5, 'nag_alpha': 0.5, 'num_inference_steps': 4, 'generator': <torch._C.Generator object at 0x7b5cc6c7c050>, 'nag_negative_prompt': 'trees', 'nag_start': 0.2}\n"
          ]
        },
        {
          "data": {
            "application/vnd.jupyter.widget-view+json": {
              "model_id": "a04e0a38a8954fc3a9aa2f427c14a6d2",
              "version_major": 2,
              "version_minor": 0
            },
            "text/plain": [
              "  0%|          | 0/4 [00:00<?, ?it/s]"
            ]
          },
          "metadata": {},
          "output_type": "display_data"
        },
        {
          "name": "stdout",
          "output_type": "stream",
          "text": [
            "[WRITE] turbo -> /home/azureuser/cloudfiles/code/Users/Normalized-Attention-Guidance/results-prompts2-nag-base/turbo/with_negative_start0p2/0013_2025_neg_s0p2.png\n",
            "{'prompt': 'A landscape', 'guidance_scale': 0.0, 'nag_scale': 2.0, 'nag_end': 0.5, 'nag_tau': 2.5, 'nag_alpha': 0.5, 'num_inference_steps': 4, 'generator': <torch._C.Generator object at 0x7b5cb7af9250>, 'nag_negative_prompt': 'trees', 'nag_start': 0.2}\n"
          ]
        },
        {
          "data": {
            "application/vnd.jupyter.widget-view+json": {
              "model_id": "36e1a690906d470f90feadbcc249ee61",
              "version_major": 2,
              "version_minor": 0
            },
            "text/plain": [
              "  0%|          | 0/4 [00:00<?, ?it/s]"
            ]
          },
          "metadata": {},
          "output_type": "display_data"
        },
        {
          "name": "stdout",
          "output_type": "stream",
          "text": [
            "[WRITE] turbo -> /home/azureuser/cloudfiles/code/Users/Normalized-Attention-Guidance/results-prompts2-nag-base/turbo/with_negative_start0p2/0013_42_neg_s0p2.png\n",
            "{'prompt': 'A landscape', 'guidance_scale': 0.0, 'nag_scale': 2.0, 'nag_end': 0.5, 'nag_tau': 2.5, 'nag_alpha': 0.5, 'num_inference_steps': 4, 'generator': <torch._C.Generator object at 0x7b5cb7af8fd0>, 'nag_negative_prompt': 'trees', 'nag_start': 0.2}\n"
          ]
        },
        {
          "data": {
            "application/vnd.jupyter.widget-view+json": {
              "model_id": "4c6ff8cf30a84cb6b36bf8ed2f4383ed",
              "version_major": 2,
              "version_minor": 0
            },
            "text/plain": [
              "  0%|          | 0/4 [00:00<?, ?it/s]"
            ]
          },
          "metadata": {},
          "output_type": "display_data"
        },
        {
          "name": "stdout",
          "output_type": "stream",
          "text": [
            "[WRITE] turbo -> /home/azureuser/cloudfiles/code/Users/Normalized-Attention-Guidance/results-prompts2-nag-base/turbo/with_negative_start0p2/0013_1337_neg_s0p2.png\n"
          ]
        },
        {
          "name": "stderr",
          "output_type": "stream",
          "text": [
            "turbo progress:  88%|████████▊ | 14/16 [02:14<00:18,  9.27s/it]"
          ]
        },
        {
          "name": "stdout",
          "output_type": "stream",
          "text": [
            "{'prompt': 'A room with furniture', 'guidance_scale': 0.0, 'nag_scale': 2.0, 'nag_end': 0.5, 'nag_tau': 2.5, 'nag_alpha': 0.5, 'num_inference_steps': 4, 'generator': <torch._C.Generator object at 0x7b5cb7af82d0>, 'nag_negative_prompt': None}\n"
          ]
        },
        {
          "data": {
            "application/vnd.jupyter.widget-view+json": {
              "model_id": "b3e980bbdec74182b9692c9f1410b036",
              "version_major": 2,
              "version_minor": 0
            },
            "text/plain": [
              "  0%|          | 0/4 [00:00<?, ?it/s]"
            ]
          },
          "metadata": {},
          "output_type": "display_data"
        },
        {
          "name": "stdout",
          "output_type": "stream",
          "text": [
            "[WRITE] turbo -> /home/azureuser/cloudfiles/code/Users/Normalized-Attention-Guidance/results-prompts2-nag-base/turbo/baseline/0014_2025_noneg.png\n",
            "{'prompt': 'A room with furniture', 'guidance_scale': 0.0, 'nag_scale': 2.0, 'nag_end': 0.5, 'nag_tau': 2.5, 'nag_alpha': 0.5, 'num_inference_steps': 4, 'generator': <torch._C.Generator object at 0x7b5cb7af9610>, 'nag_negative_prompt': None}\n"
          ]
        },
        {
          "data": {
            "application/vnd.jupyter.widget-view+json": {
              "model_id": "80b0f9cdb356403ba0da21e73f2d5624",
              "version_major": 2,
              "version_minor": 0
            },
            "text/plain": [
              "  0%|          | 0/4 [00:00<?, ?it/s]"
            ]
          },
          "metadata": {},
          "output_type": "display_data"
        },
        {
          "name": "stdout",
          "output_type": "stream",
          "text": [
            "[WRITE] turbo -> /home/azureuser/cloudfiles/code/Users/Normalized-Attention-Guidance/results-prompts2-nag-base/turbo/baseline/0014_42_noneg.png\n",
            "{'prompt': 'A room with furniture', 'guidance_scale': 0.0, 'nag_scale': 2.0, 'nag_end': 0.5, 'nag_tau': 2.5, 'nag_alpha': 0.5, 'num_inference_steps': 4, 'generator': <torch._C.Generator object at 0x7b5cb7af9b90>, 'nag_negative_prompt': None}\n"
          ]
        },
        {
          "data": {
            "application/vnd.jupyter.widget-view+json": {
              "model_id": "c63e76b53f024bd0bba04bf85a6ca39f",
              "version_major": 2,
              "version_minor": 0
            },
            "text/plain": [
              "  0%|          | 0/4 [00:00<?, ?it/s]"
            ]
          },
          "metadata": {},
          "output_type": "display_data"
        },
        {
          "name": "stdout",
          "output_type": "stream",
          "text": [
            "[WRITE] turbo -> /home/azureuser/cloudfiles/code/Users/Normalized-Attention-Guidance/results-prompts2-nag-base/turbo/baseline/0014_1337_noneg.png\n",
            "{'prompt': 'A room with furniture', 'guidance_scale': 0.0, 'nag_scale': 2.0, 'nag_end': 0.5, 'nag_tau': 2.5, 'nag_alpha': 0.5, 'num_inference_steps': 4, 'generator': <torch._C.Generator object at 0x7b5cb7af9c10>, 'nag_negative_prompt': 'window', 'nag_start': 0.0}\n"
          ]
        },
        {
          "data": {
            "application/vnd.jupyter.widget-view+json": {
              "model_id": "371d7df4a87846989d7c47f0d4494795",
              "version_major": 2,
              "version_minor": 0
            },
            "text/plain": [
              "  0%|          | 0/4 [00:00<?, ?it/s]"
            ]
          },
          "metadata": {},
          "output_type": "display_data"
        },
        {
          "name": "stdout",
          "output_type": "stream",
          "text": [
            "[WRITE] turbo -> /home/azureuser/cloudfiles/code/Users/Normalized-Attention-Guidance/results-prompts2-nag-base/turbo/with_negative_start0/0014_2025_neg_s0.png\n",
            "{'prompt': 'A room with furniture', 'guidance_scale': 0.0, 'nag_scale': 2.0, 'nag_end': 0.5, 'nag_tau': 2.5, 'nag_alpha': 0.5, 'num_inference_steps': 4, 'generator': <torch._C.Generator object at 0x7b5cb7afa130>, 'nag_negative_prompt': 'window', 'nag_start': 0.0}\n"
          ]
        },
        {
          "data": {
            "application/vnd.jupyter.widget-view+json": {
              "model_id": "fd295fe3b5534d69ba1ede333e72e934",
              "version_major": 2,
              "version_minor": 0
            },
            "text/plain": [
              "  0%|          | 0/4 [00:00<?, ?it/s]"
            ]
          },
          "metadata": {},
          "output_type": "display_data"
        },
        {
          "name": "stdout",
          "output_type": "stream",
          "text": [
            "[WRITE] turbo -> /home/azureuser/cloudfiles/code/Users/Normalized-Attention-Guidance/results-prompts2-nag-base/turbo/with_negative_start0/0014_42_neg_s0.png\n",
            "{'prompt': 'A room with furniture', 'guidance_scale': 0.0, 'nag_scale': 2.0, 'nag_end': 0.5, 'nag_tau': 2.5, 'nag_alpha': 0.5, 'num_inference_steps': 4, 'generator': <torch._C.Generator object at 0x7b5cb7afa590>, 'nag_negative_prompt': 'window', 'nag_start': 0.0}\n"
          ]
        },
        {
          "data": {
            "application/vnd.jupyter.widget-view+json": {
              "model_id": "3ad3dcdad05b4d6fa5171e00ccde2254",
              "version_major": 2,
              "version_minor": 0
            },
            "text/plain": [
              "  0%|          | 0/4 [00:00<?, ?it/s]"
            ]
          },
          "metadata": {},
          "output_type": "display_data"
        },
        {
          "name": "stdout",
          "output_type": "stream",
          "text": [
            "[WRITE] turbo -> /home/azureuser/cloudfiles/code/Users/Normalized-Attention-Guidance/results-prompts2-nag-base/turbo/with_negative_start0/0014_1337_neg_s0.png\n",
            "{'prompt': 'A room with furniture', 'guidance_scale': 0.0, 'nag_scale': 2.0, 'nag_end': 0.5, 'nag_tau': 2.5, 'nag_alpha': 0.5, 'num_inference_steps': 4, 'generator': <torch._C.Generator object at 0x7b5cb7af9e70>, 'nag_negative_prompt': 'window', 'nag_start': 0.2}\n"
          ]
        },
        {
          "data": {
            "application/vnd.jupyter.widget-view+json": {
              "model_id": "412a16b809eb45f7a3847f2c2d253b11",
              "version_major": 2,
              "version_minor": 0
            },
            "text/plain": [
              "  0%|          | 0/4 [00:00<?, ?it/s]"
            ]
          },
          "metadata": {},
          "output_type": "display_data"
        },
        {
          "name": "stdout",
          "output_type": "stream",
          "text": [
            "[WRITE] turbo -> /home/azureuser/cloudfiles/code/Users/Normalized-Attention-Guidance/results-prompts2-nag-base/turbo/with_negative_start0p2/0014_2025_neg_s0p2.png\n",
            "{'prompt': 'A room with furniture', 'guidance_scale': 0.0, 'nag_scale': 2.0, 'nag_end': 0.5, 'nag_tau': 2.5, 'nag_alpha': 0.5, 'num_inference_steps': 4, 'generator': <torch._C.Generator object at 0x7b5cb7afa970>, 'nag_negative_prompt': 'window', 'nag_start': 0.2}\n"
          ]
        },
        {
          "data": {
            "application/vnd.jupyter.widget-view+json": {
              "model_id": "6d53a52fcb3a40719d6e833feaadaeb5",
              "version_major": 2,
              "version_minor": 0
            },
            "text/plain": [
              "  0%|          | 0/4 [00:00<?, ?it/s]"
            ]
          },
          "metadata": {},
          "output_type": "display_data"
        },
        {
          "name": "stdout",
          "output_type": "stream",
          "text": [
            "[WRITE] turbo -> /home/azureuser/cloudfiles/code/Users/Normalized-Attention-Guidance/results-prompts2-nag-base/turbo/with_negative_start0p2/0014_42_neg_s0p2.png\n",
            "{'prompt': 'A room with furniture', 'guidance_scale': 0.0, 'nag_scale': 2.0, 'nag_end': 0.5, 'nag_tau': 2.5, 'nag_alpha': 0.5, 'num_inference_steps': 4, 'generator': <torch._C.Generator object at 0x7b5cb7afaad0>, 'nag_negative_prompt': 'window', 'nag_start': 0.2}\n"
          ]
        },
        {
          "data": {
            "application/vnd.jupyter.widget-view+json": {
              "model_id": "885e66c1fc184af19b51e040f0434086",
              "version_major": 2,
              "version_minor": 0
            },
            "text/plain": [
              "  0%|          | 0/4 [00:00<?, ?it/s]"
            ]
          },
          "metadata": {},
          "output_type": "display_data"
        },
        {
          "name": "stdout",
          "output_type": "stream",
          "text": [
            "[WRITE] turbo -> /home/azureuser/cloudfiles/code/Users/Normalized-Attention-Guidance/results-prompts2-nag-base/turbo/with_negative_start0p2/0014_1337_neg_s0p2.png\n"
          ]
        },
        {
          "name": "stderr",
          "output_type": "stream",
          "text": [
            "turbo progress:  94%|█████████▍| 15/16 [02:23<00:09,  9.19s/it]"
          ]
        },
        {
          "name": "stdout",
          "output_type": "stream",
          "text": [
            "{'prompt': 'A room with furniture', 'guidance_scale': 0.0, 'nag_scale': 2.0, 'nag_end': 0.5, 'nag_tau': 2.5, 'nag_alpha': 0.5, 'num_inference_steps': 4, 'generator': <torch._C.Generator object at 0x7b5cb7af9af0>, 'nag_negative_prompt': None}\n"
          ]
        },
        {
          "data": {
            "application/vnd.jupyter.widget-view+json": {
              "model_id": "b4bde6f35e64479aa954a6e5fa1ac3e1",
              "version_major": 2,
              "version_minor": 0
            },
            "text/plain": [
              "  0%|          | 0/4 [00:00<?, ?it/s]"
            ]
          },
          "metadata": {},
          "output_type": "display_data"
        },
        {
          "name": "stdout",
          "output_type": "stream",
          "text": [
            "[WRITE] turbo -> /home/azureuser/cloudfiles/code/Users/Normalized-Attention-Guidance/results-prompts2-nag-base/turbo/baseline/0015_2025_noneg.png\n",
            "{'prompt': 'A room with furniture', 'guidance_scale': 0.0, 'nag_scale': 2.0, 'nag_end': 0.5, 'nag_tau': 2.5, 'nag_alpha': 0.5, 'num_inference_steps': 4, 'generator': <torch._C.Generator object at 0x7b5cb7afa6d0>, 'nag_negative_prompt': None}\n"
          ]
        },
        {
          "data": {
            "application/vnd.jupyter.widget-view+json": {
              "model_id": "22830b530dd04ea59bca405d8edfa707",
              "version_major": 2,
              "version_minor": 0
            },
            "text/plain": [
              "  0%|          | 0/4 [00:00<?, ?it/s]"
            ]
          },
          "metadata": {},
          "output_type": "display_data"
        },
        {
          "name": "stdout",
          "output_type": "stream",
          "text": [
            "[WRITE] turbo -> /home/azureuser/cloudfiles/code/Users/Normalized-Attention-Guidance/results-prompts2-nag-base/turbo/baseline/0015_42_noneg.png\n",
            "{'prompt': 'A room with furniture', 'guidance_scale': 0.0, 'nag_scale': 2.0, 'nag_end': 0.5, 'nag_tau': 2.5, 'nag_alpha': 0.5, 'num_inference_steps': 4, 'generator': <torch._C.Generator object at 0x7b5cb7afaa90>, 'nag_negative_prompt': None}\n"
          ]
        },
        {
          "data": {
            "application/vnd.jupyter.widget-view+json": {
              "model_id": "aa050a4f95ef4e9a8db6f674233b71ed",
              "version_major": 2,
              "version_minor": 0
            },
            "text/plain": [
              "  0%|          | 0/4 [00:00<?, ?it/s]"
            ]
          },
          "metadata": {},
          "output_type": "display_data"
        },
        {
          "name": "stdout",
          "output_type": "stream",
          "text": [
            "[WRITE] turbo -> /home/azureuser/cloudfiles/code/Users/Normalized-Attention-Guidance/results-prompts2-nag-base/turbo/baseline/0015_1337_noneg.png\n",
            "{'prompt': 'A room with furniture', 'guidance_scale': 0.0, 'nag_scale': 2.0, 'nag_end': 0.5, 'nag_tau': 2.5, 'nag_alpha': 0.5, 'num_inference_steps': 4, 'generator': <torch._C.Generator object at 0x7b5cb7afb3b0>, 'nag_negative_prompt': 'bed', 'nag_start': 0.0}\n"
          ]
        },
        {
          "data": {
            "application/vnd.jupyter.widget-view+json": {
              "model_id": "3f8babca0bf84b9a9f8cf2715b465789",
              "version_major": 2,
              "version_minor": 0
            },
            "text/plain": [
              "  0%|          | 0/4 [00:00<?, ?it/s]"
            ]
          },
          "metadata": {},
          "output_type": "display_data"
        },
        {
          "name": "stdout",
          "output_type": "stream",
          "text": [
            "[WRITE] turbo -> /home/azureuser/cloudfiles/code/Users/Normalized-Attention-Guidance/results-prompts2-nag-base/turbo/with_negative_start0/0015_2025_neg_s0.png\n",
            "{'prompt': 'A room with furniture', 'guidance_scale': 0.0, 'nag_scale': 2.0, 'nag_end': 0.5, 'nag_tau': 2.5, 'nag_alpha': 0.5, 'num_inference_steps': 4, 'generator': <torch._C.Generator object at 0x7b5cb7afaf70>, 'nag_negative_prompt': 'bed', 'nag_start': 0.0}\n"
          ]
        },
        {
          "data": {
            "application/vnd.jupyter.widget-view+json": {
              "model_id": "8d8bec77365248a5b7d159ba9aa874e3",
              "version_major": 2,
              "version_minor": 0
            },
            "text/plain": [
              "  0%|          | 0/4 [00:00<?, ?it/s]"
            ]
          },
          "metadata": {},
          "output_type": "display_data"
        },
        {
          "name": "stdout",
          "output_type": "stream",
          "text": [
            "[WRITE] turbo -> /home/azureuser/cloudfiles/code/Users/Normalized-Attention-Guidance/results-prompts2-nag-base/turbo/with_negative_start0/0015_42_neg_s0.png\n",
            "{'prompt': 'A room with furniture', 'guidance_scale': 0.0, 'nag_scale': 2.0, 'nag_end': 0.5, 'nag_tau': 2.5, 'nag_alpha': 0.5, 'num_inference_steps': 4, 'generator': <torch._C.Generator object at 0x7b5cb7afb670>, 'nag_negative_prompt': 'bed', 'nag_start': 0.0}\n"
          ]
        },
        {
          "data": {
            "application/vnd.jupyter.widget-view+json": {
              "model_id": "cc6699cad1fd44fcacc9b7ae759f88c0",
              "version_major": 2,
              "version_minor": 0
            },
            "text/plain": [
              "  0%|          | 0/4 [00:00<?, ?it/s]"
            ]
          },
          "metadata": {},
          "output_type": "display_data"
        },
        {
          "name": "stdout",
          "output_type": "stream",
          "text": [
            "[WRITE] turbo -> /home/azureuser/cloudfiles/code/Users/Normalized-Attention-Guidance/results-prompts2-nag-base/turbo/with_negative_start0/0015_1337_neg_s0.png\n",
            "{'prompt': 'A room with furniture', 'guidance_scale': 0.0, 'nag_scale': 2.0, 'nag_end': 0.5, 'nag_tau': 2.5, 'nag_alpha': 0.5, 'num_inference_steps': 4, 'generator': <torch._C.Generator object at 0x7b5cb7afb7d0>, 'nag_negative_prompt': 'bed', 'nag_start': 0.2}\n"
          ]
        },
        {
          "data": {
            "application/vnd.jupyter.widget-view+json": {
              "model_id": "f5b25baf06fa4681b20f9670f8b84171",
              "version_major": 2,
              "version_minor": 0
            },
            "text/plain": [
              "  0%|          | 0/4 [00:00<?, ?it/s]"
            ]
          },
          "metadata": {},
          "output_type": "display_data"
        },
        {
          "name": "stdout",
          "output_type": "stream",
          "text": [
            "[WRITE] turbo -> /home/azureuser/cloudfiles/code/Users/Normalized-Attention-Guidance/results-prompts2-nag-base/turbo/with_negative_start0p2/0015_2025_neg_s0p2.png\n",
            "{'prompt': 'A room with furniture', 'guidance_scale': 0.0, 'nag_scale': 2.0, 'nag_end': 0.5, 'nag_tau': 2.5, 'nag_alpha': 0.5, 'num_inference_steps': 4, 'generator': <torch._C.Generator object at 0x7b5cb7afb4d0>, 'nag_negative_prompt': 'bed', 'nag_start': 0.2}\n"
          ]
        },
        {
          "data": {
            "application/vnd.jupyter.widget-view+json": {
              "model_id": "c8ac0c58d4684a2490e5533697136e03",
              "version_major": 2,
              "version_minor": 0
            },
            "text/plain": [
              "  0%|          | 0/4 [00:00<?, ?it/s]"
            ]
          },
          "metadata": {},
          "output_type": "display_data"
        },
        {
          "name": "stdout",
          "output_type": "stream",
          "text": [
            "[WRITE] turbo -> /home/azureuser/cloudfiles/code/Users/Normalized-Attention-Guidance/results-prompts2-nag-base/turbo/with_negative_start0p2/0015_42_neg_s0p2.png\n",
            "{'prompt': 'A room with furniture', 'guidance_scale': 0.0, 'nag_scale': 2.0, 'nag_end': 0.5, 'nag_tau': 2.5, 'nag_alpha': 0.5, 'num_inference_steps': 4, 'generator': <torch._C.Generator object at 0x7b5cb7afb590>, 'nag_negative_prompt': 'bed', 'nag_start': 0.2}\n"
          ]
        },
        {
          "data": {
            "application/vnd.jupyter.widget-view+json": {
              "model_id": "f54b889fc46045f6ab90f2ea123afaf0",
              "version_major": 2,
              "version_minor": 0
            },
            "text/plain": [
              "  0%|          | 0/4 [00:00<?, ?it/s]"
            ]
          },
          "metadata": {},
          "output_type": "display_data"
        },
        {
          "name": "stdout",
          "output_type": "stream",
          "text": [
            "[WRITE] turbo -> /home/azureuser/cloudfiles/code/Users/Normalized-Attention-Guidance/results-prompts2-nag-base/turbo/with_negative_start0p2/0015_1337_neg_s0p2.png\n"
          ]
        },
        {
          "name": "stderr",
          "output_type": "stream",
          "text": [
            "turbo progress: 100%|██████████| 16/16 [02:32<00:00,  9.55s/it]\n"
          ]
        },
        {
          "name": "stdout",
          "output_type": "stream",
          "text": [
            "\n",
            "✓ turbo: Generated and saved 144 image(s)\n",
            "[MODEL] lightning -> steps=4, cfg=0.0\n",
            "[PIPELINE] NAGTimeStableDiffusionXLPipeline\n",
            "Loading LIGHTNING model...\n"
          ]
        },
        {
          "data": {
            "application/vnd.jupyter.widget-view+json": {
              "model_id": "dd6face4e23d4fef8b433d6961f2832b",
              "version_major": 2,
              "version_minor": 0
            },
            "text/plain": [
              "Loading pipeline components...:   0%|          | 0/7 [00:00<?, ?it/s]"
            ]
          },
          "metadata": {},
          "output_type": "display_data"
        },
        {
          "name": "stdout",
          "output_type": "stream",
          "text": [
            "✓ LIGHTNING pipeline ready\n",
            "\n",
            "[DIRS]\n",
            "  base_output: /home/azureuser/cloudfiles/code/Users/Normalized-Attention-Guidance/results-prompts2-nag-base\n",
            "  model_root : /home/azureuser/cloudfiles/code/Users/Normalized-Attention-Guidance/results-prompts2-nag-base/lightning\n",
            "  baseline   : /home/azureuser/cloudfiles/code/Users/Normalized-Attention-Guidance/results-prompts2-nag-base/lightning/baseline\n",
            "  neg@0.0    : /home/azureuser/cloudfiles/code/Users/Normalized-Attention-Guidance/results-prompts2-nag-base/lightning/with_negative_start0\n",
            "  neg@0.2    : /home/azureuser/cloudfiles/code/Users/Normalized-Attention-Guidance/results-prompts2-nag-base/lightning/with_negative_start0p2\n",
            "\n",
            "============================================================\n",
            "Testing model: lightning\n",
            "Writing under: /home/azureuser/cloudfiles/code/Users/Normalized-Attention-Guidance/results-prompts2-nag-base/lightning\n",
            "\n",
            "============================================================\n"
          ]
        },
        {
          "name": "stderr",
          "output_type": "stream",
          "text": [
            "lightning progress:   0%|          | 0/16 [00:00<?, ?it/s]"
          ]
        },
        {
          "name": "stdout",
          "output_type": "stream",
          "text": [
            "{'prompt': 'A photo of a person', 'guidance_scale': 0.0, 'nag_scale': 2.0, 'nag_end': 0.5, 'nag_tau': 2.5, 'nag_alpha': 0.5, 'num_inference_steps': 4, 'generator': <torch._C.Generator object at 0x7b5cb7afa2f0>, 'nag_negative_prompt': None}\n"
          ]
        },
        {
          "data": {
            "application/vnd.jupyter.widget-view+json": {
              "model_id": "fc56d5641cb948be9c10200af99960fa",
              "version_major": 2,
              "version_minor": 0
            },
            "text/plain": [
              "  0%|          | 0/4 [00:00<?, ?it/s]"
            ]
          },
          "metadata": {},
          "output_type": "display_data"
        },
        {
          "name": "stdout",
          "output_type": "stream",
          "text": [
            "[WRITE] lightning -> /home/azureuser/cloudfiles/code/Users/Normalized-Attention-Guidance/results-prompts2-nag-base/lightning/baseline/0000_2025_noneg.png\n",
            "{'prompt': 'A photo of a person', 'guidance_scale': 0.0, 'nag_scale': 2.0, 'nag_end': 0.5, 'nag_tau': 2.5, 'nag_alpha': 0.5, 'num_inference_steps': 4, 'generator': <torch._C.Generator object at 0x7b5cb7afbab0>, 'nag_negative_prompt': None}\n"
          ]
        },
        {
          "data": {
            "application/vnd.jupyter.widget-view+json": {
              "model_id": "022cfd85c78a45308f5d54a406f9051d",
              "version_major": 2,
              "version_minor": 0
            },
            "text/plain": [
              "  0%|          | 0/4 [00:00<?, ?it/s]"
            ]
          },
          "metadata": {},
          "output_type": "display_data"
        },
        {
          "name": "stdout",
          "output_type": "stream",
          "text": [
            "[WRITE] lightning -> /home/azureuser/cloudfiles/code/Users/Normalized-Attention-Guidance/results-prompts2-nag-base/lightning/baseline/0000_42_noneg.png\n",
            "{'prompt': 'A photo of a person', 'guidance_scale': 0.0, 'nag_scale': 2.0, 'nag_end': 0.5, 'nag_tau': 2.5, 'nag_alpha': 0.5, 'num_inference_steps': 4, 'generator': <torch._C.Generator object at 0x7b5cb7afa2f0>, 'nag_negative_prompt': None}\n"
          ]
        },
        {
          "data": {
            "application/vnd.jupyter.widget-view+json": {
              "model_id": "4b40018428f74fcbabb6eaf141851b84",
              "version_major": 2,
              "version_minor": 0
            },
            "text/plain": [
              "  0%|          | 0/4 [00:00<?, ?it/s]"
            ]
          },
          "metadata": {},
          "output_type": "display_data"
        },
        {
          "name": "stdout",
          "output_type": "stream",
          "text": [
            "[WRITE] lightning -> /home/azureuser/cloudfiles/code/Users/Normalized-Attention-Guidance/results-prompts2-nag-base/lightning/baseline/0000_1337_noneg.png\n",
            "{'prompt': 'A photo of a person', 'guidance_scale': 0.0, 'nag_scale': 2.0, 'nag_end': 0.5, 'nag_tau': 2.5, 'nag_alpha': 0.5, 'num_inference_steps': 4, 'generator': <torch._C.Generator object at 0x7b5ce8d3e050>, 'nag_negative_prompt': 'male', 'nag_start': 0.0}\n"
          ]
        },
        {
          "data": {
            "application/vnd.jupyter.widget-view+json": {
              "model_id": "97de2291dd954a999245098e9c84bc78",
              "version_major": 2,
              "version_minor": 0
            },
            "text/plain": [
              "  0%|          | 0/4 [00:00<?, ?it/s]"
            ]
          },
          "metadata": {},
          "output_type": "display_data"
        },
        {
          "name": "stdout",
          "output_type": "stream",
          "text": [
            "[WRITE] lightning -> /home/azureuser/cloudfiles/code/Users/Normalized-Attention-Guidance/results-prompts2-nag-base/lightning/with_negative_start0/0000_2025_neg_s0.png\n",
            "{'prompt': 'A photo of a person', 'guidance_scale': 0.0, 'nag_scale': 2.0, 'nag_end': 0.5, 'nag_tau': 2.5, 'nag_alpha': 0.5, 'num_inference_steps': 4, 'generator': <torch._C.Generator object at 0x7b5ce0513930>, 'nag_negative_prompt': 'male', 'nag_start': 0.0}\n"
          ]
        },
        {
          "data": {
            "application/vnd.jupyter.widget-view+json": {
              "model_id": "29b4aa9cb9234c94a7449fa21ad7faca",
              "version_major": 2,
              "version_minor": 0
            },
            "text/plain": [
              "  0%|          | 0/4 [00:00<?, ?it/s]"
            ]
          },
          "metadata": {},
          "output_type": "display_data"
        },
        {
          "name": "stdout",
          "output_type": "stream",
          "text": [
            "[WRITE] lightning -> /home/azureuser/cloudfiles/code/Users/Normalized-Attention-Guidance/results-prompts2-nag-base/lightning/with_negative_start0/0000_42_neg_s0.png\n",
            "{'prompt': 'A photo of a person', 'guidance_scale': 0.0, 'nag_scale': 2.0, 'nag_end': 0.5, 'nag_tau': 2.5, 'nag_alpha': 0.5, 'num_inference_steps': 4, 'generator': <torch._C.Generator object at 0x7b5ce0513bb0>, 'nag_negative_prompt': 'male', 'nag_start': 0.0}\n"
          ]
        },
        {
          "data": {
            "application/vnd.jupyter.widget-view+json": {
              "model_id": "10c54319ba514e078e021befcc7c10b8",
              "version_major": 2,
              "version_minor": 0
            },
            "text/plain": [
              "  0%|          | 0/4 [00:00<?, ?it/s]"
            ]
          },
          "metadata": {},
          "output_type": "display_data"
        },
        {
          "name": "stdout",
          "output_type": "stream",
          "text": [
            "[WRITE] lightning -> /home/azureuser/cloudfiles/code/Users/Normalized-Attention-Guidance/results-prompts2-nag-base/lightning/with_negative_start0/0000_1337_neg_s0.png\n",
            "{'prompt': 'A photo of a person', 'guidance_scale': 0.0, 'nag_scale': 2.0, 'nag_end': 0.5, 'nag_tau': 2.5, 'nag_alpha': 0.5, 'num_inference_steps': 4, 'generator': <torch._C.Generator object at 0x7b5ce0513f50>, 'nag_negative_prompt': 'male', 'nag_start': 0.2}\n"
          ]
        },
        {
          "data": {
            "application/vnd.jupyter.widget-view+json": {
              "model_id": "d73e5dacac6344d8acfa214cf9588b30",
              "version_major": 2,
              "version_minor": 0
            },
            "text/plain": [
              "  0%|          | 0/4 [00:00<?, ?it/s]"
            ]
          },
          "metadata": {},
          "output_type": "display_data"
        },
        {
          "name": "stdout",
          "output_type": "stream",
          "text": [
            "[WRITE] lightning -> /home/azureuser/cloudfiles/code/Users/Normalized-Attention-Guidance/results-prompts2-nag-base/lightning/with_negative_start0p2/0000_2025_neg_s0p2.png\n",
            "{'prompt': 'A photo of a person', 'guidance_scale': 0.0, 'nag_scale': 2.0, 'nag_end': 0.5, 'nag_tau': 2.5, 'nag_alpha': 0.5, 'num_inference_steps': 4, 'generator': <torch._C.Generator object at 0x7b5ce0513d90>, 'nag_negative_prompt': 'male', 'nag_start': 0.2}\n"
          ]
        },
        {
          "data": {
            "application/vnd.jupyter.widget-view+json": {
              "model_id": "d9ee28ce80a24c5dbed54103c77f9f86",
              "version_major": 2,
              "version_minor": 0
            },
            "text/plain": [
              "  0%|          | 0/4 [00:00<?, ?it/s]"
            ]
          },
          "metadata": {},
          "output_type": "display_data"
        },
        {
          "name": "stdout",
          "output_type": "stream",
          "text": [
            "[WRITE] lightning -> /home/azureuser/cloudfiles/code/Users/Normalized-Attention-Guidance/results-prompts2-nag-base/lightning/with_negative_start0p2/0000_42_neg_s0p2.png\n",
            "{'prompt': 'A photo of a person', 'guidance_scale': 0.0, 'nag_scale': 2.0, 'nag_end': 0.5, 'nag_tau': 2.5, 'nag_alpha': 0.5, 'num_inference_steps': 4, 'generator': <torch._C.Generator object at 0x7b5cb7a7bd90>, 'nag_negative_prompt': 'male', 'nag_start': 0.2}\n"
          ]
        },
        {
          "data": {
            "application/vnd.jupyter.widget-view+json": {
              "model_id": "6af513a5e8054764bf5d4be5c369a1fb",
              "version_major": 2,
              "version_minor": 0
            },
            "text/plain": [
              "  0%|          | 0/4 [00:00<?, ?it/s]"
            ]
          },
          "metadata": {},
          "output_type": "display_data"
        },
        {
          "name": "stdout",
          "output_type": "stream",
          "text": [
            "[WRITE] lightning -> /home/azureuser/cloudfiles/code/Users/Normalized-Attention-Guidance/results-prompts2-nag-base/lightning/with_negative_start0p2/0000_1337_neg_s0p2.png\n"
          ]
        },
        {
          "name": "stderr",
          "output_type": "stream",
          "text": [
            "lightning progress:   6%|▋         | 1/16 [00:08<02:14,  8.98s/it]"
          ]
        },
        {
          "name": "stdout",
          "output_type": "stream",
          "text": [
            "{'prompt': 'A photo of a person', 'guidance_scale': 0.0, 'nag_scale': 2.0, 'nag_end': 0.5, 'nag_tau': 2.5, 'nag_alpha': 0.5, 'num_inference_steps': 4, 'generator': <torch._C.Generator object at 0x7b5ce0513970>, 'nag_negative_prompt': None}\n"
          ]
        },
        {
          "data": {
            "application/vnd.jupyter.widget-view+json": {
              "model_id": "b411baa6390b49a9ac30223b26285cd8",
              "version_major": 2,
              "version_minor": 0
            },
            "text/plain": [
              "  0%|          | 0/4 [00:00<?, ?it/s]"
            ]
          },
          "metadata": {},
          "output_type": "display_data"
        },
        {
          "name": "stdout",
          "output_type": "stream",
          "text": [
            "[WRITE] lightning -> /home/azureuser/cloudfiles/code/Users/Normalized-Attention-Guidance/results-prompts2-nag-base/lightning/baseline/0001_2025_noneg.png\n",
            "{'prompt': 'A photo of a person', 'guidance_scale': 0.0, 'nag_scale': 2.0, 'nag_end': 0.5, 'nag_tau': 2.5, 'nag_alpha': 0.5, 'num_inference_steps': 4, 'generator': <torch._C.Generator object at 0x7b5ce063c8d0>, 'nag_negative_prompt': None}\n"
          ]
        },
        {
          "data": {
            "application/vnd.jupyter.widget-view+json": {
              "model_id": "3801dd6d9dee4d0d99150eeb3d18517a",
              "version_major": 2,
              "version_minor": 0
            },
            "text/plain": [
              "  0%|          | 0/4 [00:00<?, ?it/s]"
            ]
          },
          "metadata": {},
          "output_type": "display_data"
        },
        {
          "name": "stdout",
          "output_type": "stream",
          "text": [
            "[WRITE] lightning -> /home/azureuser/cloudfiles/code/Users/Normalized-Attention-Guidance/results-prompts2-nag-base/lightning/baseline/0001_42_noneg.png\n",
            "{'prompt': 'A photo of a person', 'guidance_scale': 0.0, 'nag_scale': 2.0, 'nag_end': 0.5, 'nag_tau': 2.5, 'nag_alpha': 0.5, 'num_inference_steps': 4, 'generator': <torch._C.Generator object at 0x7b5cb7a7bd90>, 'nag_negative_prompt': None}\n"
          ]
        },
        {
          "data": {
            "application/vnd.jupyter.widget-view+json": {
              "model_id": "f3736f7554ec4b2fb58223756c638c0e",
              "version_major": 2,
              "version_minor": 0
            },
            "text/plain": [
              "  0%|          | 0/4 [00:00<?, ?it/s]"
            ]
          },
          "metadata": {},
          "output_type": "display_data"
        },
        {
          "name": "stdout",
          "output_type": "stream",
          "text": [
            "[WRITE] lightning -> /home/azureuser/cloudfiles/code/Users/Normalized-Attention-Guidance/results-prompts2-nag-base/lightning/baseline/0001_1337_noneg.png\n",
            "{'prompt': 'A photo of a person', 'guidance_scale': 0.0, 'nag_scale': 2.0, 'nag_end': 0.5, 'nag_tau': 2.5, 'nag_alpha': 0.5, 'num_inference_steps': 4, 'generator': <torch._C.Generator object at 0x7b5ce0513d90>, 'nag_negative_prompt': 'female', 'nag_start': 0.0}\n"
          ]
        },
        {
          "data": {
            "application/vnd.jupyter.widget-view+json": {
              "model_id": "b74de4e5c4504e448e405d6a98c4610f",
              "version_major": 2,
              "version_minor": 0
            },
            "text/plain": [
              "  0%|          | 0/4 [00:00<?, ?it/s]"
            ]
          },
          "metadata": {},
          "output_type": "display_data"
        },
        {
          "name": "stdout",
          "output_type": "stream",
          "text": [
            "[WRITE] lightning -> /home/azureuser/cloudfiles/code/Users/Normalized-Attention-Guidance/results-prompts2-nag-base/lightning/with_negative_start0/0001_2025_neg_s0.png\n",
            "{'prompt': 'A photo of a person', 'guidance_scale': 0.0, 'nag_scale': 2.0, 'nag_end': 0.5, 'nag_tau': 2.5, 'nag_alpha': 0.5, 'num_inference_steps': 4, 'generator': <torch._C.Generator object at 0x7b5ce063cb50>, 'nag_negative_prompt': 'female', 'nag_start': 0.0}\n"
          ]
        },
        {
          "data": {
            "application/vnd.jupyter.widget-view+json": {
              "model_id": "453afeb09a9e40eb8928d5f753ac8530",
              "version_major": 2,
              "version_minor": 0
            },
            "text/plain": [
              "  0%|          | 0/4 [00:00<?, ?it/s]"
            ]
          },
          "metadata": {},
          "output_type": "display_data"
        },
        {
          "name": "stdout",
          "output_type": "stream",
          "text": [
            "[WRITE] lightning -> /home/azureuser/cloudfiles/code/Users/Normalized-Attention-Guidance/results-prompts2-nag-base/lightning/with_negative_start0/0001_42_neg_s0.png\n",
            "{'prompt': 'A photo of a person', 'guidance_scale': 0.0, 'nag_scale': 2.0, 'nag_end': 0.5, 'nag_tau': 2.5, 'nag_alpha': 0.5, 'num_inference_steps': 4, 'generator': <torch._C.Generator object at 0x7b5cb7a7bd90>, 'nag_negative_prompt': 'female', 'nag_start': 0.0}\n"
          ]
        },
        {
          "data": {
            "application/vnd.jupyter.widget-view+json": {
              "model_id": "85baf7e001c84b059bd7a6d88927dd51",
              "version_major": 2,
              "version_minor": 0
            },
            "text/plain": [
              "  0%|          | 0/4 [00:00<?, ?it/s]"
            ]
          },
          "metadata": {},
          "output_type": "display_data"
        },
        {
          "name": "stdout",
          "output_type": "stream",
          "text": [
            "[WRITE] lightning -> /home/azureuser/cloudfiles/code/Users/Normalized-Attention-Guidance/results-prompts2-nag-base/lightning/with_negative_start0/0001_1337_neg_s0.png\n",
            "{'prompt': 'A photo of a person', 'guidance_scale': 0.0, 'nag_scale': 2.0, 'nag_end': 0.5, 'nag_tau': 2.5, 'nag_alpha': 0.5, 'num_inference_steps': 4, 'generator': <torch._C.Generator object at 0x7b5ce063c8d0>, 'nag_negative_prompt': 'female', 'nag_start': 0.2}\n"
          ]
        },
        {
          "data": {
            "application/vnd.jupyter.widget-view+json": {
              "model_id": "892c8908f66a4182be114aad35bd5df3",
              "version_major": 2,
              "version_minor": 0
            },
            "text/plain": [
              "  0%|          | 0/4 [00:00<?, ?it/s]"
            ]
          },
          "metadata": {},
          "output_type": "display_data"
        },
        {
          "name": "stdout",
          "output_type": "stream",
          "text": [
            "[WRITE] lightning -> /home/azureuser/cloudfiles/code/Users/Normalized-Attention-Guidance/results-prompts2-nag-base/lightning/with_negative_start0p2/0001_2025_neg_s0p2.png\n",
            "{'prompt': 'A photo of a person', 'guidance_scale': 0.0, 'nag_scale': 2.0, 'nag_end': 0.5, 'nag_tau': 2.5, 'nag_alpha': 0.5, 'num_inference_steps': 4, 'generator': <torch._C.Generator object at 0x7b5cb7f80450>, 'nag_negative_prompt': 'female', 'nag_start': 0.2}\n"
          ]
        },
        {
          "data": {
            "application/vnd.jupyter.widget-view+json": {
              "model_id": "f1499b679a794917aad69995577ccbeb",
              "version_major": 2,
              "version_minor": 0
            },
            "text/plain": [
              "  0%|          | 0/4 [00:00<?, ?it/s]"
            ]
          },
          "metadata": {},
          "output_type": "display_data"
        },
        {
          "name": "stdout",
          "output_type": "stream",
          "text": [
            "[WRITE] lightning -> /home/azureuser/cloudfiles/code/Users/Normalized-Attention-Guidance/results-prompts2-nag-base/lightning/with_negative_start0p2/0001_42_neg_s0p2.png\n",
            "{'prompt': 'A photo of a person', 'guidance_scale': 0.0, 'nag_scale': 2.0, 'nag_end': 0.5, 'nag_tau': 2.5, 'nag_alpha': 0.5, 'num_inference_steps': 4, 'generator': <torch._C.Generator object at 0x7b5cb7f80750>, 'nag_negative_prompt': 'female', 'nag_start': 0.2}\n"
          ]
        },
        {
          "data": {
            "application/vnd.jupyter.widget-view+json": {
              "model_id": "aebede538e6047cd84c28e4d374d1644",
              "version_major": 2,
              "version_minor": 0
            },
            "text/plain": [
              "  0%|          | 0/4 [00:00<?, ?it/s]"
            ]
          },
          "metadata": {},
          "output_type": "display_data"
        },
        {
          "name": "stdout",
          "output_type": "stream",
          "text": [
            "[WRITE] lightning -> /home/azureuser/cloudfiles/code/Users/Normalized-Attention-Guidance/results-prompts2-nag-base/lightning/with_negative_start0p2/0001_1337_neg_s0p2.png\n"
          ]
        },
        {
          "name": "stderr",
          "output_type": "stream",
          "text": [
            "lightning progress:  12%|█▎        | 2/16 [00:17<02:05,  8.99s/it]"
          ]
        },
        {
          "name": "stdout",
          "output_type": "stream",
          "text": [
            "{'prompt': 'A photo of a person', 'guidance_scale': 0.0, 'nag_scale': 2.0, 'nag_end': 0.5, 'nag_tau': 2.5, 'nag_alpha': 0.5, 'num_inference_steps': 4, 'generator': <torch._C.Generator object at 0x7b5ce0513f50>, 'nag_negative_prompt': None}\n"
          ]
        },
        {
          "data": {
            "application/vnd.jupyter.widget-view+json": {
              "model_id": "154cfee974de429b9e71f3bb2c4f0eed",
              "version_major": 2,
              "version_minor": 0
            },
            "text/plain": [
              "  0%|          | 0/4 [00:00<?, ?it/s]"
            ]
          },
          "metadata": {},
          "output_type": "display_data"
        },
        {
          "name": "stdout",
          "output_type": "stream",
          "text": [
            "[WRITE] lightning -> /home/azureuser/cloudfiles/code/Users/Normalized-Attention-Guidance/results-prompts2-nag-base/lightning/baseline/0002_2025_noneg.png\n",
            "{'prompt': 'A photo of a person', 'guidance_scale': 0.0, 'nag_scale': 2.0, 'nag_end': 0.5, 'nag_tau': 2.5, 'nag_alpha': 0.5, 'num_inference_steps': 4, 'generator': <torch._C.Generator object at 0x7b5cb7f80fd0>, 'nag_negative_prompt': None}\n"
          ]
        },
        {
          "data": {
            "application/vnd.jupyter.widget-view+json": {
              "model_id": "fbefaec9a5b348d6bbfe5b0d6a7ee7d5",
              "version_major": 2,
              "version_minor": 0
            },
            "text/plain": [
              "  0%|          | 0/4 [00:00<?, ?it/s]"
            ]
          },
          "metadata": {},
          "output_type": "display_data"
        },
        {
          "name": "stdout",
          "output_type": "stream",
          "text": [
            "[WRITE] lightning -> /home/azureuser/cloudfiles/code/Users/Normalized-Attention-Guidance/results-prompts2-nag-base/lightning/baseline/0002_42_noneg.png\n",
            "{'prompt': 'A photo of a person', 'guidance_scale': 0.0, 'nag_scale': 2.0, 'nag_end': 0.5, 'nag_tau': 2.5, 'nag_alpha': 0.5, 'num_inference_steps': 4, 'generator': <torch._C.Generator object at 0x7b5cb7f809b0>, 'nag_negative_prompt': None}\n"
          ]
        },
        {
          "data": {
            "application/vnd.jupyter.widget-view+json": {
              "model_id": "020bcb300fa24d5bb9917322aad92df8",
              "version_major": 2,
              "version_minor": 0
            },
            "text/plain": [
              "  0%|          | 0/4 [00:00<?, ?it/s]"
            ]
          },
          "metadata": {},
          "output_type": "display_data"
        },
        {
          "name": "stdout",
          "output_type": "stream",
          "text": [
            "[WRITE] lightning -> /home/azureuser/cloudfiles/code/Users/Normalized-Attention-Guidance/results-prompts2-nag-base/lightning/baseline/0002_1337_noneg.png\n",
            "{'prompt': 'A photo of a person', 'guidance_scale': 0.0, 'nag_scale': 2.0, 'nag_end': 0.5, 'nag_tau': 2.5, 'nag_alpha': 0.5, 'num_inference_steps': 4, 'generator': <torch._C.Generator object at 0x7b5cb7f811f0>, 'nag_negative_prompt': 'old', 'nag_start': 0.0}\n"
          ]
        },
        {
          "data": {
            "application/vnd.jupyter.widget-view+json": {
              "model_id": "9498a4e3f97b498f96a9e3a05ce3c47b",
              "version_major": 2,
              "version_minor": 0
            },
            "text/plain": [
              "  0%|          | 0/4 [00:00<?, ?it/s]"
            ]
          },
          "metadata": {},
          "output_type": "display_data"
        },
        {
          "name": "stdout",
          "output_type": "stream",
          "text": [
            "[WRITE] lightning -> /home/azureuser/cloudfiles/code/Users/Normalized-Attention-Guidance/results-prompts2-nag-base/lightning/with_negative_start0/0002_2025_neg_s0.png\n",
            "{'prompt': 'A photo of a person', 'guidance_scale': 0.0, 'nag_scale': 2.0, 'nag_end': 0.5, 'nag_tau': 2.5, 'nag_alpha': 0.5, 'num_inference_steps': 4, 'generator': <torch._C.Generator object at 0x7b5cb7f81170>, 'nag_negative_prompt': 'old', 'nag_start': 0.0}\n"
          ]
        },
        {
          "data": {
            "application/vnd.jupyter.widget-view+json": {
              "model_id": "72e6056f29184350b9ded46cd67d9db5",
              "version_major": 2,
              "version_minor": 0
            },
            "text/plain": [
              "  0%|          | 0/4 [00:00<?, ?it/s]"
            ]
          },
          "metadata": {},
          "output_type": "display_data"
        },
        {
          "name": "stdout",
          "output_type": "stream",
          "text": [
            "[WRITE] lightning -> /home/azureuser/cloudfiles/code/Users/Normalized-Attention-Guidance/results-prompts2-nag-base/lightning/with_negative_start0/0002_42_neg_s0.png\n",
            "{'prompt': 'A photo of a person', 'guidance_scale': 0.0, 'nag_scale': 2.0, 'nag_end': 0.5, 'nag_tau': 2.5, 'nag_alpha': 0.5, 'num_inference_steps': 4, 'generator': <torch._C.Generator object at 0x7b5ce0513f50>, 'nag_negative_prompt': 'old', 'nag_start': 0.0}\n"
          ]
        },
        {
          "data": {
            "application/vnd.jupyter.widget-view+json": {
              "model_id": "5dbd9b4ab1ae4206be5a29d3a39b1862",
              "version_major": 2,
              "version_minor": 0
            },
            "text/plain": [
              "  0%|          | 0/4 [00:00<?, ?it/s]"
            ]
          },
          "metadata": {},
          "output_type": "display_data"
        },
        {
          "name": "stdout",
          "output_type": "stream",
          "text": [
            "[WRITE] lightning -> /home/azureuser/cloudfiles/code/Users/Normalized-Attention-Guidance/results-prompts2-nag-base/lightning/with_negative_start0/0002_1337_neg_s0.png\n",
            "{'prompt': 'A photo of a person', 'guidance_scale': 0.0, 'nag_scale': 2.0, 'nag_end': 0.5, 'nag_tau': 2.5, 'nag_alpha': 0.5, 'num_inference_steps': 4, 'generator': <torch._C.Generator object at 0x7b5cb7f81a70>, 'nag_negative_prompt': 'old', 'nag_start': 0.2}\n"
          ]
        },
        {
          "data": {
            "application/vnd.jupyter.widget-view+json": {
              "model_id": "3ec518cdf81440e3b7d2b67a9f329f77",
              "version_major": 2,
              "version_minor": 0
            },
            "text/plain": [
              "  0%|          | 0/4 [00:00<?, ?it/s]"
            ]
          },
          "metadata": {},
          "output_type": "display_data"
        },
        {
          "name": "stdout",
          "output_type": "stream",
          "text": [
            "[WRITE] lightning -> /home/azureuser/cloudfiles/code/Users/Normalized-Attention-Guidance/results-prompts2-nag-base/lightning/with_negative_start0p2/0002_2025_neg_s0p2.png\n",
            "{'prompt': 'A photo of a person', 'guidance_scale': 0.0, 'nag_scale': 2.0, 'nag_end': 0.5, 'nag_tau': 2.5, 'nag_alpha': 0.5, 'num_inference_steps': 4, 'generator': <torch._C.Generator object at 0x7b5cb7f81630>, 'nag_negative_prompt': 'old', 'nag_start': 0.2}\n"
          ]
        },
        {
          "data": {
            "application/vnd.jupyter.widget-view+json": {
              "model_id": "193850d91149498cb5ac05b249f76ff5",
              "version_major": 2,
              "version_minor": 0
            },
            "text/plain": [
              "  0%|          | 0/4 [00:00<?, ?it/s]"
            ]
          },
          "metadata": {},
          "output_type": "display_data"
        },
        {
          "name": "stdout",
          "output_type": "stream",
          "text": [
            "[WRITE] lightning -> /home/azureuser/cloudfiles/code/Users/Normalized-Attention-Guidance/results-prompts2-nag-base/lightning/with_negative_start0p2/0002_42_neg_s0p2.png\n",
            "{'prompt': 'A photo of a person', 'guidance_scale': 0.0, 'nag_scale': 2.0, 'nag_end': 0.5, 'nag_tau': 2.5, 'nag_alpha': 0.5, 'num_inference_steps': 4, 'generator': <torch._C.Generator object at 0x7b5ce0513f50>, 'nag_negative_prompt': 'old', 'nag_start': 0.2}\n"
          ]
        },
        {
          "data": {
            "application/vnd.jupyter.widget-view+json": {
              "model_id": "837dc45050bf4ada93a7ea92fa748a99",
              "version_major": 2,
              "version_minor": 0
            },
            "text/plain": [
              "  0%|          | 0/4 [00:00<?, ?it/s]"
            ]
          },
          "metadata": {},
          "output_type": "display_data"
        },
        {
          "name": "stdout",
          "output_type": "stream",
          "text": [
            "[WRITE] lightning -> /home/azureuser/cloudfiles/code/Users/Normalized-Attention-Guidance/results-prompts2-nag-base/lightning/with_negative_start0p2/0002_1337_neg_s0p2.png\n"
          ]
        },
        {
          "name": "stderr",
          "output_type": "stream",
          "text": [
            "lightning progress:  19%|█▉        | 3/16 [00:27<01:57,  9.02s/it]"
          ]
        },
        {
          "name": "stdout",
          "output_type": "stream",
          "text": [
            "{'prompt': 'A photo of a person', 'guidance_scale': 0.0, 'nag_scale': 2.0, 'nag_end': 0.5, 'nag_tau': 2.5, 'nag_alpha': 0.5, 'num_inference_steps': 4, 'generator': <torch._C.Generator object at 0x7b5cb7f80b70>, 'nag_negative_prompt': None}\n"
          ]
        },
        {
          "data": {
            "application/vnd.jupyter.widget-view+json": {
              "model_id": "aa6a0bc3e501483491e46bd79716f346",
              "version_major": 2,
              "version_minor": 0
            },
            "text/plain": [
              "  0%|          | 0/4 [00:00<?, ?it/s]"
            ]
          },
          "metadata": {},
          "output_type": "display_data"
        },
        {
          "name": "stdout",
          "output_type": "stream",
          "text": [
            "[WRITE] lightning -> /home/azureuser/cloudfiles/code/Users/Normalized-Attention-Guidance/results-prompts2-nag-base/lightning/baseline/0003_2025_noneg.png\n",
            "{'prompt': 'A photo of a person', 'guidance_scale': 0.0, 'nag_scale': 2.0, 'nag_end': 0.5, 'nag_tau': 2.5, 'nag_alpha': 0.5, 'num_inference_steps': 4, 'generator': <torch._C.Generator object at 0x7b5cb7f81ff0>, 'nag_negative_prompt': None}\n"
          ]
        },
        {
          "data": {
            "application/vnd.jupyter.widget-view+json": {
              "model_id": "b20fe38e804e4946a31a9d98de34742f",
              "version_major": 2,
              "version_minor": 0
            },
            "text/plain": [
              "  0%|          | 0/4 [00:00<?, ?it/s]"
            ]
          },
          "metadata": {},
          "output_type": "display_data"
        },
        {
          "name": "stdout",
          "output_type": "stream",
          "text": [
            "[WRITE] lightning -> /home/azureuser/cloudfiles/code/Users/Normalized-Attention-Guidance/results-prompts2-nag-base/lightning/baseline/0003_42_noneg.png\n",
            "{'prompt': 'A photo of a person', 'guidance_scale': 0.0, 'nag_scale': 2.0, 'nag_end': 0.5, 'nag_tau': 2.5, 'nag_alpha': 0.5, 'num_inference_steps': 4, 'generator': <torch._C.Generator object at 0x7b5cb7f81610>, 'nag_negative_prompt': None}\n"
          ]
        },
        {
          "data": {
            "application/vnd.jupyter.widget-view+json": {
              "model_id": "df29864ef915451fa8075b4e6e00c17c",
              "version_major": 2,
              "version_minor": 0
            },
            "text/plain": [
              "  0%|          | 0/4 [00:00<?, ?it/s]"
            ]
          },
          "metadata": {},
          "output_type": "display_data"
        },
        {
          "name": "stdout",
          "output_type": "stream",
          "text": [
            "[WRITE] lightning -> /home/azureuser/cloudfiles/code/Users/Normalized-Attention-Guidance/results-prompts2-nag-base/lightning/baseline/0003_1337_noneg.png\n",
            "{'prompt': 'A photo of a person', 'guidance_scale': 0.0, 'nag_scale': 2.0, 'nag_end': 0.5, 'nag_tau': 2.5, 'nag_alpha': 0.5, 'num_inference_steps': 4, 'generator': <torch._C.Generator object at 0x7b5cb7f83570>, 'nag_negative_prompt': 'young', 'nag_start': 0.0}\n"
          ]
        },
        {
          "data": {
            "application/vnd.jupyter.widget-view+json": {
              "model_id": "6aabd1017f764251b27811ba0b604378",
              "version_major": 2,
              "version_minor": 0
            },
            "text/plain": [
              "  0%|          | 0/4 [00:00<?, ?it/s]"
            ]
          },
          "metadata": {},
          "output_type": "display_data"
        },
        {
          "name": "stdout",
          "output_type": "stream",
          "text": [
            "[WRITE] lightning -> /home/azureuser/cloudfiles/code/Users/Normalized-Attention-Guidance/results-prompts2-nag-base/lightning/with_negative_start0/0003_2025_neg_s0.png\n",
            "{'prompt': 'A photo of a person', 'guidance_scale': 0.0, 'nag_scale': 2.0, 'nag_end': 0.5, 'nag_tau': 2.5, 'nag_alpha': 0.5, 'num_inference_steps': 4, 'generator': <torch._C.Generator object at 0x7b5cb7f83670>, 'nag_negative_prompt': 'young', 'nag_start': 0.0}\n"
          ]
        },
        {
          "data": {
            "application/vnd.jupyter.widget-view+json": {
              "model_id": "b94a897c58684771ae9a1381ad1b11ca",
              "version_major": 2,
              "version_minor": 0
            },
            "text/plain": [
              "  0%|          | 0/4 [00:00<?, ?it/s]"
            ]
          },
          "metadata": {},
          "output_type": "display_data"
        },
        {
          "name": "stdout",
          "output_type": "stream",
          "text": [
            "[WRITE] lightning -> /home/azureuser/cloudfiles/code/Users/Normalized-Attention-Guidance/results-prompts2-nag-base/lightning/with_negative_start0/0003_42_neg_s0.png\n",
            "{'prompt': 'A photo of a person', 'guidance_scale': 0.0, 'nag_scale': 2.0, 'nag_end': 0.5, 'nag_tau': 2.5, 'nag_alpha': 0.5, 'num_inference_steps': 4, 'generator': <torch._C.Generator object at 0x7b5cb7f82ef0>, 'nag_negative_prompt': 'young', 'nag_start': 0.0}\n"
          ]
        },
        {
          "data": {
            "application/vnd.jupyter.widget-view+json": {
              "model_id": "37d4675c02324ebf8540cf3ff9d4acca",
              "version_major": 2,
              "version_minor": 0
            },
            "text/plain": [
              "  0%|          | 0/4 [00:00<?, ?it/s]"
            ]
          },
          "metadata": {},
          "output_type": "display_data"
        },
        {
          "name": "stdout",
          "output_type": "stream",
          "text": [
            "[WRITE] lightning -> /home/azureuser/cloudfiles/code/Users/Normalized-Attention-Guidance/results-prompts2-nag-base/lightning/with_negative_start0/0003_1337_neg_s0.png\n",
            "{'prompt': 'A photo of a person', 'guidance_scale': 0.0, 'nag_scale': 2.0, 'nag_end': 0.5, 'nag_tau': 2.5, 'nag_alpha': 0.5, 'num_inference_steps': 4, 'generator': <torch._C.Generator object at 0x7b5cb7f826d0>, 'nag_negative_prompt': 'young', 'nag_start': 0.2}\n"
          ]
        },
        {
          "data": {
            "application/vnd.jupyter.widget-view+json": {
              "model_id": "68cd021ea1c0480a8ac9066acb719862",
              "version_major": 2,
              "version_minor": 0
            },
            "text/plain": [
              "  0%|          | 0/4 [00:00<?, ?it/s]"
            ]
          },
          "metadata": {},
          "output_type": "display_data"
        },
        {
          "name": "stdout",
          "output_type": "stream",
          "text": [
            "[WRITE] lightning -> /home/azureuser/cloudfiles/code/Users/Normalized-Attention-Guidance/results-prompts2-nag-base/lightning/with_negative_start0p2/0003_2025_neg_s0p2.png\n",
            "{'prompt': 'A photo of a person', 'guidance_scale': 0.0, 'nag_scale': 2.0, 'nag_end': 0.5, 'nag_tau': 2.5, 'nag_alpha': 0.5, 'num_inference_steps': 4, 'generator': <torch._C.Generator object at 0x7b5cb7f82610>, 'nag_negative_prompt': 'young', 'nag_start': 0.2}\n"
          ]
        },
        {
          "data": {
            "application/vnd.jupyter.widget-view+json": {
              "model_id": "7468bf9a45a74ee2954a676f9b0d2175",
              "version_major": 2,
              "version_minor": 0
            },
            "text/plain": [
              "  0%|          | 0/4 [00:00<?, ?it/s]"
            ]
          },
          "metadata": {},
          "output_type": "display_data"
        },
        {
          "name": "stdout",
          "output_type": "stream",
          "text": [
            "[WRITE] lightning -> /home/azureuser/cloudfiles/code/Users/Normalized-Attention-Guidance/results-prompts2-nag-base/lightning/with_negative_start0p2/0003_42_neg_s0p2.png\n",
            "{'prompt': 'A photo of a person', 'guidance_scale': 0.0, 'nag_scale': 2.0, 'nag_end': 0.5, 'nag_tau': 2.5, 'nag_alpha': 0.5, 'num_inference_steps': 4, 'generator': <torch._C.Generator object at 0x7b5cb7f82b10>, 'nag_negative_prompt': 'young', 'nag_start': 0.2}\n"
          ]
        },
        {
          "data": {
            "application/vnd.jupyter.widget-view+json": {
              "model_id": "c4196fd3c0394a3d9535087e1f19c08b",
              "version_major": 2,
              "version_minor": 0
            },
            "text/plain": [
              "  0%|          | 0/4 [00:00<?, ?it/s]"
            ]
          },
          "metadata": {},
          "output_type": "display_data"
        },
        {
          "name": "stdout",
          "output_type": "stream",
          "text": [
            "[WRITE] lightning -> /home/azureuser/cloudfiles/code/Users/Normalized-Attention-Guidance/results-prompts2-nag-base/lightning/with_negative_start0p2/0003_1337_neg_s0p2.png\n"
          ]
        },
        {
          "name": "stderr",
          "output_type": "stream",
          "text": [
            "lightning progress:  25%|██▌       | 4/16 [00:35<01:47,  8.97s/it]"
          ]
        },
        {
          "name": "stdout",
          "output_type": "stream",
          "text": [
            "{'prompt': 'A photo of a person', 'guidance_scale': 0.0, 'nag_scale': 2.0, 'nag_end': 0.5, 'nag_tau': 2.5, 'nag_alpha': 0.5, 'num_inference_steps': 4, 'generator': <torch._C.Generator object at 0x7b5cb7f82f50>, 'nag_negative_prompt': None}\n"
          ]
        },
        {
          "data": {
            "application/vnd.jupyter.widget-view+json": {
              "model_id": "4498121232b9437b968d3bd7293d7194",
              "version_major": 2,
              "version_minor": 0
            },
            "text/plain": [
              "  0%|          | 0/4 [00:00<?, ?it/s]"
            ]
          },
          "metadata": {},
          "output_type": "display_data"
        },
        {
          "name": "stdout",
          "output_type": "stream",
          "text": [
            "[WRITE] lightning -> /home/azureuser/cloudfiles/code/Users/Normalized-Attention-Guidance/results-prompts2-nag-base/lightning/baseline/0004_2025_noneg.png\n",
            "{'prompt': 'A photo of a person', 'guidance_scale': 0.0, 'nag_scale': 2.0, 'nag_end': 0.5, 'nag_tau': 2.5, 'nag_alpha': 0.5, 'num_inference_steps': 4, 'generator': <torch._C.Generator object at 0x7b5cb7f828d0>, 'nag_negative_prompt': None}\n"
          ]
        },
        {
          "data": {
            "application/vnd.jupyter.widget-view+json": {
              "model_id": "e28db7cb042a407bba092e70a883ffce",
              "version_major": 2,
              "version_minor": 0
            },
            "text/plain": [
              "  0%|          | 0/4 [00:00<?, ?it/s]"
            ]
          },
          "metadata": {},
          "output_type": "display_data"
        },
        {
          "name": "stdout",
          "output_type": "stream",
          "text": [
            "[WRITE] lightning -> /home/azureuser/cloudfiles/code/Users/Normalized-Attention-Guidance/results-prompts2-nag-base/lightning/baseline/0004_42_noneg.png\n",
            "{'prompt': 'A photo of a person', 'guidance_scale': 0.0, 'nag_scale': 2.0, 'nag_end': 0.5, 'nag_tau': 2.5, 'nag_alpha': 0.5, 'num_inference_steps': 4, 'generator': <torch._C.Generator object at 0x7b5cb7f82790>, 'nag_negative_prompt': None}\n"
          ]
        },
        {
          "data": {
            "application/vnd.jupyter.widget-view+json": {
              "model_id": "369b6dd025f34222af94686a7637a330",
              "version_major": 2,
              "version_minor": 0
            },
            "text/plain": [
              "  0%|          | 0/4 [00:00<?, ?it/s]"
            ]
          },
          "metadata": {},
          "output_type": "display_data"
        },
        {
          "name": "stdout",
          "output_type": "stream",
          "text": [
            "[WRITE] lightning -> /home/azureuser/cloudfiles/code/Users/Normalized-Attention-Guidance/results-prompts2-nag-base/lightning/baseline/0004_1337_noneg.png\n",
            "{'prompt': 'A photo of a person', 'guidance_scale': 0.0, 'nag_scale': 2.0, 'nag_end': 0.5, 'nag_tau': 2.5, 'nag_alpha': 0.5, 'num_inference_steps': 4, 'generator': <torch._C.Generator object at 0x7b5cb7f82a70>, 'nag_negative_prompt': 'bright lighting', 'nag_start': 0.0}\n"
          ]
        },
        {
          "data": {
            "application/vnd.jupyter.widget-view+json": {
              "model_id": "2ee6bfd21b8a4128b9d4e14c0d0a37e4",
              "version_major": 2,
              "version_minor": 0
            },
            "text/plain": [
              "  0%|          | 0/4 [00:00<?, ?it/s]"
            ]
          },
          "metadata": {},
          "output_type": "display_data"
        },
        {
          "name": "stdout",
          "output_type": "stream",
          "text": [
            "[WRITE] lightning -> /home/azureuser/cloudfiles/code/Users/Normalized-Attention-Guidance/results-prompts2-nag-base/lightning/with_negative_start0/0004_2025_neg_s0.png\n",
            "{'prompt': 'A photo of a person', 'guidance_scale': 0.0, 'nag_scale': 2.0, 'nag_end': 0.5, 'nag_tau': 2.5, 'nag_alpha': 0.5, 'num_inference_steps': 4, 'generator': <torch._C.Generator object at 0x7b5cb7f828f0>, 'nag_negative_prompt': 'bright lighting', 'nag_start': 0.0}\n"
          ]
        },
        {
          "data": {
            "application/vnd.jupyter.widget-view+json": {
              "model_id": "0cbf01183baf490bae5a4b6531f5fe52",
              "version_major": 2,
              "version_minor": 0
            },
            "text/plain": [
              "  0%|          | 0/4 [00:00<?, ?it/s]"
            ]
          },
          "metadata": {},
          "output_type": "display_data"
        },
        {
          "name": "stdout",
          "output_type": "stream",
          "text": [
            "[WRITE] lightning -> /home/azureuser/cloudfiles/code/Users/Normalized-Attention-Guidance/results-prompts2-nag-base/lightning/with_negative_start0/0004_42_neg_s0.png\n",
            "{'prompt': 'A photo of a person', 'guidance_scale': 0.0, 'nag_scale': 2.0, 'nag_end': 0.5, 'nag_tau': 2.5, 'nag_alpha': 0.5, 'num_inference_steps': 4, 'generator': <torch._C.Generator object at 0x7b5cb7f82e10>, 'nag_negative_prompt': 'bright lighting', 'nag_start': 0.0}\n"
          ]
        },
        {
          "data": {
            "application/vnd.jupyter.widget-view+json": {
              "model_id": "7a7e0da4cfa74165bc68b4081909a07f",
              "version_major": 2,
              "version_minor": 0
            },
            "text/plain": [
              "  0%|          | 0/4 [00:00<?, ?it/s]"
            ]
          },
          "metadata": {},
          "output_type": "display_data"
        },
        {
          "name": "stdout",
          "output_type": "stream",
          "text": [
            "[WRITE] lightning -> /home/azureuser/cloudfiles/code/Users/Normalized-Attention-Guidance/results-prompts2-nag-base/lightning/with_negative_start0/0004_1337_neg_s0.png\n",
            "{'prompt': 'A photo of a person', 'guidance_scale': 0.0, 'nag_scale': 2.0, 'nag_end': 0.5, 'nag_tau': 2.5, 'nag_alpha': 0.5, 'num_inference_steps': 4, 'generator': <torch._C.Generator object at 0x7b5cb7c607f0>, 'nag_negative_prompt': 'bright lighting', 'nag_start': 0.2}\n"
          ]
        },
        {
          "data": {
            "application/vnd.jupyter.widget-view+json": {
              "model_id": "c44f1c94f510429687ea1a0ffe5cfd0c",
              "version_major": 2,
              "version_minor": 0
            },
            "text/plain": [
              "  0%|          | 0/4 [00:00<?, ?it/s]"
            ]
          },
          "metadata": {},
          "output_type": "display_data"
        },
        {
          "name": "stdout",
          "output_type": "stream",
          "text": [
            "[WRITE] lightning -> /home/azureuser/cloudfiles/code/Users/Normalized-Attention-Guidance/results-prompts2-nag-base/lightning/with_negative_start0p2/0004_2025_neg_s0p2.png\n",
            "{'prompt': 'A photo of a person', 'guidance_scale': 0.0, 'nag_scale': 2.0, 'nag_end': 0.5, 'nag_tau': 2.5, 'nag_alpha': 0.5, 'num_inference_steps': 4, 'generator': <torch._C.Generator object at 0x7b5cb7f828f0>, 'nag_negative_prompt': 'bright lighting', 'nag_start': 0.2}\n"
          ]
        },
        {
          "data": {
            "application/vnd.jupyter.widget-view+json": {
              "model_id": "e74bca84fb7841429b9306e7ed81bf24",
              "version_major": 2,
              "version_minor": 0
            },
            "text/plain": [
              "  0%|          | 0/4 [00:00<?, ?it/s]"
            ]
          },
          "metadata": {},
          "output_type": "display_data"
        },
        {
          "name": "stdout",
          "output_type": "stream",
          "text": [
            "[WRITE] lightning -> /home/azureuser/cloudfiles/code/Users/Normalized-Attention-Guidance/results-prompts2-nag-base/lightning/with_negative_start0p2/0004_42_neg_s0p2.png\n",
            "{'prompt': 'A photo of a person', 'guidance_scale': 0.0, 'nag_scale': 2.0, 'nag_end': 0.5, 'nag_tau': 2.5, 'nag_alpha': 0.5, 'num_inference_steps': 4, 'generator': <torch._C.Generator object at 0x7b5cb7f82e10>, 'nag_negative_prompt': 'bright lighting', 'nag_start': 0.2}\n"
          ]
        },
        {
          "data": {
            "application/vnd.jupyter.widget-view+json": {
              "model_id": "a1aedd01153b4be48a3e8cf62a6a8963",
              "version_major": 2,
              "version_minor": 0
            },
            "text/plain": [
              "  0%|          | 0/4 [00:00<?, ?it/s]"
            ]
          },
          "metadata": {},
          "output_type": "display_data"
        },
        {
          "name": "stdout",
          "output_type": "stream",
          "text": [
            "[WRITE] lightning -> /home/azureuser/cloudfiles/code/Users/Normalized-Attention-Guidance/results-prompts2-nag-base/lightning/with_negative_start0p2/0004_1337_neg_s0p2.png\n"
          ]
        },
        {
          "name": "stderr",
          "output_type": "stream",
          "text": [
            "lightning progress:  31%|███▏      | 5/16 [00:44<01:38,  8.96s/it]"
          ]
        },
        {
          "name": "stdout",
          "output_type": "stream",
          "text": [
            "{'prompt': 'A photo of a person', 'guidance_scale': 0.0, 'nag_scale': 2.0, 'nag_end': 0.5, 'nag_tau': 2.5, 'nag_alpha': 0.5, 'num_inference_steps': 4, 'generator': <torch._C.Generator object at 0x7b5cb7f82b50>, 'nag_negative_prompt': None}\n"
          ]
        },
        {
          "data": {
            "application/vnd.jupyter.widget-view+json": {
              "model_id": "51214efb2f9e4f6ca4d93e9bd13e1592",
              "version_major": 2,
              "version_minor": 0
            },
            "text/plain": [
              "  0%|          | 0/4 [00:00<?, ?it/s]"
            ]
          },
          "metadata": {},
          "output_type": "display_data"
        },
        {
          "name": "stdout",
          "output_type": "stream",
          "text": [
            "[WRITE] lightning -> /home/azureuser/cloudfiles/code/Users/Normalized-Attention-Guidance/results-prompts2-nag-base/lightning/baseline/0005_2025_noneg.png\n",
            "{'prompt': 'A photo of a person', 'guidance_scale': 0.0, 'nag_scale': 2.0, 'nag_end': 0.5, 'nag_tau': 2.5, 'nag_alpha': 0.5, 'num_inference_steps': 4, 'generator': <torch._C.Generator object at 0x7b5cb7c60b90>, 'nag_negative_prompt': None}\n"
          ]
        },
        {
          "data": {
            "application/vnd.jupyter.widget-view+json": {
              "model_id": "024a9dac95da4052a246815f9b57cb40",
              "version_major": 2,
              "version_minor": 0
            },
            "text/plain": [
              "  0%|          | 0/4 [00:00<?, ?it/s]"
            ]
          },
          "metadata": {},
          "output_type": "display_data"
        },
        {
          "name": "stdout",
          "output_type": "stream",
          "text": [
            "[WRITE] lightning -> /home/azureuser/cloudfiles/code/Users/Normalized-Attention-Guidance/results-prompts2-nag-base/lightning/baseline/0005_42_noneg.png\n",
            "{'prompt': 'A photo of a person', 'guidance_scale': 0.0, 'nag_scale': 2.0, 'nag_end': 0.5, 'nag_tau': 2.5, 'nag_alpha': 0.5, 'num_inference_steps': 4, 'generator': <torch._C.Generator object at 0x7b5cb7c60a70>, 'nag_negative_prompt': None}\n"
          ]
        },
        {
          "data": {
            "application/vnd.jupyter.widget-view+json": {
              "model_id": "b22d106db81e4e388a1f75680d1ebafb",
              "version_major": 2,
              "version_minor": 0
            },
            "text/plain": [
              "  0%|          | 0/4 [00:00<?, ?it/s]"
            ]
          },
          "metadata": {},
          "output_type": "display_data"
        },
        {
          "name": "stdout",
          "output_type": "stream",
          "text": [
            "[WRITE] lightning -> /home/azureuser/cloudfiles/code/Users/Normalized-Attention-Guidance/results-prompts2-nag-base/lightning/baseline/0005_1337_noneg.png\n",
            "{'prompt': 'A photo of a person', 'guidance_scale': 0.0, 'nag_scale': 2.0, 'nag_end': 0.5, 'nag_tau': 2.5, 'nag_alpha': 0.5, 'num_inference_steps': 4, 'generator': <torch._C.Generator object at 0x7b5cb7c606b0>, 'nag_negative_prompt': 'dark lighting', 'nag_start': 0.0}\n"
          ]
        },
        {
          "data": {
            "application/vnd.jupyter.widget-view+json": {
              "model_id": "92d64dbe598a428d91de5e4fe6a71ae7",
              "version_major": 2,
              "version_minor": 0
            },
            "text/plain": [
              "  0%|          | 0/4 [00:00<?, ?it/s]"
            ]
          },
          "metadata": {},
          "output_type": "display_data"
        },
        {
          "name": "stdout",
          "output_type": "stream",
          "text": [
            "[WRITE] lightning -> /home/azureuser/cloudfiles/code/Users/Normalized-Attention-Guidance/results-prompts2-nag-base/lightning/with_negative_start0/0005_2025_neg_s0.png\n",
            "{'prompt': 'A photo of a person', 'guidance_scale': 0.0, 'nag_scale': 2.0, 'nag_end': 0.5, 'nag_tau': 2.5, 'nag_alpha': 0.5, 'num_inference_steps': 4, 'generator': <torch._C.Generator object at 0x7b5cb7f82b50>, 'nag_negative_prompt': 'dark lighting', 'nag_start': 0.0}\n"
          ]
        },
        {
          "data": {
            "application/vnd.jupyter.widget-view+json": {
              "model_id": "b382719c237641429ef77f808aedf5d2",
              "version_major": 2,
              "version_minor": 0
            },
            "text/plain": [
              "  0%|          | 0/4 [00:00<?, ?it/s]"
            ]
          },
          "metadata": {},
          "output_type": "display_data"
        },
        {
          "name": "stdout",
          "output_type": "stream",
          "text": [
            "[WRITE] lightning -> /home/azureuser/cloudfiles/code/Users/Normalized-Attention-Guidance/results-prompts2-nag-base/lightning/with_negative_start0/0005_42_neg_s0.png\n",
            "{'prompt': 'A photo of a person', 'guidance_scale': 0.0, 'nag_scale': 2.0, 'nag_end': 0.5, 'nag_tau': 2.5, 'nag_alpha': 0.5, 'num_inference_steps': 4, 'generator': <torch._C.Generator object at 0x7b5cb7b17dd0>, 'nag_negative_prompt': 'dark lighting', 'nag_start': 0.0}\n"
          ]
        },
        {
          "data": {
            "application/vnd.jupyter.widget-view+json": {
              "model_id": "1627f53dd27643c182706b0e0e8942ec",
              "version_major": 2,
              "version_minor": 0
            },
            "text/plain": [
              "  0%|          | 0/4 [00:00<?, ?it/s]"
            ]
          },
          "metadata": {},
          "output_type": "display_data"
        },
        {
          "name": "stdout",
          "output_type": "stream",
          "text": [
            "[WRITE] lightning -> /home/azureuser/cloudfiles/code/Users/Normalized-Attention-Guidance/results-prompts2-nag-base/lightning/with_negative_start0/0005_1337_neg_s0.png\n",
            "{'prompt': 'A photo of a person', 'guidance_scale': 0.0, 'nag_scale': 2.0, 'nag_end': 0.5, 'nag_tau': 2.5, 'nag_alpha': 0.5, 'num_inference_steps': 4, 'generator': <torch._C.Generator object at 0x7b5cb7f82b50>, 'nag_negative_prompt': 'dark lighting', 'nag_start': 0.2}\n"
          ]
        },
        {
          "data": {
            "application/vnd.jupyter.widget-view+json": {
              "model_id": "2d27c147f3d54b83a8ecedcb9e7a5373",
              "version_major": 2,
              "version_minor": 0
            },
            "text/plain": [
              "  0%|          | 0/4 [00:00<?, ?it/s]"
            ]
          },
          "metadata": {},
          "output_type": "display_data"
        },
        {
          "name": "stdout",
          "output_type": "stream",
          "text": [
            "[WRITE] lightning -> /home/azureuser/cloudfiles/code/Users/Normalized-Attention-Guidance/results-prompts2-nag-base/lightning/with_negative_start0p2/0005_2025_neg_s0p2.png\n",
            "{'prompt': 'A photo of a person', 'guidance_scale': 0.0, 'nag_scale': 2.0, 'nag_end': 0.5, 'nag_tau': 2.5, 'nag_alpha': 0.5, 'num_inference_steps': 4, 'generator': <torch._C.Generator object at 0x7b5cb7b17d50>, 'nag_negative_prompt': 'dark lighting', 'nag_start': 0.2}\n"
          ]
        },
        {
          "data": {
            "application/vnd.jupyter.widget-view+json": {
              "model_id": "d89488aef70d49279bdc42808119f28a",
              "version_major": 2,
              "version_minor": 0
            },
            "text/plain": [
              "  0%|          | 0/4 [00:00<?, ?it/s]"
            ]
          },
          "metadata": {},
          "output_type": "display_data"
        },
        {
          "name": "stdout",
          "output_type": "stream",
          "text": [
            "[WRITE] lightning -> /home/azureuser/cloudfiles/code/Users/Normalized-Attention-Guidance/results-prompts2-nag-base/lightning/with_negative_start0p2/0005_42_neg_s0p2.png\n",
            "{'prompt': 'A photo of a person', 'guidance_scale': 0.0, 'nag_scale': 2.0, 'nag_end': 0.5, 'nag_tau': 2.5, 'nag_alpha': 0.5, 'num_inference_steps': 4, 'generator': <torch._C.Generator object at 0x7b5ce0157350>, 'nag_negative_prompt': 'dark lighting', 'nag_start': 0.2}\n"
          ]
        },
        {
          "data": {
            "application/vnd.jupyter.widget-view+json": {
              "model_id": "cbb2a67e62ea4ef8be5ea8c92288992d",
              "version_major": 2,
              "version_minor": 0
            },
            "text/plain": [
              "  0%|          | 0/4 [00:00<?, ?it/s]"
            ]
          },
          "metadata": {},
          "output_type": "display_data"
        },
        {
          "name": "stdout",
          "output_type": "stream",
          "text": [
            "[WRITE] lightning -> /home/azureuser/cloudfiles/code/Users/Normalized-Attention-Guidance/results-prompts2-nag-base/lightning/with_negative_start0p2/0005_1337_neg_s0p2.png\n"
          ]
        },
        {
          "name": "stderr",
          "output_type": "stream",
          "text": [
            "lightning progress:  38%|███▊      | 6/16 [00:54<01:30,  9.04s/it]"
          ]
        },
        {
          "name": "stdout",
          "output_type": "stream",
          "text": [
            "{'prompt': 'A photo of a pet', 'guidance_scale': 0.0, 'nag_scale': 2.0, 'nag_end': 0.5, 'nag_tau': 2.5, 'nag_alpha': 0.5, 'num_inference_steps': 4, 'generator': <torch._C.Generator object at 0x7b5cb7c60b30>, 'nag_negative_prompt': None}\n"
          ]
        },
        {
          "data": {
            "application/vnd.jupyter.widget-view+json": {
              "model_id": "153d2c3244854e4194f37804bede6aba",
              "version_major": 2,
              "version_minor": 0
            },
            "text/plain": [
              "  0%|          | 0/4 [00:00<?, ?it/s]"
            ]
          },
          "metadata": {},
          "output_type": "display_data"
        },
        {
          "name": "stdout",
          "output_type": "stream",
          "text": [
            "[WRITE] lightning -> /home/azureuser/cloudfiles/code/Users/Normalized-Attention-Guidance/results-prompts2-nag-base/lightning/baseline/0006_2025_noneg.png\n",
            "{'prompt': 'A photo of a pet', 'guidance_scale': 0.0, 'nag_scale': 2.0, 'nag_end': 0.5, 'nag_tau': 2.5, 'nag_alpha': 0.5, 'num_inference_steps': 4, 'generator': <torch._C.Generator object at 0x7b5ce01571d0>, 'nag_negative_prompt': None}\n"
          ]
        },
        {
          "data": {
            "application/vnd.jupyter.widget-view+json": {
              "model_id": "c8ff35d715d945e5bbd0b4314fa99508",
              "version_major": 2,
              "version_minor": 0
            },
            "text/plain": [
              "  0%|          | 0/4 [00:00<?, ?it/s]"
            ]
          },
          "metadata": {},
          "output_type": "display_data"
        },
        {
          "name": "stdout",
          "output_type": "stream",
          "text": [
            "[WRITE] lightning -> /home/azureuser/cloudfiles/code/Users/Normalized-Attention-Guidance/results-prompts2-nag-base/lightning/baseline/0006_42_noneg.png\n",
            "{'prompt': 'A photo of a pet', 'guidance_scale': 0.0, 'nag_scale': 2.0, 'nag_end': 0.5, 'nag_tau': 2.5, 'nag_alpha': 0.5, 'num_inference_steps': 4, 'generator': <torch._C.Generator object at 0x7b5ce0156d70>, 'nag_negative_prompt': None}\n"
          ]
        },
        {
          "data": {
            "application/vnd.jupyter.widget-view+json": {
              "model_id": "c24e08f424fa4d1fb50295fe1d84e62a",
              "version_major": 2,
              "version_minor": 0
            },
            "text/plain": [
              "  0%|          | 0/4 [00:00<?, ?it/s]"
            ]
          },
          "metadata": {},
          "output_type": "display_data"
        },
        {
          "name": "stdout",
          "output_type": "stream",
          "text": [
            "[WRITE] lightning -> /home/azureuser/cloudfiles/code/Users/Normalized-Attention-Guidance/results-prompts2-nag-base/lightning/baseline/0006_1337_noneg.png\n",
            "{'prompt': 'A photo of a pet', 'guidance_scale': 0.0, 'nag_scale': 2.0, 'nag_end': 0.5, 'nag_tau': 2.5, 'nag_alpha': 0.5, 'num_inference_steps': 4, 'generator': <torch._C.Generator object at 0x7b5cb7c60b30>, 'nag_negative_prompt': 'dog', 'nag_start': 0.0}\n"
          ]
        },
        {
          "data": {
            "application/vnd.jupyter.widget-view+json": {
              "model_id": "602cd34aab6b4533b1515faf6b3dabeb",
              "version_major": 2,
              "version_minor": 0
            },
            "text/plain": [
              "  0%|          | 0/4 [00:00<?, ?it/s]"
            ]
          },
          "metadata": {},
          "output_type": "display_data"
        },
        {
          "name": "stdout",
          "output_type": "stream",
          "text": [
            "[WRITE] lightning -> /home/azureuser/cloudfiles/code/Users/Normalized-Attention-Guidance/results-prompts2-nag-base/lightning/with_negative_start0/0006_2025_neg_s0.png\n",
            "{'prompt': 'A photo of a pet', 'guidance_scale': 0.0, 'nag_scale': 2.0, 'nag_end': 0.5, 'nag_tau': 2.5, 'nag_alpha': 0.5, 'num_inference_steps': 4, 'generator': <torch._C.Generator object at 0x7b5ce0156a90>, 'nag_negative_prompt': 'dog', 'nag_start': 0.0}\n"
          ]
        },
        {
          "data": {
            "application/vnd.jupyter.widget-view+json": {
              "model_id": "2dabc80b5f7f4c11968a81ab116401bd",
              "version_major": 2,
              "version_minor": 0
            },
            "text/plain": [
              "  0%|          | 0/4 [00:00<?, ?it/s]"
            ]
          },
          "metadata": {},
          "output_type": "display_data"
        },
        {
          "name": "stdout",
          "output_type": "stream",
          "text": [
            "[WRITE] lightning -> /home/azureuser/cloudfiles/code/Users/Normalized-Attention-Guidance/results-prompts2-nag-base/lightning/with_negative_start0/0006_42_neg_s0.png\n",
            "{'prompt': 'A photo of a pet', 'guidance_scale': 0.0, 'nag_scale': 2.0, 'nag_end': 0.5, 'nag_tau': 2.5, 'nag_alpha': 0.5, 'num_inference_steps': 4, 'generator': <torch._C.Generator object at 0x7b5ce0156970>, 'nag_negative_prompt': 'dog', 'nag_start': 0.0}\n"
          ]
        },
        {
          "data": {
            "application/vnd.jupyter.widget-view+json": {
              "model_id": "27e1d8d82e7d496cac24022c28d5f402",
              "version_major": 2,
              "version_minor": 0
            },
            "text/plain": [
              "  0%|          | 0/4 [00:00<?, ?it/s]"
            ]
          },
          "metadata": {},
          "output_type": "display_data"
        },
        {
          "name": "stdout",
          "output_type": "stream",
          "text": [
            "[WRITE] lightning -> /home/azureuser/cloudfiles/code/Users/Normalized-Attention-Guidance/results-prompts2-nag-base/lightning/with_negative_start0/0006_1337_neg_s0.png\n",
            "{'prompt': 'A photo of a pet', 'guidance_scale': 0.0, 'nag_scale': 2.0, 'nag_end': 0.5, 'nag_tau': 2.5, 'nag_alpha': 0.5, 'num_inference_steps': 4, 'generator': <torch._C.Generator object at 0x7b5ce0156bb0>, 'nag_negative_prompt': 'dog', 'nag_start': 0.2}\n"
          ]
        },
        {
          "data": {
            "application/vnd.jupyter.widget-view+json": {
              "model_id": "f8d53627801f4ad4915b6cfe6963d0a1",
              "version_major": 2,
              "version_minor": 0
            },
            "text/plain": [
              "  0%|          | 0/4 [00:00<?, ?it/s]"
            ]
          },
          "metadata": {},
          "output_type": "display_data"
        },
        {
          "name": "stdout",
          "output_type": "stream",
          "text": [
            "[WRITE] lightning -> /home/azureuser/cloudfiles/code/Users/Normalized-Attention-Guidance/results-prompts2-nag-base/lightning/with_negative_start0p2/0006_2025_neg_s0p2.png\n",
            "{'prompt': 'A photo of a pet', 'guidance_scale': 0.0, 'nag_scale': 2.0, 'nag_end': 0.5, 'nag_tau': 2.5, 'nag_alpha': 0.5, 'num_inference_steps': 4, 'generator': <torch._C.Generator object at 0x7b5cb7c60b30>, 'nag_negative_prompt': 'dog', 'nag_start': 0.2}\n"
          ]
        },
        {
          "data": {
            "application/vnd.jupyter.widget-view+json": {
              "model_id": "fb17e61059434b258fd2bde9b6411cda",
              "version_major": 2,
              "version_minor": 0
            },
            "text/plain": [
              "  0%|          | 0/4 [00:00<?, ?it/s]"
            ]
          },
          "metadata": {},
          "output_type": "display_data"
        },
        {
          "name": "stdout",
          "output_type": "stream",
          "text": [
            "[WRITE] lightning -> /home/azureuser/cloudfiles/code/Users/Normalized-Attention-Guidance/results-prompts2-nag-base/lightning/with_negative_start0p2/0006_42_neg_s0p2.png\n",
            "{'prompt': 'A photo of a pet', 'guidance_scale': 0.0, 'nag_scale': 2.0, 'nag_end': 0.5, 'nag_tau': 2.5, 'nag_alpha': 0.5, 'num_inference_steps': 4, 'generator': <torch._C.Generator object at 0x7b5ce01565d0>, 'nag_negative_prompt': 'dog', 'nag_start': 0.2}\n"
          ]
        },
        {
          "data": {
            "application/vnd.jupyter.widget-view+json": {
              "model_id": "3eb1fc47b2a84e819f1bc9900c9ce146",
              "version_major": 2,
              "version_minor": 0
            },
            "text/plain": [
              "  0%|          | 0/4 [00:00<?, ?it/s]"
            ]
          },
          "metadata": {},
          "output_type": "display_data"
        },
        {
          "name": "stdout",
          "output_type": "stream",
          "text": [
            "[WRITE] lightning -> /home/azureuser/cloudfiles/code/Users/Normalized-Attention-Guidance/results-prompts2-nag-base/lightning/with_negative_start0p2/0006_1337_neg_s0p2.png\n"
          ]
        },
        {
          "name": "stderr",
          "output_type": "stream",
          "text": [
            "lightning progress:  44%|████▍     | 7/16 [01:03<01:22,  9.17s/it]"
          ]
        },
        {
          "name": "stdout",
          "output_type": "stream",
          "text": [
            "{'prompt': 'A photo of a pet', 'guidance_scale': 0.0, 'nag_scale': 2.0, 'nag_end': 0.5, 'nag_tau': 2.5, 'nag_alpha': 0.5, 'num_inference_steps': 4, 'generator': <torch._C.Generator object at 0x7b5ce0157070>, 'nag_negative_prompt': None}\n"
          ]
        },
        {
          "data": {
            "application/vnd.jupyter.widget-view+json": {
              "model_id": "e1ee71c86a9c4b51b9d9f9fddb56c98a",
              "version_major": 2,
              "version_minor": 0
            },
            "text/plain": [
              "  0%|          | 0/4 [00:00<?, ?it/s]"
            ]
          },
          "metadata": {},
          "output_type": "display_data"
        },
        {
          "name": "stdout",
          "output_type": "stream",
          "text": [
            "[WRITE] lightning -> /home/azureuser/cloudfiles/code/Users/Normalized-Attention-Guidance/results-prompts2-nag-base/lightning/baseline/0007_2025_noneg.png\n",
            "{'prompt': 'A photo of a pet', 'guidance_scale': 0.0, 'nag_scale': 2.0, 'nag_end': 0.5, 'nag_tau': 2.5, 'nag_alpha': 0.5, 'num_inference_steps': 4, 'generator': <torch._C.Generator object at 0x7b5ce0156bb0>, 'nag_negative_prompt': None}\n"
          ]
        },
        {
          "data": {
            "application/vnd.jupyter.widget-view+json": {
              "model_id": "bc3dc2f4f6c848e0a5b898486c21321c",
              "version_major": 2,
              "version_minor": 0
            },
            "text/plain": [
              "  0%|          | 0/4 [00:00<?, ?it/s]"
            ]
          },
          "metadata": {},
          "output_type": "display_data"
        },
        {
          "name": "stdout",
          "output_type": "stream",
          "text": [
            "[WRITE] lightning -> /home/azureuser/cloudfiles/code/Users/Normalized-Attention-Guidance/results-prompts2-nag-base/lightning/baseline/0007_42_noneg.png\n",
            "{'prompt': 'A photo of a pet', 'guidance_scale': 0.0, 'nag_scale': 2.0, 'nag_end': 0.5, 'nag_tau': 2.5, 'nag_alpha': 0.5, 'num_inference_steps': 4, 'generator': <torch._C.Generator object at 0x7b5ce0155df0>, 'nag_negative_prompt': None}\n"
          ]
        },
        {
          "data": {
            "application/vnd.jupyter.widget-view+json": {
              "model_id": "a615954b7def428cbf8ac4b677626e4d",
              "version_major": 2,
              "version_minor": 0
            },
            "text/plain": [
              "  0%|          | 0/4 [00:00<?, ?it/s]"
            ]
          },
          "metadata": {},
          "output_type": "display_data"
        },
        {
          "name": "stdout",
          "output_type": "stream",
          "text": [
            "[WRITE] lightning -> /home/azureuser/cloudfiles/code/Users/Normalized-Attention-Guidance/results-prompts2-nag-base/lightning/baseline/0007_1337_noneg.png\n",
            "{'prompt': 'A photo of a pet', 'guidance_scale': 0.0, 'nag_scale': 2.0, 'nag_end': 0.5, 'nag_tau': 2.5, 'nag_alpha': 0.5, 'num_inference_steps': 4, 'generator': <torch._C.Generator object at 0x7b5ce0155d50>, 'nag_negative_prompt': 'cat', 'nag_start': 0.0}\n"
          ]
        },
        {
          "data": {
            "application/vnd.jupyter.widget-view+json": {
              "model_id": "c269f809a3ef46bbb3e9593ade19ac5f",
              "version_major": 2,
              "version_minor": 0
            },
            "text/plain": [
              "  0%|          | 0/4 [00:00<?, ?it/s]"
            ]
          },
          "metadata": {},
          "output_type": "display_data"
        },
        {
          "name": "stdout",
          "output_type": "stream",
          "text": [
            "[WRITE] lightning -> /home/azureuser/cloudfiles/code/Users/Normalized-Attention-Guidance/results-prompts2-nag-base/lightning/with_negative_start0/0007_2025_neg_s0.png\n",
            "{'prompt': 'A photo of a pet', 'guidance_scale': 0.0, 'nag_scale': 2.0, 'nag_end': 0.5, 'nag_tau': 2.5, 'nag_alpha': 0.5, 'num_inference_steps': 4, 'generator': <torch._C.Generator object at 0x7b5ce0155b70>, 'nag_negative_prompt': 'cat', 'nag_start': 0.0}\n"
          ]
        },
        {
          "data": {
            "application/vnd.jupyter.widget-view+json": {
              "model_id": "623f508ca5d94b5a8e524ff5d20a7ac6",
              "version_major": 2,
              "version_minor": 0
            },
            "text/plain": [
              "  0%|          | 0/4 [00:00<?, ?it/s]"
            ]
          },
          "metadata": {},
          "output_type": "display_data"
        },
        {
          "name": "stdout",
          "output_type": "stream",
          "text": [
            "[WRITE] lightning -> /home/azureuser/cloudfiles/code/Users/Normalized-Attention-Guidance/results-prompts2-nag-base/lightning/with_negative_start0/0007_42_neg_s0.png\n",
            "{'prompt': 'A photo of a pet', 'guidance_scale': 0.0, 'nag_scale': 2.0, 'nag_end': 0.5, 'nag_tau': 2.5, 'nag_alpha': 0.5, 'num_inference_steps': 4, 'generator': <torch._C.Generator object at 0x7b5ce0155690>, 'nag_negative_prompt': 'cat', 'nag_start': 0.0}\n"
          ]
        },
        {
          "data": {
            "application/vnd.jupyter.widget-view+json": {
              "model_id": "ca1ce82d7f624bf897599f6fe5b6e8d9",
              "version_major": 2,
              "version_minor": 0
            },
            "text/plain": [
              "  0%|          | 0/4 [00:00<?, ?it/s]"
            ]
          },
          "metadata": {},
          "output_type": "display_data"
        },
        {
          "name": "stdout",
          "output_type": "stream",
          "text": [
            "[WRITE] lightning -> /home/azureuser/cloudfiles/code/Users/Normalized-Attention-Guidance/results-prompts2-nag-base/lightning/with_negative_start0/0007_1337_neg_s0.png\n",
            "{'prompt': 'A photo of a pet', 'guidance_scale': 0.0, 'nag_scale': 2.0, 'nag_end': 0.5, 'nag_tau': 2.5, 'nag_alpha': 0.5, 'num_inference_steps': 4, 'generator': <torch._C.Generator object at 0x7b5ce0155990>, 'nag_negative_prompt': 'cat', 'nag_start': 0.2}\n"
          ]
        },
        {
          "data": {
            "application/vnd.jupyter.widget-view+json": {
              "model_id": "73cdaa3245c84c6a86c30ec461315bda",
              "version_major": 2,
              "version_minor": 0
            },
            "text/plain": [
              "  0%|          | 0/4 [00:00<?, ?it/s]"
            ]
          },
          "metadata": {},
          "output_type": "display_data"
        },
        {
          "name": "stdout",
          "output_type": "stream",
          "text": [
            "[WRITE] lightning -> /home/azureuser/cloudfiles/code/Users/Normalized-Attention-Guidance/results-prompts2-nag-base/lightning/with_negative_start0p2/0007_2025_neg_s0p2.png\n",
            "{'prompt': 'A photo of a pet', 'guidance_scale': 0.0, 'nag_scale': 2.0, 'nag_end': 0.5, 'nag_tau': 2.5, 'nag_alpha': 0.5, 'num_inference_steps': 4, 'generator': <torch._C.Generator object at 0x7b5ce0155670>, 'nag_negative_prompt': 'cat', 'nag_start': 0.2}\n"
          ]
        },
        {
          "data": {
            "application/vnd.jupyter.widget-view+json": {
              "model_id": "1778f2fe69d44970ad13830f8beafc4c",
              "version_major": 2,
              "version_minor": 0
            },
            "text/plain": [
              "  0%|          | 0/4 [00:00<?, ?it/s]"
            ]
          },
          "metadata": {},
          "output_type": "display_data"
        },
        {
          "name": "stdout",
          "output_type": "stream",
          "text": [
            "[WRITE] lightning -> /home/azureuser/cloudfiles/code/Users/Normalized-Attention-Guidance/results-prompts2-nag-base/lightning/with_negative_start0p2/0007_42_neg_s0p2.png\n",
            "{'prompt': 'A photo of a pet', 'guidance_scale': 0.0, 'nag_scale': 2.0, 'nag_end': 0.5, 'nag_tau': 2.5, 'nag_alpha': 0.5, 'num_inference_steps': 4, 'generator': <torch._C.Generator object at 0x7b5ce01554f0>, 'nag_negative_prompt': 'cat', 'nag_start': 0.2}\n"
          ]
        },
        {
          "data": {
            "application/vnd.jupyter.widget-view+json": {
              "model_id": "f301f92e9eb24e678ce19d886261291a",
              "version_major": 2,
              "version_minor": 0
            },
            "text/plain": [
              "  0%|          | 0/4 [00:00<?, ?it/s]"
            ]
          },
          "metadata": {},
          "output_type": "display_data"
        },
        {
          "name": "stdout",
          "output_type": "stream",
          "text": [
            "[WRITE] lightning -> /home/azureuser/cloudfiles/code/Users/Normalized-Attention-Guidance/results-prompts2-nag-base/lightning/with_negative_start0p2/0007_1337_neg_s0p2.png\n"
          ]
        },
        {
          "name": "stderr",
          "output_type": "stream",
          "text": [
            "lightning progress:  50%|█████     | 8/16 [01:12<01:13,  9.18s/it]"
          ]
        },
        {
          "name": "stdout",
          "output_type": "stream",
          "text": [
            "{'prompt': 'A photo from the 1960s', 'guidance_scale': 0.0, 'nag_scale': 2.0, 'nag_end': 0.5, 'nag_tau': 2.5, 'nag_alpha': 0.5, 'num_inference_steps': 4, 'generator': <torch._C.Generator object at 0x7b5ce0155dd0>, 'nag_negative_prompt': None}\n"
          ]
        },
        {
          "data": {
            "application/vnd.jupyter.widget-view+json": {
              "model_id": "20092875fbc64bd8bc85261386895001",
              "version_major": 2,
              "version_minor": 0
            },
            "text/plain": [
              "  0%|          | 0/4 [00:00<?, ?it/s]"
            ]
          },
          "metadata": {},
          "output_type": "display_data"
        },
        {
          "name": "stdout",
          "output_type": "stream",
          "text": [
            "[WRITE] lightning -> /home/azureuser/cloudfiles/code/Users/Normalized-Attention-Guidance/results-prompts2-nag-base/lightning/baseline/0008_2025_noneg.png\n",
            "{'prompt': 'A photo from the 1960s', 'guidance_scale': 0.0, 'nag_scale': 2.0, 'nag_end': 0.5, 'nag_tau': 2.5, 'nag_alpha': 0.5, 'num_inference_steps': 4, 'generator': <torch._C.Generator object at 0x7b5ce8201130>, 'nag_negative_prompt': None}\n"
          ]
        },
        {
          "data": {
            "application/vnd.jupyter.widget-view+json": {
              "model_id": "6b38d205816d48548715e24d80f5c7b3",
              "version_major": 2,
              "version_minor": 0
            },
            "text/plain": [
              "  0%|          | 0/4 [00:00<?, ?it/s]"
            ]
          },
          "metadata": {},
          "output_type": "display_data"
        },
        {
          "name": "stdout",
          "output_type": "stream",
          "text": [
            "[WRITE] lightning -> /home/azureuser/cloudfiles/code/Users/Normalized-Attention-Guidance/results-prompts2-nag-base/lightning/baseline/0008_42_noneg.png\n",
            "{'prompt': 'A photo from the 1960s', 'guidance_scale': 0.0, 'nag_scale': 2.0, 'nag_end': 0.5, 'nag_tau': 2.5, 'nag_alpha': 0.5, 'num_inference_steps': 4, 'generator': <torch._C.Generator object at 0x7b5ce0155dd0>, 'nag_negative_prompt': None}\n"
          ]
        },
        {
          "data": {
            "application/vnd.jupyter.widget-view+json": {
              "model_id": "6bddee78a62f41229d35be46c64b165a",
              "version_major": 2,
              "version_minor": 0
            },
            "text/plain": [
              "  0%|          | 0/4 [00:00<?, ?it/s]"
            ]
          },
          "metadata": {},
          "output_type": "display_data"
        },
        {
          "name": "stdout",
          "output_type": "stream",
          "text": [
            "[WRITE] lightning -> /home/azureuser/cloudfiles/code/Users/Normalized-Attention-Guidance/results-prompts2-nag-base/lightning/baseline/0008_1337_noneg.png\n",
            "{'prompt': 'A photo from the 1960s', 'guidance_scale': 0.0, 'nag_scale': 2.0, 'nag_end': 0.5, 'nag_tau': 2.5, 'nag_alpha': 0.5, 'num_inference_steps': 4, 'generator': <torch._C.Generator object at 0x7b5ce8200d70>, 'nag_negative_prompt': 'colour', 'nag_start': 0.0}\n"
          ]
        },
        {
          "data": {
            "application/vnd.jupyter.widget-view+json": {
              "model_id": "1de5293c5026445f89e6b2132ca3c15c",
              "version_major": 2,
              "version_minor": 0
            },
            "text/plain": [
              "  0%|          | 0/4 [00:00<?, ?it/s]"
            ]
          },
          "metadata": {},
          "output_type": "display_data"
        },
        {
          "name": "stdout",
          "output_type": "stream",
          "text": [
            "[WRITE] lightning -> /home/azureuser/cloudfiles/code/Users/Normalized-Attention-Guidance/results-prompts2-nag-base/lightning/with_negative_start0/0008_2025_neg_s0.png\n",
            "{'prompt': 'A photo from the 1960s', 'guidance_scale': 0.0, 'nag_scale': 2.0, 'nag_end': 0.5, 'nag_tau': 2.5, 'nag_alpha': 0.5, 'num_inference_steps': 4, 'generator': <torch._C.Generator object at 0x7b5ce01564f0>, 'nag_negative_prompt': 'colour', 'nag_start': 0.0}\n"
          ]
        },
        {
          "data": {
            "application/vnd.jupyter.widget-view+json": {
              "model_id": "5845a182e1604894a6a941bd20d2ac00",
              "version_major": 2,
              "version_minor": 0
            },
            "text/plain": [
              "  0%|          | 0/4 [00:00<?, ?it/s]"
            ]
          },
          "metadata": {},
          "output_type": "display_data"
        },
        {
          "name": "stdout",
          "output_type": "stream",
          "text": [
            "[WRITE] lightning -> /home/azureuser/cloudfiles/code/Users/Normalized-Attention-Guidance/results-prompts2-nag-base/lightning/with_negative_start0/0008_42_neg_s0.png\n",
            "{'prompt': 'A photo from the 1960s', 'guidance_scale': 0.0, 'nag_scale': 2.0, 'nag_end': 0.5, 'nag_tau': 2.5, 'nag_alpha': 0.5, 'num_inference_steps': 4, 'generator': <torch._C.Generator object at 0x7b5ce0157890>, 'nag_negative_prompt': 'colour', 'nag_start': 0.0}\n"
          ]
        },
        {
          "data": {
            "application/vnd.jupyter.widget-view+json": {
              "model_id": "b9d69f11bb4145e99b9a6c00edf50061",
              "version_major": 2,
              "version_minor": 0
            },
            "text/plain": [
              "  0%|          | 0/4 [00:00<?, ?it/s]"
            ]
          },
          "metadata": {},
          "output_type": "display_data"
        },
        {
          "name": "stdout",
          "output_type": "stream",
          "text": [
            "[WRITE] lightning -> /home/azureuser/cloudfiles/code/Users/Normalized-Attention-Guidance/results-prompts2-nag-base/lightning/with_negative_start0/0008_1337_neg_s0.png\n",
            "{'prompt': 'A photo from the 1960s', 'guidance_scale': 0.0, 'nag_scale': 2.0, 'nag_end': 0.5, 'nag_tau': 2.5, 'nag_alpha': 0.5, 'num_inference_steps': 4, 'generator': <torch._C.Generator object at 0x7b5ce8201130>, 'nag_negative_prompt': 'colour', 'nag_start': 0.2}\n"
          ]
        },
        {
          "data": {
            "application/vnd.jupyter.widget-view+json": {
              "model_id": "9830e2b4f466480491a2328016f13760",
              "version_major": 2,
              "version_minor": 0
            },
            "text/plain": [
              "  0%|          | 0/4 [00:00<?, ?it/s]"
            ]
          },
          "metadata": {},
          "output_type": "display_data"
        },
        {
          "name": "stdout",
          "output_type": "stream",
          "text": [
            "[WRITE] lightning -> /home/azureuser/cloudfiles/code/Users/Normalized-Attention-Guidance/results-prompts2-nag-base/lightning/with_negative_start0p2/0008_2025_neg_s0p2.png\n",
            "{'prompt': 'A photo from the 1960s', 'guidance_scale': 0.0, 'nag_scale': 2.0, 'nag_end': 0.5, 'nag_tau': 2.5, 'nag_alpha': 0.5, 'num_inference_steps': 4, 'generator': <torch._C.Generator object at 0x7b5ce01564f0>, 'nag_negative_prompt': 'colour', 'nag_start': 0.2}\n"
          ]
        },
        {
          "data": {
            "application/vnd.jupyter.widget-view+json": {
              "model_id": "0ed3c2109db840c1882c22a59f00a23d",
              "version_major": 2,
              "version_minor": 0
            },
            "text/plain": [
              "  0%|          | 0/4 [00:00<?, ?it/s]"
            ]
          },
          "metadata": {},
          "output_type": "display_data"
        },
        {
          "name": "stdout",
          "output_type": "stream",
          "text": [
            "[WRITE] lightning -> /home/azureuser/cloudfiles/code/Users/Normalized-Attention-Guidance/results-prompts2-nag-base/lightning/with_negative_start0p2/0008_42_neg_s0p2.png\n",
            "{'prompt': 'A photo from the 1960s', 'guidance_scale': 0.0, 'nag_scale': 2.0, 'nag_end': 0.5, 'nag_tau': 2.5, 'nag_alpha': 0.5, 'num_inference_steps': 4, 'generator': <torch._C.Generator object at 0x7b5ce0157890>, 'nag_negative_prompt': 'colour', 'nag_start': 0.2}\n"
          ]
        },
        {
          "data": {
            "application/vnd.jupyter.widget-view+json": {
              "model_id": "892a72cb4a8d4e53b58a73fdddc90384",
              "version_major": 2,
              "version_minor": 0
            },
            "text/plain": [
              "  0%|          | 0/4 [00:00<?, ?it/s]"
            ]
          },
          "metadata": {},
          "output_type": "display_data"
        },
        {
          "name": "stdout",
          "output_type": "stream",
          "text": [
            "[WRITE] lightning -> /home/azureuser/cloudfiles/code/Users/Normalized-Attention-Guidance/results-prompts2-nag-base/lightning/with_negative_start0p2/0008_1337_neg_s0p2.png\n"
          ]
        },
        {
          "name": "stderr",
          "output_type": "stream",
          "text": [
            "lightning progress:  56%|█████▋    | 9/16 [01:21<01:03,  9.11s/it]"
          ]
        },
        {
          "name": "stdout",
          "output_type": "stream",
          "text": [
            "{'prompt': 'A photo from the 1960s', 'guidance_scale': 0.0, 'nag_scale': 2.0, 'nag_end': 0.5, 'nag_tau': 2.5, 'nag_alpha': 0.5, 'num_inference_steps': 4, 'generator': <torch._C.Generator object at 0x7b5ce8200bf0>, 'nag_negative_prompt': None}\n"
          ]
        },
        {
          "data": {
            "application/vnd.jupyter.widget-view+json": {
              "model_id": "9907ee4b0a0d4f6293957745525d43bc",
              "version_major": 2,
              "version_minor": 0
            },
            "text/plain": [
              "  0%|          | 0/4 [00:00<?, ?it/s]"
            ]
          },
          "metadata": {},
          "output_type": "display_data"
        },
        {
          "name": "stdout",
          "output_type": "stream",
          "text": [
            "[WRITE] lightning -> /home/azureuser/cloudfiles/code/Users/Normalized-Attention-Guidance/results-prompts2-nag-base/lightning/baseline/0009_2025_noneg.png\n",
            "{'prompt': 'A photo from the 1960s', 'guidance_scale': 0.0, 'nag_scale': 2.0, 'nag_end': 0.5, 'nag_tau': 2.5, 'nag_alpha': 0.5, 'num_inference_steps': 4, 'generator': <torch._C.Generator object at 0x7b5cb7bd1250>, 'nag_negative_prompt': None}\n"
          ]
        },
        {
          "data": {
            "application/vnd.jupyter.widget-view+json": {
              "model_id": "d3052d9515044fc1ae0197f2f728bd0b",
              "version_major": 2,
              "version_minor": 0
            },
            "text/plain": [
              "  0%|          | 0/4 [00:00<?, ?it/s]"
            ]
          },
          "metadata": {},
          "output_type": "display_data"
        },
        {
          "name": "stdout",
          "output_type": "stream",
          "text": [
            "[WRITE] lightning -> /home/azureuser/cloudfiles/code/Users/Normalized-Attention-Guidance/results-prompts2-nag-base/lightning/baseline/0009_42_noneg.png\n",
            "{'prompt': 'A photo from the 1960s', 'guidance_scale': 0.0, 'nag_scale': 2.0, 'nag_end': 0.5, 'nag_tau': 2.5, 'nag_alpha': 0.5, 'num_inference_steps': 4, 'generator': <torch._C.Generator object at 0x7b5ce01564f0>, 'nag_negative_prompt': None}\n"
          ]
        },
        {
          "data": {
            "application/vnd.jupyter.widget-view+json": {
              "model_id": "8cb7cbf9faa04a45be2e6157dc27bceb",
              "version_major": 2,
              "version_minor": 0
            },
            "text/plain": [
              "  0%|          | 0/4 [00:00<?, ?it/s]"
            ]
          },
          "metadata": {},
          "output_type": "display_data"
        },
        {
          "name": "stdout",
          "output_type": "stream",
          "text": [
            "[WRITE] lightning -> /home/azureuser/cloudfiles/code/Users/Normalized-Attention-Guidance/results-prompts2-nag-base/lightning/baseline/0009_1337_noneg.png\n",
            "{'prompt': 'A photo from the 1960s', 'guidance_scale': 0.0, 'nag_scale': 2.0, 'nag_end': 0.5, 'nag_tau': 2.5, 'nag_alpha': 0.5, 'num_inference_steps': 4, 'generator': <torch._C.Generator object at 0x7b5ce8200bf0>, 'nag_negative_prompt': 'black and white', 'nag_start': 0.0}\n"
          ]
        },
        {
          "data": {
            "application/vnd.jupyter.widget-view+json": {
              "model_id": "dd6eea0e09bb4fc59b4347035dddf19b",
              "version_major": 2,
              "version_minor": 0
            },
            "text/plain": [
              "  0%|          | 0/4 [00:00<?, ?it/s]"
            ]
          },
          "metadata": {},
          "output_type": "display_data"
        },
        {
          "name": "stdout",
          "output_type": "stream",
          "text": [
            "[WRITE] lightning -> /home/azureuser/cloudfiles/code/Users/Normalized-Attention-Guidance/results-prompts2-nag-base/lightning/with_negative_start0/0009_2025_neg_s0.png\n",
            "{'prompt': 'A photo from the 1960s', 'guidance_scale': 0.0, 'nag_scale': 2.0, 'nag_end': 0.5, 'nag_tau': 2.5, 'nag_alpha': 0.5, 'num_inference_steps': 4, 'generator': <torch._C.Generator object at 0x7b5ce0157890>, 'nag_negative_prompt': 'black and white', 'nag_start': 0.0}\n"
          ]
        },
        {
          "data": {
            "application/vnd.jupyter.widget-view+json": {
              "model_id": "553fbda72f8d42339346fd94df9d6f26",
              "version_major": 2,
              "version_minor": 0
            },
            "text/plain": [
              "  0%|          | 0/4 [00:00<?, ?it/s]"
            ]
          },
          "metadata": {},
          "output_type": "display_data"
        },
        {
          "name": "stdout",
          "output_type": "stream",
          "text": [
            "[WRITE] lightning -> /home/azureuser/cloudfiles/code/Users/Normalized-Attention-Guidance/results-prompts2-nag-base/lightning/with_negative_start0/0009_42_neg_s0.png\n",
            "{'prompt': 'A photo from the 1960s', 'guidance_scale': 0.0, 'nag_scale': 2.0, 'nag_end': 0.5, 'nag_tau': 2.5, 'nag_alpha': 0.5, 'num_inference_steps': 4, 'generator': <torch._C.Generator object at 0x7b5cb7bd14f0>, 'nag_negative_prompt': 'black and white', 'nag_start': 0.0}\n"
          ]
        },
        {
          "data": {
            "application/vnd.jupyter.widget-view+json": {
              "model_id": "065235ec1ca74e1da502b9190b9a2abd",
              "version_major": 2,
              "version_minor": 0
            },
            "text/plain": [
              "  0%|          | 0/4 [00:00<?, ?it/s]"
            ]
          },
          "metadata": {},
          "output_type": "display_data"
        },
        {
          "name": "stdout",
          "output_type": "stream",
          "text": [
            "[WRITE] lightning -> /home/azureuser/cloudfiles/code/Users/Normalized-Attention-Guidance/results-prompts2-nag-base/lightning/with_negative_start0/0009_1337_neg_s0.png\n",
            "{'prompt': 'A photo from the 1960s', 'guidance_scale': 0.0, 'nag_scale': 2.0, 'nag_end': 0.5, 'nag_tau': 2.5, 'nag_alpha': 0.5, 'num_inference_steps': 4, 'generator': <torch._C.Generator object at 0x7b5cb7bd05f0>, 'nag_negative_prompt': 'black and white', 'nag_start': 0.2}\n"
          ]
        },
        {
          "data": {
            "application/vnd.jupyter.widget-view+json": {
              "model_id": "745cb29ec9d644e19064ecd85f4a665e",
              "version_major": 2,
              "version_minor": 0
            },
            "text/plain": [
              "  0%|          | 0/4 [00:00<?, ?it/s]"
            ]
          },
          "metadata": {},
          "output_type": "display_data"
        },
        {
          "name": "stdout",
          "output_type": "stream",
          "text": [
            "[WRITE] lightning -> /home/azureuser/cloudfiles/code/Users/Normalized-Attention-Guidance/results-prompts2-nag-base/lightning/with_negative_start0p2/0009_2025_neg_s0p2.png\n",
            "{'prompt': 'A photo from the 1960s', 'guidance_scale': 0.0, 'nag_scale': 2.0, 'nag_end': 0.5, 'nag_tau': 2.5, 'nag_alpha': 0.5, 'num_inference_steps': 4, 'generator': <torch._C.Generator object at 0x7b5ce0157890>, 'nag_negative_prompt': 'black and white', 'nag_start': 0.2}\n"
          ]
        },
        {
          "data": {
            "application/vnd.jupyter.widget-view+json": {
              "model_id": "8204c5848e25481884a6c259bf311916",
              "version_major": 2,
              "version_minor": 0
            },
            "text/plain": [
              "  0%|          | 0/4 [00:00<?, ?it/s]"
            ]
          },
          "metadata": {},
          "output_type": "display_data"
        },
        {
          "name": "stdout",
          "output_type": "stream",
          "text": [
            "[WRITE] lightning -> /home/azureuser/cloudfiles/code/Users/Normalized-Attention-Guidance/results-prompts2-nag-base/lightning/with_negative_start0p2/0009_42_neg_s0p2.png\n",
            "{'prompt': 'A photo from the 1960s', 'guidance_scale': 0.0, 'nag_scale': 2.0, 'nag_end': 0.5, 'nag_tau': 2.5, 'nag_alpha': 0.5, 'num_inference_steps': 4, 'generator': <torch._C.Generator object at 0x7b5ce8200bf0>, 'nag_negative_prompt': 'black and white', 'nag_start': 0.2}\n"
          ]
        },
        {
          "data": {
            "application/vnd.jupyter.widget-view+json": {
              "model_id": "526f3baa942c468182115de022360b7b",
              "version_major": 2,
              "version_minor": 0
            },
            "text/plain": [
              "  0%|          | 0/4 [00:00<?, ?it/s]"
            ]
          },
          "metadata": {},
          "output_type": "display_data"
        },
        {
          "name": "stdout",
          "output_type": "stream",
          "text": [
            "[WRITE] lightning -> /home/azureuser/cloudfiles/code/Users/Normalized-Attention-Guidance/results-prompts2-nag-base/lightning/with_negative_start0p2/0009_1337_neg_s0p2.png\n"
          ]
        },
        {
          "name": "stderr",
          "output_type": "stream",
          "text": [
            "lightning progress:  62%|██████▎   | 10/16 [01:31<00:55,  9.27s/it]"
          ]
        },
        {
          "name": "stdout",
          "output_type": "stream",
          "text": [
            "{'prompt': 'A still painting of fruits', 'guidance_scale': 0.0, 'nag_scale': 2.0, 'nag_end': 0.5, 'nag_tau': 2.5, 'nag_alpha': 0.5, 'num_inference_steps': 4, 'generator': <torch._C.Generator object at 0x7b5cb7bd0d90>, 'nag_negative_prompt': None}\n"
          ]
        },
        {
          "data": {
            "application/vnd.jupyter.widget-view+json": {
              "model_id": "49e03eb720114683bb4dad3f7f61e308",
              "version_major": 2,
              "version_minor": 0
            },
            "text/plain": [
              "  0%|          | 0/4 [00:00<?, ?it/s]"
            ]
          },
          "metadata": {},
          "output_type": "display_data"
        },
        {
          "name": "stdout",
          "output_type": "stream",
          "text": [
            "[WRITE] lightning -> /home/azureuser/cloudfiles/code/Users/Normalized-Attention-Guidance/results-prompts2-nag-base/lightning/baseline/0010_2025_noneg.png\n",
            "{'prompt': 'A still painting of fruits', 'guidance_scale': 0.0, 'nag_scale': 2.0, 'nag_end': 0.5, 'nag_tau': 2.5, 'nag_alpha': 0.5, 'num_inference_steps': 4, 'generator': <torch._C.Generator object at 0x7b5cb7bd1990>, 'nag_negative_prompt': None}\n"
          ]
        },
        {
          "data": {
            "application/vnd.jupyter.widget-view+json": {
              "model_id": "bfe295df10754b50aef708f0ee3ca5cc",
              "version_major": 2,
              "version_minor": 0
            },
            "text/plain": [
              "  0%|          | 0/4 [00:00<?, ?it/s]"
            ]
          },
          "metadata": {},
          "output_type": "display_data"
        },
        {
          "name": "stdout",
          "output_type": "stream",
          "text": [
            "[WRITE] lightning -> /home/azureuser/cloudfiles/code/Users/Normalized-Attention-Guidance/results-prompts2-nag-base/lightning/baseline/0010_42_noneg.png\n",
            "{'prompt': 'A still painting of fruits', 'guidance_scale': 0.0, 'nag_scale': 2.0, 'nag_end': 0.5, 'nag_tau': 2.5, 'nag_alpha': 0.5, 'num_inference_steps': 4, 'generator': <torch._C.Generator object at 0x7b5cb7bd1bb0>, 'nag_negative_prompt': None}\n"
          ]
        },
        {
          "data": {
            "application/vnd.jupyter.widget-view+json": {
              "model_id": "04dfd35f206f443e898d1aa2852e87da",
              "version_major": 2,
              "version_minor": 0
            },
            "text/plain": [
              "  0%|          | 0/4 [00:00<?, ?it/s]"
            ]
          },
          "metadata": {},
          "output_type": "display_data"
        },
        {
          "name": "stdout",
          "output_type": "stream",
          "text": [
            "[WRITE] lightning -> /home/azureuser/cloudfiles/code/Users/Normalized-Attention-Guidance/results-prompts2-nag-base/lightning/baseline/0010_1337_noneg.png\n",
            "{'prompt': 'A still painting of fruits', 'guidance_scale': 0.0, 'nag_scale': 2.0, 'nag_end': 0.5, 'nag_tau': 2.5, 'nag_alpha': 0.5, 'num_inference_steps': 4, 'generator': <torch._C.Generator object at 0x7b5cb7bd2250>, 'nag_negative_prompt': 'grapes', 'nag_start': 0.0}\n"
          ]
        },
        {
          "data": {
            "application/vnd.jupyter.widget-view+json": {
              "model_id": "85f28a3d188f4593b350ad85123e6bab",
              "version_major": 2,
              "version_minor": 0
            },
            "text/plain": [
              "  0%|          | 0/4 [00:00<?, ?it/s]"
            ]
          },
          "metadata": {},
          "output_type": "display_data"
        },
        {
          "name": "stdout",
          "output_type": "stream",
          "text": [
            "[WRITE] lightning -> /home/azureuser/cloudfiles/code/Users/Normalized-Attention-Guidance/results-prompts2-nag-base/lightning/with_negative_start0/0010_2025_neg_s0.png\n",
            "{'prompt': 'A still painting of fruits', 'guidance_scale': 0.0, 'nag_scale': 2.0, 'nag_end': 0.5, 'nag_tau': 2.5, 'nag_alpha': 0.5, 'num_inference_steps': 4, 'generator': <torch._C.Generator object at 0x7b5cb7bd2110>, 'nag_negative_prompt': 'grapes', 'nag_start': 0.0}\n"
          ]
        },
        {
          "data": {
            "application/vnd.jupyter.widget-view+json": {
              "model_id": "f9ad8424ceaf4d6d86a53152af5181ed",
              "version_major": 2,
              "version_minor": 0
            },
            "text/plain": [
              "  0%|          | 0/4 [00:00<?, ?it/s]"
            ]
          },
          "metadata": {},
          "output_type": "display_data"
        },
        {
          "name": "stdout",
          "output_type": "stream",
          "text": [
            "[WRITE] lightning -> /home/azureuser/cloudfiles/code/Users/Normalized-Attention-Guidance/results-prompts2-nag-base/lightning/with_negative_start0/0010_42_neg_s0.png\n",
            "{'prompt': 'A still painting of fruits', 'guidance_scale': 0.0, 'nag_scale': 2.0, 'nag_end': 0.5, 'nag_tau': 2.5, 'nag_alpha': 0.5, 'num_inference_steps': 4, 'generator': <torch._C.Generator object at 0x7b5cb7bd2150>, 'nag_negative_prompt': 'grapes', 'nag_start': 0.0}\n"
          ]
        },
        {
          "data": {
            "application/vnd.jupyter.widget-view+json": {
              "model_id": "4d6f9d96e65e40b4b18ee1284da0ada2",
              "version_major": 2,
              "version_minor": 0
            },
            "text/plain": [
              "  0%|          | 0/4 [00:00<?, ?it/s]"
            ]
          },
          "metadata": {},
          "output_type": "display_data"
        },
        {
          "name": "stdout",
          "output_type": "stream",
          "text": [
            "[WRITE] lightning -> /home/azureuser/cloudfiles/code/Users/Normalized-Attention-Guidance/results-prompts2-nag-base/lightning/with_negative_start0/0010_1337_neg_s0.png\n",
            "{'prompt': 'A still painting of fruits', 'guidance_scale': 0.0, 'nag_scale': 2.0, 'nag_end': 0.5, 'nag_tau': 2.5, 'nag_alpha': 0.5, 'num_inference_steps': 4, 'generator': <torch._C.Generator object at 0x7b5cb7bd2310>, 'nag_negative_prompt': 'grapes', 'nag_start': 0.2}\n"
          ]
        },
        {
          "data": {
            "application/vnd.jupyter.widget-view+json": {
              "model_id": "43717bfcd75042a78f09d509141259cd",
              "version_major": 2,
              "version_minor": 0
            },
            "text/plain": [
              "  0%|          | 0/4 [00:00<?, ?it/s]"
            ]
          },
          "metadata": {},
          "output_type": "display_data"
        },
        {
          "name": "stdout",
          "output_type": "stream",
          "text": [
            "[WRITE] lightning -> /home/azureuser/cloudfiles/code/Users/Normalized-Attention-Guidance/results-prompts2-nag-base/lightning/with_negative_start0p2/0010_2025_neg_s0p2.png\n",
            "{'prompt': 'A still painting of fruits', 'guidance_scale': 0.0, 'nag_scale': 2.0, 'nag_end': 0.5, 'nag_tau': 2.5, 'nag_alpha': 0.5, 'num_inference_steps': 4, 'generator': <torch._C.Generator object at 0x7b5cb7bd26f0>, 'nag_negative_prompt': 'grapes', 'nag_start': 0.2}\n"
          ]
        },
        {
          "data": {
            "application/vnd.jupyter.widget-view+json": {
              "model_id": "c30c190cf96b4244875455945ca911cb",
              "version_major": 2,
              "version_minor": 0
            },
            "text/plain": [
              "  0%|          | 0/4 [00:00<?, ?it/s]"
            ]
          },
          "metadata": {},
          "output_type": "display_data"
        },
        {
          "name": "stdout",
          "output_type": "stream",
          "text": [
            "[WRITE] lightning -> /home/azureuser/cloudfiles/code/Users/Normalized-Attention-Guidance/results-prompts2-nag-base/lightning/with_negative_start0p2/0010_42_neg_s0p2.png\n",
            "{'prompt': 'A still painting of fruits', 'guidance_scale': 0.0, 'nag_scale': 2.0, 'nag_end': 0.5, 'nag_tau': 2.5, 'nag_alpha': 0.5, 'num_inference_steps': 4, 'generator': <torch._C.Generator object at 0x7b5cb7bd2a10>, 'nag_negative_prompt': 'grapes', 'nag_start': 0.2}\n"
          ]
        },
        {
          "data": {
            "application/vnd.jupyter.widget-view+json": {
              "model_id": "59c2b081f567435f930b040404957e14",
              "version_major": 2,
              "version_minor": 0
            },
            "text/plain": [
              "  0%|          | 0/4 [00:00<?, ?it/s]"
            ]
          },
          "metadata": {},
          "output_type": "display_data"
        },
        {
          "name": "stdout",
          "output_type": "stream",
          "text": [
            "[WRITE] lightning -> /home/azureuser/cloudfiles/code/Users/Normalized-Attention-Guidance/results-prompts2-nag-base/lightning/with_negative_start0p2/0010_1337_neg_s0p2.png\n"
          ]
        },
        {
          "name": "stderr",
          "output_type": "stream",
          "text": [
            "lightning progress:  69%|██████▉   | 11/16 [01:41<00:48,  9.64s/it]"
          ]
        },
        {
          "name": "stdout",
          "output_type": "stream",
          "text": [
            "{'prompt': 'A still painting of fruits', 'guidance_scale': 0.0, 'nag_scale': 2.0, 'nag_end': 0.5, 'nag_tau': 2.5, 'nag_alpha': 0.5, 'num_inference_steps': 4, 'generator': <torch._C.Generator object at 0x7b5cb7bd1cd0>, 'nag_negative_prompt': None}\n"
          ]
        },
        {
          "data": {
            "application/vnd.jupyter.widget-view+json": {
              "model_id": "52572c8dcc6941fc9c19e27e1c85bc9a",
              "version_major": 2,
              "version_minor": 0
            },
            "text/plain": [
              "  0%|          | 0/4 [00:00<?, ?it/s]"
            ]
          },
          "metadata": {},
          "output_type": "display_data"
        },
        {
          "name": "stdout",
          "output_type": "stream",
          "text": [
            "[WRITE] lightning -> /home/azureuser/cloudfiles/code/Users/Normalized-Attention-Guidance/results-prompts2-nag-base/lightning/baseline/0011_2025_noneg.png\n",
            "{'prompt': 'A still painting of fruits', 'guidance_scale': 0.0, 'nag_scale': 2.0, 'nag_end': 0.5, 'nag_tau': 2.5, 'nag_alpha': 0.5, 'num_inference_steps': 4, 'generator': <torch._C.Generator object at 0x7b5cb7bd2b30>, 'nag_negative_prompt': None}\n"
          ]
        },
        {
          "data": {
            "application/vnd.jupyter.widget-view+json": {
              "model_id": "d6a69062efbf46b99add6ddc1c909cfa",
              "version_major": 2,
              "version_minor": 0
            },
            "text/plain": [
              "  0%|          | 0/4 [00:00<?, ?it/s]"
            ]
          },
          "metadata": {},
          "output_type": "display_data"
        },
        {
          "name": "stdout",
          "output_type": "stream",
          "text": [
            "[WRITE] lightning -> /home/azureuser/cloudfiles/code/Users/Normalized-Attention-Guidance/results-prompts2-nag-base/lightning/baseline/0011_42_noneg.png\n",
            "{'prompt': 'A still painting of fruits', 'guidance_scale': 0.0, 'nag_scale': 2.0, 'nag_end': 0.5, 'nag_tau': 2.5, 'nag_alpha': 0.5, 'num_inference_steps': 4, 'generator': <torch._C.Generator object at 0x7b5cb7bd3050>, 'nag_negative_prompt': None}\n"
          ]
        },
        {
          "data": {
            "application/vnd.jupyter.widget-view+json": {
              "model_id": "f6336aaab2de4b069af18accf199ba6a",
              "version_major": 2,
              "version_minor": 0
            },
            "text/plain": [
              "  0%|          | 0/4 [00:00<?, ?it/s]"
            ]
          },
          "metadata": {},
          "output_type": "display_data"
        },
        {
          "name": "stdout",
          "output_type": "stream",
          "text": [
            "[WRITE] lightning -> /home/azureuser/cloudfiles/code/Users/Normalized-Attention-Guidance/results-prompts2-nag-base/lightning/baseline/0011_1337_noneg.png\n",
            "{'prompt': 'A still painting of fruits', 'guidance_scale': 0.0, 'nag_scale': 2.0, 'nag_end': 0.5, 'nag_tau': 2.5, 'nag_alpha': 0.5, 'num_inference_steps': 4, 'generator': <torch._C.Generator object at 0x7b5cb7bd33b0>, 'nag_negative_prompt': 'apples', 'nag_start': 0.0}\n"
          ]
        },
        {
          "data": {
            "application/vnd.jupyter.widget-view+json": {
              "model_id": "821234b494e546608577ad1c3e0039af",
              "version_major": 2,
              "version_minor": 0
            },
            "text/plain": [
              "  0%|          | 0/4 [00:00<?, ?it/s]"
            ]
          },
          "metadata": {},
          "output_type": "display_data"
        },
        {
          "name": "stdout",
          "output_type": "stream",
          "text": [
            "[WRITE] lightning -> /home/azureuser/cloudfiles/code/Users/Normalized-Attention-Guidance/results-prompts2-nag-base/lightning/with_negative_start0/0011_2025_neg_s0.png\n",
            "{'prompt': 'A still painting of fruits', 'guidance_scale': 0.0, 'nag_scale': 2.0, 'nag_end': 0.5, 'nag_tau': 2.5, 'nag_alpha': 0.5, 'num_inference_steps': 4, 'generator': <torch._C.Generator object at 0x7b5cb7bd2bb0>, 'nag_negative_prompt': 'apples', 'nag_start': 0.0}\n"
          ]
        },
        {
          "data": {
            "application/vnd.jupyter.widget-view+json": {
              "model_id": "222b67e9826c47a58afd08f23cd628de",
              "version_major": 2,
              "version_minor": 0
            },
            "text/plain": [
              "  0%|          | 0/4 [00:00<?, ?it/s]"
            ]
          },
          "metadata": {},
          "output_type": "display_data"
        },
        {
          "name": "stdout",
          "output_type": "stream",
          "text": [
            "[WRITE] lightning -> /home/azureuser/cloudfiles/code/Users/Normalized-Attention-Guidance/results-prompts2-nag-base/lightning/with_negative_start0/0011_42_neg_s0.png\n",
            "{'prompt': 'A still painting of fruits', 'guidance_scale': 0.0, 'nag_scale': 2.0, 'nag_end': 0.5, 'nag_tau': 2.5, 'nag_alpha': 0.5, 'num_inference_steps': 4, 'generator': <torch._C.Generator object at 0x7b5cb7bd3610>, 'nag_negative_prompt': 'apples', 'nag_start': 0.0}\n"
          ]
        },
        {
          "data": {
            "application/vnd.jupyter.widget-view+json": {
              "model_id": "72b914b35dbe44ea920be0203606fedc",
              "version_major": 2,
              "version_minor": 0
            },
            "text/plain": [
              "  0%|          | 0/4 [00:00<?, ?it/s]"
            ]
          },
          "metadata": {},
          "output_type": "display_data"
        },
        {
          "name": "stdout",
          "output_type": "stream",
          "text": [
            "[WRITE] lightning -> /home/azureuser/cloudfiles/code/Users/Normalized-Attention-Guidance/results-prompts2-nag-base/lightning/with_negative_start0/0011_1337_neg_s0.png\n",
            "{'prompt': 'A still painting of fruits', 'guidance_scale': 0.0, 'nag_scale': 2.0, 'nag_end': 0.5, 'nag_tau': 2.5, 'nag_alpha': 0.5, 'num_inference_steps': 4, 'generator': <torch._C.Generator object at 0x7b5cb7bd2fd0>, 'nag_negative_prompt': 'apples', 'nag_start': 0.2}\n"
          ]
        },
        {
          "data": {
            "application/vnd.jupyter.widget-view+json": {
              "model_id": "1f2aa9f4dc3745239d63b1ae6bb8a3f3",
              "version_major": 2,
              "version_minor": 0
            },
            "text/plain": [
              "  0%|          | 0/4 [00:00<?, ?it/s]"
            ]
          },
          "metadata": {},
          "output_type": "display_data"
        },
        {
          "name": "stdout",
          "output_type": "stream",
          "text": [
            "[WRITE] lightning -> /home/azureuser/cloudfiles/code/Users/Normalized-Attention-Guidance/results-prompts2-nag-base/lightning/with_negative_start0p2/0011_2025_neg_s0p2.png\n",
            "{'prompt': 'A still painting of fruits', 'guidance_scale': 0.0, 'nag_scale': 2.0, 'nag_end': 0.5, 'nag_tau': 2.5, 'nag_alpha': 0.5, 'num_inference_steps': 4, 'generator': <torch._C.Generator object at 0x7b5cb7bd3930>, 'nag_negative_prompt': 'apples', 'nag_start': 0.2}\n"
          ]
        },
        {
          "data": {
            "application/vnd.jupyter.widget-view+json": {
              "model_id": "84a15da5b3044c469e495e4df9b31dde",
              "version_major": 2,
              "version_minor": 0
            },
            "text/plain": [
              "  0%|          | 0/4 [00:00<?, ?it/s]"
            ]
          },
          "metadata": {},
          "output_type": "display_data"
        },
        {
          "name": "stdout",
          "output_type": "stream",
          "text": [
            "[WRITE] lightning -> /home/azureuser/cloudfiles/code/Users/Normalized-Attention-Guidance/results-prompts2-nag-base/lightning/with_negative_start0p2/0011_42_neg_s0p2.png\n",
            "{'prompt': 'A still painting of fruits', 'guidance_scale': 0.0, 'nag_scale': 2.0, 'nag_end': 0.5, 'nag_tau': 2.5, 'nag_alpha': 0.5, 'num_inference_steps': 4, 'generator': <torch._C.Generator object at 0x7b5cb7bd36f0>, 'nag_negative_prompt': 'apples', 'nag_start': 0.2}\n"
          ]
        },
        {
          "data": {
            "application/vnd.jupyter.widget-view+json": {
              "model_id": "76aa2e97e2e44351b683ee5ea73466a2",
              "version_major": 2,
              "version_minor": 0
            },
            "text/plain": [
              "  0%|          | 0/4 [00:00<?, ?it/s]"
            ]
          },
          "metadata": {},
          "output_type": "display_data"
        },
        {
          "name": "stdout",
          "output_type": "stream",
          "text": [
            "[WRITE] lightning -> /home/azureuser/cloudfiles/code/Users/Normalized-Attention-Guidance/results-prompts2-nag-base/lightning/with_negative_start0p2/0011_1337_neg_s0p2.png\n"
          ]
        },
        {
          "name": "stderr",
          "output_type": "stream",
          "text": [
            "lightning progress:  75%|███████▌  | 12/16 [01:51<00:38,  9.69s/it]"
          ]
        },
        {
          "name": "stdout",
          "output_type": "stream",
          "text": [
            "{'prompt': 'A landscape', 'guidance_scale': 0.0, 'nag_scale': 2.0, 'nag_end': 0.5, 'nag_tau': 2.5, 'nag_alpha': 0.5, 'num_inference_steps': 4, 'generator': <torch._C.Generator object at 0x7b5cb7bd2310>, 'nag_negative_prompt': None}\n"
          ]
        },
        {
          "data": {
            "application/vnd.jupyter.widget-view+json": {
              "model_id": "d54b165bec9d4a16a9e7a4a6b663c40b",
              "version_major": 2,
              "version_minor": 0
            },
            "text/plain": [
              "  0%|          | 0/4 [00:00<?, ?it/s]"
            ]
          },
          "metadata": {},
          "output_type": "display_data"
        },
        {
          "name": "stdout",
          "output_type": "stream",
          "text": [
            "[WRITE] lightning -> /home/azureuser/cloudfiles/code/Users/Normalized-Attention-Guidance/results-prompts2-nag-base/lightning/baseline/0012_2025_noneg.png\n",
            "{'prompt': 'A landscape', 'guidance_scale': 0.0, 'nag_scale': 2.0, 'nag_end': 0.5, 'nag_tau': 2.5, 'nag_alpha': 0.5, 'num_inference_steps': 4, 'generator': <torch._C.Generator object at 0x7b5cb7bd3eb0>, 'nag_negative_prompt': None}\n"
          ]
        },
        {
          "data": {
            "application/vnd.jupyter.widget-view+json": {
              "model_id": "94dd68b44d204c0faec740bf5dcaed65",
              "version_major": 2,
              "version_minor": 0
            },
            "text/plain": [
              "  0%|          | 0/4 [00:00<?, ?it/s]"
            ]
          },
          "metadata": {},
          "output_type": "display_data"
        },
        {
          "name": "stdout",
          "output_type": "stream",
          "text": [
            "[WRITE] lightning -> /home/azureuser/cloudfiles/code/Users/Normalized-Attention-Guidance/results-prompts2-nag-base/lightning/baseline/0012_42_noneg.png\n",
            "{'prompt': 'A landscape', 'guidance_scale': 0.0, 'nag_scale': 2.0, 'nag_end': 0.5, 'nag_tau': 2.5, 'nag_alpha': 0.5, 'num_inference_steps': 4, 'generator': <torch._C.Generator object at 0x7b5cb7bd3e90>, 'nag_negative_prompt': None}\n"
          ]
        },
        {
          "data": {
            "application/vnd.jupyter.widget-view+json": {
              "model_id": "3273ae8ed5bf4b4a8e1d812444ee13d6",
              "version_major": 2,
              "version_minor": 0
            },
            "text/plain": [
              "  0%|          | 0/4 [00:00<?, ?it/s]"
            ]
          },
          "metadata": {},
          "output_type": "display_data"
        },
        {
          "name": "stdout",
          "output_type": "stream",
          "text": [
            "[WRITE] lightning -> /home/azureuser/cloudfiles/code/Users/Normalized-Attention-Guidance/results-prompts2-nag-base/lightning/baseline/0012_1337_noneg.png\n",
            "{'prompt': 'A landscape', 'guidance_scale': 0.0, 'nag_scale': 2.0, 'nag_end': 0.5, 'nag_tau': 2.5, 'nag_alpha': 0.5, 'num_inference_steps': 4, 'generator': <torch._C.Generator object at 0x7b5cb7bd36f0>, 'nag_negative_prompt': 'mountains', 'nag_start': 0.0}\n"
          ]
        },
        {
          "data": {
            "application/vnd.jupyter.widget-view+json": {
              "model_id": "54e138f4ff954908b0e7ddd6e14fa5da",
              "version_major": 2,
              "version_minor": 0
            },
            "text/plain": [
              "  0%|          | 0/4 [00:00<?, ?it/s]"
            ]
          },
          "metadata": {},
          "output_type": "display_data"
        },
        {
          "name": "stdout",
          "output_type": "stream",
          "text": [
            "[WRITE] lightning -> /home/azureuser/cloudfiles/code/Users/Normalized-Attention-Guidance/results-prompts2-nag-base/lightning/with_negative_start0/0012_2025_neg_s0.png\n",
            "{'prompt': 'A landscape', 'guidance_scale': 0.0, 'nag_scale': 2.0, 'nag_end': 0.5, 'nag_tau': 2.5, 'nag_alpha': 0.5, 'num_inference_steps': 4, 'generator': <torch._C.Generator object at 0x7b5cb7bd3e90>, 'nag_negative_prompt': 'mountains', 'nag_start': 0.0}\n"
          ]
        },
        {
          "data": {
            "application/vnd.jupyter.widget-view+json": {
              "model_id": "488da07630534522b70ce427e1f47778",
              "version_major": 2,
              "version_minor": 0
            },
            "text/plain": [
              "  0%|          | 0/4 [00:00<?, ?it/s]"
            ]
          },
          "metadata": {},
          "output_type": "display_data"
        },
        {
          "name": "stdout",
          "output_type": "stream",
          "text": [
            "[WRITE] lightning -> /home/azureuser/cloudfiles/code/Users/Normalized-Attention-Guidance/results-prompts2-nag-base/lightning/with_negative_start0/0012_42_neg_s0.png\n",
            "{'prompt': 'A landscape', 'guidance_scale': 0.0, 'nag_scale': 2.0, 'nag_end': 0.5, 'nag_tau': 2.5, 'nag_alpha': 0.5, 'num_inference_steps': 4, 'generator': <torch._C.Generator object at 0x7b5cb7bd36f0>, 'nag_negative_prompt': 'mountains', 'nag_start': 0.0}\n"
          ]
        },
        {
          "data": {
            "application/vnd.jupyter.widget-view+json": {
              "model_id": "ba39c5a63ad442618962da1307e4654f",
              "version_major": 2,
              "version_minor": 0
            },
            "text/plain": [
              "  0%|          | 0/4 [00:00<?, ?it/s]"
            ]
          },
          "metadata": {},
          "output_type": "display_data"
        },
        {
          "name": "stdout",
          "output_type": "stream",
          "text": [
            "[WRITE] lightning -> /home/azureuser/cloudfiles/code/Users/Normalized-Attention-Guidance/results-prompts2-nag-base/lightning/with_negative_start0/0012_1337_neg_s0.png\n",
            "{'prompt': 'A landscape', 'guidance_scale': 0.0, 'nag_scale': 2.0, 'nag_end': 0.5, 'nag_tau': 2.5, 'nag_alpha': 0.5, 'num_inference_steps': 4, 'generator': <torch._C.Generator object at 0x7b5cb7bd3eb0>, 'nag_negative_prompt': 'mountains', 'nag_start': 0.2}\n"
          ]
        },
        {
          "data": {
            "application/vnd.jupyter.widget-view+json": {
              "model_id": "999aedd7b1534affabbd06a9b225a8de",
              "version_major": 2,
              "version_minor": 0
            },
            "text/plain": [
              "  0%|          | 0/4 [00:00<?, ?it/s]"
            ]
          },
          "metadata": {},
          "output_type": "display_data"
        },
        {
          "name": "stdout",
          "output_type": "stream",
          "text": [
            "[WRITE] lightning -> /home/azureuser/cloudfiles/code/Users/Normalized-Attention-Guidance/results-prompts2-nag-base/lightning/with_negative_start0p2/0012_2025_neg_s0p2.png\n",
            "{'prompt': 'A landscape', 'guidance_scale': 0.0, 'nag_scale': 2.0, 'nag_end': 0.5, 'nag_tau': 2.5, 'nag_alpha': 0.5, 'num_inference_steps': 4, 'generator': <torch._C.Generator object at 0x7b5cb7bd3cd0>, 'nag_negative_prompt': 'mountains', 'nag_start': 0.2}\n"
          ]
        },
        {
          "data": {
            "application/vnd.jupyter.widget-view+json": {
              "model_id": "72bcbf6ad75542629aae4b795fd09666",
              "version_major": 2,
              "version_minor": 0
            },
            "text/plain": [
              "  0%|          | 0/4 [00:00<?, ?it/s]"
            ]
          },
          "metadata": {},
          "output_type": "display_data"
        },
        {
          "name": "stdout",
          "output_type": "stream",
          "text": [
            "[WRITE] lightning -> /home/azureuser/cloudfiles/code/Users/Normalized-Attention-Guidance/results-prompts2-nag-base/lightning/with_negative_start0p2/0012_42_neg_s0p2.png\n",
            "{'prompt': 'A landscape', 'guidance_scale': 0.0, 'nag_scale': 2.0, 'nag_end': 0.5, 'nag_tau': 2.5, 'nag_alpha': 0.5, 'num_inference_steps': 4, 'generator': <torch._C.Generator object at 0x7b5cb7bd2310>, 'nag_negative_prompt': 'mountains', 'nag_start': 0.2}\n"
          ]
        },
        {
          "data": {
            "application/vnd.jupyter.widget-view+json": {
              "model_id": "d87f3b88e6a84dc489fb2e2561a2ac17",
              "version_major": 2,
              "version_minor": 0
            },
            "text/plain": [
              "  0%|          | 0/4 [00:00<?, ?it/s]"
            ]
          },
          "metadata": {},
          "output_type": "display_data"
        },
        {
          "name": "stdout",
          "output_type": "stream",
          "text": [
            "[WRITE] lightning -> /home/azureuser/cloudfiles/code/Users/Normalized-Attention-Guidance/results-prompts2-nag-base/lightning/with_negative_start0p2/0012_1337_neg_s0p2.png\n"
          ]
        },
        {
          "name": "stderr",
          "output_type": "stream",
          "text": [
            "lightning progress:  81%|████████▏ | 13/16 [02:01<00:29,  9.69s/it]"
          ]
        },
        {
          "name": "stdout",
          "output_type": "stream",
          "text": [
            "{'prompt': 'A landscape', 'guidance_scale': 0.0, 'nag_scale': 2.0, 'nag_end': 0.5, 'nag_tau': 2.5, 'nag_alpha': 0.5, 'num_inference_steps': 4, 'generator': <torch._C.Generator object at 0x7b5cb7bd3ef0>, 'nag_negative_prompt': None}\n"
          ]
        },
        {
          "data": {
            "application/vnd.jupyter.widget-view+json": {
              "model_id": "dec92fd2117f48c2aa7d2e602c0121a4",
              "version_major": 2,
              "version_minor": 0
            },
            "text/plain": [
              "  0%|          | 0/4 [00:00<?, ?it/s]"
            ]
          },
          "metadata": {},
          "output_type": "display_data"
        },
        {
          "name": "stdout",
          "output_type": "stream",
          "text": [
            "[WRITE] lightning -> /home/azureuser/cloudfiles/code/Users/Normalized-Attention-Guidance/results-prompts2-nag-base/lightning/baseline/0013_2025_noneg.png\n",
            "{'prompt': 'A landscape', 'guidance_scale': 0.0, 'nag_scale': 2.0, 'nag_end': 0.5, 'nag_tau': 2.5, 'nag_alpha': 0.5, 'num_inference_steps': 4, 'generator': <torch._C.Generator object at 0x7b5cb7facc50>, 'nag_negative_prompt': None}\n"
          ]
        },
        {
          "data": {
            "application/vnd.jupyter.widget-view+json": {
              "model_id": "7221ad7afdea47fe965bf7158213483e",
              "version_major": 2,
              "version_minor": 0
            },
            "text/plain": [
              "  0%|          | 0/4 [00:00<?, ?it/s]"
            ]
          },
          "metadata": {},
          "output_type": "display_data"
        },
        {
          "name": "stdout",
          "output_type": "stream",
          "text": [
            "[WRITE] lightning -> /home/azureuser/cloudfiles/code/Users/Normalized-Attention-Guidance/results-prompts2-nag-base/lightning/baseline/0013_42_noneg.png\n",
            "{'prompt': 'A landscape', 'guidance_scale': 0.0, 'nag_scale': 2.0, 'nag_end': 0.5, 'nag_tau': 2.5, 'nag_alpha': 0.5, 'num_inference_steps': 4, 'generator': <torch._C.Generator object at 0x7b5cb7fad010>, 'nag_negative_prompt': None}\n"
          ]
        },
        {
          "data": {
            "application/vnd.jupyter.widget-view+json": {
              "model_id": "a1031cc495b448b7a3a1dd81a257b6bd",
              "version_major": 2,
              "version_minor": 0
            },
            "text/plain": [
              "  0%|          | 0/4 [00:00<?, ?it/s]"
            ]
          },
          "metadata": {},
          "output_type": "display_data"
        },
        {
          "name": "stdout",
          "output_type": "stream",
          "text": [
            "[WRITE] lightning -> /home/azureuser/cloudfiles/code/Users/Normalized-Attention-Guidance/results-prompts2-nag-base/lightning/baseline/0013_1337_noneg.png\n",
            "{'prompt': 'A landscape', 'guidance_scale': 0.0, 'nag_scale': 2.0, 'nag_end': 0.5, 'nag_tau': 2.5, 'nag_alpha': 0.5, 'num_inference_steps': 4, 'generator': <torch._C.Generator object at 0x7b5cb7faced0>, 'nag_negative_prompt': 'trees', 'nag_start': 0.0}\n"
          ]
        },
        {
          "data": {
            "application/vnd.jupyter.widget-view+json": {
              "model_id": "c5671f935edb4e9fb154d43f5b5af581",
              "version_major": 2,
              "version_minor": 0
            },
            "text/plain": [
              "  0%|          | 0/4 [00:00<?, ?it/s]"
            ]
          },
          "metadata": {},
          "output_type": "display_data"
        },
        {
          "name": "stdout",
          "output_type": "stream",
          "text": [
            "[WRITE] lightning -> /home/azureuser/cloudfiles/code/Users/Normalized-Attention-Guidance/results-prompts2-nag-base/lightning/with_negative_start0/0013_2025_neg_s0.png\n",
            "{'prompt': 'A landscape', 'guidance_scale': 0.0, 'nag_scale': 2.0, 'nag_end': 0.5, 'nag_tau': 2.5, 'nag_alpha': 0.5, 'num_inference_steps': 4, 'generator': <torch._C.Generator object at 0x7b5cb7fad230>, 'nag_negative_prompt': 'trees', 'nag_start': 0.0}\n"
          ]
        },
        {
          "data": {
            "application/vnd.jupyter.widget-view+json": {
              "model_id": "9402615143a34e78a3b821f28a46b3fe",
              "version_major": 2,
              "version_minor": 0
            },
            "text/plain": [
              "  0%|          | 0/4 [00:00<?, ?it/s]"
            ]
          },
          "metadata": {},
          "output_type": "display_data"
        },
        {
          "name": "stdout",
          "output_type": "stream",
          "text": [
            "[WRITE] lightning -> /home/azureuser/cloudfiles/code/Users/Normalized-Attention-Guidance/results-prompts2-nag-base/lightning/with_negative_start0/0013_42_neg_s0.png\n",
            "{'prompt': 'A landscape', 'guidance_scale': 0.0, 'nag_scale': 2.0, 'nag_end': 0.5, 'nag_tau': 2.5, 'nag_alpha': 0.5, 'num_inference_steps': 4, 'generator': <torch._C.Generator object at 0x7b5cb7bd2310>, 'nag_negative_prompt': 'trees', 'nag_start': 0.0}\n"
          ]
        },
        {
          "data": {
            "application/vnd.jupyter.widget-view+json": {
              "model_id": "4c5b16dc59054ae1ae82b51e961aa56c",
              "version_major": 2,
              "version_minor": 0
            },
            "text/plain": [
              "  0%|          | 0/4 [00:00<?, ?it/s]"
            ]
          },
          "metadata": {},
          "output_type": "display_data"
        },
        {
          "name": "stdout",
          "output_type": "stream",
          "text": [
            "[WRITE] lightning -> /home/azureuser/cloudfiles/code/Users/Normalized-Attention-Guidance/results-prompts2-nag-base/lightning/with_negative_start0/0013_1337_neg_s0.png\n",
            "{'prompt': 'A landscape', 'guidance_scale': 0.0, 'nag_scale': 2.0, 'nag_end': 0.5, 'nag_tau': 2.5, 'nag_alpha': 0.5, 'num_inference_steps': 4, 'generator': <torch._C.Generator object at 0x7b5cb7fad6f0>, 'nag_negative_prompt': 'trees', 'nag_start': 0.2}\n"
          ]
        },
        {
          "data": {
            "application/vnd.jupyter.widget-view+json": {
              "model_id": "ede5b35f131f4f56baa3e690b52eb644",
              "version_major": 2,
              "version_minor": 0
            },
            "text/plain": [
              "  0%|          | 0/4 [00:00<?, ?it/s]"
            ]
          },
          "metadata": {},
          "output_type": "display_data"
        },
        {
          "name": "stdout",
          "output_type": "stream",
          "text": [
            "[WRITE] lightning -> /home/azureuser/cloudfiles/code/Users/Normalized-Attention-Guidance/results-prompts2-nag-base/lightning/with_negative_start0p2/0013_2025_neg_s0p2.png\n",
            "{'prompt': 'A landscape', 'guidance_scale': 0.0, 'nag_scale': 2.0, 'nag_end': 0.5, 'nag_tau': 2.5, 'nag_alpha': 0.5, 'num_inference_steps': 4, 'generator': <torch._C.Generator object at 0x7b5cb7fad850>, 'nag_negative_prompt': 'trees', 'nag_start': 0.2}\n"
          ]
        },
        {
          "data": {
            "application/vnd.jupyter.widget-view+json": {
              "model_id": "d27593c2ca0f4cfd801f288d46bae7e3",
              "version_major": 2,
              "version_minor": 0
            },
            "text/plain": [
              "  0%|          | 0/4 [00:00<?, ?it/s]"
            ]
          },
          "metadata": {},
          "output_type": "display_data"
        },
        {
          "name": "stdout",
          "output_type": "stream",
          "text": [
            "[WRITE] lightning -> /home/azureuser/cloudfiles/code/Users/Normalized-Attention-Guidance/results-prompts2-nag-base/lightning/with_negative_start0p2/0013_42_neg_s0p2.png\n",
            "{'prompt': 'A landscape', 'guidance_scale': 0.0, 'nag_scale': 2.0, 'nag_end': 0.5, 'nag_tau': 2.5, 'nag_alpha': 0.5, 'num_inference_steps': 4, 'generator': <torch._C.Generator object at 0x7b5cb7fadc50>, 'nag_negative_prompt': 'trees', 'nag_start': 0.2}\n"
          ]
        },
        {
          "data": {
            "application/vnd.jupyter.widget-view+json": {
              "model_id": "99722fc662df473e83f841600763c3b0",
              "version_major": 2,
              "version_minor": 0
            },
            "text/plain": [
              "  0%|          | 0/4 [00:00<?, ?it/s]"
            ]
          },
          "metadata": {},
          "output_type": "display_data"
        },
        {
          "name": "stdout",
          "output_type": "stream",
          "text": [
            "[WRITE] lightning -> /home/azureuser/cloudfiles/code/Users/Normalized-Attention-Guidance/results-prompts2-nag-base/lightning/with_negative_start0p2/0013_1337_neg_s0p2.png\n"
          ]
        },
        {
          "name": "stderr",
          "output_type": "stream",
          "text": [
            "lightning progress:  88%|████████▊ | 14/16 [02:11<00:19,  9.71s/it]"
          ]
        },
        {
          "name": "stdout",
          "output_type": "stream",
          "text": [
            "{'prompt': 'A room with furniture', 'guidance_scale': 0.0, 'nag_scale': 2.0, 'nag_end': 0.5, 'nag_tau': 2.5, 'nag_alpha': 0.5, 'num_inference_steps': 4, 'generator': <torch._C.Generator object at 0x7b5cb7fad130>, 'nag_negative_prompt': None}\n"
          ]
        },
        {
          "data": {
            "application/vnd.jupyter.widget-view+json": {
              "model_id": "5ccdded3fb4a47ef8e69f9a6ccbe5bc8",
              "version_major": 2,
              "version_minor": 0
            },
            "text/plain": [
              "  0%|          | 0/4 [00:00<?, ?it/s]"
            ]
          },
          "metadata": {},
          "output_type": "display_data"
        },
        {
          "name": "stdout",
          "output_type": "stream",
          "text": [
            "[WRITE] lightning -> /home/azureuser/cloudfiles/code/Users/Normalized-Attention-Guidance/results-prompts2-nag-base/lightning/baseline/0014_2025_noneg.png\n",
            "{'prompt': 'A room with furniture', 'guidance_scale': 0.0, 'nag_scale': 2.0, 'nag_end': 0.5, 'nag_tau': 2.5, 'nag_alpha': 0.5, 'num_inference_steps': 4, 'generator': <torch._C.Generator object at 0x7b5cb7fadf10>, 'nag_negative_prompt': None}\n"
          ]
        },
        {
          "data": {
            "application/vnd.jupyter.widget-view+json": {
              "model_id": "a2a8e8bcb1e54b47afabb3048dab5294",
              "version_major": 2,
              "version_minor": 0
            },
            "text/plain": [
              "  0%|          | 0/4 [00:00<?, ?it/s]"
            ]
          },
          "metadata": {},
          "output_type": "display_data"
        },
        {
          "name": "stdout",
          "output_type": "stream",
          "text": [
            "[WRITE] lightning -> /home/azureuser/cloudfiles/code/Users/Normalized-Attention-Guidance/results-prompts2-nag-base/lightning/baseline/0014_42_noneg.png\n",
            "{'prompt': 'A room with furniture', 'guidance_scale': 0.0, 'nag_scale': 2.0, 'nag_end': 0.5, 'nag_tau': 2.5, 'nag_alpha': 0.5, 'num_inference_steps': 4, 'generator': <torch._C.Generator object at 0x7b5cb7fae030>, 'nag_negative_prompt': None}\n"
          ]
        },
        {
          "data": {
            "application/vnd.jupyter.widget-view+json": {
              "model_id": "e2233b5fae174a56a6e29680cdcc00d3",
              "version_major": 2,
              "version_minor": 0
            },
            "text/plain": [
              "  0%|          | 0/4 [00:00<?, ?it/s]"
            ]
          },
          "metadata": {},
          "output_type": "display_data"
        },
        {
          "name": "stdout",
          "output_type": "stream",
          "text": [
            "[WRITE] lightning -> /home/azureuser/cloudfiles/code/Users/Normalized-Attention-Guidance/results-prompts2-nag-base/lightning/baseline/0014_1337_noneg.png\n",
            "{'prompt': 'A room with furniture', 'guidance_scale': 0.0, 'nag_scale': 2.0, 'nag_end': 0.5, 'nag_tau': 2.5, 'nag_alpha': 0.5, 'num_inference_steps': 4, 'generator': <torch._C.Generator object at 0x7b5cb7fad6d0>, 'nag_negative_prompt': 'window', 'nag_start': 0.0}\n"
          ]
        },
        {
          "data": {
            "application/vnd.jupyter.widget-view+json": {
              "model_id": "e283dd9145be45a3be81b6a554c647e0",
              "version_major": 2,
              "version_minor": 0
            },
            "text/plain": [
              "  0%|          | 0/4 [00:00<?, ?it/s]"
            ]
          },
          "metadata": {},
          "output_type": "display_data"
        },
        {
          "name": "stdout",
          "output_type": "stream",
          "text": [
            "[WRITE] lightning -> /home/azureuser/cloudfiles/code/Users/Normalized-Attention-Guidance/results-prompts2-nag-base/lightning/with_negative_start0/0014_2025_neg_s0.png\n",
            "{'prompt': 'A room with furniture', 'guidance_scale': 0.0, 'nag_scale': 2.0, 'nag_end': 0.5, 'nag_tau': 2.5, 'nag_alpha': 0.5, 'num_inference_steps': 4, 'generator': <torch._C.Generator object at 0x7b5cb7fae2b0>, 'nag_negative_prompt': 'window', 'nag_start': 0.0}\n"
          ]
        },
        {
          "data": {
            "application/vnd.jupyter.widget-view+json": {
              "model_id": "1865084c790a425195723b7293430c7d",
              "version_major": 2,
              "version_minor": 0
            },
            "text/plain": [
              "  0%|          | 0/4 [00:00<?, ?it/s]"
            ]
          },
          "metadata": {},
          "output_type": "display_data"
        },
        {
          "name": "stdout",
          "output_type": "stream",
          "text": [
            "[WRITE] lightning -> /home/azureuser/cloudfiles/code/Users/Normalized-Attention-Guidance/results-prompts2-nag-base/lightning/with_negative_start0/0014_42_neg_s0.png\n",
            "{'prompt': 'A room with furniture', 'guidance_scale': 0.0, 'nag_scale': 2.0, 'nag_end': 0.5, 'nag_tau': 2.5, 'nag_alpha': 0.5, 'num_inference_steps': 4, 'generator': <torch._C.Generator object at 0x7b5cb7fae4f0>, 'nag_negative_prompt': 'window', 'nag_start': 0.0}\n"
          ]
        },
        {
          "data": {
            "application/vnd.jupyter.widget-view+json": {
              "model_id": "fe146a05d87d498e8efef7cd9d429414",
              "version_major": 2,
              "version_minor": 0
            },
            "text/plain": [
              "  0%|          | 0/4 [00:00<?, ?it/s]"
            ]
          },
          "metadata": {},
          "output_type": "display_data"
        },
        {
          "name": "stdout",
          "output_type": "stream",
          "text": [
            "[WRITE] lightning -> /home/azureuser/cloudfiles/code/Users/Normalized-Attention-Guidance/results-prompts2-nag-base/lightning/with_negative_start0/0014_1337_neg_s0.png\n",
            "{'prompt': 'A room with furniture', 'guidance_scale': 0.0, 'nag_scale': 2.0, 'nag_end': 0.5, 'nag_tau': 2.5, 'nag_alpha': 0.5, 'num_inference_steps': 4, 'generator': <torch._C.Generator object at 0x7b5cb7faeaf0>, 'nag_negative_prompt': 'window', 'nag_start': 0.2}\n"
          ]
        },
        {
          "data": {
            "application/vnd.jupyter.widget-view+json": {
              "model_id": "538075cab33b410d807e16f8abf3826a",
              "version_major": 2,
              "version_minor": 0
            },
            "text/plain": [
              "  0%|          | 0/4 [00:00<?, ?it/s]"
            ]
          },
          "metadata": {},
          "output_type": "display_data"
        },
        {
          "name": "stdout",
          "output_type": "stream",
          "text": [
            "[WRITE] lightning -> /home/azureuser/cloudfiles/code/Users/Normalized-Attention-Guidance/results-prompts2-nag-base/lightning/with_negative_start0p2/0014_2025_neg_s0p2.png\n",
            "{'prompt': 'A room with furniture', 'guidance_scale': 0.0, 'nag_scale': 2.0, 'nag_end': 0.5, 'nag_tau': 2.5, 'nag_alpha': 0.5, 'num_inference_steps': 4, 'generator': <torch._C.Generator object at 0x7b5cb7fae970>, 'nag_negative_prompt': 'window', 'nag_start': 0.2}\n"
          ]
        },
        {
          "data": {
            "application/vnd.jupyter.widget-view+json": {
              "model_id": "cc00fffb4d48471a8505fe5f5167ed0c",
              "version_major": 2,
              "version_minor": 0
            },
            "text/plain": [
              "  0%|          | 0/4 [00:00<?, ?it/s]"
            ]
          },
          "metadata": {},
          "output_type": "display_data"
        },
        {
          "name": "stdout",
          "output_type": "stream",
          "text": [
            "[WRITE] lightning -> /home/azureuser/cloudfiles/code/Users/Normalized-Attention-Guidance/results-prompts2-nag-base/lightning/with_negative_start0p2/0014_42_neg_s0p2.png\n",
            "{'prompt': 'A room with furniture', 'guidance_scale': 0.0, 'nag_scale': 2.0, 'nag_end': 0.5, 'nag_tau': 2.5, 'nag_alpha': 0.5, 'num_inference_steps': 4, 'generator': <torch._C.Generator object at 0x7b5cb7faeb10>, 'nag_negative_prompt': 'window', 'nag_start': 0.2}\n"
          ]
        },
        {
          "data": {
            "application/vnd.jupyter.widget-view+json": {
              "model_id": "18c6c3a5ecdd4ca39aa1071cbedf6a92",
              "version_major": 2,
              "version_minor": 0
            },
            "text/plain": [
              "  0%|          | 0/4 [00:00<?, ?it/s]"
            ]
          },
          "metadata": {},
          "output_type": "display_data"
        },
        {
          "name": "stdout",
          "output_type": "stream",
          "text": [
            "[WRITE] lightning -> /home/azureuser/cloudfiles/code/Users/Normalized-Attention-Guidance/results-prompts2-nag-base/lightning/with_negative_start0p2/0014_1337_neg_s0p2.png\n"
          ]
        },
        {
          "name": "stderr",
          "output_type": "stream",
          "text": [
            "lightning progress:  94%|█████████▍| 15/16 [02:20<00:09,  9.67s/it]"
          ]
        },
        {
          "name": "stdout",
          "output_type": "stream",
          "text": [
            "{'prompt': 'A room with furniture', 'guidance_scale': 0.0, 'nag_scale': 2.0, 'nag_end': 0.5, 'nag_tau': 2.5, 'nag_alpha': 0.5, 'num_inference_steps': 4, 'generator': <torch._C.Generator object at 0x7b5cb7fade90>, 'nag_negative_prompt': None}\n"
          ]
        },
        {
          "data": {
            "application/vnd.jupyter.widget-view+json": {
              "model_id": "2810dcd474ea46f2b8e9eb856a8ccb75",
              "version_major": 2,
              "version_minor": 0
            },
            "text/plain": [
              "  0%|          | 0/4 [00:00<?, ?it/s]"
            ]
          },
          "metadata": {},
          "output_type": "display_data"
        },
        {
          "name": "stdout",
          "output_type": "stream",
          "text": [
            "[WRITE] lightning -> /home/azureuser/cloudfiles/code/Users/Normalized-Attention-Guidance/results-prompts2-nag-base/lightning/baseline/0015_2025_noneg.png\n",
            "{'prompt': 'A room with furniture', 'guidance_scale': 0.0, 'nag_scale': 2.0, 'nag_end': 0.5, 'nag_tau': 2.5, 'nag_alpha': 0.5, 'num_inference_steps': 4, 'generator': <torch._C.Generator object at 0x7b5cb7faf070>, 'nag_negative_prompt': None}\n"
          ]
        },
        {
          "data": {
            "application/vnd.jupyter.widget-view+json": {
              "model_id": "c0e277c5127349bdb25f587749e40996",
              "version_major": 2,
              "version_minor": 0
            },
            "text/plain": [
              "  0%|          | 0/4 [00:00<?, ?it/s]"
            ]
          },
          "metadata": {},
          "output_type": "display_data"
        },
        {
          "name": "stdout",
          "output_type": "stream",
          "text": [
            "[WRITE] lightning -> /home/azureuser/cloudfiles/code/Users/Normalized-Attention-Guidance/results-prompts2-nag-base/lightning/baseline/0015_42_noneg.png\n",
            "{'prompt': 'A room with furniture', 'guidance_scale': 0.0, 'nag_scale': 2.0, 'nag_end': 0.5, 'nag_tau': 2.5, 'nag_alpha': 0.5, 'num_inference_steps': 4, 'generator': <torch._C.Generator object at 0x7b5cb7faed70>, 'nag_negative_prompt': None}\n"
          ]
        },
        {
          "data": {
            "application/vnd.jupyter.widget-view+json": {
              "model_id": "b63f3b6e23484b089f2d9c189c6e844a",
              "version_major": 2,
              "version_minor": 0
            },
            "text/plain": [
              "  0%|          | 0/4 [00:00<?, ?it/s]"
            ]
          },
          "metadata": {},
          "output_type": "display_data"
        },
        {
          "name": "stdout",
          "output_type": "stream",
          "text": [
            "[WRITE] lightning -> /home/azureuser/cloudfiles/code/Users/Normalized-Attention-Guidance/results-prompts2-nag-base/lightning/baseline/0015_1337_noneg.png\n",
            "{'prompt': 'A room with furniture', 'guidance_scale': 0.0, 'nag_scale': 2.0, 'nag_end': 0.5, 'nag_tau': 2.5, 'nag_alpha': 0.5, 'num_inference_steps': 4, 'generator': <torch._C.Generator object at 0x7b5cb7faf150>, 'nag_negative_prompt': 'bed', 'nag_start': 0.0}\n"
          ]
        },
        {
          "data": {
            "application/vnd.jupyter.widget-view+json": {
              "model_id": "e28655f0cf56444cb71bf0969e4ab3a3",
              "version_major": 2,
              "version_minor": 0
            },
            "text/plain": [
              "  0%|          | 0/4 [00:00<?, ?it/s]"
            ]
          },
          "metadata": {},
          "output_type": "display_data"
        },
        {
          "name": "stdout",
          "output_type": "stream",
          "text": [
            "[WRITE] lightning -> /home/azureuser/cloudfiles/code/Users/Normalized-Attention-Guidance/results-prompts2-nag-base/lightning/with_negative_start0/0015_2025_neg_s0.png\n",
            "{'prompt': 'A room with furniture', 'guidance_scale': 0.0, 'nag_scale': 2.0, 'nag_end': 0.5, 'nag_tau': 2.5, 'nag_alpha': 0.5, 'num_inference_steps': 4, 'generator': <torch._C.Generator object at 0x7b5cb7faf190>, 'nag_negative_prompt': 'bed', 'nag_start': 0.0}\n"
          ]
        },
        {
          "data": {
            "application/vnd.jupyter.widget-view+json": {
              "model_id": "cda33afc2a71472ea9a280cc60bb525a",
              "version_major": 2,
              "version_minor": 0
            },
            "text/plain": [
              "  0%|          | 0/4 [00:00<?, ?it/s]"
            ]
          },
          "metadata": {},
          "output_type": "display_data"
        },
        {
          "name": "stdout",
          "output_type": "stream",
          "text": [
            "[WRITE] lightning -> /home/azureuser/cloudfiles/code/Users/Normalized-Attention-Guidance/results-prompts2-nag-base/lightning/with_negative_start0/0015_42_neg_s0.png\n",
            "{'prompt': 'A room with furniture', 'guidance_scale': 0.0, 'nag_scale': 2.0, 'nag_end': 0.5, 'nag_tau': 2.5, 'nag_alpha': 0.5, 'num_inference_steps': 4, 'generator': <torch._C.Generator object at 0x7b5cb7faf2b0>, 'nag_negative_prompt': 'bed', 'nag_start': 0.0}\n"
          ]
        },
        {
          "data": {
            "application/vnd.jupyter.widget-view+json": {
              "model_id": "0e3a20ad52564c11b1b21589d379dd0a",
              "version_major": 2,
              "version_minor": 0
            },
            "text/plain": [
              "  0%|          | 0/4 [00:00<?, ?it/s]"
            ]
          },
          "metadata": {},
          "output_type": "display_data"
        },
        {
          "name": "stdout",
          "output_type": "stream",
          "text": [
            "[WRITE] lightning -> /home/azureuser/cloudfiles/code/Users/Normalized-Attention-Guidance/results-prompts2-nag-base/lightning/with_negative_start0/0015_1337_neg_s0.png\n",
            "{'prompt': 'A room with furniture', 'guidance_scale': 0.0, 'nag_scale': 2.0, 'nag_end': 0.5, 'nag_tau': 2.5, 'nag_alpha': 0.5, 'num_inference_steps': 4, 'generator': <torch._C.Generator object at 0x7b5cb7faf610>, 'nag_negative_prompt': 'bed', 'nag_start': 0.2}\n"
          ]
        },
        {
          "data": {
            "application/vnd.jupyter.widget-view+json": {
              "model_id": "d6db65c6393745a2b52f1cf7bdc1bbc4",
              "version_major": 2,
              "version_minor": 0
            },
            "text/plain": [
              "  0%|          | 0/4 [00:00<?, ?it/s]"
            ]
          },
          "metadata": {},
          "output_type": "display_data"
        },
        {
          "name": "stdout",
          "output_type": "stream",
          "text": [
            "[WRITE] lightning -> /home/azureuser/cloudfiles/code/Users/Normalized-Attention-Guidance/results-prompts2-nag-base/lightning/with_negative_start0p2/0015_2025_neg_s0p2.png\n",
            "{'prompt': 'A room with furniture', 'guidance_scale': 0.0, 'nag_scale': 2.0, 'nag_end': 0.5, 'nag_tau': 2.5, 'nag_alpha': 0.5, 'num_inference_steps': 4, 'generator': <torch._C.Generator object at 0x7b5cb7faf910>, 'nag_negative_prompt': 'bed', 'nag_start': 0.2}\n"
          ]
        },
        {
          "data": {
            "application/vnd.jupyter.widget-view+json": {
              "model_id": "75c5484efe994d1191ce34531df422fb",
              "version_major": 2,
              "version_minor": 0
            },
            "text/plain": [
              "  0%|          | 0/4 [00:00<?, ?it/s]"
            ]
          },
          "metadata": {},
          "output_type": "display_data"
        },
        {
          "name": "stdout",
          "output_type": "stream",
          "text": [
            "[WRITE] lightning -> /home/azureuser/cloudfiles/code/Users/Normalized-Attention-Guidance/results-prompts2-nag-base/lightning/with_negative_start0p2/0015_42_neg_s0p2.png\n",
            "{'prompt': 'A room with furniture', 'guidance_scale': 0.0, 'nag_scale': 2.0, 'nag_end': 0.5, 'nag_tau': 2.5, 'nag_alpha': 0.5, 'num_inference_steps': 4, 'generator': <torch._C.Generator object at 0x7b5cb7fafd90>, 'nag_negative_prompt': 'bed', 'nag_start': 0.2}\n"
          ]
        },
        {
          "data": {
            "application/vnd.jupyter.widget-view+json": {
              "model_id": "9471c2c2509949c598bff1dbc759e61f",
              "version_major": 2,
              "version_minor": 0
            },
            "text/plain": [
              "  0%|          | 0/4 [00:00<?, ?it/s]"
            ]
          },
          "metadata": {},
          "output_type": "display_data"
        },
        {
          "name": "stdout",
          "output_type": "stream",
          "text": [
            "[WRITE] lightning -> /home/azureuser/cloudfiles/code/Users/Normalized-Attention-Guidance/results-prompts2-nag-base/lightning/with_negative_start0p2/0015_1337_neg_s0p2.png\n"
          ]
        },
        {
          "name": "stderr",
          "output_type": "stream",
          "text": [
            "lightning progress: 100%|██████████| 16/16 [02:30<00:00,  9.43s/it]\n"
          ]
        },
        {
          "name": "stdout",
          "output_type": "stream",
          "text": [
            "\n",
            "✓ lightning: Generated and saved 144 image(s)\n",
            "[MODEL] lcm -> steps=4, cfg=1.5\n",
            "[PIPELINE] NAGTimeStableDiffusionXLPipeline\n",
            "Loading LCM model...\n"
          ]
        },
        {
          "data": {
            "application/vnd.jupyter.widget-view+json": {
              "model_id": "18ab5c7180584af099918d06319500bf",
              "version_major": 2,
              "version_minor": 0
            },
            "text/plain": [
              "Loading pipeline components...:   0%|          | 0/7 [00:00<?, ?it/s]"
            ]
          },
          "metadata": {},
          "output_type": "display_data"
        },
        {
          "name": "stderr",
          "output_type": "stream",
          "text": [
            "The config attributes {'interpolation_type': 'linear', 'use_karras_sigmas': False, 'skip_prk_steps': True} were passed to LCMScheduler, but are not expected and will be ignored. Please verify your scheduler_config.json configuration file.\n"
          ]
        },
        {
          "name": "stdout",
          "output_type": "stream",
          "text": [
            "✓ LCM pipeline ready\n",
            "\n",
            "[DIRS]\n",
            "  base_output: /home/azureuser/cloudfiles/code/Users/Normalized-Attention-Guidance/results-prompts2-nag-base\n",
            "  model_root : /home/azureuser/cloudfiles/code/Users/Normalized-Attention-Guidance/results-prompts2-nag-base/lcm\n",
            "  baseline   : /home/azureuser/cloudfiles/code/Users/Normalized-Attention-Guidance/results-prompts2-nag-base/lcm/baseline\n",
            "  neg@0.0    : /home/azureuser/cloudfiles/code/Users/Normalized-Attention-Guidance/results-prompts2-nag-base/lcm/with_negative_start0\n",
            "  neg@0.2    : /home/azureuser/cloudfiles/code/Users/Normalized-Attention-Guidance/results-prompts2-nag-base/lcm/with_negative_start0p2\n",
            "\n",
            "============================================================\n",
            "Testing model: lcm\n",
            "Writing under: /home/azureuser/cloudfiles/code/Users/Normalized-Attention-Guidance/results-prompts2-nag-base/lcm\n",
            "\n",
            "============================================================\n"
          ]
        },
        {
          "name": "stderr",
          "output_type": "stream",
          "text": [
            "lcm progress:   0%|          | 0/16 [00:00<?, ?it/s]"
          ]
        },
        {
          "name": "stdout",
          "output_type": "stream",
          "text": [
            "{'prompt': 'A photo of a person', 'guidance_scale': 1.5, 'nag_scale': 2.0, 'nag_end': 0.5, 'nag_tau': 2.5, 'nag_alpha': 0.5, 'num_inference_steps': 4, 'generator': <torch._C.Generator object at 0x7b5cb7faf050>, 'nag_negative_prompt': None}\n"
          ]
        },
        {
          "data": {
            "application/vnd.jupyter.widget-view+json": {
              "model_id": "2e764507626b41e9900b4d050bee489e",
              "version_major": 2,
              "version_minor": 0
            },
            "text/plain": [
              "  0%|          | 0/4 [00:00<?, ?it/s]"
            ]
          },
          "metadata": {},
          "output_type": "display_data"
        },
        {
          "name": "stdout",
          "output_type": "stream",
          "text": [
            "[WRITE] lcm -> /home/azureuser/cloudfiles/code/Users/Normalized-Attention-Guidance/results-prompts2-nag-base/lcm/baseline/0000_2025_noneg.png\n",
            "{'prompt': 'A photo of a person', 'guidance_scale': 1.5, 'nag_scale': 2.0, 'nag_end': 0.5, 'nag_tau': 2.5, 'nag_alpha': 0.5, 'num_inference_steps': 4, 'generator': <torch._C.Generator object at 0x7b5cb7fafe90>, 'nag_negative_prompt': None}\n"
          ]
        },
        {
          "data": {
            "application/vnd.jupyter.widget-view+json": {
              "model_id": "513dcc5d4b52462f92b7939a12618e26",
              "version_major": 2,
              "version_minor": 0
            },
            "text/plain": [
              "  0%|          | 0/4 [00:00<?, ?it/s]"
            ]
          },
          "metadata": {},
          "output_type": "display_data"
        },
        {
          "name": "stdout",
          "output_type": "stream",
          "text": [
            "[WRITE] lcm -> /home/azureuser/cloudfiles/code/Users/Normalized-Attention-Guidance/results-prompts2-nag-base/lcm/baseline/0000_42_noneg.png\n",
            "{'prompt': 'A photo of a person', 'guidance_scale': 1.5, 'nag_scale': 2.0, 'nag_end': 0.5, 'nag_tau': 2.5, 'nag_alpha': 0.5, 'num_inference_steps': 4, 'generator': <torch._C.Generator object at 0x7b5ce8830250>, 'nag_negative_prompt': None}\n"
          ]
        },
        {
          "data": {
            "application/vnd.jupyter.widget-view+json": {
              "model_id": "2f168a16527c438fa61324283b49e848",
              "version_major": 2,
              "version_minor": 0
            },
            "text/plain": [
              "  0%|          | 0/4 [00:00<?, ?it/s]"
            ]
          },
          "metadata": {},
          "output_type": "display_data"
        },
        {
          "name": "stdout",
          "output_type": "stream",
          "text": [
            "[WRITE] lcm -> /home/azureuser/cloudfiles/code/Users/Normalized-Attention-Guidance/results-prompts2-nag-base/lcm/baseline/0000_1337_noneg.png\n",
            "{'prompt': 'A photo of a person', 'guidance_scale': 1.5, 'nag_scale': 2.0, 'nag_end': 0.5, 'nag_tau': 2.5, 'nag_alpha': 0.5, 'num_inference_steps': 4, 'generator': <torch._C.Generator object at 0x7b5cb7c61a50>, 'nag_negative_prompt': 'male', 'nag_start': 0.0}\n"
          ]
        },
        {
          "data": {
            "application/vnd.jupyter.widget-view+json": {
              "model_id": "8a23197e0dd14bdeb93dc450d56017e0",
              "version_major": 2,
              "version_minor": 0
            },
            "text/plain": [
              "  0%|          | 0/4 [00:00<?, ?it/s]"
            ]
          },
          "metadata": {},
          "output_type": "display_data"
        },
        {
          "name": "stdout",
          "output_type": "stream",
          "text": [
            "[WRITE] lcm -> /home/azureuser/cloudfiles/code/Users/Normalized-Attention-Guidance/results-prompts2-nag-base/lcm/with_negative_start0/0000_2025_neg_s0.png\n",
            "{'prompt': 'A photo of a person', 'guidance_scale': 1.5, 'nag_scale': 2.0, 'nag_end': 0.5, 'nag_tau': 2.5, 'nag_alpha': 0.5, 'num_inference_steps': 4, 'generator': <torch._C.Generator object at 0x7b5cb7c61730>, 'nag_negative_prompt': 'male', 'nag_start': 0.0}\n"
          ]
        },
        {
          "data": {
            "application/vnd.jupyter.widget-view+json": {
              "model_id": "7c7e606a9e52457fbd6e1daa17ce5471",
              "version_major": 2,
              "version_minor": 0
            },
            "text/plain": [
              "  0%|          | 0/4 [00:00<?, ?it/s]"
            ]
          },
          "metadata": {},
          "output_type": "display_data"
        },
        {
          "name": "stdout",
          "output_type": "stream",
          "text": [
            "[WRITE] lcm -> /home/azureuser/cloudfiles/code/Users/Normalized-Attention-Guidance/results-prompts2-nag-base/lcm/with_negative_start0/0000_42_neg_s0.png\n",
            "{'prompt': 'A photo of a person', 'guidance_scale': 1.5, 'nag_scale': 2.0, 'nag_end': 0.5, 'nag_tau': 2.5, 'nag_alpha': 0.5, 'num_inference_steps': 4, 'generator': <torch._C.Generator object at 0x7b5cb7fafd90>, 'nag_negative_prompt': 'male', 'nag_start': 0.0}\n"
          ]
        },
        {
          "data": {
            "application/vnd.jupyter.widget-view+json": {
              "model_id": "d742844d9dc34d8d8bacc2408a5dcfce",
              "version_major": 2,
              "version_minor": 0
            },
            "text/plain": [
              "  0%|          | 0/4 [00:00<?, ?it/s]"
            ]
          },
          "metadata": {},
          "output_type": "display_data"
        },
        {
          "name": "stdout",
          "output_type": "stream",
          "text": [
            "[WRITE] lcm -> /home/azureuser/cloudfiles/code/Users/Normalized-Attention-Guidance/results-prompts2-nag-base/lcm/with_negative_start0/0000_1337_neg_s0.png\n",
            "{'prompt': 'A photo of a person', 'guidance_scale': 1.5, 'nag_scale': 2.0, 'nag_end': 0.5, 'nag_tau': 2.5, 'nag_alpha': 0.5, 'num_inference_steps': 4, 'generator': <torch._C.Generator object at 0x7b5ce8830250>, 'nag_negative_prompt': 'male', 'nag_start': 0.2}\n"
          ]
        },
        {
          "data": {
            "application/vnd.jupyter.widget-view+json": {
              "model_id": "d55e3a03e71144dba91bf6b671fc0fd9",
              "version_major": 2,
              "version_minor": 0
            },
            "text/plain": [
              "  0%|          | 0/4 [00:00<?, ?it/s]"
            ]
          },
          "metadata": {},
          "output_type": "display_data"
        },
        {
          "name": "stdout",
          "output_type": "stream",
          "text": [
            "[WRITE] lcm -> /home/azureuser/cloudfiles/code/Users/Normalized-Attention-Guidance/results-prompts2-nag-base/lcm/with_negative_start0p2/0000_2025_neg_s0p2.png\n",
            "{'prompt': 'A photo of a person', 'guidance_scale': 1.5, 'nag_scale': 2.0, 'nag_end': 0.5, 'nag_tau': 2.5, 'nag_alpha': 0.5, 'num_inference_steps': 4, 'generator': <torch._C.Generator object at 0x7b5ce0657310>, 'nag_negative_prompt': 'male', 'nag_start': 0.2}\n"
          ]
        },
        {
          "data": {
            "application/vnd.jupyter.widget-view+json": {
              "model_id": "4c8f36698bc04a30a83b159d12468816",
              "version_major": 2,
              "version_minor": 0
            },
            "text/plain": [
              "  0%|          | 0/4 [00:00<?, ?it/s]"
            ]
          },
          "metadata": {},
          "output_type": "display_data"
        },
        {
          "name": "stdout",
          "output_type": "stream",
          "text": [
            "[WRITE] lcm -> /home/azureuser/cloudfiles/code/Users/Normalized-Attention-Guidance/results-prompts2-nag-base/lcm/with_negative_start0p2/0000_42_neg_s0p2.png\n",
            "{'prompt': 'A photo of a person', 'guidance_scale': 1.5, 'nag_scale': 2.0, 'nag_end': 0.5, 'nag_tau': 2.5, 'nag_alpha': 0.5, 'num_inference_steps': 4, 'generator': <torch._C.Generator object at 0x7b5cb7c61790>, 'nag_negative_prompt': 'male', 'nag_start': 0.2}\n"
          ]
        },
        {
          "data": {
            "application/vnd.jupyter.widget-view+json": {
              "model_id": "29698d1ec957469caa92068a0c03f6f4",
              "version_major": 2,
              "version_minor": 0
            },
            "text/plain": [
              "  0%|          | 0/4 [00:00<?, ?it/s]"
            ]
          },
          "metadata": {},
          "output_type": "display_data"
        },
        {
          "name": "stdout",
          "output_type": "stream",
          "text": [
            "[WRITE] lcm -> /home/azureuser/cloudfiles/code/Users/Normalized-Attention-Guidance/results-prompts2-nag-base/lcm/with_negative_start0p2/0000_1337_neg_s0p2.png\n"
          ]
        },
        {
          "name": "stderr",
          "output_type": "stream",
          "text": [
            "lcm progress:   6%|▋         | 1/16 [00:11<02:51, 11.46s/it]"
          ]
        },
        {
          "name": "stdout",
          "output_type": "stream",
          "text": [
            "{'prompt': 'A photo of a person', 'guidance_scale': 1.5, 'nag_scale': 2.0, 'nag_end': 0.5, 'nag_tau': 2.5, 'nag_alpha': 0.5, 'num_inference_steps': 4, 'generator': <torch._C.Generator object at 0x7b5cb7c617f0>, 'nag_negative_prompt': None}\n"
          ]
        },
        {
          "data": {
            "application/vnd.jupyter.widget-view+json": {
              "model_id": "b50a0f91b34041599d672e710ac406b2",
              "version_major": 2,
              "version_minor": 0
            },
            "text/plain": [
              "  0%|          | 0/4 [00:00<?, ?it/s]"
            ]
          },
          "metadata": {},
          "output_type": "display_data"
        },
        {
          "name": "stdout",
          "output_type": "stream",
          "text": [
            "[WRITE] lcm -> /home/azureuser/cloudfiles/code/Users/Normalized-Attention-Guidance/results-prompts2-nag-base/lcm/baseline/0001_2025_noneg.png\n",
            "{'prompt': 'A photo of a person', 'guidance_scale': 1.5, 'nag_scale': 2.0, 'nag_end': 0.5, 'nag_tau': 2.5, 'nag_alpha': 0.5, 'num_inference_steps': 4, 'generator': <torch._C.Generator object at 0x7b5ce0657250>, 'nag_negative_prompt': None}\n"
          ]
        },
        {
          "data": {
            "application/vnd.jupyter.widget-view+json": {
              "model_id": "b93406606c8644f99b56f2870534a653",
              "version_major": 2,
              "version_minor": 0
            },
            "text/plain": [
              "  0%|          | 0/4 [00:00<?, ?it/s]"
            ]
          },
          "metadata": {},
          "output_type": "display_data"
        },
        {
          "name": "stdout",
          "output_type": "stream",
          "text": [
            "[WRITE] lcm -> /home/azureuser/cloudfiles/code/Users/Normalized-Attention-Guidance/results-prompts2-nag-base/lcm/baseline/0001_42_noneg.png\n",
            "{'prompt': 'A photo of a person', 'guidance_scale': 1.5, 'nag_scale': 2.0, 'nag_end': 0.5, 'nag_tau': 2.5, 'nag_alpha': 0.5, 'num_inference_steps': 4, 'generator': <torch._C.Generator object at 0x7b5ce8830250>, 'nag_negative_prompt': None}\n"
          ]
        },
        {
          "data": {
            "application/vnd.jupyter.widget-view+json": {
              "model_id": "1b09ef51e447404a87a0e63e97879060",
              "version_major": 2,
              "version_minor": 0
            },
            "text/plain": [
              "  0%|          | 0/4 [00:00<?, ?it/s]"
            ]
          },
          "metadata": {},
          "output_type": "display_data"
        },
        {
          "name": "stdout",
          "output_type": "stream",
          "text": [
            "[WRITE] lcm -> /home/azureuser/cloudfiles/code/Users/Normalized-Attention-Guidance/results-prompts2-nag-base/lcm/baseline/0001_1337_noneg.png\n",
            "{'prompt': 'A photo of a person', 'guidance_scale': 1.5, 'nag_scale': 2.0, 'nag_end': 0.5, 'nag_tau': 2.5, 'nag_alpha': 0.5, 'num_inference_steps': 4, 'generator': <torch._C.Generator object at 0x7b5ce0657530>, 'nag_negative_prompt': 'female', 'nag_start': 0.0}\n"
          ]
        },
        {
          "data": {
            "application/vnd.jupyter.widget-view+json": {
              "model_id": "f1611cabab044f8ca333898c76fefdad",
              "version_major": 2,
              "version_minor": 0
            },
            "text/plain": [
              "  0%|          | 0/4 [00:00<?, ?it/s]"
            ]
          },
          "metadata": {},
          "output_type": "display_data"
        },
        {
          "name": "stdout",
          "output_type": "stream",
          "text": [
            "[WRITE] lcm -> /home/azureuser/cloudfiles/code/Users/Normalized-Attention-Guidance/results-prompts2-nag-base/lcm/with_negative_start0/0001_2025_neg_s0.png\n",
            "{'prompt': 'A photo of a person', 'guidance_scale': 1.5, 'nag_scale': 2.0, 'nag_end': 0.5, 'nag_tau': 2.5, 'nag_alpha': 0.5, 'num_inference_steps': 4, 'generator': <torch._C.Generator object at 0x7b5ce0657310>, 'nag_negative_prompt': 'female', 'nag_start': 0.0}\n"
          ]
        },
        {
          "data": {
            "application/vnd.jupyter.widget-view+json": {
              "model_id": "a0ab53e8d8524ff2aa717ad981b1a06f",
              "version_major": 2,
              "version_minor": 0
            },
            "text/plain": [
              "  0%|          | 0/4 [00:00<?, ?it/s]"
            ]
          },
          "metadata": {},
          "output_type": "display_data"
        },
        {
          "name": "stdout",
          "output_type": "stream",
          "text": [
            "[WRITE] lcm -> /home/azureuser/cloudfiles/code/Users/Normalized-Attention-Guidance/results-prompts2-nag-base/lcm/with_negative_start0/0001_42_neg_s0.png\n",
            "{'prompt': 'A photo of a person', 'guidance_scale': 1.5, 'nag_scale': 2.0, 'nag_end': 0.5, 'nag_tau': 2.5, 'nag_alpha': 0.5, 'num_inference_steps': 4, 'generator': <torch._C.Generator object at 0x7b5ce0657550>, 'nag_negative_prompt': 'female', 'nag_start': 0.0}\n"
          ]
        },
        {
          "data": {
            "application/vnd.jupyter.widget-view+json": {
              "model_id": "1baa5fab07ac46f497ef092fb26a230c",
              "version_major": 2,
              "version_minor": 0
            },
            "text/plain": [
              "  0%|          | 0/4 [00:00<?, ?it/s]"
            ]
          },
          "metadata": {},
          "output_type": "display_data"
        },
        {
          "name": "stdout",
          "output_type": "stream",
          "text": [
            "[WRITE] lcm -> /home/azureuser/cloudfiles/code/Users/Normalized-Attention-Guidance/results-prompts2-nag-base/lcm/with_negative_start0/0001_1337_neg_s0.png\n",
            "{'prompt': 'A photo of a person', 'guidance_scale': 1.5, 'nag_scale': 2.0, 'nag_end': 0.5, 'nag_tau': 2.5, 'nag_alpha': 0.5, 'num_inference_steps': 4, 'generator': <torch._C.Generator object at 0x7b5ce0657510>, 'nag_negative_prompt': 'female', 'nag_start': 0.2}\n"
          ]
        },
        {
          "data": {
            "application/vnd.jupyter.widget-view+json": {
              "model_id": "925c16b252834c72ac78dbeae284c3fd",
              "version_major": 2,
              "version_minor": 0
            },
            "text/plain": [
              "  0%|          | 0/4 [00:00<?, ?it/s]"
            ]
          },
          "metadata": {},
          "output_type": "display_data"
        },
        {
          "name": "stdout",
          "output_type": "stream",
          "text": [
            "[WRITE] lcm -> /home/azureuser/cloudfiles/code/Users/Normalized-Attention-Guidance/results-prompts2-nag-base/lcm/with_negative_start0p2/0001_2025_neg_s0p2.png\n",
            "{'prompt': 'A photo of a person', 'guidance_scale': 1.5, 'nag_scale': 2.0, 'nag_end': 0.5, 'nag_tau': 2.5, 'nag_alpha': 0.5, 'num_inference_steps': 4, 'generator': <torch._C.Generator object at 0x7b5ce0657310>, 'nag_negative_prompt': 'female', 'nag_start': 0.2}\n"
          ]
        },
        {
          "data": {
            "application/vnd.jupyter.widget-view+json": {
              "model_id": "f0e998e2c5f847318714df0e9daa42b6",
              "version_major": 2,
              "version_minor": 0
            },
            "text/plain": [
              "  0%|          | 0/4 [00:00<?, ?it/s]"
            ]
          },
          "metadata": {},
          "output_type": "display_data"
        },
        {
          "name": "stdout",
          "output_type": "stream",
          "text": [
            "[WRITE] lcm -> /home/azureuser/cloudfiles/code/Users/Normalized-Attention-Guidance/results-prompts2-nag-base/lcm/with_negative_start0p2/0001_42_neg_s0p2.png\n",
            "{'prompt': 'A photo of a person', 'guidance_scale': 1.5, 'nag_scale': 2.0, 'nag_end': 0.5, 'nag_tau': 2.5, 'nag_alpha': 0.5, 'num_inference_steps': 4, 'generator': <torch._C.Generator object at 0x7b5ce0657530>, 'nag_negative_prompt': 'female', 'nag_start': 0.2}\n"
          ]
        },
        {
          "data": {
            "application/vnd.jupyter.widget-view+json": {
              "model_id": "796d51d3d383403f8e0171ede8241a91",
              "version_major": 2,
              "version_minor": 0
            },
            "text/plain": [
              "  0%|          | 0/4 [00:00<?, ?it/s]"
            ]
          },
          "metadata": {},
          "output_type": "display_data"
        },
        {
          "name": "stdout",
          "output_type": "stream",
          "text": [
            "[WRITE] lcm -> /home/azureuser/cloudfiles/code/Users/Normalized-Attention-Guidance/results-prompts2-nag-base/lcm/with_negative_start0p2/0001_1337_neg_s0p2.png\n"
          ]
        },
        {
          "name": "stderr",
          "output_type": "stream",
          "text": [
            "lcm progress:  12%|█▎        | 2/16 [00:22<02:34, 11.04s/it]"
          ]
        },
        {
          "name": "stdout",
          "output_type": "stream",
          "text": [
            "{'prompt': 'A photo of a person', 'guidance_scale': 1.5, 'nag_scale': 2.0, 'nag_end': 0.5, 'nag_tau': 2.5, 'nag_alpha': 0.5, 'num_inference_steps': 4, 'generator': <torch._C.Generator object at 0x7b5ce06574b0>, 'nag_negative_prompt': None}\n"
          ]
        },
        {
          "data": {
            "application/vnd.jupyter.widget-view+json": {
              "model_id": "8f977f0de5984f2b86b76f65945b9daf",
              "version_major": 2,
              "version_minor": 0
            },
            "text/plain": [
              "  0%|          | 0/4 [00:00<?, ?it/s]"
            ]
          },
          "metadata": {},
          "output_type": "display_data"
        },
        {
          "name": "stdout",
          "output_type": "stream",
          "text": [
            "[WRITE] lcm -> /home/azureuser/cloudfiles/code/Users/Normalized-Attention-Guidance/results-prompts2-nag-base/lcm/baseline/0002_2025_noneg.png\n",
            "{'prompt': 'A photo of a person', 'guidance_scale': 1.5, 'nag_scale': 2.0, 'nag_end': 0.5, 'nag_tau': 2.5, 'nag_alpha': 0.5, 'num_inference_steps': 4, 'generator': <torch._C.Generator object at 0x7b5ce0499270>, 'nag_negative_prompt': None}\n"
          ]
        },
        {
          "data": {
            "application/vnd.jupyter.widget-view+json": {
              "model_id": "3de7037f02e4413a96a5a490efbb3055",
              "version_major": 2,
              "version_minor": 0
            },
            "text/plain": [
              "  0%|          | 0/4 [00:00<?, ?it/s]"
            ]
          },
          "metadata": {},
          "output_type": "display_data"
        },
        {
          "name": "stdout",
          "output_type": "stream",
          "text": [
            "[WRITE] lcm -> /home/azureuser/cloudfiles/code/Users/Normalized-Attention-Guidance/results-prompts2-nag-base/lcm/baseline/0002_42_noneg.png\n",
            "{'prompt': 'A photo of a person', 'guidance_scale': 1.5, 'nag_scale': 2.0, 'nag_end': 0.5, 'nag_tau': 2.5, 'nag_alpha': 0.5, 'num_inference_steps': 4, 'generator': <torch._C.Generator object at 0x7b5ce0498a90>, 'nag_negative_prompt': None}\n"
          ]
        },
        {
          "data": {
            "application/vnd.jupyter.widget-view+json": {
              "model_id": "ab5041d5286b4c5388920746f9d9f37f",
              "version_major": 2,
              "version_minor": 0
            },
            "text/plain": [
              "  0%|          | 0/4 [00:00<?, ?it/s]"
            ]
          },
          "metadata": {},
          "output_type": "display_data"
        },
        {
          "name": "stdout",
          "output_type": "stream",
          "text": [
            "[WRITE] lcm -> /home/azureuser/cloudfiles/code/Users/Normalized-Attention-Guidance/results-prompts2-nag-base/lcm/baseline/0002_1337_noneg.png\n",
            "{'prompt': 'A photo of a person', 'guidance_scale': 1.5, 'nag_scale': 2.0, 'nag_end': 0.5, 'nag_tau': 2.5, 'nag_alpha': 0.5, 'num_inference_steps': 4, 'generator': <torch._C.Generator object at 0x7b5cb7f813d0>, 'nag_negative_prompt': 'old', 'nag_start': 0.0}\n"
          ]
        },
        {
          "data": {
            "application/vnd.jupyter.widget-view+json": {
              "model_id": "e4ce616ca85442f38705ba9f4073823b",
              "version_major": 2,
              "version_minor": 0
            },
            "text/plain": [
              "  0%|          | 0/4 [00:00<?, ?it/s]"
            ]
          },
          "metadata": {},
          "output_type": "display_data"
        },
        {
          "name": "stdout",
          "output_type": "stream",
          "text": [
            "[WRITE] lcm -> /home/azureuser/cloudfiles/code/Users/Normalized-Attention-Guidance/results-prompts2-nag-base/lcm/with_negative_start0/0002_2025_neg_s0.png\n",
            "{'prompt': 'A photo of a person', 'guidance_scale': 1.5, 'nag_scale': 2.0, 'nag_end': 0.5, 'nag_tau': 2.5, 'nag_alpha': 0.5, 'num_inference_steps': 4, 'generator': <torch._C.Generator object at 0x7b5cb7f81e90>, 'nag_negative_prompt': 'old', 'nag_start': 0.0}\n"
          ]
        },
        {
          "data": {
            "application/vnd.jupyter.widget-view+json": {
              "model_id": "2d382226f1eb4ab7b9160ac3dd715706",
              "version_major": 2,
              "version_minor": 0
            },
            "text/plain": [
              "  0%|          | 0/4 [00:00<?, ?it/s]"
            ]
          },
          "metadata": {},
          "output_type": "display_data"
        },
        {
          "name": "stdout",
          "output_type": "stream",
          "text": [
            "[WRITE] lcm -> /home/azureuser/cloudfiles/code/Users/Normalized-Attention-Guidance/results-prompts2-nag-base/lcm/with_negative_start0/0002_42_neg_s0.png\n",
            "{'prompt': 'A photo of a person', 'guidance_scale': 1.5, 'nag_scale': 2.0, 'nag_end': 0.5, 'nag_tau': 2.5, 'nag_alpha': 0.5, 'num_inference_steps': 4, 'generator': <torch._C.Generator object at 0x7b5ce06574b0>, 'nag_negative_prompt': 'old', 'nag_start': 0.0}\n"
          ]
        },
        {
          "data": {
            "application/vnd.jupyter.widget-view+json": {
              "model_id": "2d9b224d3cf6411d8fd1c09f5b70ad52",
              "version_major": 2,
              "version_minor": 0
            },
            "text/plain": [
              "  0%|          | 0/4 [00:00<?, ?it/s]"
            ]
          },
          "metadata": {},
          "output_type": "display_data"
        },
        {
          "name": "stdout",
          "output_type": "stream",
          "text": [
            "[WRITE] lcm -> /home/azureuser/cloudfiles/code/Users/Normalized-Attention-Guidance/results-prompts2-nag-base/lcm/with_negative_start0/0002_1337_neg_s0.png\n",
            "{'prompt': 'A photo of a person', 'guidance_scale': 1.5, 'nag_scale': 2.0, 'nag_end': 0.5, 'nag_tau': 2.5, 'nag_alpha': 0.5, 'num_inference_steps': 4, 'generator': <torch._C.Generator object at 0x7b5ce0498e70>, 'nag_negative_prompt': 'old', 'nag_start': 0.2}\n"
          ]
        },
        {
          "data": {
            "application/vnd.jupyter.widget-view+json": {
              "model_id": "b804301f90644381bc29d4d76b051f41",
              "version_major": 2,
              "version_minor": 0
            },
            "text/plain": [
              "  0%|          | 0/4 [00:00<?, ?it/s]"
            ]
          },
          "metadata": {},
          "output_type": "display_data"
        },
        {
          "name": "stdout",
          "output_type": "stream",
          "text": [
            "[WRITE] lcm -> /home/azureuser/cloudfiles/code/Users/Normalized-Attention-Guidance/results-prompts2-nag-base/lcm/with_negative_start0p2/0002_2025_neg_s0p2.png\n",
            "{'prompt': 'A photo of a person', 'guidance_scale': 1.5, 'nag_scale': 2.0, 'nag_end': 0.5, 'nag_tau': 2.5, 'nag_alpha': 0.5, 'num_inference_steps': 4, 'generator': <torch._C.Generator object at 0x7b5ce0498b70>, 'nag_negative_prompt': 'old', 'nag_start': 0.2}\n"
          ]
        },
        {
          "data": {
            "application/vnd.jupyter.widget-view+json": {
              "model_id": "4d672e24cc0444f3ba6127be844e7762",
              "version_major": 2,
              "version_minor": 0
            },
            "text/plain": [
              "  0%|          | 0/4 [00:00<?, ?it/s]"
            ]
          },
          "metadata": {},
          "output_type": "display_data"
        },
        {
          "name": "stdout",
          "output_type": "stream",
          "text": [
            "[WRITE] lcm -> /home/azureuser/cloudfiles/code/Users/Normalized-Attention-Guidance/results-prompts2-nag-base/lcm/with_negative_start0p2/0002_42_neg_s0p2.png\n",
            "{'prompt': 'A photo of a person', 'guidance_scale': 1.5, 'nag_scale': 2.0, 'nag_end': 0.5, 'nag_tau': 2.5, 'nag_alpha': 0.5, 'num_inference_steps': 4, 'generator': <torch._C.Generator object at 0x7b5ce0499030>, 'nag_negative_prompt': 'old', 'nag_start': 0.2}\n"
          ]
        },
        {
          "data": {
            "application/vnd.jupyter.widget-view+json": {
              "model_id": "c506cce8ba114df6b91b731a9987ca87",
              "version_major": 2,
              "version_minor": 0
            },
            "text/plain": [
              "  0%|          | 0/4 [00:00<?, ?it/s]"
            ]
          },
          "metadata": {},
          "output_type": "display_data"
        },
        {
          "name": "stdout",
          "output_type": "stream",
          "text": [
            "[WRITE] lcm -> /home/azureuser/cloudfiles/code/Users/Normalized-Attention-Guidance/results-prompts2-nag-base/lcm/with_negative_start0p2/0002_1337_neg_s0p2.png\n"
          ]
        },
        {
          "name": "stderr",
          "output_type": "stream",
          "text": [
            "lcm progress:  19%|█▉        | 3/16 [00:31<02:14, 10.34s/it]"
          ]
        },
        {
          "name": "stdout",
          "output_type": "stream",
          "text": [
            "{'prompt': 'A photo of a person', 'guidance_scale': 1.5, 'nag_scale': 2.0, 'nag_end': 0.5, 'nag_tau': 2.5, 'nag_alpha': 0.5, 'num_inference_steps': 4, 'generator': <torch._C.Generator object at 0x7b5ce0498d90>, 'nag_negative_prompt': None}\n"
          ]
        },
        {
          "data": {
            "application/vnd.jupyter.widget-view+json": {
              "model_id": "cfbfab0b61454e44b0e5cb68c39a78cf",
              "version_major": 2,
              "version_minor": 0
            },
            "text/plain": [
              "  0%|          | 0/4 [00:00<?, ?it/s]"
            ]
          },
          "metadata": {},
          "output_type": "display_data"
        },
        {
          "name": "stdout",
          "output_type": "stream",
          "text": [
            "[WRITE] lcm -> /home/azureuser/cloudfiles/code/Users/Normalized-Attention-Guidance/results-prompts2-nag-base/lcm/baseline/0003_2025_noneg.png\n",
            "{'prompt': 'A photo of a person', 'guidance_scale': 1.5, 'nag_scale': 2.0, 'nag_end': 0.5, 'nag_tau': 2.5, 'nag_alpha': 0.5, 'num_inference_steps': 4, 'generator': <torch._C.Generator object at 0x7b5cb7b17a90>, 'nag_negative_prompt': None}\n"
          ]
        },
        {
          "data": {
            "application/vnd.jupyter.widget-view+json": {
              "model_id": "36b3dc37b87b498d81fc6067fe0d0a5b",
              "version_major": 2,
              "version_minor": 0
            },
            "text/plain": [
              "  0%|          | 0/4 [00:00<?, ?it/s]"
            ]
          },
          "metadata": {},
          "output_type": "display_data"
        },
        {
          "name": "stdout",
          "output_type": "stream",
          "text": [
            "[WRITE] lcm -> /home/azureuser/cloudfiles/code/Users/Normalized-Attention-Guidance/results-prompts2-nag-base/lcm/baseline/0003_42_noneg.png\n",
            "{'prompt': 'A photo of a person', 'guidance_scale': 1.5, 'nag_scale': 2.0, 'nag_end': 0.5, 'nag_tau': 2.5, 'nag_alpha': 0.5, 'num_inference_steps': 4, 'generator': <torch._C.Generator object at 0x7b5cb7b17970>, 'nag_negative_prompt': None}\n"
          ]
        },
        {
          "data": {
            "application/vnd.jupyter.widget-view+json": {
              "model_id": "7d466b6ec9854c998eadf1555d0cc57b",
              "version_major": 2,
              "version_minor": 0
            },
            "text/plain": [
              "  0%|          | 0/4 [00:00<?, ?it/s]"
            ]
          },
          "metadata": {},
          "output_type": "display_data"
        },
        {
          "name": "stdout",
          "output_type": "stream",
          "text": [
            "[WRITE] lcm -> /home/azureuser/cloudfiles/code/Users/Normalized-Attention-Guidance/results-prompts2-nag-base/lcm/baseline/0003_1337_noneg.png\n",
            "{'prompt': 'A photo of a person', 'guidance_scale': 1.5, 'nag_scale': 2.0, 'nag_end': 0.5, 'nag_tau': 2.5, 'nag_alpha': 0.5, 'num_inference_steps': 4, 'generator': <torch._C.Generator object at 0x7b5ce8d3e130>, 'nag_negative_prompt': 'young', 'nag_start': 0.0}\n"
          ]
        },
        {
          "data": {
            "application/vnd.jupyter.widget-view+json": {
              "model_id": "23e2594efddb44ae99f4e79dca2b98fe",
              "version_major": 2,
              "version_minor": 0
            },
            "text/plain": [
              "  0%|          | 0/4 [00:00<?, ?it/s]"
            ]
          },
          "metadata": {},
          "output_type": "display_data"
        },
        {
          "name": "stdout",
          "output_type": "stream",
          "text": [
            "[WRITE] lcm -> /home/azureuser/cloudfiles/code/Users/Normalized-Attention-Guidance/results-prompts2-nag-base/lcm/with_negative_start0/0003_2025_neg_s0.png\n",
            "{'prompt': 'A photo of a person', 'guidance_scale': 1.5, 'nag_scale': 2.0, 'nag_end': 0.5, 'nag_tau': 2.5, 'nag_alpha': 0.5, 'num_inference_steps': 4, 'generator': <torch._C.Generator object at 0x7b5cb7b17a90>, 'nag_negative_prompt': 'young', 'nag_start': 0.0}\n"
          ]
        },
        {
          "data": {
            "application/vnd.jupyter.widget-view+json": {
              "model_id": "e8609f73cca3496291eebdbffafdf782",
              "version_major": 2,
              "version_minor": 0
            },
            "text/plain": [
              "  0%|          | 0/4 [00:00<?, ?it/s]"
            ]
          },
          "metadata": {},
          "output_type": "display_data"
        },
        {
          "name": "stdout",
          "output_type": "stream",
          "text": [
            "[WRITE] lcm -> /home/azureuser/cloudfiles/code/Users/Normalized-Attention-Guidance/results-prompts2-nag-base/lcm/with_negative_start0/0003_42_neg_s0.png\n",
            "{'prompt': 'A photo of a person', 'guidance_scale': 1.5, 'nag_scale': 2.0, 'nag_end': 0.5, 'nag_tau': 2.5, 'nag_alpha': 0.5, 'num_inference_steps': 4, 'generator': <torch._C.Generator object at 0x7b5cb7b17970>, 'nag_negative_prompt': 'young', 'nag_start': 0.0}\n"
          ]
        },
        {
          "data": {
            "application/vnd.jupyter.widget-view+json": {
              "model_id": "5a12b4054eb5463b89dfa82b93f40c98",
              "version_major": 2,
              "version_minor": 0
            },
            "text/plain": [
              "  0%|          | 0/4 [00:00<?, ?it/s]"
            ]
          },
          "metadata": {},
          "output_type": "display_data"
        },
        {
          "name": "stdout",
          "output_type": "stream",
          "text": [
            "[WRITE] lcm -> /home/azureuser/cloudfiles/code/Users/Normalized-Attention-Guidance/results-prompts2-nag-base/lcm/with_negative_start0/0003_1337_neg_s0.png\n",
            "{'prompt': 'A photo of a person', 'guidance_scale': 1.5, 'nag_scale': 2.0, 'nag_end': 0.5, 'nag_tau': 2.5, 'nag_alpha': 0.5, 'num_inference_steps': 4, 'generator': <torch._C.Generator object at 0x7b5ce82035d0>, 'nag_negative_prompt': 'young', 'nag_start': 0.2}\n"
          ]
        },
        {
          "data": {
            "application/vnd.jupyter.widget-view+json": {
              "model_id": "7c057a2b77cf457b8d805ba899a1e626",
              "version_major": 2,
              "version_minor": 0
            },
            "text/plain": [
              "  0%|          | 0/4 [00:00<?, ?it/s]"
            ]
          },
          "metadata": {},
          "output_type": "display_data"
        },
        {
          "name": "stdout",
          "output_type": "stream",
          "text": [
            "[WRITE] lcm -> /home/azureuser/cloudfiles/code/Users/Normalized-Attention-Guidance/results-prompts2-nag-base/lcm/with_negative_start0p2/0003_2025_neg_s0p2.png\n",
            "{'prompt': 'A photo of a person', 'guidance_scale': 1.5, 'nag_scale': 2.0, 'nag_end': 0.5, 'nag_tau': 2.5, 'nag_alpha': 0.5, 'num_inference_steps': 4, 'generator': <torch._C.Generator object at 0x7b5ce8202c70>, 'nag_negative_prompt': 'young', 'nag_start': 0.2}\n"
          ]
        },
        {
          "data": {
            "application/vnd.jupyter.widget-view+json": {
              "model_id": "50aefb3ae83a41f0b7e64b3a8d25ee03",
              "version_major": 2,
              "version_minor": 0
            },
            "text/plain": [
              "  0%|          | 0/4 [00:00<?, ?it/s]"
            ]
          },
          "metadata": {},
          "output_type": "display_data"
        },
        {
          "name": "stdout",
          "output_type": "stream",
          "text": [
            "[WRITE] lcm -> /home/azureuser/cloudfiles/code/Users/Normalized-Attention-Guidance/results-prompts2-nag-base/lcm/with_negative_start0p2/0003_42_neg_s0p2.png\n",
            "{'prompt': 'A photo of a person', 'guidance_scale': 1.5, 'nag_scale': 2.0, 'nag_end': 0.5, 'nag_tau': 2.5, 'nag_alpha': 0.5, 'num_inference_steps': 4, 'generator': <torch._C.Generator object at 0x7b5ce8d3e130>, 'nag_negative_prompt': 'young', 'nag_start': 0.2}\n"
          ]
        },
        {
          "data": {
            "application/vnd.jupyter.widget-view+json": {
              "model_id": "4336175ff5ef460c96542699c3692f8b",
              "version_major": 2,
              "version_minor": 0
            },
            "text/plain": [
              "  0%|          | 0/4 [00:00<?, ?it/s]"
            ]
          },
          "metadata": {},
          "output_type": "display_data"
        },
        {
          "name": "stdout",
          "output_type": "stream",
          "text": [
            "[WRITE] lcm -> /home/azureuser/cloudfiles/code/Users/Normalized-Attention-Guidance/results-prompts2-nag-base/lcm/with_negative_start0p2/0003_1337_neg_s0p2.png\n"
          ]
        },
        {
          "name": "stderr",
          "output_type": "stream",
          "text": [
            "lcm progress:  25%|██▌       | 4/16 [00:42<02:07, 10.65s/it]"
          ]
        },
        {
          "name": "stdout",
          "output_type": "stream",
          "text": [
            "{'prompt': 'A photo of a person', 'guidance_scale': 1.5, 'nag_scale': 2.0, 'nag_end': 0.5, 'nag_tau': 2.5, 'nag_alpha': 0.5, 'num_inference_steps': 4, 'generator': <torch._C.Generator object at 0x7b5ce8d3faf0>, 'nag_negative_prompt': None}\n"
          ]
        },
        {
          "data": {
            "application/vnd.jupyter.widget-view+json": {
              "model_id": "78bfb67d4ca64d1e85520cfe36a8506f",
              "version_major": 2,
              "version_minor": 0
            },
            "text/plain": [
              "  0%|          | 0/4 [00:00<?, ?it/s]"
            ]
          },
          "metadata": {},
          "output_type": "display_data"
        },
        {
          "name": "stdout",
          "output_type": "stream",
          "text": [
            "[WRITE] lcm -> /home/azureuser/cloudfiles/code/Users/Normalized-Attention-Guidance/results-prompts2-nag-base/lcm/baseline/0004_2025_noneg.png\n",
            "{'prompt': 'A photo of a person', 'guidance_scale': 1.5, 'nag_scale': 2.0, 'nag_end': 0.5, 'nag_tau': 2.5, 'nag_alpha': 0.5, 'num_inference_steps': 4, 'generator': <torch._C.Generator object at 0x7b5ce0440890>, 'nag_negative_prompt': None}\n"
          ]
        },
        {
          "data": {
            "application/vnd.jupyter.widget-view+json": {
              "model_id": "3c41170b7765439c9a2060fe2534ec20",
              "version_major": 2,
              "version_minor": 0
            },
            "text/plain": [
              "  0%|          | 0/4 [00:00<?, ?it/s]"
            ]
          },
          "metadata": {},
          "output_type": "display_data"
        },
        {
          "name": "stdout",
          "output_type": "stream",
          "text": [
            "[WRITE] lcm -> /home/azureuser/cloudfiles/code/Users/Normalized-Attention-Guidance/results-prompts2-nag-base/lcm/baseline/0004_42_noneg.png\n",
            "{'prompt': 'A photo of a person', 'guidance_scale': 1.5, 'nag_scale': 2.0, 'nag_end': 0.5, 'nag_tau': 2.5, 'nag_alpha': 0.5, 'num_inference_steps': 4, 'generator': <torch._C.Generator object at 0x7b5cc6533050>, 'nag_negative_prompt': None}\n"
          ]
        },
        {
          "data": {
            "application/vnd.jupyter.widget-view+json": {
              "model_id": "e86af0eb098b4decadfe078a64ef479b",
              "version_major": 2,
              "version_minor": 0
            },
            "text/plain": [
              "  0%|          | 0/4 [00:00<?, ?it/s]"
            ]
          },
          "metadata": {},
          "output_type": "display_data"
        },
        {
          "name": "stdout",
          "output_type": "stream",
          "text": [
            "[WRITE] lcm -> /home/azureuser/cloudfiles/code/Users/Normalized-Attention-Guidance/results-prompts2-nag-base/lcm/baseline/0004_1337_noneg.png\n",
            "{'prompt': 'A photo of a person', 'guidance_scale': 1.5, 'nag_scale': 2.0, 'nag_end': 0.5, 'nag_tau': 2.5, 'nag_alpha': 0.5, 'num_inference_steps': 4, 'generator': <torch._C.Generator object at 0x7b5cc6531270>, 'nag_negative_prompt': 'bright lighting', 'nag_start': 0.0}\n"
          ]
        },
        {
          "data": {
            "application/vnd.jupyter.widget-view+json": {
              "model_id": "c8150582cf974639a8362c1d01d48fdf",
              "version_major": 2,
              "version_minor": 0
            },
            "text/plain": [
              "  0%|          | 0/4 [00:00<?, ?it/s]"
            ]
          },
          "metadata": {},
          "output_type": "display_data"
        },
        {
          "name": "stdout",
          "output_type": "stream",
          "text": [
            "[WRITE] lcm -> /home/azureuser/cloudfiles/code/Users/Normalized-Attention-Guidance/results-prompts2-nag-base/lcm/with_negative_start0/0004_2025_neg_s0.png\n",
            "{'prompt': 'A photo of a person', 'guidance_scale': 1.5, 'nag_scale': 2.0, 'nag_end': 0.5, 'nag_tau': 2.5, 'nag_alpha': 0.5, 'num_inference_steps': 4, 'generator': <torch._C.Generator object at 0x7b5cc6531510>, 'nag_negative_prompt': 'bright lighting', 'nag_start': 0.0}\n"
          ]
        },
        {
          "data": {
            "application/vnd.jupyter.widget-view+json": {
              "model_id": "bd99be018b3a4a4f8742c1cab7d9fb5e",
              "version_major": 2,
              "version_minor": 0
            },
            "text/plain": [
              "  0%|          | 0/4 [00:00<?, ?it/s]"
            ]
          },
          "metadata": {},
          "output_type": "display_data"
        },
        {
          "name": "stdout",
          "output_type": "stream",
          "text": [
            "[WRITE] lcm -> /home/azureuser/cloudfiles/code/Users/Normalized-Attention-Guidance/results-prompts2-nag-base/lcm/with_negative_start0/0004_42_neg_s0.png\n",
            "{'prompt': 'A photo of a person', 'guidance_scale': 1.5, 'nag_scale': 2.0, 'nag_end': 0.5, 'nag_tau': 2.5, 'nag_alpha': 0.5, 'num_inference_steps': 4, 'generator': <torch._C.Generator object at 0x7b5cc6530950>, 'nag_negative_prompt': 'bright lighting', 'nag_start': 0.0}\n"
          ]
        },
        {
          "data": {
            "application/vnd.jupyter.widget-view+json": {
              "model_id": "267d348d80004b5fa5f5be689c2b49ff",
              "version_major": 2,
              "version_minor": 0
            },
            "text/plain": [
              "  0%|          | 0/4 [00:00<?, ?it/s]"
            ]
          },
          "metadata": {},
          "output_type": "display_data"
        },
        {
          "name": "stdout",
          "output_type": "stream",
          "text": [
            "[WRITE] lcm -> /home/azureuser/cloudfiles/code/Users/Normalized-Attention-Guidance/results-prompts2-nag-base/lcm/with_negative_start0/0004_1337_neg_s0.png\n",
            "{'prompt': 'A photo of a person', 'guidance_scale': 1.5, 'nag_scale': 2.0, 'nag_end': 0.5, 'nag_tau': 2.5, 'nag_alpha': 0.5, 'num_inference_steps': 4, 'generator': <torch._C.Generator object at 0x7b5cc65315d0>, 'nag_negative_prompt': 'bright lighting', 'nag_start': 0.2}\n"
          ]
        },
        {
          "data": {
            "application/vnd.jupyter.widget-view+json": {
              "model_id": "0720af913ff44755803c628975969550",
              "version_major": 2,
              "version_minor": 0
            },
            "text/plain": [
              "  0%|          | 0/4 [00:00<?, ?it/s]"
            ]
          },
          "metadata": {},
          "output_type": "display_data"
        },
        {
          "name": "stdout",
          "output_type": "stream",
          "text": [
            "[WRITE] lcm -> /home/azureuser/cloudfiles/code/Users/Normalized-Attention-Guidance/results-prompts2-nag-base/lcm/with_negative_start0p2/0004_2025_neg_s0p2.png\n",
            "{'prompt': 'A photo of a person', 'guidance_scale': 1.5, 'nag_scale': 2.0, 'nag_end': 0.5, 'nag_tau': 2.5, 'nag_alpha': 0.5, 'num_inference_steps': 4, 'generator': <torch._C.Generator object at 0x7b5cc6531c90>, 'nag_negative_prompt': 'bright lighting', 'nag_start': 0.2}\n"
          ]
        },
        {
          "data": {
            "application/vnd.jupyter.widget-view+json": {
              "model_id": "5556fa30bbf642eba20e54698f6d7e6e",
              "version_major": 2,
              "version_minor": 0
            },
            "text/plain": [
              "  0%|          | 0/4 [00:00<?, ?it/s]"
            ]
          },
          "metadata": {},
          "output_type": "display_data"
        },
        {
          "name": "stdout",
          "output_type": "stream",
          "text": [
            "[WRITE] lcm -> /home/azureuser/cloudfiles/code/Users/Normalized-Attention-Guidance/results-prompts2-nag-base/lcm/with_negative_start0p2/0004_42_neg_s0p2.png\n",
            "{'prompt': 'A photo of a person', 'guidance_scale': 1.5, 'nag_scale': 2.0, 'nag_end': 0.5, 'nag_tau': 2.5, 'nag_alpha': 0.5, 'num_inference_steps': 4, 'generator': <torch._C.Generator object at 0x7b5cc6531130>, 'nag_negative_prompt': 'bright lighting', 'nag_start': 0.2}\n"
          ]
        },
        {
          "data": {
            "application/vnd.jupyter.widget-view+json": {
              "model_id": "ea14d226cbe6444eba424e2ad6786091",
              "version_major": 2,
              "version_minor": 0
            },
            "text/plain": [
              "  0%|          | 0/4 [00:00<?, ?it/s]"
            ]
          },
          "metadata": {},
          "output_type": "display_data"
        },
        {
          "name": "stdout",
          "output_type": "stream",
          "text": [
            "[WRITE] lcm -> /home/azureuser/cloudfiles/code/Users/Normalized-Attention-Guidance/results-prompts2-nag-base/lcm/with_negative_start0p2/0004_1337_neg_s0p2.png\n"
          ]
        },
        {
          "name": "stderr",
          "output_type": "stream",
          "text": [
            "lcm progress:  31%|███▏      | 5/16 [00:53<01:56, 10.60s/it]"
          ]
        },
        {
          "name": "stdout",
          "output_type": "stream",
          "text": [
            "{'prompt': 'A photo of a person', 'guidance_scale': 1.5, 'nag_scale': 2.0, 'nag_end': 0.5, 'nag_tau': 2.5, 'nag_alpha': 0.5, 'num_inference_steps': 4, 'generator': <torch._C.Generator object at 0x7b5cc65310d0>, 'nag_negative_prompt': None}\n"
          ]
        },
        {
          "data": {
            "application/vnd.jupyter.widget-view+json": {
              "model_id": "b72fc184ae8c406ea8ba6df11c7b70bf",
              "version_major": 2,
              "version_minor": 0
            },
            "text/plain": [
              "  0%|          | 0/4 [00:00<?, ?it/s]"
            ]
          },
          "metadata": {},
          "output_type": "display_data"
        },
        {
          "name": "stdout",
          "output_type": "stream",
          "text": [
            "[WRITE] lcm -> /home/azureuser/cloudfiles/code/Users/Normalized-Attention-Guidance/results-prompts2-nag-base/lcm/baseline/0005_2025_noneg.png\n",
            "{'prompt': 'A photo of a person', 'guidance_scale': 1.5, 'nag_scale': 2.0, 'nag_end': 0.5, 'nag_tau': 2.5, 'nag_alpha': 0.5, 'num_inference_steps': 4, 'generator': <torch._C.Generator object at 0x7b5ce0440890>, 'nag_negative_prompt': None}\n"
          ]
        },
        {
          "data": {
            "application/vnd.jupyter.widget-view+json": {
              "model_id": "cf25745677284fc88b4bdbf5a56aee0d",
              "version_major": 2,
              "version_minor": 0
            },
            "text/plain": [
              "  0%|          | 0/4 [00:00<?, ?it/s]"
            ]
          },
          "metadata": {},
          "output_type": "display_data"
        },
        {
          "name": "stdout",
          "output_type": "stream",
          "text": [
            "[WRITE] lcm -> /home/azureuser/cloudfiles/code/Users/Normalized-Attention-Guidance/results-prompts2-nag-base/lcm/baseline/0005_42_noneg.png\n",
            "{'prompt': 'A photo of a person', 'guidance_scale': 1.5, 'nag_scale': 2.0, 'nag_end': 0.5, 'nag_tau': 2.5, 'nag_alpha': 0.5, 'num_inference_steps': 4, 'generator': <torch._C.Generator object at 0x7b5cc65316d0>, 'nag_negative_prompt': None}\n"
          ]
        },
        {
          "data": {
            "application/vnd.jupyter.widget-view+json": {
              "model_id": "815ba27335714e938c7bf9e16fee5335",
              "version_major": 2,
              "version_minor": 0
            },
            "text/plain": [
              "  0%|          | 0/4 [00:00<?, ?it/s]"
            ]
          },
          "metadata": {},
          "output_type": "display_data"
        },
        {
          "name": "stdout",
          "output_type": "stream",
          "text": [
            "[WRITE] lcm -> /home/azureuser/cloudfiles/code/Users/Normalized-Attention-Guidance/results-prompts2-nag-base/lcm/baseline/0005_1337_noneg.png\n",
            "{'prompt': 'A photo of a person', 'guidance_scale': 1.5, 'nag_scale': 2.0, 'nag_end': 0.5, 'nag_tau': 2.5, 'nag_alpha': 0.5, 'num_inference_steps': 4, 'generator': <torch._C.Generator object at 0x7b5cc6531e70>, 'nag_negative_prompt': 'dark lighting', 'nag_start': 0.0}\n"
          ]
        },
        {
          "data": {
            "application/vnd.jupyter.widget-view+json": {
              "model_id": "e6101dd68fc54a3c8c30dc7c049d3ba8",
              "version_major": 2,
              "version_minor": 0
            },
            "text/plain": [
              "  0%|          | 0/4 [00:00<?, ?it/s]"
            ]
          },
          "metadata": {},
          "output_type": "display_data"
        },
        {
          "name": "stdout",
          "output_type": "stream",
          "text": [
            "[WRITE] lcm -> /home/azureuser/cloudfiles/code/Users/Normalized-Attention-Guidance/results-prompts2-nag-base/lcm/with_negative_start0/0005_2025_neg_s0.png\n",
            "{'prompt': 'A photo of a person', 'guidance_scale': 1.5, 'nag_scale': 2.0, 'nag_end': 0.5, 'nag_tau': 2.5, 'nag_alpha': 0.5, 'num_inference_steps': 4, 'generator': <torch._C.Generator object at 0x7b5cc65325f0>, 'nag_negative_prompt': 'dark lighting', 'nag_start': 0.0}\n"
          ]
        },
        {
          "data": {
            "application/vnd.jupyter.widget-view+json": {
              "model_id": "4c6e4acfd0454a68b7b71fd4a41216aa",
              "version_major": 2,
              "version_minor": 0
            },
            "text/plain": [
              "  0%|          | 0/4 [00:00<?, ?it/s]"
            ]
          },
          "metadata": {},
          "output_type": "display_data"
        },
        {
          "name": "stdout",
          "output_type": "stream",
          "text": [
            "[WRITE] lcm -> /home/azureuser/cloudfiles/code/Users/Normalized-Attention-Guidance/results-prompts2-nag-base/lcm/with_negative_start0/0005_42_neg_s0.png\n",
            "{'prompt': 'A photo of a person', 'guidance_scale': 1.5, 'nag_scale': 2.0, 'nag_end': 0.5, 'nag_tau': 2.5, 'nag_alpha': 0.5, 'num_inference_steps': 4, 'generator': <torch._C.Generator object at 0x7b5cc65327d0>, 'nag_negative_prompt': 'dark lighting', 'nag_start': 0.0}\n"
          ]
        },
        {
          "data": {
            "application/vnd.jupyter.widget-view+json": {
              "model_id": "2cc7fafd4627493a936fc09cb3203c29",
              "version_major": 2,
              "version_minor": 0
            },
            "text/plain": [
              "  0%|          | 0/4 [00:00<?, ?it/s]"
            ]
          },
          "metadata": {},
          "output_type": "display_data"
        },
        {
          "name": "stdout",
          "output_type": "stream",
          "text": [
            "[WRITE] lcm -> /home/azureuser/cloudfiles/code/Users/Normalized-Attention-Guidance/results-prompts2-nag-base/lcm/with_negative_start0/0005_1337_neg_s0.png\n",
            "{'prompt': 'A photo of a person', 'guidance_scale': 1.5, 'nag_scale': 2.0, 'nag_end': 0.5, 'nag_tau': 2.5, 'nag_alpha': 0.5, 'num_inference_steps': 4, 'generator': <torch._C.Generator object at 0x7b5cc6532730>, 'nag_negative_prompt': 'dark lighting', 'nag_start': 0.2}\n"
          ]
        },
        {
          "data": {
            "application/vnd.jupyter.widget-view+json": {
              "model_id": "62f127bc571b4c479aa1477ef2fed204",
              "version_major": 2,
              "version_minor": 0
            },
            "text/plain": [
              "  0%|          | 0/4 [00:00<?, ?it/s]"
            ]
          },
          "metadata": {},
          "output_type": "display_data"
        },
        {
          "name": "stdout",
          "output_type": "stream",
          "text": [
            "[WRITE] lcm -> /home/azureuser/cloudfiles/code/Users/Normalized-Attention-Guidance/results-prompts2-nag-base/lcm/with_negative_start0p2/0005_2025_neg_s0p2.png\n",
            "{'prompt': 'A photo of a person', 'guidance_scale': 1.5, 'nag_scale': 2.0, 'nag_end': 0.5, 'nag_tau': 2.5, 'nag_alpha': 0.5, 'num_inference_steps': 4, 'generator': <torch._C.Generator object at 0x7b5cc6532cb0>, 'nag_negative_prompt': 'dark lighting', 'nag_start': 0.2}\n"
          ]
        },
        {
          "data": {
            "application/vnd.jupyter.widget-view+json": {
              "model_id": "43533c33391844ebbe2faf156e4d2c06",
              "version_major": 2,
              "version_minor": 0
            },
            "text/plain": [
              "  0%|          | 0/4 [00:00<?, ?it/s]"
            ]
          },
          "metadata": {},
          "output_type": "display_data"
        },
        {
          "name": "stdout",
          "output_type": "stream",
          "text": [
            "[WRITE] lcm -> /home/azureuser/cloudfiles/code/Users/Normalized-Attention-Guidance/results-prompts2-nag-base/lcm/with_negative_start0p2/0005_42_neg_s0p2.png\n",
            "{'prompt': 'A photo of a person', 'guidance_scale': 1.5, 'nag_scale': 2.0, 'nag_end': 0.5, 'nag_tau': 2.5, 'nag_alpha': 0.5, 'num_inference_steps': 4, 'generator': <torch._C.Generator object at 0x7b5ce0440890>, 'nag_negative_prompt': 'dark lighting', 'nag_start': 0.2}\n"
          ]
        },
        {
          "data": {
            "application/vnd.jupyter.widget-view+json": {
              "model_id": "ac553ec0d97c4cf7a7b3da594cea1704",
              "version_major": 2,
              "version_minor": 0
            },
            "text/plain": [
              "  0%|          | 0/4 [00:00<?, ?it/s]"
            ]
          },
          "metadata": {},
          "output_type": "display_data"
        },
        {
          "name": "stdout",
          "output_type": "stream",
          "text": [
            "[WRITE] lcm -> /home/azureuser/cloudfiles/code/Users/Normalized-Attention-Guidance/results-prompts2-nag-base/lcm/with_negative_start0p2/0005_1337_neg_s0p2.png\n"
          ]
        },
        {
          "name": "stderr",
          "output_type": "stream",
          "text": [
            "lcm progress:  38%|███▊      | 6/16 [01:03<01:42, 10.28s/it]"
          ]
        },
        {
          "name": "stdout",
          "output_type": "stream",
          "text": [
            "{'prompt': 'A photo of a pet', 'guidance_scale': 1.5, 'nag_scale': 2.0, 'nag_end': 0.5, 'nag_tau': 2.5, 'nag_alpha': 0.5, 'num_inference_steps': 4, 'generator': <torch._C.Generator object at 0x7b5cc6532090>, 'nag_negative_prompt': None}\n"
          ]
        },
        {
          "data": {
            "application/vnd.jupyter.widget-view+json": {
              "model_id": "8e0e336209cc434e9f00275a158005f3",
              "version_major": 2,
              "version_minor": 0
            },
            "text/plain": [
              "  0%|          | 0/4 [00:00<?, ?it/s]"
            ]
          },
          "metadata": {},
          "output_type": "display_data"
        },
        {
          "name": "stdout",
          "output_type": "stream",
          "text": [
            "[WRITE] lcm -> /home/azureuser/cloudfiles/code/Users/Normalized-Attention-Guidance/results-prompts2-nag-base/lcm/baseline/0006_2025_noneg.png\n",
            "{'prompt': 'A photo of a pet', 'guidance_scale': 1.5, 'nag_scale': 2.0, 'nag_end': 0.5, 'nag_tau': 2.5, 'nag_alpha': 0.5, 'num_inference_steps': 4, 'generator': <torch._C.Generator object at 0x7b5cc6532630>, 'nag_negative_prompt': None}\n"
          ]
        },
        {
          "data": {
            "application/vnd.jupyter.widget-view+json": {
              "model_id": "18e2b995632a4dd8828e8a2626437d5b",
              "version_major": 2,
              "version_minor": 0
            },
            "text/plain": [
              "  0%|          | 0/4 [00:00<?, ?it/s]"
            ]
          },
          "metadata": {},
          "output_type": "display_data"
        },
        {
          "name": "stdout",
          "output_type": "stream",
          "text": [
            "[WRITE] lcm -> /home/azureuser/cloudfiles/code/Users/Normalized-Attention-Guidance/results-prompts2-nag-base/lcm/baseline/0006_42_noneg.png\n",
            "{'prompt': 'A photo of a pet', 'guidance_scale': 1.5, 'nag_scale': 2.0, 'nag_end': 0.5, 'nag_tau': 2.5, 'nag_alpha': 0.5, 'num_inference_steps': 4, 'generator': <torch._C.Generator object at 0x7b5cc6532b50>, 'nag_negative_prompt': None}\n"
          ]
        },
        {
          "data": {
            "application/vnd.jupyter.widget-view+json": {
              "model_id": "9330c906863244b4b2c33358b7409d56",
              "version_major": 2,
              "version_minor": 0
            },
            "text/plain": [
              "  0%|          | 0/4 [00:00<?, ?it/s]"
            ]
          },
          "metadata": {},
          "output_type": "display_data"
        },
        {
          "name": "stdout",
          "output_type": "stream",
          "text": [
            "[WRITE] lcm -> /home/azureuser/cloudfiles/code/Users/Normalized-Attention-Guidance/results-prompts2-nag-base/lcm/baseline/0006_1337_noneg.png\n",
            "{'prompt': 'A photo of a pet', 'guidance_scale': 1.5, 'nag_scale': 2.0, 'nag_end': 0.5, 'nag_tau': 2.5, 'nag_alpha': 0.5, 'num_inference_steps': 4, 'generator': <torch._C.Generator object at 0x7b5ce015b610>, 'nag_negative_prompt': 'dog', 'nag_start': 0.0}\n"
          ]
        },
        {
          "data": {
            "application/vnd.jupyter.widget-view+json": {
              "model_id": "555024b6c9164e28b5fc135ace2d1d93",
              "version_major": 2,
              "version_minor": 0
            },
            "text/plain": [
              "  0%|          | 0/4 [00:00<?, ?it/s]"
            ]
          },
          "metadata": {},
          "output_type": "display_data"
        },
        {
          "name": "stdout",
          "output_type": "stream",
          "text": [
            "[WRITE] lcm -> /home/azureuser/cloudfiles/code/Users/Normalized-Attention-Guidance/results-prompts2-nag-base/lcm/with_negative_start0/0006_2025_neg_s0.png\n",
            "{'prompt': 'A photo of a pet', 'guidance_scale': 1.5, 'nag_scale': 2.0, 'nag_end': 0.5, 'nag_tau': 2.5, 'nag_alpha': 0.5, 'num_inference_steps': 4, 'generator': <torch._C.Generator object at 0x7b5ce015b130>, 'nag_negative_prompt': 'dog', 'nag_start': 0.0}\n"
          ]
        },
        {
          "data": {
            "application/vnd.jupyter.widget-view+json": {
              "model_id": "5467955a051f4665852fc2c5cdce966b",
              "version_major": 2,
              "version_minor": 0
            },
            "text/plain": [
              "  0%|          | 0/4 [00:00<?, ?it/s]"
            ]
          },
          "metadata": {},
          "output_type": "display_data"
        },
        {
          "name": "stdout",
          "output_type": "stream",
          "text": [
            "[WRITE] lcm -> /home/azureuser/cloudfiles/code/Users/Normalized-Attention-Guidance/results-prompts2-nag-base/lcm/with_negative_start0/0006_42_neg_s0.png\n",
            "{'prompt': 'A photo of a pet', 'guidance_scale': 1.5, 'nag_scale': 2.0, 'nag_end': 0.5, 'nag_tau': 2.5, 'nag_alpha': 0.5, 'num_inference_steps': 4, 'generator': <torch._C.Generator object at 0x7b5ce015b910>, 'nag_negative_prompt': 'dog', 'nag_start': 0.0}\n"
          ]
        },
        {
          "data": {
            "application/vnd.jupyter.widget-view+json": {
              "model_id": "0688eb3f916042619e97b23a30a7f4f6",
              "version_major": 2,
              "version_minor": 0
            },
            "text/plain": [
              "  0%|          | 0/4 [00:00<?, ?it/s]"
            ]
          },
          "metadata": {},
          "output_type": "display_data"
        },
        {
          "name": "stdout",
          "output_type": "stream",
          "text": [
            "[WRITE] lcm -> /home/azureuser/cloudfiles/code/Users/Normalized-Attention-Guidance/results-prompts2-nag-base/lcm/with_negative_start0/0006_1337_neg_s0.png\n",
            "{'prompt': 'A photo of a pet', 'guidance_scale': 1.5, 'nag_scale': 2.0, 'nag_end': 0.5, 'nag_tau': 2.5, 'nag_alpha': 0.5, 'num_inference_steps': 4, 'generator': <torch._C.Generator object at 0x7b5cc6bc3710>, 'nag_negative_prompt': 'dog', 'nag_start': 0.2}\n"
          ]
        },
        {
          "data": {
            "application/vnd.jupyter.widget-view+json": {
              "model_id": "ae9d2a370c2a40adb7efbc775c53441a",
              "version_major": 2,
              "version_minor": 0
            },
            "text/plain": [
              "  0%|          | 0/4 [00:00<?, ?it/s]"
            ]
          },
          "metadata": {},
          "output_type": "display_data"
        },
        {
          "name": "stdout",
          "output_type": "stream",
          "text": [
            "[WRITE] lcm -> /home/azureuser/cloudfiles/code/Users/Normalized-Attention-Guidance/results-prompts2-nag-base/lcm/with_negative_start0p2/0006_2025_neg_s0p2.png\n",
            "{'prompt': 'A photo of a pet', 'guidance_scale': 1.5, 'nag_scale': 2.0, 'nag_end': 0.5, 'nag_tau': 2.5, 'nag_alpha': 0.5, 'num_inference_steps': 4, 'generator': <torch._C.Generator object at 0x7b5cc6bc1990>, 'nag_negative_prompt': 'dog', 'nag_start': 0.2}\n"
          ]
        },
        {
          "data": {
            "application/vnd.jupyter.widget-view+json": {
              "model_id": "7c76770157c341bbb2eb723c87ca5823",
              "version_major": 2,
              "version_minor": 0
            },
            "text/plain": [
              "  0%|          | 0/4 [00:00<?, ?it/s]"
            ]
          },
          "metadata": {},
          "output_type": "display_data"
        },
        {
          "name": "stdout",
          "output_type": "stream",
          "text": [
            "[WRITE] lcm -> /home/azureuser/cloudfiles/code/Users/Normalized-Attention-Guidance/results-prompts2-nag-base/lcm/with_negative_start0p2/0006_42_neg_s0p2.png\n",
            "{'prompt': 'A photo of a pet', 'guidance_scale': 1.5, 'nag_scale': 2.0, 'nag_end': 0.5, 'nag_tau': 2.5, 'nag_alpha': 0.5, 'num_inference_steps': 4, 'generator': <torch._C.Generator object at 0x7b5ce015b130>, 'nag_negative_prompt': 'dog', 'nag_start': 0.2}\n"
          ]
        },
        {
          "data": {
            "application/vnd.jupyter.widget-view+json": {
              "model_id": "cc135e935ea548078da2b73105351aba",
              "version_major": 2,
              "version_minor": 0
            },
            "text/plain": [
              "  0%|          | 0/4 [00:00<?, ?it/s]"
            ]
          },
          "metadata": {},
          "output_type": "display_data"
        },
        {
          "name": "stdout",
          "output_type": "stream",
          "text": [
            "[WRITE] lcm -> /home/azureuser/cloudfiles/code/Users/Normalized-Attention-Guidance/results-prompts2-nag-base/lcm/with_negative_start0p2/0006_1337_neg_s0p2.png\n"
          ]
        },
        {
          "name": "stderr",
          "output_type": "stream",
          "text": [
            "lcm progress:  44%|████▍     | 7/16 [01:13<01:32, 10.24s/it]"
          ]
        },
        {
          "name": "stdout",
          "output_type": "stream",
          "text": [
            "{'prompt': 'A photo of a pet', 'guidance_scale': 1.5, 'nag_scale': 2.0, 'nag_end': 0.5, 'nag_tau': 2.5, 'nag_alpha': 0.5, 'num_inference_steps': 4, 'generator': <torch._C.Generator object at 0x7b5cc6532cb0>, 'nag_negative_prompt': None}\n"
          ]
        },
        {
          "data": {
            "application/vnd.jupyter.widget-view+json": {
              "model_id": "817ce9d6a6054d44be62fc3779ac36ad",
              "version_major": 2,
              "version_minor": 0
            },
            "text/plain": [
              "  0%|          | 0/4 [00:00<?, ?it/s]"
            ]
          },
          "metadata": {},
          "output_type": "display_data"
        },
        {
          "name": "stdout",
          "output_type": "stream",
          "text": [
            "[WRITE] lcm -> /home/azureuser/cloudfiles/code/Users/Normalized-Attention-Guidance/results-prompts2-nag-base/lcm/baseline/0007_2025_noneg.png\n",
            "{'prompt': 'A photo of a pet', 'guidance_scale': 1.5, 'nag_scale': 2.0, 'nag_end': 0.5, 'nag_tau': 2.5, 'nag_alpha': 0.5, 'num_inference_steps': 4, 'generator': <torch._C.Generator object at 0x7b5ce015b910>, 'nag_negative_prompt': None}\n"
          ]
        },
        {
          "data": {
            "application/vnd.jupyter.widget-view+json": {
              "model_id": "e462f90d47b74f23a068e8ad0e3927c6",
              "version_major": 2,
              "version_minor": 0
            },
            "text/plain": [
              "  0%|          | 0/4 [00:00<?, ?it/s]"
            ]
          },
          "metadata": {},
          "output_type": "display_data"
        },
        {
          "name": "stdout",
          "output_type": "stream",
          "text": [
            "[WRITE] lcm -> /home/azureuser/cloudfiles/code/Users/Normalized-Attention-Guidance/results-prompts2-nag-base/lcm/baseline/0007_42_noneg.png\n",
            "{'prompt': 'A photo of a pet', 'guidance_scale': 1.5, 'nag_scale': 2.0, 'nag_end': 0.5, 'nag_tau': 2.5, 'nag_alpha': 0.5, 'num_inference_steps': 4, 'generator': <torch._C.Generator object at 0x7b5cc6bc3230>, 'nag_negative_prompt': None}\n"
          ]
        },
        {
          "data": {
            "application/vnd.jupyter.widget-view+json": {
              "model_id": "54d8121d46a24633809b7630373d22dd",
              "version_major": 2,
              "version_minor": 0
            },
            "text/plain": [
              "  0%|          | 0/4 [00:00<?, ?it/s]"
            ]
          },
          "metadata": {},
          "output_type": "display_data"
        },
        {
          "name": "stdout",
          "output_type": "stream",
          "text": [
            "[WRITE] lcm -> /home/azureuser/cloudfiles/code/Users/Normalized-Attention-Guidance/results-prompts2-nag-base/lcm/baseline/0007_1337_noneg.png\n",
            "{'prompt': 'A photo of a pet', 'guidance_scale': 1.5, 'nag_scale': 2.0, 'nag_end': 0.5, 'nag_tau': 2.5, 'nag_alpha': 0.5, 'num_inference_steps': 4, 'generator': <torch._C.Generator object at 0x7b5cc6bc3890>, 'nag_negative_prompt': 'cat', 'nag_start': 0.0}\n"
          ]
        },
        {
          "data": {
            "application/vnd.jupyter.widget-view+json": {
              "model_id": "35c78d96091143b787f2c3dccbddec5c",
              "version_major": 2,
              "version_minor": 0
            },
            "text/plain": [
              "  0%|          | 0/4 [00:00<?, ?it/s]"
            ]
          },
          "metadata": {},
          "output_type": "display_data"
        },
        {
          "name": "stdout",
          "output_type": "stream",
          "text": [
            "[WRITE] lcm -> /home/azureuser/cloudfiles/code/Users/Normalized-Attention-Guidance/results-prompts2-nag-base/lcm/with_negative_start0/0007_2025_neg_s0.png\n",
            "{'prompt': 'A photo of a pet', 'guidance_scale': 1.5, 'nag_scale': 2.0, 'nag_end': 0.5, 'nag_tau': 2.5, 'nag_alpha': 0.5, 'num_inference_steps': 4, 'generator': <torch._C.Generator object at 0x7b5cc6bc3070>, 'nag_negative_prompt': 'cat', 'nag_start': 0.0}\n"
          ]
        },
        {
          "data": {
            "application/vnd.jupyter.widget-view+json": {
              "model_id": "42ca77cd779e4e889851b7d8db8eeab7",
              "version_major": 2,
              "version_minor": 0
            },
            "text/plain": [
              "  0%|          | 0/4 [00:00<?, ?it/s]"
            ]
          },
          "metadata": {},
          "output_type": "display_data"
        },
        {
          "name": "stdout",
          "output_type": "stream",
          "text": [
            "[WRITE] lcm -> /home/azureuser/cloudfiles/code/Users/Normalized-Attention-Guidance/results-prompts2-nag-base/lcm/with_negative_start0/0007_42_neg_s0.png\n",
            "{'prompt': 'A photo of a pet', 'guidance_scale': 1.5, 'nag_scale': 2.0, 'nag_end': 0.5, 'nag_tau': 2.5, 'nag_alpha': 0.5, 'num_inference_steps': 4, 'generator': <torch._C.Generator object at 0x7b5cc6bc3330>, 'nag_negative_prompt': 'cat', 'nag_start': 0.0}\n"
          ]
        },
        {
          "data": {
            "application/vnd.jupyter.widget-view+json": {
              "model_id": "a113e8a86e554cdbb1d6c480f93c6c41",
              "version_major": 2,
              "version_minor": 0
            },
            "text/plain": [
              "  0%|          | 0/4 [00:00<?, ?it/s]"
            ]
          },
          "metadata": {},
          "output_type": "display_data"
        },
        {
          "name": "stdout",
          "output_type": "stream",
          "text": [
            "[WRITE] lcm -> /home/azureuser/cloudfiles/code/Users/Normalized-Attention-Guidance/results-prompts2-nag-base/lcm/with_negative_start0/0007_1337_neg_s0.png\n",
            "{'prompt': 'A photo of a pet', 'guidance_scale': 1.5, 'nag_scale': 2.0, 'nag_end': 0.5, 'nag_tau': 2.5, 'nag_alpha': 0.5, 'num_inference_steps': 4, 'generator': <torch._C.Generator object at 0x7b5cc6bc3b30>, 'nag_negative_prompt': 'cat', 'nag_start': 0.2}\n"
          ]
        },
        {
          "data": {
            "application/vnd.jupyter.widget-view+json": {
              "model_id": "91ea74a38b93417bb88fea4145a4156d",
              "version_major": 2,
              "version_minor": 0
            },
            "text/plain": [
              "  0%|          | 0/4 [00:00<?, ?it/s]"
            ]
          },
          "metadata": {},
          "output_type": "display_data"
        },
        {
          "name": "stdout",
          "output_type": "stream",
          "text": [
            "[WRITE] lcm -> /home/azureuser/cloudfiles/code/Users/Normalized-Attention-Guidance/results-prompts2-nag-base/lcm/with_negative_start0p2/0007_2025_neg_s0p2.png\n",
            "{'prompt': 'A photo of a pet', 'guidance_scale': 1.5, 'nag_scale': 2.0, 'nag_end': 0.5, 'nag_tau': 2.5, 'nag_alpha': 0.5, 'num_inference_steps': 4, 'generator': <torch._C.Generator object at 0x7b5cc6bc30d0>, 'nag_negative_prompt': 'cat', 'nag_start': 0.2}\n"
          ]
        },
        {
          "data": {
            "application/vnd.jupyter.widget-view+json": {
              "model_id": "98592a95e9e246ee84634e1432b86a73",
              "version_major": 2,
              "version_minor": 0
            },
            "text/plain": [
              "  0%|          | 0/4 [00:00<?, ?it/s]"
            ]
          },
          "metadata": {},
          "output_type": "display_data"
        },
        {
          "name": "stdout",
          "output_type": "stream",
          "text": [
            "[WRITE] lcm -> /home/azureuser/cloudfiles/code/Users/Normalized-Attention-Guidance/results-prompts2-nag-base/lcm/with_negative_start0p2/0007_42_neg_s0p2.png\n",
            "{'prompt': 'A photo of a pet', 'guidance_scale': 1.5, 'nag_scale': 2.0, 'nag_end': 0.5, 'nag_tau': 2.5, 'nag_alpha': 0.5, 'num_inference_steps': 4, 'generator': <torch._C.Generator object at 0x7b5cc6bc26d0>, 'nag_negative_prompt': 'cat', 'nag_start': 0.2}\n"
          ]
        },
        {
          "data": {
            "application/vnd.jupyter.widget-view+json": {
              "model_id": "3131b8c03a0c4e8fa0d76de9b35289ef",
              "version_major": 2,
              "version_minor": 0
            },
            "text/plain": [
              "  0%|          | 0/4 [00:00<?, ?it/s]"
            ]
          },
          "metadata": {},
          "output_type": "display_data"
        },
        {
          "name": "stdout",
          "output_type": "stream",
          "text": [
            "[WRITE] lcm -> /home/azureuser/cloudfiles/code/Users/Normalized-Attention-Guidance/results-prompts2-nag-base/lcm/with_negative_start0p2/0007_1337_neg_s0p2.png\n"
          ]
        },
        {
          "name": "stderr",
          "output_type": "stream",
          "text": [
            "lcm progress:  50%|█████     | 8/16 [01:23<01:22, 10.26s/it]"
          ]
        },
        {
          "name": "stdout",
          "output_type": "stream",
          "text": [
            "{'prompt': 'A photo from the 1960s', 'guidance_scale': 1.5, 'nag_scale': 2.0, 'nag_end': 0.5, 'nag_tau': 2.5, 'nag_alpha': 0.5, 'num_inference_steps': 4, 'generator': <torch._C.Generator object at 0x7b5cc6bc32d0>, 'nag_negative_prompt': None}\n"
          ]
        },
        {
          "data": {
            "application/vnd.jupyter.widget-view+json": {
              "model_id": "52e3bc7ac4b34940a0fd2ac9a8c16a15",
              "version_major": 2,
              "version_minor": 0
            },
            "text/plain": [
              "  0%|          | 0/4 [00:00<?, ?it/s]"
            ]
          },
          "metadata": {},
          "output_type": "display_data"
        },
        {
          "name": "stdout",
          "output_type": "stream",
          "text": [
            "[WRITE] lcm -> /home/azureuser/cloudfiles/code/Users/Normalized-Attention-Guidance/results-prompts2-nag-base/lcm/baseline/0008_2025_noneg.png\n",
            "{'prompt': 'A photo from the 1960s', 'guidance_scale': 1.5, 'nag_scale': 2.0, 'nag_end': 0.5, 'nag_tau': 2.5, 'nag_alpha': 0.5, 'num_inference_steps': 4, 'generator': <torch._C.Generator object at 0x7b5cc6bc2b50>, 'nag_negative_prompt': None}\n"
          ]
        },
        {
          "data": {
            "application/vnd.jupyter.widget-view+json": {
              "model_id": "4e5b5e00cccb4e4292d865d45130a36b",
              "version_major": 2,
              "version_minor": 0
            },
            "text/plain": [
              "  0%|          | 0/4 [00:00<?, ?it/s]"
            ]
          },
          "metadata": {},
          "output_type": "display_data"
        },
        {
          "name": "stdout",
          "output_type": "stream",
          "text": [
            "[WRITE] lcm -> /home/azureuser/cloudfiles/code/Users/Normalized-Attention-Guidance/results-prompts2-nag-base/lcm/baseline/0008_42_noneg.png\n",
            "{'prompt': 'A photo from the 1960s', 'guidance_scale': 1.5, 'nag_scale': 2.0, 'nag_end': 0.5, 'nag_tau': 2.5, 'nag_alpha': 0.5, 'num_inference_steps': 4, 'generator': <torch._C.Generator object at 0x7b5cc6bc1df0>, 'nag_negative_prompt': None}\n"
          ]
        },
        {
          "data": {
            "application/vnd.jupyter.widget-view+json": {
              "model_id": "b6d52cfea0e24991ad90a9702311e15b",
              "version_major": 2,
              "version_minor": 0
            },
            "text/plain": [
              "  0%|          | 0/4 [00:00<?, ?it/s]"
            ]
          },
          "metadata": {},
          "output_type": "display_data"
        },
        {
          "name": "stdout",
          "output_type": "stream",
          "text": [
            "[WRITE] lcm -> /home/azureuser/cloudfiles/code/Users/Normalized-Attention-Guidance/results-prompts2-nag-base/lcm/baseline/0008_1337_noneg.png\n",
            "{'prompt': 'A photo from the 1960s', 'guidance_scale': 1.5, 'nag_scale': 2.0, 'nag_end': 0.5, 'nag_tau': 2.5, 'nag_alpha': 0.5, 'num_inference_steps': 4, 'generator': <torch._C.Generator object at 0x7b5cc6bc2350>, 'nag_negative_prompt': 'colour', 'nag_start': 0.0}\n"
          ]
        },
        {
          "data": {
            "application/vnd.jupyter.widget-view+json": {
              "model_id": "77023cd71e744fb18507cd36f088a7f9",
              "version_major": 2,
              "version_minor": 0
            },
            "text/plain": [
              "  0%|          | 0/4 [00:00<?, ?it/s]"
            ]
          },
          "metadata": {},
          "output_type": "display_data"
        },
        {
          "name": "stdout",
          "output_type": "stream",
          "text": [
            "[WRITE] lcm -> /home/azureuser/cloudfiles/code/Users/Normalized-Attention-Guidance/results-prompts2-nag-base/lcm/with_negative_start0/0008_2025_neg_s0.png\n",
            "{'prompt': 'A photo from the 1960s', 'guidance_scale': 1.5, 'nag_scale': 2.0, 'nag_end': 0.5, 'nag_tau': 2.5, 'nag_alpha': 0.5, 'num_inference_steps': 4, 'generator': <torch._C.Generator object at 0x7b5cc6bc2110>, 'nag_negative_prompt': 'colour', 'nag_start': 0.0}\n"
          ]
        },
        {
          "data": {
            "application/vnd.jupyter.widget-view+json": {
              "model_id": "b852a1235cf64c259104288d359fb8fd",
              "version_major": 2,
              "version_minor": 0
            },
            "text/plain": [
              "  0%|          | 0/4 [00:00<?, ?it/s]"
            ]
          },
          "metadata": {},
          "output_type": "display_data"
        },
        {
          "name": "stdout",
          "output_type": "stream",
          "text": [
            "[WRITE] lcm -> /home/azureuser/cloudfiles/code/Users/Normalized-Attention-Guidance/results-prompts2-nag-base/lcm/with_negative_start0/0008_42_neg_s0.png\n",
            "{'prompt': 'A photo from the 1960s', 'guidance_scale': 1.5, 'nag_scale': 2.0, 'nag_end': 0.5, 'nag_tau': 2.5, 'nag_alpha': 0.5, 'num_inference_steps': 4, 'generator': <torch._C.Generator object at 0x7b5cc6bc0970>, 'nag_negative_prompt': 'colour', 'nag_start': 0.0}\n"
          ]
        },
        {
          "data": {
            "application/vnd.jupyter.widget-view+json": {
              "model_id": "caa2771708c540e0b8232d68c07f1342",
              "version_major": 2,
              "version_minor": 0
            },
            "text/plain": [
              "  0%|          | 0/4 [00:00<?, ?it/s]"
            ]
          },
          "metadata": {},
          "output_type": "display_data"
        },
        {
          "name": "stdout",
          "output_type": "stream",
          "text": [
            "[WRITE] lcm -> /home/azureuser/cloudfiles/code/Users/Normalized-Attention-Guidance/results-prompts2-nag-base/lcm/with_negative_start0/0008_1337_neg_s0.png\n",
            "{'prompt': 'A photo from the 1960s', 'guidance_scale': 1.5, 'nag_scale': 2.0, 'nag_end': 0.5, 'nag_tau': 2.5, 'nag_alpha': 0.5, 'num_inference_steps': 4, 'generator': <torch._C.Generator object at 0x7b5cc6bc0930>, 'nag_negative_prompt': 'colour', 'nag_start': 0.2}\n"
          ]
        },
        {
          "data": {
            "application/vnd.jupyter.widget-view+json": {
              "model_id": "ed86ae7d6efc48af881ba1f61d7e1523",
              "version_major": 2,
              "version_minor": 0
            },
            "text/plain": [
              "  0%|          | 0/4 [00:00<?, ?it/s]"
            ]
          },
          "metadata": {},
          "output_type": "display_data"
        },
        {
          "name": "stdout",
          "output_type": "stream",
          "text": [
            "[WRITE] lcm -> /home/azureuser/cloudfiles/code/Users/Normalized-Attention-Guidance/results-prompts2-nag-base/lcm/with_negative_start0p2/0008_2025_neg_s0p2.png\n",
            "{'prompt': 'A photo from the 1960s', 'guidance_scale': 1.5, 'nag_scale': 2.0, 'nag_end': 0.5, 'nag_tau': 2.5, 'nag_alpha': 0.5, 'num_inference_steps': 4, 'generator': <torch._C.Generator object at 0x7b5cc6bc1090>, 'nag_negative_prompt': 'colour', 'nag_start': 0.2}\n"
          ]
        },
        {
          "data": {
            "application/vnd.jupyter.widget-view+json": {
              "model_id": "fa08b702f7c04900a6ac5df51545954f",
              "version_major": 2,
              "version_minor": 0
            },
            "text/plain": [
              "  0%|          | 0/4 [00:00<?, ?it/s]"
            ]
          },
          "metadata": {},
          "output_type": "display_data"
        },
        {
          "name": "stdout",
          "output_type": "stream",
          "text": [
            "[WRITE] lcm -> /home/azureuser/cloudfiles/code/Users/Normalized-Attention-Guidance/results-prompts2-nag-base/lcm/with_negative_start0p2/0008_42_neg_s0p2.png\n",
            "{'prompt': 'A photo from the 1960s', 'guidance_scale': 1.5, 'nag_scale': 2.0, 'nag_end': 0.5, 'nag_tau': 2.5, 'nag_alpha': 0.5, 'num_inference_steps': 4, 'generator': <torch._C.Generator object at 0x7b5cc6bc13b0>, 'nag_negative_prompt': 'colour', 'nag_start': 0.2}\n"
          ]
        },
        {
          "data": {
            "application/vnd.jupyter.widget-view+json": {
              "model_id": "f70acf1a545843588ac79720bdc32a57",
              "version_major": 2,
              "version_minor": 0
            },
            "text/plain": [
              "  0%|          | 0/4 [00:00<?, ?it/s]"
            ]
          },
          "metadata": {},
          "output_type": "display_data"
        },
        {
          "name": "stdout",
          "output_type": "stream",
          "text": [
            "[WRITE] lcm -> /home/azureuser/cloudfiles/code/Users/Normalized-Attention-Guidance/results-prompts2-nag-base/lcm/with_negative_start0p2/0008_1337_neg_s0p2.png\n"
          ]
        },
        {
          "name": "stderr",
          "output_type": "stream",
          "text": [
            "lcm progress:  56%|█████▋    | 9/16 [01:33<01:11, 10.22s/it]"
          ]
        },
        {
          "name": "stdout",
          "output_type": "stream",
          "text": [
            "{'prompt': 'A photo from the 1960s', 'guidance_scale': 1.5, 'nag_scale': 2.0, 'nag_end': 0.5, 'nag_tau': 2.5, 'nag_alpha': 0.5, 'num_inference_steps': 4, 'generator': <torch._C.Generator object at 0x7b5cc6bc2590>, 'nag_negative_prompt': None}\n"
          ]
        },
        {
          "data": {
            "application/vnd.jupyter.widget-view+json": {
              "model_id": "8e1b114b69bb46f0b489009d8eb13d08",
              "version_major": 2,
              "version_minor": 0
            },
            "text/plain": [
              "  0%|          | 0/4 [00:00<?, ?it/s]"
            ]
          },
          "metadata": {},
          "output_type": "display_data"
        },
        {
          "name": "stdout",
          "output_type": "stream",
          "text": [
            "[WRITE] lcm -> /home/azureuser/cloudfiles/code/Users/Normalized-Attention-Guidance/results-prompts2-nag-base/lcm/baseline/0009_2025_noneg.png\n",
            "{'prompt': 'A photo from the 1960s', 'guidance_scale': 1.5, 'nag_scale': 2.0, 'nag_end': 0.5, 'nag_tau': 2.5, 'nag_alpha': 0.5, 'num_inference_steps': 4, 'generator': <torch._C.Generator object at 0x7b5cc6bc1690>, 'nag_negative_prompt': None}\n"
          ]
        },
        {
          "data": {
            "application/vnd.jupyter.widget-view+json": {
              "model_id": "de503a45948e43039f6a29ee7f3b4fc4",
              "version_major": 2,
              "version_minor": 0
            },
            "text/plain": [
              "  0%|          | 0/4 [00:00<?, ?it/s]"
            ]
          },
          "metadata": {},
          "output_type": "display_data"
        },
        {
          "name": "stdout",
          "output_type": "stream",
          "text": [
            "[WRITE] lcm -> /home/azureuser/cloudfiles/code/Users/Normalized-Attention-Guidance/results-prompts2-nag-base/lcm/baseline/0009_42_noneg.png\n",
            "{'prompt': 'A photo from the 1960s', 'guidance_scale': 1.5, 'nag_scale': 2.0, 'nag_end': 0.5, 'nag_tau': 2.5, 'nag_alpha': 0.5, 'num_inference_steps': 4, 'generator': <torch._C.Generator object at 0x7b5cc6bc0930>, 'nag_negative_prompt': None}\n"
          ]
        },
        {
          "data": {
            "application/vnd.jupyter.widget-view+json": {
              "model_id": "366b646869804399bc6ed9e1186cb637",
              "version_major": 2,
              "version_minor": 0
            },
            "text/plain": [
              "  0%|          | 0/4 [00:00<?, ?it/s]"
            ]
          },
          "metadata": {},
          "output_type": "display_data"
        },
        {
          "name": "stdout",
          "output_type": "stream",
          "text": [
            "[WRITE] lcm -> /home/azureuser/cloudfiles/code/Users/Normalized-Attention-Guidance/results-prompts2-nag-base/lcm/baseline/0009_1337_noneg.png\n",
            "{'prompt': 'A photo from the 1960s', 'guidance_scale': 1.5, 'nag_scale': 2.0, 'nag_end': 0.5, 'nag_tau': 2.5, 'nag_alpha': 0.5, 'num_inference_steps': 4, 'generator': <torch._C.Generator object at 0x7b5cc6bc2590>, 'nag_negative_prompt': 'black and white', 'nag_start': 0.0}\n"
          ]
        },
        {
          "data": {
            "application/vnd.jupyter.widget-view+json": {
              "model_id": "588b1f8d973f43078c269b1c5e91af96",
              "version_major": 2,
              "version_minor": 0
            },
            "text/plain": [
              "  0%|          | 0/4 [00:00<?, ?it/s]"
            ]
          },
          "metadata": {},
          "output_type": "display_data"
        },
        {
          "name": "stdout",
          "output_type": "stream",
          "text": [
            "[WRITE] lcm -> /home/azureuser/cloudfiles/code/Users/Normalized-Attention-Guidance/results-prompts2-nag-base/lcm/with_negative_start0/0009_2025_neg_s0.png\n",
            "{'prompt': 'A photo from the 1960s', 'guidance_scale': 1.5, 'nag_scale': 2.0, 'nag_end': 0.5, 'nag_tau': 2.5, 'nag_alpha': 0.5, 'num_inference_steps': 4, 'generator': <torch._C.Generator object at 0x7b5cc6bc1230>, 'nag_negative_prompt': 'black and white', 'nag_start': 0.0}\n"
          ]
        },
        {
          "data": {
            "application/vnd.jupyter.widget-view+json": {
              "model_id": "38286f487a3542b7b601f5c853d0d4c0",
              "version_major": 2,
              "version_minor": 0
            },
            "text/plain": [
              "  0%|          | 0/4 [00:00<?, ?it/s]"
            ]
          },
          "metadata": {},
          "output_type": "display_data"
        },
        {
          "name": "stdout",
          "output_type": "stream",
          "text": [
            "[WRITE] lcm -> /home/azureuser/cloudfiles/code/Users/Normalized-Attention-Guidance/results-prompts2-nag-base/lcm/with_negative_start0/0009_42_neg_s0.png\n",
            "{'prompt': 'A photo from the 1960s', 'guidance_scale': 1.5, 'nag_scale': 2.0, 'nag_end': 0.5, 'nag_tau': 2.5, 'nag_alpha': 0.5, 'num_inference_steps': 4, 'generator': <torch._C.Generator object at 0x7b5cc6bc1690>, 'nag_negative_prompt': 'black and white', 'nag_start': 0.0}\n"
          ]
        },
        {
          "data": {
            "application/vnd.jupyter.widget-view+json": {
              "model_id": "676b291a02054799be3810d41d28af38",
              "version_major": 2,
              "version_minor": 0
            },
            "text/plain": [
              "  0%|          | 0/4 [00:00<?, ?it/s]"
            ]
          },
          "metadata": {},
          "output_type": "display_data"
        },
        {
          "name": "stdout",
          "output_type": "stream",
          "text": [
            "[WRITE] lcm -> /home/azureuser/cloudfiles/code/Users/Normalized-Attention-Guidance/results-prompts2-nag-base/lcm/with_negative_start0/0009_1337_neg_s0.png\n",
            "{'prompt': 'A photo from the 1960s', 'guidance_scale': 1.5, 'nag_scale': 2.0, 'nag_end': 0.5, 'nag_tau': 2.5, 'nag_alpha': 0.5, 'num_inference_steps': 4, 'generator': <torch._C.Generator object at 0x7b5cc6bc13d0>, 'nag_negative_prompt': 'black and white', 'nag_start': 0.2}\n"
          ]
        },
        {
          "data": {
            "application/vnd.jupyter.widget-view+json": {
              "model_id": "d3562dd0de9d4da7b6ad7af9937d5aed",
              "version_major": 2,
              "version_minor": 0
            },
            "text/plain": [
              "  0%|          | 0/4 [00:00<?, ?it/s]"
            ]
          },
          "metadata": {},
          "output_type": "display_data"
        },
        {
          "name": "stdout",
          "output_type": "stream",
          "text": [
            "[WRITE] lcm -> /home/azureuser/cloudfiles/code/Users/Normalized-Attention-Guidance/results-prompts2-nag-base/lcm/with_negative_start0p2/0009_2025_neg_s0p2.png\n",
            "{'prompt': 'A photo from the 1960s', 'guidance_scale': 1.5, 'nag_scale': 2.0, 'nag_end': 0.5, 'nag_tau': 2.5, 'nag_alpha': 0.5, 'num_inference_steps': 4, 'generator': <torch._C.Generator object at 0x7b5cc6bc0930>, 'nag_negative_prompt': 'black and white', 'nag_start': 0.2}\n"
          ]
        },
        {
          "data": {
            "application/vnd.jupyter.widget-view+json": {
              "model_id": "17ff45288e994aa69fa0eb4f851141d4",
              "version_major": 2,
              "version_minor": 0
            },
            "text/plain": [
              "  0%|          | 0/4 [00:00<?, ?it/s]"
            ]
          },
          "metadata": {},
          "output_type": "display_data"
        },
        {
          "name": "stdout",
          "output_type": "stream",
          "text": [
            "[WRITE] lcm -> /home/azureuser/cloudfiles/code/Users/Normalized-Attention-Guidance/results-prompts2-nag-base/lcm/with_negative_start0p2/0009_42_neg_s0p2.png\n",
            "{'prompt': 'A photo from the 1960s', 'guidance_scale': 1.5, 'nag_scale': 2.0, 'nag_end': 0.5, 'nag_tau': 2.5, 'nag_alpha': 0.5, 'num_inference_steps': 4, 'generator': <torch._C.Generator object at 0x7b5c9d7a8170>, 'nag_negative_prompt': 'black and white', 'nag_start': 0.2}\n"
          ]
        },
        {
          "data": {
            "application/vnd.jupyter.widget-view+json": {
              "model_id": "aa800c334e374fe2b202e72b65159fc8",
              "version_major": 2,
              "version_minor": 0
            },
            "text/plain": [
              "  0%|          | 0/4 [00:00<?, ?it/s]"
            ]
          },
          "metadata": {},
          "output_type": "display_data"
        },
        {
          "name": "stdout",
          "output_type": "stream",
          "text": [
            "[WRITE] lcm -> /home/azureuser/cloudfiles/code/Users/Normalized-Attention-Guidance/results-prompts2-nag-base/lcm/with_negative_start0p2/0009_1337_neg_s0p2.png\n"
          ]
        },
        {
          "name": "stderr",
          "output_type": "stream",
          "text": [
            "lcm progress:  62%|██████▎   | 10/16 [01:45<01:04, 10.79s/it]"
          ]
        },
        {
          "name": "stdout",
          "output_type": "stream",
          "text": [
            "{'prompt': 'A still painting of fruits', 'guidance_scale': 1.5, 'nag_scale': 2.0, 'nag_end': 0.5, 'nag_tau': 2.5, 'nag_alpha': 0.5, 'num_inference_steps': 4, 'generator': <torch._C.Generator object at 0x7b5cc6bc15f0>, 'nag_negative_prompt': None}\n"
          ]
        },
        {
          "data": {
            "application/vnd.jupyter.widget-view+json": {
              "model_id": "90d5af2fd5774a329a5310526491a26f",
              "version_major": 2,
              "version_minor": 0
            },
            "text/plain": [
              "  0%|          | 0/4 [00:00<?, ?it/s]"
            ]
          },
          "metadata": {},
          "output_type": "display_data"
        },
        {
          "name": "stdout",
          "output_type": "stream",
          "text": [
            "[WRITE] lcm -> /home/azureuser/cloudfiles/code/Users/Normalized-Attention-Guidance/results-prompts2-nag-base/lcm/baseline/0010_2025_noneg.png\n",
            "{'prompt': 'A still painting of fruits', 'guidance_scale': 1.5, 'nag_scale': 2.0, 'nag_end': 0.5, 'nag_tau': 2.5, 'nag_alpha': 0.5, 'num_inference_steps': 4, 'generator': <torch._C.Generator object at 0x7b5c9d7aadb0>, 'nag_negative_prompt': None}\n"
          ]
        },
        {
          "data": {
            "application/vnd.jupyter.widget-view+json": {
              "model_id": "77b50e9da25842fe8296fbe0c1ba8fcd",
              "version_major": 2,
              "version_minor": 0
            },
            "text/plain": [
              "  0%|          | 0/4 [00:00<?, ?it/s]"
            ]
          },
          "metadata": {},
          "output_type": "display_data"
        },
        {
          "name": "stdout",
          "output_type": "stream",
          "text": [
            "[WRITE] lcm -> /home/azureuser/cloudfiles/code/Users/Normalized-Attention-Guidance/results-prompts2-nag-base/lcm/baseline/0010_42_noneg.png\n",
            "{'prompt': 'A still painting of fruits', 'guidance_scale': 1.5, 'nag_scale': 2.0, 'nag_end': 0.5, 'nag_tau': 2.5, 'nag_alpha': 0.5, 'num_inference_steps': 4, 'generator': <torch._C.Generator object at 0x7b5c9d7aa9f0>, 'nag_negative_prompt': None}\n"
          ]
        },
        {
          "data": {
            "application/vnd.jupyter.widget-view+json": {
              "model_id": "2dfa5534cc3f44ca9ed350053bc38c46",
              "version_major": 2,
              "version_minor": 0
            },
            "text/plain": [
              "  0%|          | 0/4 [00:00<?, ?it/s]"
            ]
          },
          "metadata": {},
          "output_type": "display_data"
        },
        {
          "name": "stdout",
          "output_type": "stream",
          "text": [
            "[WRITE] lcm -> /home/azureuser/cloudfiles/code/Users/Normalized-Attention-Guidance/results-prompts2-nag-base/lcm/baseline/0010_1337_noneg.png\n",
            "{'prompt': 'A still painting of fruits', 'guidance_scale': 1.5, 'nag_scale': 2.0, 'nag_end': 0.5, 'nag_tau': 2.5, 'nag_alpha': 0.5, 'num_inference_steps': 4, 'generator': <torch._C.Generator object at 0x7b5c9d7aa630>, 'nag_negative_prompt': 'grapes', 'nag_start': 0.0}\n"
          ]
        },
        {
          "data": {
            "application/vnd.jupyter.widget-view+json": {
              "model_id": "264af897767449e98c3d90b58b0da992",
              "version_major": 2,
              "version_minor": 0
            },
            "text/plain": [
              "  0%|          | 0/4 [00:00<?, ?it/s]"
            ]
          },
          "metadata": {},
          "output_type": "display_data"
        },
        {
          "name": "stdout",
          "output_type": "stream",
          "text": [
            "[WRITE] lcm -> /home/azureuser/cloudfiles/code/Users/Normalized-Attention-Guidance/results-prompts2-nag-base/lcm/with_negative_start0/0010_2025_neg_s0.png\n",
            "{'prompt': 'A still painting of fruits', 'guidance_scale': 1.5, 'nag_scale': 2.0, 'nag_end': 0.5, 'nag_tau': 2.5, 'nag_alpha': 0.5, 'num_inference_steps': 4, 'generator': <torch._C.Generator object at 0x7b5c9d7aa4d0>, 'nag_negative_prompt': 'grapes', 'nag_start': 0.0}\n"
          ]
        },
        {
          "data": {
            "application/vnd.jupyter.widget-view+json": {
              "model_id": "4b27ab5e85b24851923e53b4acc2e128",
              "version_major": 2,
              "version_minor": 0
            },
            "text/plain": [
              "  0%|          | 0/4 [00:00<?, ?it/s]"
            ]
          },
          "metadata": {},
          "output_type": "display_data"
        },
        {
          "name": "stdout",
          "output_type": "stream",
          "text": [
            "[WRITE] lcm -> /home/azureuser/cloudfiles/code/Users/Normalized-Attention-Guidance/results-prompts2-nag-base/lcm/with_negative_start0/0010_42_neg_s0.png\n",
            "{'prompt': 'A still painting of fruits', 'guidance_scale': 1.5, 'nag_scale': 2.0, 'nag_end': 0.5, 'nag_tau': 2.5, 'nag_alpha': 0.5, 'num_inference_steps': 4, 'generator': <torch._C.Generator object at 0x7b5c9d7aa4b0>, 'nag_negative_prompt': 'grapes', 'nag_start': 0.0}\n"
          ]
        },
        {
          "data": {
            "application/vnd.jupyter.widget-view+json": {
              "model_id": "50be780133694f44aefba2bebb566f7c",
              "version_major": 2,
              "version_minor": 0
            },
            "text/plain": [
              "  0%|          | 0/4 [00:00<?, ?it/s]"
            ]
          },
          "metadata": {},
          "output_type": "display_data"
        },
        {
          "name": "stdout",
          "output_type": "stream",
          "text": [
            "[WRITE] lcm -> /home/azureuser/cloudfiles/code/Users/Normalized-Attention-Guidance/results-prompts2-nag-base/lcm/with_negative_start0/0010_1337_neg_s0.png\n",
            "{'prompt': 'A still painting of fruits', 'guidance_scale': 1.5, 'nag_scale': 2.0, 'nag_end': 0.5, 'nag_tau': 2.5, 'nag_alpha': 0.5, 'num_inference_steps': 4, 'generator': <torch._C.Generator object at 0x7b5c9d7aae90>, 'nag_negative_prompt': 'grapes', 'nag_start': 0.2}\n"
          ]
        },
        {
          "data": {
            "application/vnd.jupyter.widget-view+json": {
              "model_id": "89fa610bc5f84015a066e11909af537e",
              "version_major": 2,
              "version_minor": 0
            },
            "text/plain": [
              "  0%|          | 0/4 [00:00<?, ?it/s]"
            ]
          },
          "metadata": {},
          "output_type": "display_data"
        },
        {
          "name": "stdout",
          "output_type": "stream",
          "text": [
            "[WRITE] lcm -> /home/azureuser/cloudfiles/code/Users/Normalized-Attention-Guidance/results-prompts2-nag-base/lcm/with_negative_start0p2/0010_2025_neg_s0p2.png\n",
            "{'prompt': 'A still painting of fruits', 'guidance_scale': 1.5, 'nag_scale': 2.0, 'nag_end': 0.5, 'nag_tau': 2.5, 'nag_alpha': 0.5, 'num_inference_steps': 4, 'generator': <torch._C.Generator object at 0x7b5c9d7aa030>, 'nag_negative_prompt': 'grapes', 'nag_start': 0.2}\n"
          ]
        },
        {
          "data": {
            "application/vnd.jupyter.widget-view+json": {
              "model_id": "a880a8ffc46243bd89c3b1fae3861d38",
              "version_major": 2,
              "version_minor": 0
            },
            "text/plain": [
              "  0%|          | 0/4 [00:00<?, ?it/s]"
            ]
          },
          "metadata": {},
          "output_type": "display_data"
        },
        {
          "name": "stdout",
          "output_type": "stream",
          "text": [
            "[WRITE] lcm -> /home/azureuser/cloudfiles/code/Users/Normalized-Attention-Guidance/results-prompts2-nag-base/lcm/with_negative_start0p2/0010_42_neg_s0p2.png\n",
            "{'prompt': 'A still painting of fruits', 'guidance_scale': 1.5, 'nag_scale': 2.0, 'nag_end': 0.5, 'nag_tau': 2.5, 'nag_alpha': 0.5, 'num_inference_steps': 4, 'generator': <torch._C.Generator object at 0x7b5c9d7aa190>, 'nag_negative_prompt': 'grapes', 'nag_start': 0.2}\n"
          ]
        },
        {
          "data": {
            "application/vnd.jupyter.widget-view+json": {
              "model_id": "a02327b23e5446dc92700bcbed0338e0",
              "version_major": 2,
              "version_minor": 0
            },
            "text/plain": [
              "  0%|          | 0/4 [00:00<?, ?it/s]"
            ]
          },
          "metadata": {},
          "output_type": "display_data"
        },
        {
          "name": "stdout",
          "output_type": "stream",
          "text": [
            "[WRITE] lcm -> /home/azureuser/cloudfiles/code/Users/Normalized-Attention-Guidance/results-prompts2-nag-base/lcm/with_negative_start0p2/0010_1337_neg_s0p2.png\n"
          ]
        },
        {
          "name": "stderr",
          "output_type": "stream",
          "text": [
            "lcm progress:  69%|██████▉   | 11/16 [01:56<00:54, 10.82s/it]"
          ]
        },
        {
          "name": "stdout",
          "output_type": "stream",
          "text": [
            "{'prompt': 'A still painting of fruits', 'guidance_scale': 1.5, 'nag_scale': 2.0, 'nag_end': 0.5, 'nag_tau': 2.5, 'nag_alpha': 0.5, 'num_inference_steps': 4, 'generator': <torch._C.Generator object at 0x7b5c9d7aa990>, 'nag_negative_prompt': None}\n"
          ]
        },
        {
          "data": {
            "application/vnd.jupyter.widget-view+json": {
              "model_id": "810dcccd36c7442c96abf95099d0fa78",
              "version_major": 2,
              "version_minor": 0
            },
            "text/plain": [
              "  0%|          | 0/4 [00:00<?, ?it/s]"
            ]
          },
          "metadata": {},
          "output_type": "display_data"
        },
        {
          "name": "stdout",
          "output_type": "stream",
          "text": [
            "[WRITE] lcm -> /home/azureuser/cloudfiles/code/Users/Normalized-Attention-Guidance/results-prompts2-nag-base/lcm/baseline/0011_2025_noneg.png\n",
            "{'prompt': 'A still painting of fruits', 'guidance_scale': 1.5, 'nag_scale': 2.0, 'nag_end': 0.5, 'nag_tau': 2.5, 'nag_alpha': 0.5, 'num_inference_steps': 4, 'generator': <torch._C.Generator object at 0x7b5cc6bc15f0>, 'nag_negative_prompt': None}\n"
          ]
        },
        {
          "data": {
            "application/vnd.jupyter.widget-view+json": {
              "model_id": "00683f41022243c7b48913167d86437d",
              "version_major": 2,
              "version_minor": 0
            },
            "text/plain": [
              "  0%|          | 0/4 [00:00<?, ?it/s]"
            ]
          },
          "metadata": {},
          "output_type": "display_data"
        },
        {
          "name": "stdout",
          "output_type": "stream",
          "text": [
            "[WRITE] lcm -> /home/azureuser/cloudfiles/code/Users/Normalized-Attention-Guidance/results-prompts2-nag-base/lcm/baseline/0011_42_noneg.png\n",
            "{'prompt': 'A still painting of fruits', 'guidance_scale': 1.5, 'nag_scale': 2.0, 'nag_end': 0.5, 'nag_tau': 2.5, 'nag_alpha': 0.5, 'num_inference_steps': 4, 'generator': <torch._C.Generator object at 0x7b5c9d7aa490>, 'nag_negative_prompt': None}\n"
          ]
        },
        {
          "data": {
            "application/vnd.jupyter.widget-view+json": {
              "model_id": "40a9ab66b4d641fb8ec95b4fc936a889",
              "version_major": 2,
              "version_minor": 0
            },
            "text/plain": [
              "  0%|          | 0/4 [00:00<?, ?it/s]"
            ]
          },
          "metadata": {},
          "output_type": "display_data"
        },
        {
          "name": "stdout",
          "output_type": "stream",
          "text": [
            "[WRITE] lcm -> /home/azureuser/cloudfiles/code/Users/Normalized-Attention-Guidance/results-prompts2-nag-base/lcm/baseline/0011_1337_noneg.png\n",
            "{'prompt': 'A still painting of fruits', 'guidance_scale': 1.5, 'nag_scale': 2.0, 'nag_end': 0.5, 'nag_tau': 2.5, 'nag_alpha': 0.5, 'num_inference_steps': 4, 'generator': <torch._C.Generator object at 0x7b5c9d7a9ab0>, 'nag_negative_prompt': 'apples', 'nag_start': 0.0}\n"
          ]
        },
        {
          "data": {
            "application/vnd.jupyter.widget-view+json": {
              "model_id": "ab92efc29015457d8a7a75c6992649cb",
              "version_major": 2,
              "version_minor": 0
            },
            "text/plain": [
              "  0%|          | 0/4 [00:00<?, ?it/s]"
            ]
          },
          "metadata": {},
          "output_type": "display_data"
        },
        {
          "name": "stdout",
          "output_type": "stream",
          "text": [
            "[WRITE] lcm -> /home/azureuser/cloudfiles/code/Users/Normalized-Attention-Guidance/results-prompts2-nag-base/lcm/with_negative_start0/0011_2025_neg_s0.png\n",
            "{'prompt': 'A still painting of fruits', 'guidance_scale': 1.5, 'nag_scale': 2.0, 'nag_end': 0.5, 'nag_tau': 2.5, 'nag_alpha': 0.5, 'num_inference_steps': 4, 'generator': <torch._C.Generator object at 0x7b5c9d7a9890>, 'nag_negative_prompt': 'apples', 'nag_start': 0.0}\n"
          ]
        },
        {
          "data": {
            "application/vnd.jupyter.widget-view+json": {
              "model_id": "96c02898c845447daf918b320a838581",
              "version_major": 2,
              "version_minor": 0
            },
            "text/plain": [
              "  0%|          | 0/4 [00:00<?, ?it/s]"
            ]
          },
          "metadata": {},
          "output_type": "display_data"
        },
        {
          "name": "stdout",
          "output_type": "stream",
          "text": [
            "[WRITE] lcm -> /home/azureuser/cloudfiles/code/Users/Normalized-Attention-Guidance/results-prompts2-nag-base/lcm/with_negative_start0/0011_42_neg_s0.png\n",
            "{'prompt': 'A still painting of fruits', 'guidance_scale': 1.5, 'nag_scale': 2.0, 'nag_end': 0.5, 'nag_tau': 2.5, 'nag_alpha': 0.5, 'num_inference_steps': 4, 'generator': <torch._C.Generator object at 0x7b5c9d7a9b10>, 'nag_negative_prompt': 'apples', 'nag_start': 0.0}\n"
          ]
        },
        {
          "data": {
            "application/vnd.jupyter.widget-view+json": {
              "model_id": "528ee9cb675d4f05a3d32210591ac4f6",
              "version_major": 2,
              "version_minor": 0
            },
            "text/plain": [
              "  0%|          | 0/4 [00:00<?, ?it/s]"
            ]
          },
          "metadata": {},
          "output_type": "display_data"
        },
        {
          "name": "stdout",
          "output_type": "stream",
          "text": [
            "[WRITE] lcm -> /home/azureuser/cloudfiles/code/Users/Normalized-Attention-Guidance/results-prompts2-nag-base/lcm/with_negative_start0/0011_1337_neg_s0.png\n",
            "{'prompt': 'A still painting of fruits', 'guidance_scale': 1.5, 'nag_scale': 2.0, 'nag_end': 0.5, 'nag_tau': 2.5, 'nag_alpha': 0.5, 'num_inference_steps': 4, 'generator': <torch._C.Generator object at 0x7b5c9d7a8ab0>, 'nag_negative_prompt': 'apples', 'nag_start': 0.2}\n"
          ]
        },
        {
          "data": {
            "application/vnd.jupyter.widget-view+json": {
              "model_id": "207ca828101b40bb92e374bed88d9c7f",
              "version_major": 2,
              "version_minor": 0
            },
            "text/plain": [
              "  0%|          | 0/4 [00:00<?, ?it/s]"
            ]
          },
          "metadata": {},
          "output_type": "display_data"
        },
        {
          "name": "stdout",
          "output_type": "stream",
          "text": [
            "[WRITE] lcm -> /home/azureuser/cloudfiles/code/Users/Normalized-Attention-Guidance/results-prompts2-nag-base/lcm/with_negative_start0p2/0011_2025_neg_s0p2.png\n",
            "{'prompt': 'A still painting of fruits', 'guidance_scale': 1.5, 'nag_scale': 2.0, 'nag_end': 0.5, 'nag_tau': 2.5, 'nag_alpha': 0.5, 'num_inference_steps': 4, 'generator': <torch._C.Generator object at 0x7b5cc6bc15f0>, 'nag_negative_prompt': 'apples', 'nag_start': 0.2}\n"
          ]
        },
        {
          "data": {
            "application/vnd.jupyter.widget-view+json": {
              "model_id": "94ae34c8add640328fdf4493a006f704",
              "version_major": 2,
              "version_minor": 0
            },
            "text/plain": [
              "  0%|          | 0/4 [00:00<?, ?it/s]"
            ]
          },
          "metadata": {},
          "output_type": "display_data"
        },
        {
          "name": "stdout",
          "output_type": "stream",
          "text": [
            "[WRITE] lcm -> /home/azureuser/cloudfiles/code/Users/Normalized-Attention-Guidance/results-prompts2-nag-base/lcm/with_negative_start0p2/0011_42_neg_s0p2.png\n",
            "{'prompt': 'A still painting of fruits', 'guidance_scale': 1.5, 'nag_scale': 2.0, 'nag_end': 0.5, 'nag_tau': 2.5, 'nag_alpha': 0.5, 'num_inference_steps': 4, 'generator': <torch._C.Generator object at 0x7b5c9d7a8910>, 'nag_negative_prompt': 'apples', 'nag_start': 0.2}\n"
          ]
        },
        {
          "data": {
            "application/vnd.jupyter.widget-view+json": {
              "model_id": "4b4a844c4f6d45a0aaaf81b800fefa84",
              "version_major": 2,
              "version_minor": 0
            },
            "text/plain": [
              "  0%|          | 0/4 [00:00<?, ?it/s]"
            ]
          },
          "metadata": {},
          "output_type": "display_data"
        },
        {
          "name": "stdout",
          "output_type": "stream",
          "text": [
            "[WRITE] lcm -> /home/azureuser/cloudfiles/code/Users/Normalized-Attention-Guidance/results-prompts2-nag-base/lcm/with_negative_start0p2/0011_1337_neg_s0p2.png\n"
          ]
        },
        {
          "name": "stderr",
          "output_type": "stream",
          "text": [
            "lcm progress:  75%|███████▌  | 12/16 [02:06<00:42, 10.66s/it]"
          ]
        },
        {
          "name": "stdout",
          "output_type": "stream",
          "text": [
            "{'prompt': 'A landscape', 'guidance_scale': 1.5, 'nag_scale': 2.0, 'nag_end': 0.5, 'nag_tau': 2.5, 'nag_alpha': 0.5, 'num_inference_steps': 4, 'generator': <torch._C.Generator object at 0x7b5c9d7a9f90>, 'nag_negative_prompt': None}\n"
          ]
        },
        {
          "data": {
            "application/vnd.jupyter.widget-view+json": {
              "model_id": "517387b56b1e462daff8dfc8ac712a91",
              "version_major": 2,
              "version_minor": 0
            },
            "text/plain": [
              "  0%|          | 0/4 [00:00<?, ?it/s]"
            ]
          },
          "metadata": {},
          "output_type": "display_data"
        },
        {
          "name": "stdout",
          "output_type": "stream",
          "text": [
            "[WRITE] lcm -> /home/azureuser/cloudfiles/code/Users/Normalized-Attention-Guidance/results-prompts2-nag-base/lcm/baseline/0012_2025_noneg.png\n",
            "{'prompt': 'A landscape', 'guidance_scale': 1.5, 'nag_scale': 2.0, 'nag_end': 0.5, 'nag_tau': 2.5, 'nag_alpha': 0.5, 'num_inference_steps': 4, 'generator': <torch._C.Generator object at 0x7b5c9d7ab850>, 'nag_negative_prompt': None}\n"
          ]
        },
        {
          "data": {
            "application/vnd.jupyter.widget-view+json": {
              "model_id": "197fa9228aa44a80ae784aa208e5defc",
              "version_major": 2,
              "version_minor": 0
            },
            "text/plain": [
              "  0%|          | 0/4 [00:00<?, ?it/s]"
            ]
          },
          "metadata": {},
          "output_type": "display_data"
        },
        {
          "name": "stdout",
          "output_type": "stream",
          "text": [
            "[WRITE] lcm -> /home/azureuser/cloudfiles/code/Users/Normalized-Attention-Guidance/results-prompts2-nag-base/lcm/baseline/0012_42_noneg.png\n",
            "{'prompt': 'A landscape', 'guidance_scale': 1.5, 'nag_scale': 2.0, 'nag_end': 0.5, 'nag_tau': 2.5, 'nag_alpha': 0.5, 'num_inference_steps': 4, 'generator': <torch._C.Generator object at 0x7b5c9d7abdb0>, 'nag_negative_prompt': None}\n"
          ]
        },
        {
          "data": {
            "application/vnd.jupyter.widget-view+json": {
              "model_id": "fb400886bb7f4e36bc712ace99f5dee9",
              "version_major": 2,
              "version_minor": 0
            },
            "text/plain": [
              "  0%|          | 0/4 [00:00<?, ?it/s]"
            ]
          },
          "metadata": {},
          "output_type": "display_data"
        },
        {
          "name": "stdout",
          "output_type": "stream",
          "text": [
            "[WRITE] lcm -> /home/azureuser/cloudfiles/code/Users/Normalized-Attention-Guidance/results-prompts2-nag-base/lcm/baseline/0012_1337_noneg.png\n",
            "{'prompt': 'A landscape', 'guidance_scale': 1.5, 'nag_scale': 2.0, 'nag_end': 0.5, 'nag_tau': 2.5, 'nag_alpha': 0.5, 'num_inference_steps': 4, 'generator': <torch._C.Generator object at 0x7b5c9d7a8930>, 'nag_negative_prompt': 'mountains', 'nag_start': 0.0}\n"
          ]
        },
        {
          "data": {
            "application/vnd.jupyter.widget-view+json": {
              "model_id": "de3f6b4c8eaf44dcb8e88559e32b90e8",
              "version_major": 2,
              "version_minor": 0
            },
            "text/plain": [
              "  0%|          | 0/4 [00:00<?, ?it/s]"
            ]
          },
          "metadata": {},
          "output_type": "display_data"
        },
        {
          "name": "stdout",
          "output_type": "stream",
          "text": [
            "[WRITE] lcm -> /home/azureuser/cloudfiles/code/Users/Normalized-Attention-Guidance/results-prompts2-nag-base/lcm/with_negative_start0/0012_2025_neg_s0.png\n",
            "{'prompt': 'A landscape', 'guidance_scale': 1.5, 'nag_scale': 2.0, 'nag_end': 0.5, 'nag_tau': 2.5, 'nag_alpha': 0.5, 'num_inference_steps': 4, 'generator': <torch._C.Generator object at 0x7b5c9d7a8910>, 'nag_negative_prompt': 'mountains', 'nag_start': 0.0}\n"
          ]
        },
        {
          "data": {
            "application/vnd.jupyter.widget-view+json": {
              "model_id": "e31942fd8b82456e9d631ffa79fa1a67",
              "version_major": 2,
              "version_minor": 0
            },
            "text/plain": [
              "  0%|          | 0/4 [00:00<?, ?it/s]"
            ]
          },
          "metadata": {},
          "output_type": "display_data"
        },
        {
          "name": "stdout",
          "output_type": "stream",
          "text": [
            "[WRITE] lcm -> /home/azureuser/cloudfiles/code/Users/Normalized-Attention-Guidance/results-prompts2-nag-base/lcm/with_negative_start0/0012_42_neg_s0.png\n",
            "{'prompt': 'A landscape', 'guidance_scale': 1.5, 'nag_scale': 2.0, 'nag_end': 0.5, 'nag_tau': 2.5, 'nag_alpha': 0.5, 'num_inference_steps': 4, 'generator': <torch._C.Generator object at 0x7b5cc7108830>, 'nag_negative_prompt': 'mountains', 'nag_start': 0.0}\n"
          ]
        },
        {
          "data": {
            "application/vnd.jupyter.widget-view+json": {
              "model_id": "10e9912a566242078aca6b582221c814",
              "version_major": 2,
              "version_minor": 0
            },
            "text/plain": [
              "  0%|          | 0/4 [00:00<?, ?it/s]"
            ]
          },
          "metadata": {},
          "output_type": "display_data"
        },
        {
          "name": "stdout",
          "output_type": "stream",
          "text": [
            "[WRITE] lcm -> /home/azureuser/cloudfiles/code/Users/Normalized-Attention-Guidance/results-prompts2-nag-base/lcm/with_negative_start0/0012_1337_neg_s0.png\n",
            "{'prompt': 'A landscape', 'guidance_scale': 1.5, 'nag_scale': 2.0, 'nag_end': 0.5, 'nag_tau': 2.5, 'nag_alpha': 0.5, 'num_inference_steps': 4, 'generator': <torch._C.Generator object at 0x7b5c9d7a88f0>, 'nag_negative_prompt': 'mountains', 'nag_start': 0.2}\n"
          ]
        },
        {
          "data": {
            "application/vnd.jupyter.widget-view+json": {
              "model_id": "798f78bbb6344949b5a50d166eed1a81",
              "version_major": 2,
              "version_minor": 0
            },
            "text/plain": [
              "  0%|          | 0/4 [00:00<?, ?it/s]"
            ]
          },
          "metadata": {},
          "output_type": "display_data"
        },
        {
          "name": "stdout",
          "output_type": "stream",
          "text": [
            "[WRITE] lcm -> /home/azureuser/cloudfiles/code/Users/Normalized-Attention-Guidance/results-prompts2-nag-base/lcm/with_negative_start0p2/0012_2025_neg_s0p2.png\n",
            "{'prompt': 'A landscape', 'guidance_scale': 1.5, 'nag_scale': 2.0, 'nag_end': 0.5, 'nag_tau': 2.5, 'nag_alpha': 0.5, 'num_inference_steps': 4, 'generator': <torch._C.Generator object at 0x7b5cc6bc0d50>, 'nag_negative_prompt': 'mountains', 'nag_start': 0.2}\n"
          ]
        },
        {
          "data": {
            "application/vnd.jupyter.widget-view+json": {
              "model_id": "e7250614f2b0417da0e633c9c85a2c86",
              "version_major": 2,
              "version_minor": 0
            },
            "text/plain": [
              "  0%|          | 0/4 [00:00<?, ?it/s]"
            ]
          },
          "metadata": {},
          "output_type": "display_data"
        },
        {
          "name": "stdout",
          "output_type": "stream",
          "text": [
            "[WRITE] lcm -> /home/azureuser/cloudfiles/code/Users/Normalized-Attention-Guidance/results-prompts2-nag-base/lcm/with_negative_start0p2/0012_42_neg_s0p2.png\n",
            "{'prompt': 'A landscape', 'guidance_scale': 1.5, 'nag_scale': 2.0, 'nag_end': 0.5, 'nag_tau': 2.5, 'nag_alpha': 0.5, 'num_inference_steps': 4, 'generator': <torch._C.Generator object at 0x7b5c9d7ab850>, 'nag_negative_prompt': 'mountains', 'nag_start': 0.2}\n"
          ]
        },
        {
          "data": {
            "application/vnd.jupyter.widget-view+json": {
              "model_id": "cf651499f06542588aa619185f8f32ff",
              "version_major": 2,
              "version_minor": 0
            },
            "text/plain": [
              "  0%|          | 0/4 [00:00<?, ?it/s]"
            ]
          },
          "metadata": {},
          "output_type": "display_data"
        },
        {
          "name": "stdout",
          "output_type": "stream",
          "text": [
            "[WRITE] lcm -> /home/azureuser/cloudfiles/code/Users/Normalized-Attention-Guidance/results-prompts2-nag-base/lcm/with_negative_start0p2/0012_1337_neg_s0p2.png\n"
          ]
        },
        {
          "name": "stderr",
          "output_type": "stream",
          "text": [
            "lcm progress:  81%|████████▏ | 13/16 [02:18<00:32, 10.90s/it]"
          ]
        },
        {
          "name": "stdout",
          "output_type": "stream",
          "text": [
            "{'prompt': 'A landscape', 'guidance_scale': 1.5, 'nag_scale': 2.0, 'nag_end': 0.5, 'nag_tau': 2.5, 'nag_alpha': 0.5, 'num_inference_steps': 4, 'generator': <torch._C.Generator object at 0x7b5c9d7abd70>, 'nag_negative_prompt': None}\n"
          ]
        },
        {
          "data": {
            "application/vnd.jupyter.widget-view+json": {
              "model_id": "3aa0a94a1e5240b0aeceb87caaf89b16",
              "version_major": 2,
              "version_minor": 0
            },
            "text/plain": [
              "  0%|          | 0/4 [00:00<?, ?it/s]"
            ]
          },
          "metadata": {},
          "output_type": "display_data"
        },
        {
          "name": "stdout",
          "output_type": "stream",
          "text": [
            "[WRITE] lcm -> /home/azureuser/cloudfiles/code/Users/Normalized-Attention-Guidance/results-prompts2-nag-base/lcm/baseline/0013_2025_noneg.png\n",
            "{'prompt': 'A landscape', 'guidance_scale': 1.5, 'nag_scale': 2.0, 'nag_end': 0.5, 'nag_tau': 2.5, 'nag_alpha': 0.5, 'num_inference_steps': 4, 'generator': <torch._C.Generator object at 0x7b5cc65323b0>, 'nag_negative_prompt': None}\n"
          ]
        },
        {
          "data": {
            "application/vnd.jupyter.widget-view+json": {
              "model_id": "12fcd111eab64f02a523976ba2f77c4a",
              "version_major": 2,
              "version_minor": 0
            },
            "text/plain": [
              "  0%|          | 0/4 [00:00<?, ?it/s]"
            ]
          },
          "metadata": {},
          "output_type": "display_data"
        },
        {
          "name": "stdout",
          "output_type": "stream",
          "text": [
            "[WRITE] lcm -> /home/azureuser/cloudfiles/code/Users/Normalized-Attention-Guidance/results-prompts2-nag-base/lcm/baseline/0013_42_noneg.png\n",
            "{'prompt': 'A landscape', 'guidance_scale': 1.5, 'nag_scale': 2.0, 'nag_end': 0.5, 'nag_tau': 2.5, 'nag_alpha': 0.5, 'num_inference_steps': 4, 'generator': <torch._C.Generator object at 0x7b5c9d7a8850>, 'nag_negative_prompt': None}\n"
          ]
        },
        {
          "data": {
            "application/vnd.jupyter.widget-view+json": {
              "model_id": "941a01dd26f14785943b4d1ce8ede831",
              "version_major": 2,
              "version_minor": 0
            },
            "text/plain": [
              "  0%|          | 0/4 [00:00<?, ?it/s]"
            ]
          },
          "metadata": {},
          "output_type": "display_data"
        },
        {
          "name": "stdout",
          "output_type": "stream",
          "text": [
            "[WRITE] lcm -> /home/azureuser/cloudfiles/code/Users/Normalized-Attention-Guidance/results-prompts2-nag-base/lcm/baseline/0013_1337_noneg.png\n",
            "{'prompt': 'A landscape', 'guidance_scale': 1.5, 'nag_scale': 2.0, 'nag_end': 0.5, 'nag_tau': 2.5, 'nag_alpha': 0.5, 'num_inference_steps': 4, 'generator': <torch._C.Generator object at 0x7b5cc7109150>, 'nag_negative_prompt': 'trees', 'nag_start': 0.0}\n"
          ]
        },
        {
          "data": {
            "application/vnd.jupyter.widget-view+json": {
              "model_id": "8ccea39ced65454e910e43c3f28d381e",
              "version_major": 2,
              "version_minor": 0
            },
            "text/plain": [
              "  0%|          | 0/4 [00:00<?, ?it/s]"
            ]
          },
          "metadata": {},
          "output_type": "display_data"
        },
        {
          "name": "stdout",
          "output_type": "stream",
          "text": [
            "[WRITE] lcm -> /home/azureuser/cloudfiles/code/Users/Normalized-Attention-Guidance/results-prompts2-nag-base/lcm/with_negative_start0/0013_2025_neg_s0.png\n",
            "{'prompt': 'A landscape', 'guidance_scale': 1.5, 'nag_scale': 2.0, 'nag_end': 0.5, 'nag_tau': 2.5, 'nag_alpha': 0.5, 'num_inference_steps': 4, 'generator': <torch._C.Generator object at 0x7b5c9d7a8910>, 'nag_negative_prompt': 'trees', 'nag_start': 0.0}\n"
          ]
        },
        {
          "data": {
            "application/vnd.jupyter.widget-view+json": {
              "model_id": "a2b19c51a03a41e1b87b8fd36a908315",
              "version_major": 2,
              "version_minor": 0
            },
            "text/plain": [
              "  0%|          | 0/4 [00:00<?, ?it/s]"
            ]
          },
          "metadata": {},
          "output_type": "display_data"
        },
        {
          "name": "stdout",
          "output_type": "stream",
          "text": [
            "[WRITE] lcm -> /home/azureuser/cloudfiles/code/Users/Normalized-Attention-Guidance/results-prompts2-nag-base/lcm/with_negative_start0/0013_42_neg_s0.png\n",
            "{'prompt': 'A landscape', 'guidance_scale': 1.5, 'nag_scale': 2.0, 'nag_end': 0.5, 'nag_tau': 2.5, 'nag_alpha': 0.5, 'num_inference_steps': 4, 'generator': <torch._C.Generator object at 0x7b5c9d7abd70>, 'nag_negative_prompt': 'trees', 'nag_start': 0.0}\n"
          ]
        },
        {
          "data": {
            "application/vnd.jupyter.widget-view+json": {
              "model_id": "7620188a1093421d87af10328cfb3fd5",
              "version_major": 2,
              "version_minor": 0
            },
            "text/plain": [
              "  0%|          | 0/4 [00:00<?, ?it/s]"
            ]
          },
          "metadata": {},
          "output_type": "display_data"
        },
        {
          "name": "stdout",
          "output_type": "stream",
          "text": [
            "[WRITE] lcm -> /home/azureuser/cloudfiles/code/Users/Normalized-Attention-Guidance/results-prompts2-nag-base/lcm/with_negative_start0/0013_1337_neg_s0.png\n",
            "{'prompt': 'A landscape', 'guidance_scale': 1.5, 'nag_scale': 2.0, 'nag_end': 0.5, 'nag_tau': 2.5, 'nag_alpha': 0.5, 'num_inference_steps': 4, 'generator': <torch._C.Generator object at 0x7b5cc7109630>, 'nag_negative_prompt': 'trees', 'nag_start': 0.2}\n"
          ]
        },
        {
          "data": {
            "application/vnd.jupyter.widget-view+json": {
              "model_id": "28707cc770174be6a6c94f24d7f1be3b",
              "version_major": 2,
              "version_minor": 0
            },
            "text/plain": [
              "  0%|          | 0/4 [00:00<?, ?it/s]"
            ]
          },
          "metadata": {},
          "output_type": "display_data"
        },
        {
          "name": "stdout",
          "output_type": "stream",
          "text": [
            "[WRITE] lcm -> /home/azureuser/cloudfiles/code/Users/Normalized-Attention-Guidance/results-prompts2-nag-base/lcm/with_negative_start0p2/0013_2025_neg_s0p2.png\n",
            "{'prompt': 'A landscape', 'guidance_scale': 1.5, 'nag_scale': 2.0, 'nag_end': 0.5, 'nag_tau': 2.5, 'nag_alpha': 0.5, 'num_inference_steps': 4, 'generator': <torch._C.Generator object at 0x7b5cc71090f0>, 'nag_negative_prompt': 'trees', 'nag_start': 0.2}\n"
          ]
        },
        {
          "data": {
            "application/vnd.jupyter.widget-view+json": {
              "model_id": "539b6ac14e8f42d7a083361237bf4127",
              "version_major": 2,
              "version_minor": 0
            },
            "text/plain": [
              "  0%|          | 0/4 [00:00<?, ?it/s]"
            ]
          },
          "metadata": {},
          "output_type": "display_data"
        },
        {
          "name": "stdout",
          "output_type": "stream",
          "text": [
            "[WRITE] lcm -> /home/azureuser/cloudfiles/code/Users/Normalized-Attention-Guidance/results-prompts2-nag-base/lcm/with_negative_start0p2/0013_42_neg_s0p2.png\n",
            "{'prompt': 'A landscape', 'guidance_scale': 1.5, 'nag_scale': 2.0, 'nag_end': 0.5, 'nag_tau': 2.5, 'nag_alpha': 0.5, 'num_inference_steps': 4, 'generator': <torch._C.Generator object at 0x7b5c9d7a8850>, 'nag_negative_prompt': 'trees', 'nag_start': 0.2}\n"
          ]
        },
        {
          "data": {
            "application/vnd.jupyter.widget-view+json": {
              "model_id": "55f09b2164d6468f80f0a81b033c8889",
              "version_major": 2,
              "version_minor": 0
            },
            "text/plain": [
              "  0%|          | 0/4 [00:00<?, ?it/s]"
            ]
          },
          "metadata": {},
          "output_type": "display_data"
        },
        {
          "name": "stdout",
          "output_type": "stream",
          "text": [
            "[WRITE] lcm -> /home/azureuser/cloudfiles/code/Users/Normalized-Attention-Guidance/results-prompts2-nag-base/lcm/with_negative_start0p2/0013_1337_neg_s0p2.png\n"
          ]
        },
        {
          "name": "stderr",
          "output_type": "stream",
          "text": [
            "lcm progress:  88%|████████▊ | 14/16 [02:28<00:21, 10.65s/it]"
          ]
        },
        {
          "name": "stdout",
          "output_type": "stream",
          "text": [
            "{'prompt': 'A room with furniture', 'guidance_scale': 1.5, 'nag_scale': 2.0, 'nag_end': 0.5, 'nag_tau': 2.5, 'nag_alpha': 0.5, 'num_inference_steps': 4, 'generator': <torch._C.Generator object at 0x7b5c9d7a9f10>, 'nag_negative_prompt': None}\n"
          ]
        },
        {
          "data": {
            "application/vnd.jupyter.widget-view+json": {
              "model_id": "5cb5a5e1473442deaa226b7002b79d9d",
              "version_major": 2,
              "version_minor": 0
            },
            "text/plain": [
              "  0%|          | 0/4 [00:00<?, ?it/s]"
            ]
          },
          "metadata": {},
          "output_type": "display_data"
        },
        {
          "name": "stdout",
          "output_type": "stream",
          "text": [
            "[WRITE] lcm -> /home/azureuser/cloudfiles/code/Users/Normalized-Attention-Guidance/results-prompts2-nag-base/lcm/baseline/0014_2025_noneg.png\n",
            "{'prompt': 'A room with furniture', 'guidance_scale': 1.5, 'nag_scale': 2.0, 'nag_end': 0.5, 'nag_tau': 2.5, 'nag_alpha': 0.5, 'num_inference_steps': 4, 'generator': <torch._C.Generator object at 0x7b5ce04987d0>, 'nag_negative_prompt': None}\n"
          ]
        },
        {
          "data": {
            "application/vnd.jupyter.widget-view+json": {
              "model_id": "c7eacf439c9744cc92d314417aa44884",
              "version_major": 2,
              "version_minor": 0
            },
            "text/plain": [
              "  0%|          | 0/4 [00:00<?, ?it/s]"
            ]
          },
          "metadata": {},
          "output_type": "display_data"
        },
        {
          "name": "stdout",
          "output_type": "stream",
          "text": [
            "[WRITE] lcm -> /home/azureuser/cloudfiles/code/Users/Normalized-Attention-Guidance/results-prompts2-nag-base/lcm/baseline/0014_42_noneg.png\n",
            "{'prompt': 'A room with furniture', 'guidance_scale': 1.5, 'nag_scale': 2.0, 'nag_end': 0.5, 'nag_tau': 2.5, 'nag_alpha': 0.5, 'num_inference_steps': 4, 'generator': <torch._C.Generator object at 0x7b5c9d7ab070>, 'nag_negative_prompt': None}\n"
          ]
        },
        {
          "data": {
            "application/vnd.jupyter.widget-view+json": {
              "model_id": "e4673184b62d4aa98a7bfe26917f70aa",
              "version_major": 2,
              "version_minor": 0
            },
            "text/plain": [
              "  0%|          | 0/4 [00:00<?, ?it/s]"
            ]
          },
          "metadata": {},
          "output_type": "display_data"
        },
        {
          "name": "stdout",
          "output_type": "stream",
          "text": [
            "[WRITE] lcm -> /home/azureuser/cloudfiles/code/Users/Normalized-Attention-Guidance/results-prompts2-nag-base/lcm/baseline/0014_1337_noneg.png\n",
            "{'prompt': 'A room with furniture', 'guidance_scale': 1.5, 'nag_scale': 2.0, 'nag_end': 0.5, 'nag_tau': 2.5, 'nag_alpha': 0.5, 'num_inference_steps': 4, 'generator': <torch._C.Generator object at 0x7b5c9d7a9950>, 'nag_negative_prompt': 'window', 'nag_start': 0.0}\n"
          ]
        },
        {
          "data": {
            "application/vnd.jupyter.widget-view+json": {
              "model_id": "3392631695bd4f02af753497a76788f7",
              "version_major": 2,
              "version_minor": 0
            },
            "text/plain": [
              "  0%|          | 0/4 [00:00<?, ?it/s]"
            ]
          },
          "metadata": {},
          "output_type": "display_data"
        },
        {
          "name": "stdout",
          "output_type": "stream",
          "text": [
            "[WRITE] lcm -> /home/azureuser/cloudfiles/code/Users/Normalized-Attention-Guidance/results-prompts2-nag-base/lcm/with_negative_start0/0014_2025_neg_s0.png\n",
            "{'prompt': 'A room with furniture', 'guidance_scale': 1.5, 'nag_scale': 2.0, 'nag_end': 0.5, 'nag_tau': 2.5, 'nag_alpha': 0.5, 'num_inference_steps': 4, 'generator': <torch._C.Generator object at 0x7b5c9d7aac10>, 'nag_negative_prompt': 'window', 'nag_start': 0.0}\n"
          ]
        },
        {
          "data": {
            "application/vnd.jupyter.widget-view+json": {
              "model_id": "91ba40a5d81a41f09340a568bbeae430",
              "version_major": 2,
              "version_minor": 0
            },
            "text/plain": [
              "  0%|          | 0/4 [00:00<?, ?it/s]"
            ]
          },
          "metadata": {},
          "output_type": "display_data"
        },
        {
          "name": "stdout",
          "output_type": "stream",
          "text": [
            "[WRITE] lcm -> /home/azureuser/cloudfiles/code/Users/Normalized-Attention-Guidance/results-prompts2-nag-base/lcm/with_negative_start0/0014_42_neg_s0.png\n",
            "{'prompt': 'A room with furniture', 'guidance_scale': 1.5, 'nag_scale': 2.0, 'nag_end': 0.5, 'nag_tau': 2.5, 'nag_alpha': 0.5, 'num_inference_steps': 4, 'generator': <torch._C.Generator object at 0x7b5cc6bc3c70>, 'nag_negative_prompt': 'window', 'nag_start': 0.0}\n"
          ]
        },
        {
          "data": {
            "application/vnd.jupyter.widget-view+json": {
              "model_id": "8a42d45a40e8475b8f55f58769736621",
              "version_major": 2,
              "version_minor": 0
            },
            "text/plain": [
              "  0%|          | 0/4 [00:00<?, ?it/s]"
            ]
          },
          "metadata": {},
          "output_type": "display_data"
        },
        {
          "name": "stdout",
          "output_type": "stream",
          "text": [
            "[WRITE] lcm -> /home/azureuser/cloudfiles/code/Users/Normalized-Attention-Guidance/results-prompts2-nag-base/lcm/with_negative_start0/0014_1337_neg_s0.png\n",
            "{'prompt': 'A room with furniture', 'guidance_scale': 1.5, 'nag_scale': 2.0, 'nag_end': 0.5, 'nag_tau': 2.5, 'nag_alpha': 0.5, 'num_inference_steps': 4, 'generator': <torch._C.Generator object at 0x7b5ce015a910>, 'nag_negative_prompt': 'window', 'nag_start': 0.2}\n"
          ]
        },
        {
          "data": {
            "application/vnd.jupyter.widget-view+json": {
              "model_id": "c822d0539d9142aaa646dbe1e3974a24",
              "version_major": 2,
              "version_minor": 0
            },
            "text/plain": [
              "  0%|          | 0/4 [00:00<?, ?it/s]"
            ]
          },
          "metadata": {},
          "output_type": "display_data"
        },
        {
          "name": "stdout",
          "output_type": "stream",
          "text": [
            "[WRITE] lcm -> /home/azureuser/cloudfiles/code/Users/Normalized-Attention-Guidance/results-prompts2-nag-base/lcm/with_negative_start0p2/0014_2025_neg_s0p2.png\n",
            "{'prompt': 'A room with furniture', 'guidance_scale': 1.5, 'nag_scale': 2.0, 'nag_end': 0.5, 'nag_tau': 2.5, 'nag_alpha': 0.5, 'num_inference_steps': 4, 'generator': <torch._C.Generator object at 0x7b5cc7109e70>, 'nag_negative_prompt': 'window', 'nag_start': 0.2}\n"
          ]
        },
        {
          "data": {
            "application/vnd.jupyter.widget-view+json": {
              "model_id": "93b7e5bc787b49c29adf7943b4cd6e12",
              "version_major": 2,
              "version_minor": 0
            },
            "text/plain": [
              "  0%|          | 0/4 [00:00<?, ?it/s]"
            ]
          },
          "metadata": {},
          "output_type": "display_data"
        },
        {
          "name": "stdout",
          "output_type": "stream",
          "text": [
            "[WRITE] lcm -> /home/azureuser/cloudfiles/code/Users/Normalized-Attention-Guidance/results-prompts2-nag-base/lcm/with_negative_start0p2/0014_42_neg_s0p2.png\n",
            "{'prompt': 'A room with furniture', 'guidance_scale': 1.5, 'nag_scale': 2.0, 'nag_end': 0.5, 'nag_tau': 2.5, 'nag_alpha': 0.5, 'num_inference_steps': 4, 'generator': <torch._C.Generator object at 0x7b5cc710a370>, 'nag_negative_prompt': 'window', 'nag_start': 0.2}\n"
          ]
        },
        {
          "data": {
            "application/vnd.jupyter.widget-view+json": {
              "model_id": "b874c2c41afe44ddba03dd4ed0b1991d",
              "version_major": 2,
              "version_minor": 0
            },
            "text/plain": [
              "  0%|          | 0/4 [00:00<?, ?it/s]"
            ]
          },
          "metadata": {},
          "output_type": "display_data"
        },
        {
          "name": "stdout",
          "output_type": "stream",
          "text": [
            "[WRITE] lcm -> /home/azureuser/cloudfiles/code/Users/Normalized-Attention-Guidance/results-prompts2-nag-base/lcm/with_negative_start0p2/0014_1337_neg_s0p2.png\n"
          ]
        },
        {
          "name": "stderr",
          "output_type": "stream",
          "text": [
            "lcm progress:  94%|█████████▍| 15/16 [02:37<00:10, 10.20s/it]"
          ]
        },
        {
          "name": "stdout",
          "output_type": "stream",
          "text": [
            "{'prompt': 'A room with furniture', 'guidance_scale': 1.5, 'nag_scale': 2.0, 'nag_end': 0.5, 'nag_tau': 2.5, 'nag_alpha': 0.5, 'num_inference_steps': 4, 'generator': <torch._C.Generator object at 0x7b5c9d7aabb0>, 'nag_negative_prompt': None}\n"
          ]
        },
        {
          "data": {
            "application/vnd.jupyter.widget-view+json": {
              "model_id": "8968366f202e4938921944fd4b10fa99",
              "version_major": 2,
              "version_minor": 0
            },
            "text/plain": [
              "  0%|          | 0/4 [00:00<?, ?it/s]"
            ]
          },
          "metadata": {},
          "output_type": "display_data"
        },
        {
          "name": "stdout",
          "output_type": "stream",
          "text": [
            "[WRITE] lcm -> /home/azureuser/cloudfiles/code/Users/Normalized-Attention-Guidance/results-prompts2-nag-base/lcm/baseline/0015_2025_noneg.png\n",
            "{'prompt': 'A room with furniture', 'guidance_scale': 1.5, 'nag_scale': 2.0, 'nag_end': 0.5, 'nag_tau': 2.5, 'nag_alpha': 0.5, 'num_inference_steps': 4, 'generator': <torch._C.Generator object at 0x7b5cc6bc3c70>, 'nag_negative_prompt': None}\n"
          ]
        },
        {
          "data": {
            "application/vnd.jupyter.widget-view+json": {
              "model_id": "4d3eec39001d4a9fa1ebf8d8a342f16a",
              "version_major": 2,
              "version_minor": 0
            },
            "text/plain": [
              "  0%|          | 0/4 [00:00<?, ?it/s]"
            ]
          },
          "metadata": {},
          "output_type": "display_data"
        },
        {
          "name": "stdout",
          "output_type": "stream",
          "text": [
            "[WRITE] lcm -> /home/azureuser/cloudfiles/code/Users/Normalized-Attention-Guidance/results-prompts2-nag-base/lcm/baseline/0015_42_noneg.png\n",
            "{'prompt': 'A room with furniture', 'guidance_scale': 1.5, 'nag_scale': 2.0, 'nag_end': 0.5, 'nag_tau': 2.5, 'nag_alpha': 0.5, 'num_inference_steps': 4, 'generator': <torch._C.Generator object at 0x7b5ce015a910>, 'nag_negative_prompt': None}\n"
          ]
        },
        {
          "data": {
            "application/vnd.jupyter.widget-view+json": {
              "model_id": "7bdac6ed292a48f3b59cef493c78461d",
              "version_major": 2,
              "version_minor": 0
            },
            "text/plain": [
              "  0%|          | 0/4 [00:00<?, ?it/s]"
            ]
          },
          "metadata": {},
          "output_type": "display_data"
        },
        {
          "name": "stdout",
          "output_type": "stream",
          "text": [
            "[WRITE] lcm -> /home/azureuser/cloudfiles/code/Users/Normalized-Attention-Guidance/results-prompts2-nag-base/lcm/baseline/0015_1337_noneg.png\n",
            "{'prompt': 'A room with furniture', 'guidance_scale': 1.5, 'nag_scale': 2.0, 'nag_end': 0.5, 'nag_tau': 2.5, 'nag_alpha': 0.5, 'num_inference_steps': 4, 'generator': <torch._C.Generator object at 0x7b5cc710a7d0>, 'nag_negative_prompt': 'bed', 'nag_start': 0.0}\n"
          ]
        },
        {
          "data": {
            "application/vnd.jupyter.widget-view+json": {
              "model_id": "38726e8bdd264ebaae8197bd2fae458e",
              "version_major": 2,
              "version_minor": 0
            },
            "text/plain": [
              "  0%|          | 0/4 [00:00<?, ?it/s]"
            ]
          },
          "metadata": {},
          "output_type": "display_data"
        },
        {
          "name": "stdout",
          "output_type": "stream",
          "text": [
            "[WRITE] lcm -> /home/azureuser/cloudfiles/code/Users/Normalized-Attention-Guidance/results-prompts2-nag-base/lcm/with_negative_start0/0015_2025_neg_s0.png\n",
            "{'prompt': 'A room with furniture', 'guidance_scale': 1.5, 'nag_scale': 2.0, 'nag_end': 0.5, 'nag_tau': 2.5, 'nag_alpha': 0.5, 'num_inference_steps': 4, 'generator': <torch._C.Generator object at 0x7b5cc710a890>, 'nag_negative_prompt': 'bed', 'nag_start': 0.0}\n"
          ]
        },
        {
          "data": {
            "application/vnd.jupyter.widget-view+json": {
              "model_id": "460c7059da72469eade0d304e89f3746",
              "version_major": 2,
              "version_minor": 0
            },
            "text/plain": [
              "  0%|          | 0/4 [00:00<?, ?it/s]"
            ]
          },
          "metadata": {},
          "output_type": "display_data"
        },
        {
          "name": "stdout",
          "output_type": "stream",
          "text": [
            "[WRITE] lcm -> /home/azureuser/cloudfiles/code/Users/Normalized-Attention-Guidance/results-prompts2-nag-base/lcm/with_negative_start0/0015_42_neg_s0.png\n",
            "{'prompt': 'A room with furniture', 'guidance_scale': 1.5, 'nag_scale': 2.0, 'nag_end': 0.5, 'nag_tau': 2.5, 'nag_alpha': 0.5, 'num_inference_steps': 4, 'generator': <torch._C.Generator object at 0x7b5cc710a430>, 'nag_negative_prompt': 'bed', 'nag_start': 0.0}\n"
          ]
        },
        {
          "data": {
            "application/vnd.jupyter.widget-view+json": {
              "model_id": "5aa95686d9e945f9bca0bf2c780b653f",
              "version_major": 2,
              "version_minor": 0
            },
            "text/plain": [
              "  0%|          | 0/4 [00:00<?, ?it/s]"
            ]
          },
          "metadata": {},
          "output_type": "display_data"
        },
        {
          "name": "stdout",
          "output_type": "stream",
          "text": [
            "[WRITE] lcm -> /home/azureuser/cloudfiles/code/Users/Normalized-Attention-Guidance/results-prompts2-nag-base/lcm/with_negative_start0/0015_1337_neg_s0.png\n",
            "{'prompt': 'A room with furniture', 'guidance_scale': 1.5, 'nag_scale': 2.0, 'nag_end': 0.5, 'nag_tau': 2.5, 'nag_alpha': 0.5, 'num_inference_steps': 4, 'generator': <torch._C.Generator object at 0x7b5cc710b1d0>, 'nag_negative_prompt': 'bed', 'nag_start': 0.2}\n"
          ]
        },
        {
          "data": {
            "application/vnd.jupyter.widget-view+json": {
              "model_id": "7be08676da494b2d8f547170980818a5",
              "version_major": 2,
              "version_minor": 0
            },
            "text/plain": [
              "  0%|          | 0/4 [00:00<?, ?it/s]"
            ]
          },
          "metadata": {},
          "output_type": "display_data"
        },
        {
          "name": "stdout",
          "output_type": "stream",
          "text": [
            "[WRITE] lcm -> /home/azureuser/cloudfiles/code/Users/Normalized-Attention-Guidance/results-prompts2-nag-base/lcm/with_negative_start0p2/0015_2025_neg_s0p2.png\n",
            "{'prompt': 'A room with furniture', 'guidance_scale': 1.5, 'nag_scale': 2.0, 'nag_end': 0.5, 'nag_tau': 2.5, 'nag_alpha': 0.5, 'num_inference_steps': 4, 'generator': <torch._C.Generator object at 0x7b5cc710b290>, 'nag_negative_prompt': 'bed', 'nag_start': 0.2}\n"
          ]
        },
        {
          "data": {
            "application/vnd.jupyter.widget-view+json": {
              "model_id": "544b8e7ecd624f52a140808688cef522",
              "version_major": 2,
              "version_minor": 0
            },
            "text/plain": [
              "  0%|          | 0/4 [00:00<?, ?it/s]"
            ]
          },
          "metadata": {},
          "output_type": "display_data"
        },
        {
          "name": "stdout",
          "output_type": "stream",
          "text": [
            "[WRITE] lcm -> /home/azureuser/cloudfiles/code/Users/Normalized-Attention-Guidance/results-prompts2-nag-base/lcm/with_negative_start0p2/0015_42_neg_s0p2.png\n",
            "{'prompt': 'A room with furniture', 'guidance_scale': 1.5, 'nag_scale': 2.0, 'nag_end': 0.5, 'nag_tau': 2.5, 'nag_alpha': 0.5, 'num_inference_steps': 4, 'generator': <torch._C.Generator object at 0x7b5cc710b650>, 'nag_negative_prompt': 'bed', 'nag_start': 0.2}\n"
          ]
        },
        {
          "data": {
            "application/vnd.jupyter.widget-view+json": {
              "model_id": "ad17bd0f05f74dce86ea860e1b8e5e47",
              "version_major": 2,
              "version_minor": 0
            },
            "text/plain": [
              "  0%|          | 0/4 [00:00<?, ?it/s]"
            ]
          },
          "metadata": {},
          "output_type": "display_data"
        },
        {
          "name": "stdout",
          "output_type": "stream",
          "text": [
            "[WRITE] lcm -> /home/azureuser/cloudfiles/code/Users/Normalized-Attention-Guidance/results-prompts2-nag-base/lcm/with_negative_start0p2/0015_1337_neg_s0p2.png\n"
          ]
        },
        {
          "name": "stderr",
          "output_type": "stream",
          "text": [
            "lcm progress: 100%|██████████| 16/16 [02:46<00:00, 10.42s/it]\n"
          ]
        },
        {
          "name": "stdout",
          "output_type": "stream",
          "text": [
            "\n",
            "✓ lcm: Generated and saved 144 image(s)\n",
            "[MODEL] hyper -> steps=8, cfg=5.0\n",
            "[PIPELINE] NAGTimeStableDiffusionXLPipeline\n",
            "Loading HYPER model...\n"
          ]
        },
        {
          "data": {
            "application/vnd.jupyter.widget-view+json": {
              "model_id": "c61f8ced4554430a97a55f215cc590a5",
              "version_major": 2,
              "version_minor": 0
            },
            "text/plain": [
              "Loading pipeline components...:   0%|          | 0/7 [00:00<?, ?it/s]"
            ]
          },
          "metadata": {},
          "output_type": "display_data"
        },
        {
          "data": {
            "application/vnd.jupyter.widget-view+json": {
              "model_id": "cdabedbe4559477386af0f53eaad60ae",
              "version_major": 2,
              "version_minor": 0
            },
            "text/plain": [
              "Loading pipeline components...:   0%|          | 0/7 [00:00<?, ?it/s]"
            ]
          },
          "metadata": {},
          "output_type": "display_data"
        },
        {
          "name": "stderr",
          "output_type": "stream",
          "text": [
            "No LoRA keys associated to CLIPTextModel found with the prefix='text_encoder'. This is safe to ignore if LoRA state dict didn't originally have any CLIPTextModel related params. You can also try specifying `prefix=None` to resolve the warning. Otherwise, open an issue if you think it's unexpected: https://github.com/huggingface/diffusers/issues/new\n",
            "No LoRA keys associated to CLIPTextModelWithProjection found with the prefix='text_encoder_2'. This is safe to ignore if LoRA state dict didn't originally have any CLIPTextModelWithProjection related params. You can also try specifying `prefix=None` to resolve the warning. Otherwise, open an issue if you think it's unexpected: https://github.com/huggingface/diffusers/issues/new\n"
          ]
        },
        {
          "name": "stdout",
          "output_type": "stream",
          "text": [
            "✓ HYPER pipeline ready\n",
            "\n",
            "[DIRS]\n",
            "  base_output: /home/azureuser/cloudfiles/code/Users/Normalized-Attention-Guidance/results-prompts2-nag-base\n",
            "  model_root : /home/azureuser/cloudfiles/code/Users/Normalized-Attention-Guidance/results-prompts2-nag-base/hyper\n",
            "  baseline   : /home/azureuser/cloudfiles/code/Users/Normalized-Attention-Guidance/results-prompts2-nag-base/hyper/baseline\n",
            "  neg@0.0    : /home/azureuser/cloudfiles/code/Users/Normalized-Attention-Guidance/results-prompts2-nag-base/hyper/with_negative_start0\n",
            "  neg@0.2    : /home/azureuser/cloudfiles/code/Users/Normalized-Attention-Guidance/results-prompts2-nag-base/hyper/with_negative_start0p2\n",
            "\n",
            "============================================================\n",
            "Testing model: hyper\n",
            "Writing under: /home/azureuser/cloudfiles/code/Users/Normalized-Attention-Guidance/results-prompts2-nag-base/hyper\n",
            "\n",
            "============================================================\n"
          ]
        },
        {
          "name": "stderr",
          "output_type": "stream",
          "text": [
            "hyper progress:   0%|          | 0/16 [00:00<?, ?it/s]"
          ]
        },
        {
          "name": "stdout",
          "output_type": "stream",
          "text": [
            "{'prompt': 'A photo of a person', 'guidance_scale': 5.0, 'nag_scale': 2.0, 'nag_end': 0.5, 'nag_tau': 2.5, 'nag_alpha': 0.5, 'num_inference_steps': 8, 'generator': <torch._C.Generator object at 0x7b5ce8d27210>, 'nag_negative_prompt': None}\n"
          ]
        },
        {
          "data": {
            "application/vnd.jupyter.widget-view+json": {
              "model_id": "abd9a7973d7744b4bc545ac85c05d169",
              "version_major": 2,
              "version_minor": 0
            },
            "text/plain": [
              "  0%|          | 0/8 [00:00<?, ?it/s]"
            ]
          },
          "metadata": {},
          "output_type": "display_data"
        },
        {
          "name": "stdout",
          "output_type": "stream",
          "text": [
            "[WRITE] hyper -> /home/azureuser/cloudfiles/code/Users/Normalized-Attention-Guidance/results-prompts2-nag-base/hyper/baseline/0000_2025_noneg.png\n",
            "{'prompt': 'A photo of a person', 'guidance_scale': 5.0, 'nag_scale': 2.0, 'nag_end': 0.5, 'nag_tau': 2.5, 'nag_alpha': 0.5, 'num_inference_steps': 8, 'generator': <torch._C.Generator object at 0x7b5ce8d277d0>, 'nag_negative_prompt': None}\n"
          ]
        },
        {
          "data": {
            "application/vnd.jupyter.widget-view+json": {
              "model_id": "ff1b00bbc88244208552c5f92e34506a",
              "version_major": 2,
              "version_minor": 0
            },
            "text/plain": [
              "  0%|          | 0/8 [00:00<?, ?it/s]"
            ]
          },
          "metadata": {},
          "output_type": "display_data"
        },
        {
          "name": "stdout",
          "output_type": "stream",
          "text": [
            "[WRITE] hyper -> /home/azureuser/cloudfiles/code/Users/Normalized-Attention-Guidance/results-prompts2-nag-base/hyper/baseline/0000_42_noneg.png\n",
            "{'prompt': 'A photo of a person', 'guidance_scale': 5.0, 'nag_scale': 2.0, 'nag_end': 0.5, 'nag_tau': 2.5, 'nag_alpha': 0.5, 'num_inference_steps': 8, 'generator': <torch._C.Generator object at 0x7b5ce8d277f0>, 'nag_negative_prompt': None}\n"
          ]
        },
        {
          "data": {
            "application/vnd.jupyter.widget-view+json": {
              "model_id": "1a2847458c6246b5be2dae082fa7fd7a",
              "version_major": 2,
              "version_minor": 0
            },
            "text/plain": [
              "  0%|          | 0/8 [00:00<?, ?it/s]"
            ]
          },
          "metadata": {},
          "output_type": "display_data"
        },
        {
          "name": "stdout",
          "output_type": "stream",
          "text": [
            "[WRITE] hyper -> /home/azureuser/cloudfiles/code/Users/Normalized-Attention-Guidance/results-prompts2-nag-base/hyper/baseline/0000_1337_noneg.png\n",
            "{'prompt': 'A photo of a person', 'guidance_scale': 5.0, 'nag_scale': 2.0, 'nag_end': 0.5, 'nag_tau': 2.5, 'nag_alpha': 0.5, 'num_inference_steps': 8, 'generator': <torch._C.Generator object at 0x7b5ce8d27330>, 'nag_negative_prompt': 'male', 'nag_start': 0.0}\n"
          ]
        },
        {
          "data": {
            "application/vnd.jupyter.widget-view+json": {
              "model_id": "1af8c1ebafab4b3da7532bb26094f004",
              "version_major": 2,
              "version_minor": 0
            },
            "text/plain": [
              "  0%|          | 0/8 [00:00<?, ?it/s]"
            ]
          },
          "metadata": {},
          "output_type": "display_data"
        },
        {
          "name": "stdout",
          "output_type": "stream",
          "text": [
            "[WRITE] hyper -> /home/azureuser/cloudfiles/code/Users/Normalized-Attention-Guidance/results-prompts2-nag-base/hyper/with_negative_start0/0000_2025_neg_s0.png\n",
            "{'prompt': 'A photo of a person', 'guidance_scale': 5.0, 'nag_scale': 2.0, 'nag_end': 0.5, 'nag_tau': 2.5, 'nag_alpha': 0.5, 'num_inference_steps': 8, 'generator': <torch._C.Generator object at 0x7b5ce8d279b0>, 'nag_negative_prompt': 'male', 'nag_start': 0.0}\n"
          ]
        },
        {
          "data": {
            "application/vnd.jupyter.widget-view+json": {
              "model_id": "d1a0cd54359d45639748f90c803204d0",
              "version_major": 2,
              "version_minor": 0
            },
            "text/plain": [
              "  0%|          | 0/8 [00:00<?, ?it/s]"
            ]
          },
          "metadata": {},
          "output_type": "display_data"
        },
        {
          "name": "stdout",
          "output_type": "stream",
          "text": [
            "[WRITE] hyper -> /home/azureuser/cloudfiles/code/Users/Normalized-Attention-Guidance/results-prompts2-nag-base/hyper/with_negative_start0/0000_42_neg_s0.png\n",
            "{'prompt': 'A photo of a person', 'guidance_scale': 5.0, 'nag_scale': 2.0, 'nag_end': 0.5, 'nag_tau': 2.5, 'nag_alpha': 0.5, 'num_inference_steps': 8, 'generator': <torch._C.Generator object at 0x7b5ce8d27890>, 'nag_negative_prompt': 'male', 'nag_start': 0.0}\n"
          ]
        },
        {
          "data": {
            "application/vnd.jupyter.widget-view+json": {
              "model_id": "6bc69b2127df4dd6bbb3435f3431d180",
              "version_major": 2,
              "version_minor": 0
            },
            "text/plain": [
              "  0%|          | 0/8 [00:00<?, ?it/s]"
            ]
          },
          "metadata": {},
          "output_type": "display_data"
        },
        {
          "name": "stdout",
          "output_type": "stream",
          "text": [
            "[WRITE] hyper -> /home/azureuser/cloudfiles/code/Users/Normalized-Attention-Guidance/results-prompts2-nag-base/hyper/with_negative_start0/0000_1337_neg_s0.png\n",
            "{'prompt': 'A photo of a person', 'guidance_scale': 5.0, 'nag_scale': 2.0, 'nag_end': 0.5, 'nag_tau': 2.5, 'nag_alpha': 0.5, 'num_inference_steps': 8, 'generator': <torch._C.Generator object at 0x7b5ce8d27c70>, 'nag_negative_prompt': 'male', 'nag_start': 0.2}\n"
          ]
        },
        {
          "data": {
            "application/vnd.jupyter.widget-view+json": {
              "model_id": "25a820bad6f841a49d3a7bb1590d1ca4",
              "version_major": 2,
              "version_minor": 0
            },
            "text/plain": [
              "  0%|          | 0/8 [00:00<?, ?it/s]"
            ]
          },
          "metadata": {},
          "output_type": "display_data"
        },
        {
          "name": "stdout",
          "output_type": "stream",
          "text": [
            "[WRITE] hyper -> /home/azureuser/cloudfiles/code/Users/Normalized-Attention-Guidance/results-prompts2-nag-base/hyper/with_negative_start0p2/0000_2025_neg_s0p2.png\n",
            "{'prompt': 'A photo of a person', 'guidance_scale': 5.0, 'nag_scale': 2.0, 'nag_end': 0.5, 'nag_tau': 2.5, 'nag_alpha': 0.5, 'num_inference_steps': 8, 'generator': <torch._C.Generator object at 0x7b5ce8d27e50>, 'nag_negative_prompt': 'male', 'nag_start': 0.2}\n"
          ]
        },
        {
          "data": {
            "application/vnd.jupyter.widget-view+json": {
              "model_id": "9e29771984584afd8fad9797c743e5ae",
              "version_major": 2,
              "version_minor": 0
            },
            "text/plain": [
              "  0%|          | 0/8 [00:00<?, ?it/s]"
            ]
          },
          "metadata": {},
          "output_type": "display_data"
        },
        {
          "name": "stdout",
          "output_type": "stream",
          "text": [
            "[WRITE] hyper -> /home/azureuser/cloudfiles/code/Users/Normalized-Attention-Guidance/results-prompts2-nag-base/hyper/with_negative_start0p2/0000_42_neg_s0p2.png\n",
            "{'prompt': 'A photo of a person', 'guidance_scale': 5.0, 'nag_scale': 2.0, 'nag_end': 0.5, 'nag_tau': 2.5, 'nag_alpha': 0.5, 'num_inference_steps': 8, 'generator': <torch._C.Generator object at 0x7b5ce8d27e90>, 'nag_negative_prompt': 'male', 'nag_start': 0.2}\n"
          ]
        },
        {
          "data": {
            "application/vnd.jupyter.widget-view+json": {
              "model_id": "32703771ebed4695a1ebb61fefad0d31",
              "version_major": 2,
              "version_minor": 0
            },
            "text/plain": [
              "  0%|          | 0/8 [00:00<?, ?it/s]"
            ]
          },
          "metadata": {},
          "output_type": "display_data"
        },
        {
          "name": "stdout",
          "output_type": "stream",
          "text": [
            "[WRITE] hyper -> /home/azureuser/cloudfiles/code/Users/Normalized-Attention-Guidance/results-prompts2-nag-base/hyper/with_negative_start0p2/0000_1337_neg_s0p2.png\n"
          ]
        },
        {
          "name": "stderr",
          "output_type": "stream",
          "text": [
            "hyper progress:   6%|▋         | 1/16 [00:19<04:58, 19.92s/it]"
          ]
        },
        {
          "name": "stdout",
          "output_type": "stream",
          "text": [
            "{'prompt': 'A photo of a person', 'guidance_scale': 5.0, 'nag_scale': 2.0, 'nag_end': 0.5, 'nag_tau': 2.5, 'nag_alpha': 0.5, 'num_inference_steps': 8, 'generator': <torch._C.Generator object at 0x7b5ce8d27190>, 'nag_negative_prompt': None}\n"
          ]
        },
        {
          "data": {
            "application/vnd.jupyter.widget-view+json": {
              "model_id": "b9b8b1eb44344301964876e175c102db",
              "version_major": 2,
              "version_minor": 0
            },
            "text/plain": [
              "  0%|          | 0/8 [00:00<?, ?it/s]"
            ]
          },
          "metadata": {},
          "output_type": "display_data"
        },
        {
          "name": "stdout",
          "output_type": "stream",
          "text": [
            "[WRITE] hyper -> /home/azureuser/cloudfiles/code/Users/Normalized-Attention-Guidance/results-prompts2-nag-base/hyper/baseline/0001_2025_noneg.png\n",
            "{'prompt': 'A photo of a person', 'guidance_scale': 5.0, 'nag_scale': 2.0, 'nag_end': 0.5, 'nag_tau': 2.5, 'nag_alpha': 0.5, 'num_inference_steps': 8, 'generator': <torch._C.Generator object at 0x7b5ce015bad0>, 'nag_negative_prompt': None}\n"
          ]
        },
        {
          "data": {
            "application/vnd.jupyter.widget-view+json": {
              "model_id": "7134f56cc329408bb689dbc7f45ec3f2",
              "version_major": 2,
              "version_minor": 0
            },
            "text/plain": [
              "  0%|          | 0/8 [00:00<?, ?it/s]"
            ]
          },
          "metadata": {},
          "output_type": "display_data"
        },
        {
          "name": "stdout",
          "output_type": "stream",
          "text": [
            "[WRITE] hyper -> /home/azureuser/cloudfiles/code/Users/Normalized-Attention-Guidance/results-prompts2-nag-base/hyper/baseline/0001_42_noneg.png\n",
            "{'prompt': 'A photo of a person', 'guidance_scale': 5.0, 'nag_scale': 2.0, 'nag_end': 0.5, 'nag_tau': 2.5, 'nag_alpha': 0.5, 'num_inference_steps': 8, 'generator': <torch._C.Generator object at 0x7b5ce015a530>, 'nag_negative_prompt': None}\n"
          ]
        },
        {
          "data": {
            "application/vnd.jupyter.widget-view+json": {
              "model_id": "1fc5b2276e004956a6135c792c02133a",
              "version_major": 2,
              "version_minor": 0
            },
            "text/plain": [
              "  0%|          | 0/8 [00:00<?, ?it/s]"
            ]
          },
          "metadata": {},
          "output_type": "display_data"
        },
        {
          "name": "stdout",
          "output_type": "stream",
          "text": [
            "[WRITE] hyper -> /home/azureuser/cloudfiles/code/Users/Normalized-Attention-Guidance/results-prompts2-nag-base/hyper/baseline/0001_1337_noneg.png\n",
            "{'prompt': 'A photo of a person', 'guidance_scale': 5.0, 'nag_scale': 2.0, 'nag_end': 0.5, 'nag_tau': 2.5, 'nag_alpha': 0.5, 'num_inference_steps': 8, 'generator': <torch._C.Generator object at 0x7b5cc6bc19f0>, 'nag_negative_prompt': 'female', 'nag_start': 0.0}\n"
          ]
        },
        {
          "data": {
            "application/vnd.jupyter.widget-view+json": {
              "model_id": "af5eb5c0f9794734996d5d15684fc38a",
              "version_major": 2,
              "version_minor": 0
            },
            "text/plain": [
              "  0%|          | 0/8 [00:00<?, ?it/s]"
            ]
          },
          "metadata": {},
          "output_type": "display_data"
        },
        {
          "name": "stdout",
          "output_type": "stream",
          "text": [
            "[WRITE] hyper -> /home/azureuser/cloudfiles/code/Users/Normalized-Attention-Guidance/results-prompts2-nag-base/hyper/with_negative_start0/0001_2025_neg_s0.png\n",
            "{'prompt': 'A photo of a person', 'guidance_scale': 5.0, 'nag_scale': 2.0, 'nag_end': 0.5, 'nag_tau': 2.5, 'nag_alpha': 0.5, 'num_inference_steps': 8, 'generator': <torch._C.Generator object at 0x7b5cc6bc2f30>, 'nag_negative_prompt': 'female', 'nag_start': 0.0}\n"
          ]
        },
        {
          "data": {
            "application/vnd.jupyter.widget-view+json": {
              "model_id": "b0cc0de4fc1a40878c0b8d570d126049",
              "version_major": 2,
              "version_minor": 0
            },
            "text/plain": [
              "  0%|          | 0/8 [00:00<?, ?it/s]"
            ]
          },
          "metadata": {},
          "output_type": "display_data"
        },
        {
          "name": "stdout",
          "output_type": "stream",
          "text": [
            "[WRITE] hyper -> /home/azureuser/cloudfiles/code/Users/Normalized-Attention-Guidance/results-prompts2-nag-base/hyper/with_negative_start0/0001_42_neg_s0.png\n",
            "{'prompt': 'A photo of a person', 'guidance_scale': 5.0, 'nag_scale': 2.0, 'nag_end': 0.5, 'nag_tau': 2.5, 'nag_alpha': 0.5, 'num_inference_steps': 8, 'generator': <torch._C.Generator object at 0x7b5ce8d27e10>, 'nag_negative_prompt': 'female', 'nag_start': 0.0}\n"
          ]
        },
        {
          "data": {
            "application/vnd.jupyter.widget-view+json": {
              "model_id": "e57e8ee49abe495bb7c29e9907f22cba",
              "version_major": 2,
              "version_minor": 0
            },
            "text/plain": [
              "  0%|          | 0/8 [00:00<?, ?it/s]"
            ]
          },
          "metadata": {},
          "output_type": "display_data"
        },
        {
          "name": "stdout",
          "output_type": "stream",
          "text": [
            "[WRITE] hyper -> /home/azureuser/cloudfiles/code/Users/Normalized-Attention-Guidance/results-prompts2-nag-base/hyper/with_negative_start0/0001_1337_neg_s0.png\n",
            "{'prompt': 'A photo of a person', 'guidance_scale': 5.0, 'nag_scale': 2.0, 'nag_end': 0.5, 'nag_tau': 2.5, 'nag_alpha': 0.5, 'num_inference_steps': 8, 'generator': <torch._C.Generator object at 0x7b5ce8d27e90>, 'nag_negative_prompt': 'female', 'nag_start': 0.2}\n"
          ]
        },
        {
          "data": {
            "application/vnd.jupyter.widget-view+json": {
              "model_id": "d265d69dc2ee4eac866f5a527f19a20d",
              "version_major": 2,
              "version_minor": 0
            },
            "text/plain": [
              "  0%|          | 0/8 [00:00<?, ?it/s]"
            ]
          },
          "metadata": {},
          "output_type": "display_data"
        },
        {
          "name": "stdout",
          "output_type": "stream",
          "text": [
            "[WRITE] hyper -> /home/azureuser/cloudfiles/code/Users/Normalized-Attention-Guidance/results-prompts2-nag-base/hyper/with_negative_start0p2/0001_2025_neg_s0p2.png\n",
            "{'prompt': 'A photo of a person', 'guidance_scale': 5.0, 'nag_scale': 2.0, 'nag_end': 0.5, 'nag_tau': 2.5, 'nag_alpha': 0.5, 'num_inference_steps': 8, 'generator': <torch._C.Generator object at 0x7b5cb7d583d0>, 'nag_negative_prompt': 'female', 'nag_start': 0.2}\n"
          ]
        },
        {
          "data": {
            "application/vnd.jupyter.widget-view+json": {
              "model_id": "ce35330620224525983dd336a25c0a1e",
              "version_major": 2,
              "version_minor": 0
            },
            "text/plain": [
              "  0%|          | 0/8 [00:00<?, ?it/s]"
            ]
          },
          "metadata": {},
          "output_type": "display_data"
        },
        {
          "name": "stdout",
          "output_type": "stream",
          "text": [
            "[WRITE] hyper -> /home/azureuser/cloudfiles/code/Users/Normalized-Attention-Guidance/results-prompts2-nag-base/hyper/with_negative_start0p2/0001_42_neg_s0p2.png\n",
            "{'prompt': 'A photo of a person', 'guidance_scale': 5.0, 'nag_scale': 2.0, 'nag_end': 0.5, 'nag_tau': 2.5, 'nag_alpha': 0.5, 'num_inference_steps': 8, 'generator': <torch._C.Generator object at 0x7b5cc6bc19f0>, 'nag_negative_prompt': 'female', 'nag_start': 0.2}\n"
          ]
        },
        {
          "data": {
            "application/vnd.jupyter.widget-view+json": {
              "model_id": "d76ca9ea93ca4819a75bd4b4a454f75e",
              "version_major": 2,
              "version_minor": 0
            },
            "text/plain": [
              "  0%|          | 0/8 [00:00<?, ?it/s]"
            ]
          },
          "metadata": {},
          "output_type": "display_data"
        },
        {
          "name": "stdout",
          "output_type": "stream",
          "text": [
            "[WRITE] hyper -> /home/azureuser/cloudfiles/code/Users/Normalized-Attention-Guidance/results-prompts2-nag-base/hyper/with_negative_start0p2/0001_1337_neg_s0p2.png\n"
          ]
        },
        {
          "name": "stderr",
          "output_type": "stream",
          "text": [
            "hyper progress:  12%|█▎        | 2/16 [00:39<04:39, 19.93s/it]"
          ]
        },
        {
          "name": "stdout",
          "output_type": "stream",
          "text": [
            "{'prompt': 'A photo of a person', 'guidance_scale': 5.0, 'nag_scale': 2.0, 'nag_end': 0.5, 'nag_tau': 2.5, 'nag_alpha': 0.5, 'num_inference_steps': 8, 'generator': <torch._C.Generator object at 0x7b5ce8d27d10>, 'nag_negative_prompt': None}\n"
          ]
        },
        {
          "data": {
            "application/vnd.jupyter.widget-view+json": {
              "model_id": "ed1ea37d8ab845a9871aa0d90f8501ea",
              "version_major": 2,
              "version_minor": 0
            },
            "text/plain": [
              "  0%|          | 0/8 [00:00<?, ?it/s]"
            ]
          },
          "metadata": {},
          "output_type": "display_data"
        },
        {
          "name": "stdout",
          "output_type": "stream",
          "text": [
            "[WRITE] hyper -> /home/azureuser/cloudfiles/code/Users/Normalized-Attention-Guidance/results-prompts2-nag-base/hyper/baseline/0002_2025_noneg.png\n",
            "{'prompt': 'A photo of a person', 'guidance_scale': 5.0, 'nag_scale': 2.0, 'nag_end': 0.5, 'nag_tau': 2.5, 'nag_alpha': 0.5, 'num_inference_steps': 8, 'generator': <torch._C.Generator object at 0x7b5cb7564750>, 'nag_negative_prompt': None}\n"
          ]
        },
        {
          "data": {
            "application/vnd.jupyter.widget-view+json": {
              "model_id": "e112f142ad0c42a594751a7de42328fb",
              "version_major": 2,
              "version_minor": 0
            },
            "text/plain": [
              "  0%|          | 0/8 [00:00<?, ?it/s]"
            ]
          },
          "metadata": {},
          "output_type": "display_data"
        },
        {
          "name": "stdout",
          "output_type": "stream",
          "text": [
            "[WRITE] hyper -> /home/azureuser/cloudfiles/code/Users/Normalized-Attention-Guidance/results-prompts2-nag-base/hyper/baseline/0002_42_noneg.png\n",
            "{'prompt': 'A photo of a person', 'guidance_scale': 5.0, 'nag_scale': 2.0, 'nag_end': 0.5, 'nag_tau': 2.5, 'nag_alpha': 0.5, 'num_inference_steps': 8, 'generator': <torch._C.Generator object at 0x7b5c9c06d6d0>, 'nag_negative_prompt': None}\n"
          ]
        },
        {
          "data": {
            "application/vnd.jupyter.widget-view+json": {
              "model_id": "6dcb385464a347a0ac17280c14083133",
              "version_major": 2,
              "version_minor": 0
            },
            "text/plain": [
              "  0%|          | 0/8 [00:00<?, ?it/s]"
            ]
          },
          "metadata": {},
          "output_type": "display_data"
        },
        {
          "name": "stdout",
          "output_type": "stream",
          "text": [
            "[WRITE] hyper -> /home/azureuser/cloudfiles/code/Users/Normalized-Attention-Guidance/results-prompts2-nag-base/hyper/baseline/0002_1337_noneg.png\n",
            "{'prompt': 'A photo of a person', 'guidance_scale': 5.0, 'nag_scale': 2.0, 'nag_end': 0.5, 'nag_tau': 2.5, 'nag_alpha': 0.5, 'num_inference_steps': 8, 'generator': <torch._C.Generator object at 0x7b5cc710b610>, 'nag_negative_prompt': 'old', 'nag_start': 0.0}\n"
          ]
        },
        {
          "data": {
            "application/vnd.jupyter.widget-view+json": {
              "model_id": "eb4fcfa20d6d4523b2bb63b91588489e",
              "version_major": 2,
              "version_minor": 0
            },
            "text/plain": [
              "  0%|          | 0/8 [00:00<?, ?it/s]"
            ]
          },
          "metadata": {},
          "output_type": "display_data"
        },
        {
          "name": "stdout",
          "output_type": "stream",
          "text": [
            "[WRITE] hyper -> /home/azureuser/cloudfiles/code/Users/Normalized-Attention-Guidance/results-prompts2-nag-base/hyper/with_negative_start0/0002_2025_neg_s0.png\n",
            "{'prompt': 'A photo of a person', 'guidance_scale': 5.0, 'nag_scale': 2.0, 'nag_end': 0.5, 'nag_tau': 2.5, 'nag_alpha': 0.5, 'num_inference_steps': 8, 'generator': <torch._C.Generator object at 0x7b5ce8d27d10>, 'nag_negative_prompt': 'old', 'nag_start': 0.0}\n"
          ]
        },
        {
          "data": {
            "application/vnd.jupyter.widget-view+json": {
              "model_id": "c255b51ca14a4092a7cec73e4a22b317",
              "version_major": 2,
              "version_minor": 0
            },
            "text/plain": [
              "  0%|          | 0/8 [00:00<?, ?it/s]"
            ]
          },
          "metadata": {},
          "output_type": "display_data"
        },
        {
          "name": "stdout",
          "output_type": "stream",
          "text": [
            "[WRITE] hyper -> /home/azureuser/cloudfiles/code/Users/Normalized-Attention-Guidance/results-prompts2-nag-base/hyper/with_negative_start0/0002_42_neg_s0.png\n",
            "{'prompt': 'A photo of a person', 'guidance_scale': 5.0, 'nag_scale': 2.0, 'nag_end': 0.5, 'nag_tau': 2.5, 'nag_alpha': 0.5, 'num_inference_steps': 8, 'generator': <torch._C.Generator object at 0x7b5c9c06d7d0>, 'nag_negative_prompt': 'old', 'nag_start': 0.0}\n"
          ]
        },
        {
          "data": {
            "application/vnd.jupyter.widget-view+json": {
              "model_id": "fb105437402d4504a0897ba4a0b1b0be",
              "version_major": 2,
              "version_minor": 0
            },
            "text/plain": [
              "  0%|          | 0/8 [00:00<?, ?it/s]"
            ]
          },
          "metadata": {},
          "output_type": "display_data"
        },
        {
          "name": "stdout",
          "output_type": "stream",
          "text": [
            "[WRITE] hyper -> /home/azureuser/cloudfiles/code/Users/Normalized-Attention-Guidance/results-prompts2-nag-base/hyper/with_negative_start0/0002_1337_neg_s0.png\n",
            "{'prompt': 'A photo of a person', 'guidance_scale': 5.0, 'nag_scale': 2.0, 'nag_end': 0.5, 'nag_tau': 2.5, 'nag_alpha': 0.5, 'num_inference_steps': 8, 'generator': <torch._C.Generator object at 0x7b5cb705b9b0>, 'nag_negative_prompt': 'old', 'nag_start': 0.2}\n"
          ]
        },
        {
          "data": {
            "application/vnd.jupyter.widget-view+json": {
              "model_id": "cfddc39b983049929b669503d1f7be36",
              "version_major": 2,
              "version_minor": 0
            },
            "text/plain": [
              "  0%|          | 0/8 [00:00<?, ?it/s]"
            ]
          },
          "metadata": {},
          "output_type": "display_data"
        },
        {
          "name": "stdout",
          "output_type": "stream",
          "text": [
            "[WRITE] hyper -> /home/azureuser/cloudfiles/code/Users/Normalized-Attention-Guidance/results-prompts2-nag-base/hyper/with_negative_start0p2/0002_2025_neg_s0p2.png\n",
            "{'prompt': 'A photo of a person', 'guidance_scale': 5.0, 'nag_scale': 2.0, 'nag_end': 0.5, 'nag_tau': 2.5, 'nag_alpha': 0.5, 'num_inference_steps': 8, 'generator': <torch._C.Generator object at 0x7b5c9c06d730>, 'nag_negative_prompt': 'old', 'nag_start': 0.2}\n"
          ]
        },
        {
          "data": {
            "application/vnd.jupyter.widget-view+json": {
              "model_id": "601c92d1f03047718e498ce31c35647d",
              "version_major": 2,
              "version_minor": 0
            },
            "text/plain": [
              "  0%|          | 0/8 [00:00<?, ?it/s]"
            ]
          },
          "metadata": {},
          "output_type": "display_data"
        },
        {
          "name": "stdout",
          "output_type": "stream",
          "text": [
            "[WRITE] hyper -> /home/azureuser/cloudfiles/code/Users/Normalized-Attention-Guidance/results-prompts2-nag-base/hyper/with_negative_start0p2/0002_42_neg_s0p2.png\n",
            "{'prompt': 'A photo of a person', 'guidance_scale': 5.0, 'nag_scale': 2.0, 'nag_end': 0.5, 'nag_tau': 2.5, 'nag_alpha': 0.5, 'num_inference_steps': 8, 'generator': <torch._C.Generator object at 0x7b5ce8d27d10>, 'nag_negative_prompt': 'old', 'nag_start': 0.2}\n"
          ]
        },
        {
          "data": {
            "application/vnd.jupyter.widget-view+json": {
              "model_id": "3d94b2b255d94732873579b7f921885a",
              "version_major": 2,
              "version_minor": 0
            },
            "text/plain": [
              "  0%|          | 0/8 [00:00<?, ?it/s]"
            ]
          },
          "metadata": {},
          "output_type": "display_data"
        },
        {
          "name": "stdout",
          "output_type": "stream",
          "text": [
            "[WRITE] hyper -> /home/azureuser/cloudfiles/code/Users/Normalized-Attention-Guidance/results-prompts2-nag-base/hyper/with_negative_start0p2/0002_1337_neg_s0p2.png\n"
          ]
        },
        {
          "name": "stderr",
          "output_type": "stream",
          "text": [
            "hyper progress:  19%|█▉        | 3/16 [00:59<04:19, 19.98s/it]"
          ]
        },
        {
          "name": "stdout",
          "output_type": "stream",
          "text": [
            "{'prompt': 'A photo of a person', 'guidance_scale': 5.0, 'nag_scale': 2.0, 'nag_end': 0.5, 'nag_tau': 2.5, 'nag_alpha': 0.5, 'num_inference_steps': 8, 'generator': <torch._C.Generator object at 0x7b5cb75644f0>, 'nag_negative_prompt': None}\n"
          ]
        },
        {
          "data": {
            "application/vnd.jupyter.widget-view+json": {
              "model_id": "8f88588a986c441eb11f99969bc4b309",
              "version_major": 2,
              "version_minor": 0
            },
            "text/plain": [
              "  0%|          | 0/8 [00:00<?, ?it/s]"
            ]
          },
          "metadata": {},
          "output_type": "display_data"
        },
        {
          "name": "stdout",
          "output_type": "stream",
          "text": [
            "[WRITE] hyper -> /home/azureuser/cloudfiles/code/Users/Normalized-Attention-Guidance/results-prompts2-nag-base/hyper/baseline/0003_2025_noneg.png\n",
            "{'prompt': 'A photo of a person', 'guidance_scale': 5.0, 'nag_scale': 2.0, 'nag_end': 0.5, 'nag_tau': 2.5, 'nag_alpha': 0.5, 'num_inference_steps': 8, 'generator': <torch._C.Generator object at 0x7b5cb7eb3010>, 'nag_negative_prompt': None}\n"
          ]
        },
        {
          "data": {
            "application/vnd.jupyter.widget-view+json": {
              "model_id": "cb4cb0ab70034203abe6e62fd769722d",
              "version_major": 2,
              "version_minor": 0
            },
            "text/plain": [
              "  0%|          | 0/8 [00:00<?, ?it/s]"
            ]
          },
          "metadata": {},
          "output_type": "display_data"
        },
        {
          "name": "stdout",
          "output_type": "stream",
          "text": [
            "[WRITE] hyper -> /home/azureuser/cloudfiles/code/Users/Normalized-Attention-Guidance/results-prompts2-nag-base/hyper/baseline/0003_42_noneg.png\n",
            "{'prompt': 'A photo of a person', 'guidance_scale': 5.0, 'nag_scale': 2.0, 'nag_end': 0.5, 'nag_tau': 2.5, 'nag_alpha': 0.5, 'num_inference_steps': 8, 'generator': <torch._C.Generator object at 0x7b5cb7eb2410>, 'nag_negative_prompt': None}\n"
          ]
        },
        {
          "data": {
            "application/vnd.jupyter.widget-view+json": {
              "model_id": "76fe5e1cd2c6499ab0664621111fe5fb",
              "version_major": 2,
              "version_minor": 0
            },
            "text/plain": [
              "  0%|          | 0/8 [00:00<?, ?it/s]"
            ]
          },
          "metadata": {},
          "output_type": "display_data"
        },
        {
          "name": "stdout",
          "output_type": "stream",
          "text": [
            "[WRITE] hyper -> /home/azureuser/cloudfiles/code/Users/Normalized-Attention-Guidance/results-prompts2-nag-base/hyper/baseline/0003_1337_noneg.png\n",
            "{'prompt': 'A photo of a person', 'guidance_scale': 5.0, 'nag_scale': 2.0, 'nag_end': 0.5, 'nag_tau': 2.5, 'nag_alpha': 0.5, 'num_inference_steps': 8, 'generator': <torch._C.Generator object at 0x7b5cb7eb2650>, 'nag_negative_prompt': 'young', 'nag_start': 0.0}\n"
          ]
        },
        {
          "data": {
            "application/vnd.jupyter.widget-view+json": {
              "model_id": "acc36b3cf7aa453296c30af05f148e4c",
              "version_major": 2,
              "version_minor": 0
            },
            "text/plain": [
              "  0%|          | 0/8 [00:00<?, ?it/s]"
            ]
          },
          "metadata": {},
          "output_type": "display_data"
        },
        {
          "name": "stdout",
          "output_type": "stream",
          "text": [
            "[WRITE] hyper -> /home/azureuser/cloudfiles/code/Users/Normalized-Attention-Guidance/results-prompts2-nag-base/hyper/with_negative_start0/0003_2025_neg_s0.png\n",
            "{'prompt': 'A photo of a person', 'guidance_scale': 5.0, 'nag_scale': 2.0, 'nag_end': 0.5, 'nag_tau': 2.5, 'nag_alpha': 0.5, 'num_inference_steps': 8, 'generator': <torch._C.Generator object at 0x7b5cb75644f0>, 'nag_negative_prompt': 'young', 'nag_start': 0.0}\n"
          ]
        },
        {
          "data": {
            "application/vnd.jupyter.widget-view+json": {
              "model_id": "a31c698e4e9443ae884f812de4a07555",
              "version_major": 2,
              "version_minor": 0
            },
            "text/plain": [
              "  0%|          | 0/8 [00:00<?, ?it/s]"
            ]
          },
          "metadata": {},
          "output_type": "display_data"
        },
        {
          "name": "stdout",
          "output_type": "stream",
          "text": [
            "[WRITE] hyper -> /home/azureuser/cloudfiles/code/Users/Normalized-Attention-Guidance/results-prompts2-nag-base/hyper/with_negative_start0/0003_42_neg_s0.png\n",
            "{'prompt': 'A photo of a person', 'guidance_scale': 5.0, 'nag_scale': 2.0, 'nag_end': 0.5, 'nag_tau': 2.5, 'nag_alpha': 0.5, 'num_inference_steps': 8, 'generator': <torch._C.Generator object at 0x7b5cb7eb1e90>, 'nag_negative_prompt': 'young', 'nag_start': 0.0}\n"
          ]
        },
        {
          "data": {
            "application/vnd.jupyter.widget-view+json": {
              "model_id": "0658d84a36ed499083a9660d435f3491",
              "version_major": 2,
              "version_minor": 0
            },
            "text/plain": [
              "  0%|          | 0/8 [00:00<?, ?it/s]"
            ]
          },
          "metadata": {},
          "output_type": "display_data"
        },
        {
          "name": "stdout",
          "output_type": "stream",
          "text": [
            "[WRITE] hyper -> /home/azureuser/cloudfiles/code/Users/Normalized-Attention-Guidance/results-prompts2-nag-base/hyper/with_negative_start0/0003_1337_neg_s0.png\n",
            "{'prompt': 'A photo of a person', 'guidance_scale': 5.0, 'nag_scale': 2.0, 'nag_end': 0.5, 'nag_tau': 2.5, 'nag_alpha': 0.5, 'num_inference_steps': 8, 'generator': <torch._C.Generator object at 0x7b5cb7eb1eb0>, 'nag_negative_prompt': 'young', 'nag_start': 0.2}\n"
          ]
        },
        {
          "data": {
            "application/vnd.jupyter.widget-view+json": {
              "model_id": "226f059925b94e5d9ef354d5c5336d85",
              "version_major": 2,
              "version_minor": 0
            },
            "text/plain": [
              "  0%|          | 0/8 [00:00<?, ?it/s]"
            ]
          },
          "metadata": {},
          "output_type": "display_data"
        },
        {
          "name": "stdout",
          "output_type": "stream",
          "text": [
            "[WRITE] hyper -> /home/azureuser/cloudfiles/code/Users/Normalized-Attention-Guidance/results-prompts2-nag-base/hyper/with_negative_start0p2/0003_2025_neg_s0p2.png\n",
            "{'prompt': 'A photo of a person', 'guidance_scale': 5.0, 'nag_scale': 2.0, 'nag_end': 0.5, 'nag_tau': 2.5, 'nag_alpha': 0.5, 'num_inference_steps': 8, 'generator': <torch._C.Generator object at 0x7b5cb7eb1cf0>, 'nag_negative_prompt': 'young', 'nag_start': 0.2}\n"
          ]
        },
        {
          "data": {
            "application/vnd.jupyter.widget-view+json": {
              "model_id": "8cae8c8b36944df2a1b0a9bb5632e926",
              "version_major": 2,
              "version_minor": 0
            },
            "text/plain": [
              "  0%|          | 0/8 [00:00<?, ?it/s]"
            ]
          },
          "metadata": {},
          "output_type": "display_data"
        },
        {
          "name": "stdout",
          "output_type": "stream",
          "text": [
            "[WRITE] hyper -> /home/azureuser/cloudfiles/code/Users/Normalized-Attention-Guidance/results-prompts2-nag-base/hyper/with_negative_start0p2/0003_42_neg_s0p2.png\n",
            "{'prompt': 'A photo of a person', 'guidance_scale': 5.0, 'nag_scale': 2.0, 'nag_end': 0.5, 'nag_tau': 2.5, 'nag_alpha': 0.5, 'num_inference_steps': 8, 'generator': <torch._C.Generator object at 0x7b5cb75644f0>, 'nag_negative_prompt': 'young', 'nag_start': 0.2}\n"
          ]
        },
        {
          "data": {
            "application/vnd.jupyter.widget-view+json": {
              "model_id": "9027a834741d49209003d27d56993f3f",
              "version_major": 2,
              "version_minor": 0
            },
            "text/plain": [
              "  0%|          | 0/8 [00:00<?, ?it/s]"
            ]
          },
          "metadata": {},
          "output_type": "display_data"
        },
        {
          "name": "stdout",
          "output_type": "stream",
          "text": [
            "[WRITE] hyper -> /home/azureuser/cloudfiles/code/Users/Normalized-Attention-Guidance/results-prompts2-nag-base/hyper/with_negative_start0p2/0003_1337_neg_s0p2.png\n"
          ]
        },
        {
          "name": "stderr",
          "output_type": "stream",
          "text": [
            "hyper progress:  25%|██▌       | 4/16 [01:20<04:01, 20.16s/it]"
          ]
        },
        {
          "name": "stdout",
          "output_type": "stream",
          "text": [
            "{'prompt': 'A photo of a person', 'guidance_scale': 5.0, 'nag_scale': 2.0, 'nag_end': 0.5, 'nag_tau': 2.5, 'nag_alpha': 0.5, 'num_inference_steps': 8, 'generator': <torch._C.Generator object at 0x7b5cb7eb2570>, 'nag_negative_prompt': None}\n"
          ]
        },
        {
          "data": {
            "application/vnd.jupyter.widget-view+json": {
              "model_id": "ea35f0c436cc48848fda8e8da41e08ed",
              "version_major": 2,
              "version_minor": 0
            },
            "text/plain": [
              "  0%|          | 0/8 [00:00<?, ?it/s]"
            ]
          },
          "metadata": {},
          "output_type": "display_data"
        },
        {
          "name": "stdout",
          "output_type": "stream",
          "text": [
            "[WRITE] hyper -> /home/azureuser/cloudfiles/code/Users/Normalized-Attention-Guidance/results-prompts2-nag-base/hyper/baseline/0004_2025_noneg.png\n",
            "{'prompt': 'A photo of a person', 'guidance_scale': 5.0, 'nag_scale': 2.0, 'nag_end': 0.5, 'nag_tau': 2.5, 'nag_alpha': 0.5, 'num_inference_steps': 8, 'generator': <torch._C.Generator object at 0x7b5cb7eb18d0>, 'nag_negative_prompt': None}\n"
          ]
        },
        {
          "data": {
            "application/vnd.jupyter.widget-view+json": {
              "model_id": "1d0835641e0b483482de66b673432904",
              "version_major": 2,
              "version_minor": 0
            },
            "text/plain": [
              "  0%|          | 0/8 [00:00<?, ?it/s]"
            ]
          },
          "metadata": {},
          "output_type": "display_data"
        },
        {
          "name": "stdout",
          "output_type": "stream",
          "text": [
            "[WRITE] hyper -> /home/azureuser/cloudfiles/code/Users/Normalized-Attention-Guidance/results-prompts2-nag-base/hyper/baseline/0004_42_noneg.png\n",
            "{'prompt': 'A photo of a person', 'guidance_scale': 5.0, 'nag_scale': 2.0, 'nag_end': 0.5, 'nag_tau': 2.5, 'nag_alpha': 0.5, 'num_inference_steps': 8, 'generator': <torch._C.Generator object at 0x7b5cb7eb1d90>, 'nag_negative_prompt': None}\n"
          ]
        },
        {
          "data": {
            "application/vnd.jupyter.widget-view+json": {
              "model_id": "bfb27b32d91e4dd6ab47c056e6c152a3",
              "version_major": 2,
              "version_minor": 0
            },
            "text/plain": [
              "  0%|          | 0/8 [00:00<?, ?it/s]"
            ]
          },
          "metadata": {},
          "output_type": "display_data"
        },
        {
          "name": "stdout",
          "output_type": "stream",
          "text": [
            "[WRITE] hyper -> /home/azureuser/cloudfiles/code/Users/Normalized-Attention-Guidance/results-prompts2-nag-base/hyper/baseline/0004_1337_noneg.png\n",
            "{'prompt': 'A photo of a person', 'guidance_scale': 5.0, 'nag_scale': 2.0, 'nag_end': 0.5, 'nag_tau': 2.5, 'nag_alpha': 0.5, 'num_inference_steps': 8, 'generator': <torch._C.Generator object at 0x7b5cb7eb1610>, 'nag_negative_prompt': 'bright lighting', 'nag_start': 0.0}\n"
          ]
        },
        {
          "data": {
            "application/vnd.jupyter.widget-view+json": {
              "model_id": "d2284bcef840488e9625f562526e5c5f",
              "version_major": 2,
              "version_minor": 0
            },
            "text/plain": [
              "  0%|          | 0/8 [00:00<?, ?it/s]"
            ]
          },
          "metadata": {},
          "output_type": "display_data"
        },
        {
          "name": "stdout",
          "output_type": "stream",
          "text": [
            "[WRITE] hyper -> /home/azureuser/cloudfiles/code/Users/Normalized-Attention-Guidance/results-prompts2-nag-base/hyper/with_negative_start0/0004_2025_neg_s0.png\n",
            "{'prompt': 'A photo of a person', 'guidance_scale': 5.0, 'nag_scale': 2.0, 'nag_end': 0.5, 'nag_tau': 2.5, 'nag_alpha': 0.5, 'num_inference_steps': 8, 'generator': <torch._C.Generator object at 0x7b5cb7eb0d30>, 'nag_negative_prompt': 'bright lighting', 'nag_start': 0.0}\n"
          ]
        },
        {
          "data": {
            "application/vnd.jupyter.widget-view+json": {
              "model_id": "291415978c3845b39fc1cad9f63cdd68",
              "version_major": 2,
              "version_minor": 0
            },
            "text/plain": [
              "  0%|          | 0/8 [00:00<?, ?it/s]"
            ]
          },
          "metadata": {},
          "output_type": "display_data"
        },
        {
          "name": "stdout",
          "output_type": "stream",
          "text": [
            "[WRITE] hyper -> /home/azureuser/cloudfiles/code/Users/Normalized-Attention-Guidance/results-prompts2-nag-base/hyper/with_negative_start0/0004_42_neg_s0.png\n",
            "{'prompt': 'A photo of a person', 'guidance_scale': 5.0, 'nag_scale': 2.0, 'nag_end': 0.5, 'nag_tau': 2.5, 'nag_alpha': 0.5, 'num_inference_steps': 8, 'generator': <torch._C.Generator object at 0x7b5cb7eb1210>, 'nag_negative_prompt': 'bright lighting', 'nag_start': 0.0}\n"
          ]
        },
        {
          "data": {
            "application/vnd.jupyter.widget-view+json": {
              "model_id": "76423e635043476baf77209b31092651",
              "version_major": 2,
              "version_minor": 0
            },
            "text/plain": [
              "  0%|          | 0/8 [00:00<?, ?it/s]"
            ]
          },
          "metadata": {},
          "output_type": "display_data"
        },
        {
          "name": "stdout",
          "output_type": "stream",
          "text": [
            "[WRITE] hyper -> /home/azureuser/cloudfiles/code/Users/Normalized-Attention-Guidance/results-prompts2-nag-base/hyper/with_negative_start0/0004_1337_neg_s0.png\n",
            "{'prompt': 'A photo of a person', 'guidance_scale': 5.0, 'nag_scale': 2.0, 'nag_end': 0.5, 'nag_tau': 2.5, 'nag_alpha': 0.5, 'num_inference_steps': 8, 'generator': <torch._C.Generator object at 0x7b5cb7eb0d50>, 'nag_negative_prompt': 'bright lighting', 'nag_start': 0.2}\n"
          ]
        },
        {
          "data": {
            "application/vnd.jupyter.widget-view+json": {
              "model_id": "9455d0db23e84ac7ac50d03ccfe151b8",
              "version_major": 2,
              "version_minor": 0
            },
            "text/plain": [
              "  0%|          | 0/8 [00:00<?, ?it/s]"
            ]
          },
          "metadata": {},
          "output_type": "display_data"
        },
        {
          "name": "stdout",
          "output_type": "stream",
          "text": [
            "[WRITE] hyper -> /home/azureuser/cloudfiles/code/Users/Normalized-Attention-Guidance/results-prompts2-nag-base/hyper/with_negative_start0p2/0004_2025_neg_s0p2.png\n",
            "{'prompt': 'A photo of a person', 'guidance_scale': 5.0, 'nag_scale': 2.0, 'nag_end': 0.5, 'nag_tau': 2.5, 'nag_alpha': 0.5, 'num_inference_steps': 8, 'generator': <torch._C.Generator object at 0x7b5cb7eb0a30>, 'nag_negative_prompt': 'bright lighting', 'nag_start': 0.2}\n"
          ]
        },
        {
          "data": {
            "application/vnd.jupyter.widget-view+json": {
              "model_id": "92ccd9dac4ad44fd92ce8e0dcb9e0c03",
              "version_major": 2,
              "version_minor": 0
            },
            "text/plain": [
              "  0%|          | 0/8 [00:00<?, ?it/s]"
            ]
          },
          "metadata": {},
          "output_type": "display_data"
        },
        {
          "name": "stdout",
          "output_type": "stream",
          "text": [
            "[WRITE] hyper -> /home/azureuser/cloudfiles/code/Users/Normalized-Attention-Guidance/results-prompts2-nag-base/hyper/with_negative_start0p2/0004_42_neg_s0p2.png\n",
            "{'prompt': 'A photo of a person', 'guidance_scale': 5.0, 'nag_scale': 2.0, 'nag_end': 0.5, 'nag_tau': 2.5, 'nag_alpha': 0.5, 'num_inference_steps': 8, 'generator': <torch._C.Generator object at 0x7b5cb7eb0a70>, 'nag_negative_prompt': 'bright lighting', 'nag_start': 0.2}\n"
          ]
        },
        {
          "data": {
            "application/vnd.jupyter.widget-view+json": {
              "model_id": "d7c544f6cee14045a32801d56e6269f1",
              "version_major": 2,
              "version_minor": 0
            },
            "text/plain": [
              "  0%|          | 0/8 [00:00<?, ?it/s]"
            ]
          },
          "metadata": {},
          "output_type": "display_data"
        },
        {
          "name": "stdout",
          "output_type": "stream",
          "text": [
            "[WRITE] hyper -> /home/azureuser/cloudfiles/code/Users/Normalized-Attention-Guidance/results-prompts2-nag-base/hyper/with_negative_start0p2/0004_1337_neg_s0p2.png\n"
          ]
        },
        {
          "name": "stderr",
          "output_type": "stream",
          "text": [
            "hyper progress:  31%|███▏      | 5/16 [01:40<03:43, 20.34s/it]"
          ]
        },
        {
          "name": "stdout",
          "output_type": "stream",
          "text": [
            "{'prompt': 'A photo of a person', 'guidance_scale': 5.0, 'nag_scale': 2.0, 'nag_end': 0.5, 'nag_tau': 2.5, 'nag_alpha': 0.5, 'num_inference_steps': 8, 'generator': <torch._C.Generator object at 0x7b5cb7eb2470>, 'nag_negative_prompt': None}\n"
          ]
        },
        {
          "data": {
            "application/vnd.jupyter.widget-view+json": {
              "model_id": "c322b18a226945478377a6cc10e0a983",
              "version_major": 2,
              "version_minor": 0
            },
            "text/plain": [
              "  0%|          | 0/8 [00:00<?, ?it/s]"
            ]
          },
          "metadata": {},
          "output_type": "display_data"
        },
        {
          "name": "stdout",
          "output_type": "stream",
          "text": [
            "[WRITE] hyper -> /home/azureuser/cloudfiles/code/Users/Normalized-Attention-Guidance/results-prompts2-nag-base/hyper/baseline/0005_2025_noneg.png\n",
            "{'prompt': 'A photo of a person', 'guidance_scale': 5.0, 'nag_scale': 2.0, 'nag_end': 0.5, 'nag_tau': 2.5, 'nag_alpha': 0.5, 'num_inference_steps': 8, 'generator': <torch._C.Generator object at 0x7b5cb7eb09f0>, 'nag_negative_prompt': None}\n"
          ]
        },
        {
          "data": {
            "application/vnd.jupyter.widget-view+json": {
              "model_id": "79af2120e2344b0aa9da50c5229ddbcb",
              "version_major": 2,
              "version_minor": 0
            },
            "text/plain": [
              "  0%|          | 0/8 [00:00<?, ?it/s]"
            ]
          },
          "metadata": {},
          "output_type": "display_data"
        }
      ],
      "source": [
        "import json\n",
        "import os\n",
        "from pathlib import Path\n",
        "from tqdm import tqdm\n",
        "from IPython.display import display as notebook_display\n",
        "\n",
        "\n",
        "# ---------- Toggle dry-run mode ----------\n",
        "dry_run = False  # When True: process only 1 prompt and display images instead of saving\n",
        "\n",
        "# ---------- Load prompts from JSON file ----------\n",
        "#prompts_file = \"/home/azureuser/cloudfiles/code/Users/Normalized-Attention-Guidance/data/prompts_noun_negative.json\"\n",
        "prompts_file = \"/home/azureuser/cloudfiles/code/Users/Normalized-Attention-Guidance/data/prompts_general.json\"\n",
        "\n",
        "model_configs = {\n",
        "#    'base': {'steps': 30, 'recommended_cfg': 7.0},\n",
        "#    'dmd': {'steps': 4, 'recommended_cfg': 1.5},\n",
        "    'turbo': {'steps': 4, 'recommended_cfg': 0.0},\n",
        "    'lightning': {'steps': 4, 'recommended_cfg': 0.0},\n",
        "    'lcm': {'steps': 4, 'recommended_cfg': 1.5},\n",
        "    'hyper': {'steps': 8, 'recommended_cfg': 5.0},\n",
        "    'pcm': {'steps': 4, 'recommended_cfg': 3.0},\n",
        "}\n",
        "\n",
        "import gc\n",
        "import torch\n",
        "\n",
        "\n",
        "def clear_cuda(*objs):\n",
        "    \"\"\"Free refs, collect Python garbage, then flush CUDA caches.\"\"\"\n",
        "    for o in objs:\n",
        "        try:\n",
        "            del o\n",
        "        except NameError:\n",
        "            pass\n",
        "    gc.collect()\n",
        "    if torch.cuda.is_available():\n",
        "        torch.cuda.empty_cache()\n",
        "        torch.cuda.ipc_collect()\n",
        "\n",
        "clear_cuda()\n",
        "\n",
        "use_nag = True  # Set to True to use NAG pipeline, False for standard SDXL pipeline\n",
        "\n",
        "# ---- Fixed seeds for reproducibility (3 seeds) ----\n",
        "fixed_seeds = [2025, 42, 1337]\n",
        "\n",
        "# -------- Helpers --------\n",
        "def write_or_display(image, filepath, title=\"preview\"):\n",
        "    if dry_run:\n",
        "        # Always display inline in the notebook\n",
        "        notebook_display(image)\n",
        "    else:\n",
        "        os.makedirs(os.path.dirname(filepath), exist_ok=True)\n",
        "        image.save(filepath)\n",
        "\n",
        "\n",
        "# Load prompts\n",
        "with open(prompts_file, 'r') as f:\n",
        "    prompts_data = json.load(f)\n",
        "\n",
        "# ---- Select top 50 prompts (or 1 in dry-run) ----\n",
        "if isinstance(prompts_data, list) and len(prompts_data) > 0 and isinstance(prompts_data[0], dict) and 'score' in prompts_data[0]:\n",
        "    prompts_data = sorted(prompts_data, key=lambda x: x.get('score', 0), reverse=True)[:50]\n",
        "else:\n",
        "    prompts_data = prompts_data[:50]\n",
        "\n",
        "if dry_run:\n",
        "    prompts_data = prompts_data[:1]  # only one prompt\n",
        "\n",
        "# ---- Choose seeds (all vs one when dry-run) ----\n",
        "seeds_to_use = fixed_seeds[:1] if dry_run else fixed_seeds\n",
        "\n",
        "print(f\"Loaded {len(prompts_data)} prompt(s) from {prompts_file}\")\n",
        "print(f\"[CONFIG] use_nag={use_nag} | models={list(model_configs.keys())} | dry_run={dry_run} | seeds={seeds_to_use}\\n\")\n",
        "\n",
        "\n",
        "\n",
        "# ---------- Generate ----------\n",
        "total_generated = 0\n",
        "\n",
        "for model_name, model_config in model_configs.items():\n",
        "    steps = model_config[\"steps\"]\n",
        "    cfg = model_config[\"recommended_cfg\"]\n",
        "\n",
        "    if use_nag:\n",
        "        pipeline_cls = NAGTimeStableDiffusionXLPipeline\n",
        "        output_base_dir = \"/home/azureuser/cloudfiles/code/Users/Normalized-Attention-Guidance/results-prompts2-nag-base\"\n",
        "    else:\n",
        "        pipeline_cls = StableDiffusionXLPipeline\n",
        "        output_base_dir = \"/home/azureuser/cloudfiles/code/Users/Normalized-Attention-Guidance/results-prompts2\"\n",
        "\n",
        "    print(f\"[MODEL] {model_name} -> steps={steps}, cfg={cfg}\")\n",
        "    print(f\"[PIPELINE] {pipeline_cls.__name__}\")\n",
        "    pipe = load_pipe(pipeline_cls, model_name)\n",
        "\n",
        "    model_output_dir = os.path.join(output_base_dir, model_name)\n",
        "\n",
        "    if use_nag:\n",
        "        baseline_dir  = os.path.join(model_output_dir, \"baseline\")\n",
        "        withneg0_dir  = os.path.join(model_output_dir, \"with_negative_start0\")\n",
        "        withneg02_dir = os.path.join(model_output_dir, \"with_negative_start0p2\")\n",
        "        if not dry_run:\n",
        "            os.makedirs(baseline_dir, exist_ok=True)\n",
        "            os.makedirs(withneg0_dir, exist_ok=True)\n",
        "            os.makedirs(withneg02_dir, exist_ok=True)\n",
        "        print(\"\\n[DIRS]\")\n",
        "        print(f\"  base_output: {output_base_dir}\")\n",
        "        print(f\"  model_root : {model_output_dir}\")\n",
        "        print(f\"  baseline   : {baseline_dir}\")\n",
        "        print(f\"  neg@0.0    : {withneg0_dir}\")\n",
        "        print(f\"  neg@0.2    : {withneg02_dir}\")\n",
        "    else:\n",
        "        baseline_dir = os.path.join(model_output_dir, \"baseline\")\n",
        "        withneg_dir  = os.path.join(model_output_dir, \"with_negative\")\n",
        "        if not dry_run:\n",
        "            os.makedirs(baseline_dir, exist_ok=True)\n",
        "            os.makedirs(withneg_dir, exist_ok=True)\n",
        "        print(\"\\n[DIRS]\")\n",
        "        print(f\"  base_output: {output_base_dir}\")\n",
        "        print(f\"  model_root : {model_output_dir}\")\n",
        "        print(f\"  baseline   : {baseline_dir}\")\n",
        "        print(f\"  with_neg   : {withneg_dir}\")\n",
        "\n",
        "    print(f\"\\n{'='*60}\")\n",
        "    print(f\"Testing model: {model_name}\")\n",
        "    print(\"Displaying images (no writes)\\n\" if dry_run else f\"Writing under: {model_output_dir}\\n\")\n",
        "    print(f\"{'='*60}\")\n",
        "\n",
        "    generated_count = 0\n",
        "\n",
        "    for idx, item in enumerate(tqdm(prompts_data, desc=f\"{model_name} progress\")):\n",
        "        prompt = item[\"prompt\"]\n",
        "        negative_prompt = item.get(\"negative_prompt\", \"\")\n",
        "\n",
        "        if use_nag:\n",
        "            runs = [\n",
        "                {\"out_dir\": baseline_dir,  \"neg\": False, \"nag_start\": None, \"neg_label\": \"noneg\"},\n",
        "                {\"out_dir\": withneg0_dir,  \"neg\": True,  \"nag_start\": 0.0,  \"neg_label\": \"neg_s0\"},\n",
        "                {\"out_dir\": withneg02_dir, \"neg\": True,  \"nag_start\": 0.2,  \"neg_label\": \"neg_s0p2\"},\n",
        "            ]\n",
        "\n",
        "            for run in runs:\n",
        "                for seed in seeds_to_use:\n",
        "                    try:\n",
        "                        generator = torch.Generator(device=device).manual_seed(seed)\n",
        "                        call_kwargs = dict(\n",
        "                            prompt=prompt,\n",
        "                            guidance_scale=cfg,\n",
        "                            nag_scale = 2.0,\n",
        "                            nag_end = 0.5,\n",
        "                            nag_tau = 2.5,\n",
        "                            nag_alpha = 0.5,                            \n",
        "                            num_inference_steps=steps,\n",
        "                            generator=generator\n",
        "                        )\n",
        "                        call_kwargs[\"nag_negative_prompt\"] = negative_prompt if run[\"neg\"] else None\n",
        "                        if run[\"nag_start\"] is not None:\n",
        "                            call_kwargs[\"nag_start\"] = run[\"nag_start\"]\n",
        "\n",
        "                        print(call_kwargs)\n",
        "\n",
        "                        image = pipe(**call_kwargs).images[0]\n",
        "                        filename = f\"{idx:04d}_{seed}_{run['neg_label']}.png\"\n",
        "                        filepath = os.path.join(run[\"out_dir\"], filename)\n",
        "\n",
        "                        if dry_run:\n",
        "                            print(f\"[DISPLAY] {model_name} ({run['neg_label']} | seed={seed})\")\n",
        "                            write_or_display(image, filepath, title=f\"{model_name}:{run['neg_label']}:{seed}\")\n",
        "                        else:\n",
        "                            print(f\"[WRITE] {model_name} -> {filepath}\")\n",
        "                            write_or_display(image, filepath)\n",
        "\n",
        "                        generated_count += 1\n",
        "                        total_generated += 1\n",
        "\n",
        "                    except Exception as e:\n",
        "                        print(f\"[ERROR] model={model_name}, prompt_idx={idx}, seed={seed}, run={run['neg_label']} -> {e}\")\n",
        "                        continue\n",
        "        else:\n",
        "            for use_negative in [False, True]:\n",
        "                out_dir = withneg_dir if use_negative else baseline_dir\n",
        "                neg_label = \"neg\" if use_negative else \"noneg\"\n",
        "\n",
        "                for seed in seeds_to_use:\n",
        "                    try:\n",
        "                        generator = torch.Generator(device=device).manual_seed(seed)\n",
        "                        image = pipe(\n",
        "                            prompt,\n",
        "                            negative_prompt=negative_prompt if use_negative else None,\n",
        "                            guidance_scale=cfg,\n",
        "                            num_inference_steps=steps,\n",
        "                            generator=generator\n",
        "                        ).images[0]\n",
        "\n",
        "                        filename = f\"{idx:04d}_{seed}_{neg_label}.png\"\n",
        "                        filepath = os.path.join(out_dir, filename)\n",
        "\n",
        "                        if dry_run:\n",
        "                            print(f\"[DISPLAY] {model_name} ({neg_label} | seed={seed})\")\n",
        "                            write_or_display(image, filepath, title=f\"{model_name}:{neg_label}:{seed}\")\n",
        "                        else:\n",
        "                            print(f\"[WRITE] {model_name} -> {filepath}\")\n",
        "                            write_or_display(image, filepath)\n",
        "\n",
        "                        generated_count += 1\n",
        "                        total_generated += 1\n",
        "\n",
        "                    except Exception as e:\n",
        "                        print(f\"[ERROR] model={model_name}, prompt_idx={idx}, seed={seed}, use_negative={use_negative} -> {e}\")\n",
        "                        continue\n",
        "\n",
        "    print(f\"\\n✓ {model_name}: Generated and {'displayed' if dry_run else 'saved'} {generated_count} image(s)\")\n",
        "\n",
        "    # --- hard cleanup between models ---\n",
        "    try:\n",
        "        if 'pipe' in locals() and pipe is not None:\n",
        "            # Move weights off GPU before dropping the reference\n",
        "            try:\n",
        "                pipe.to(\"cpu\")\n",
        "            except Exception:\n",
        "                pass\n",
        "            clear_cuda(pipe)\n",
        "        else:\n",
        "            clear_cuda()\n",
        "    finally:\n",
        "        pipe = None\n",
        "\n",
        "print(f\"\\n{'='*60}\")\n",
        "print(f\"✓ Total generated and {'displayed' if dry_run else 'saved'}: {total_generated} image(s)\")\n",
        "print(f\"✓ Models tested: {list(model_configs.keys())}\")\n",
        "print(f\"{'='*60}\")\n"
      ]
    }
  ],
  "metadata": {
    "kernel_info": {
      "name": "nag"
    },
    "kernelspec": {
      "display_name": "NAG (Python 3.13)",
      "language": "python",
      "name": "nag"
    },
    "language_info": {
      "codemirror_mode": {
        "name": "ipython",
        "version": 3
      },
      "file_extension": ".py",
      "mimetype": "text/x-python",
      "name": "python",
      "nbconvert_exporter": "python",
      "pygments_lexer": "ipython3",
      "version": "3.13.5"
    },
    "microsoft": {
      "host": {
        "AzureML": {
          "notebookHasBeenCompleted": true
        }
      },
      "ms_spell_check": {
        "ms_spell_check_language": "en"
      }
    },
    "nteract": {
      "version": "nteract-front-end@1.0.0"
    }
  },
  "nbformat": 4,
  "nbformat_minor": 5
}
